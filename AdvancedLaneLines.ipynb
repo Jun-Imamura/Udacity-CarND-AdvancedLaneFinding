{
 "cells": [
  {
   "cell_type": "markdown",
   "metadata": {},
   "source": [
    "## The Goal of This Project\n",
    "\n",
    "In this project, your goal is to write a software pipeline to identify the lane boundaries in a video from a front-facing camera on a car. The camera calibration images, test road images, and project videos are available [here](https://github.com/udacity/CarND-Advanced-Lane-Lines)."
   ]
  },
  {
   "cell_type": "markdown",
   "metadata": {},
   "source": [
    "***\n",
    "\n",
    "## 0. Required Libraries"
   ]
  },
  {
   "cell_type": "code",
   "execution_count": 1,
   "metadata": {
    "collapsed": true
   },
   "outputs": [],
   "source": [
    "from glob import glob\n",
    "import cv2\n",
    "import numpy as np\n",
    "import matplotlib.pyplot as plt\n",
    "import os\n",
    "import copy\n",
    "%matplotlib inline\n",
    "\n",
    "from moviepy.editor import VideoFileClip\n",
    "from IPython.display import HTML"
   ]
  },
  {
   "cell_type": "markdown",
   "metadata": {},
   "source": [
    "***\n",
    "\n",
    "## 1. Camera Calibration\n",
    "\n",
    "At first, lens distortion should be corrected using pre-captured checker board image. I use `cv2.findChessboardCorners()` in computer vision library OpenCV to find the corner of the chessboard.\n",
    "And then, corner position in image coordinate (2D) and world coordinate (3D) is associated."
   ]
  },
  {
   "cell_type": "code",
   "execution_count": 2,
   "metadata": {
    "collapsed": true
   },
   "outputs": [],
   "source": [
    "# get path of checkerboard image\n",
    "calib_img = glob(\".\\\\camera_cal\\\\*.jpg\")\n",
    "\n",
    "objpoints = [] # 3D points in real world space\n",
    "imgpoints = [] # 2D points in image plane\n",
    "\n",
    "# Arrays to store object points and image points from all the images\n",
    "objp = np.zeros((6*9, 3), np.float32)\n",
    "objp[:,:2] = np.mgrid[0:9, 0:6].T.reshape(-1, 2) #x, y coordinate\n",
    "\n",
    "for img_path in calib_img:\n",
    "    img = cv2.imread(img_path)\n",
    "    \n",
    "    # convert to Grayscale Image\n",
    "    gray = cv2.cvtColor(img, cv2.COLOR_BGR2GRAY)\n",
    "    \n",
    "    # find the chessboard corners\n",
    "    ret, corners = cv2.findChessboardCorners(gray, (9, 6), None)\n",
    "    \n",
    "    # if corners are found, add object points, image points\n",
    "    if ret == True:\n",
    "        imgpoints.append(corners)\n",
    "        objpoints.append(objp)\n",
    "    "
   ]
  },
  {
   "cell_type": "markdown",
   "metadata": {},
   "source": [
    "***\n",
    "\n",
    "\n",
    "## 2. Distortion Correction\n",
    "After 2D-3D association, I pass them to `cv2.undistort()` to apply distortion correction to our dataset.\n",
    "\n",
    "<small style=\"color:red\">I've separated function used in whole pipeline and debugging functionality for each sections.</small>"
   ]
  },
  {
   "cell_type": "code",
   "execution_count": 3,
   "metadata": {
    "collapsed": true
   },
   "outputs": [],
   "source": [
    "def distortion_correction(img, mtx, dist):\n",
    "    return cv2.undistort(img, mtx, dist, None, mtx)\n"
   ]
  },
  {
   "cell_type": "code",
   "execution_count": 4,
   "metadata": {
    "collapsed": true
   },
   "outputs": [],
   "source": [
    "# create path to store corrected images\n",
    "directory = os.path.dirname(\".\\\\corrected\")\n",
    "if not os.path.exists(directory):\n",
    "    os.makedirs(directory)\n",
    "    \n",
    "input_images = glob(\".\\\\test_images\\\\*.jpg\")\n",
    "\n",
    "# calculate camera matrix and distortion coefficient\n",
    "ret, mtx, dist, rvecs, tvecs = cv2.calibrateCamera(objpoints, imgpoints, gray.shape[::-1], None, None)\n",
    "\n",
    "for img_path in input_images:\n",
    "    img = cv2.imread(img_path)\n",
    "    # undistort image using parameters calculated above\n",
    "    dst = distortion_correction(img, mtx, dist)\n",
    "    fileName = img_path.split(\"\\\\\")[-1]\n",
    "    cv2.imwrite(\".\\\\corrected\\\\\" + fileName, dst)"
   ]
  },
  {
   "cell_type": "markdown",
   "metadata": {},
   "source": [
    "***\n",
    "\n",
    "## 3. Color & Gradient Threshold\n",
    "\n",
    "Now that we could get undistorted image, let's start them to lane information extraction.\n",
    "S channel of HLS color space has good correlation with yellow lane line, so we utilize them combined with vertical edge information extracted from L channel.　An more, I applied thresholding to eliminate shading area to avoid misdetection cast shadow as lane candidate.\n",
    "\n",
    "This pipeline outputs lane candidate as binarized image."
   ]
  },
  {
   "cell_type": "code",
   "execution_count": 5,
   "metadata": {
    "collapsed": true
   },
   "outputs": [],
   "source": [
    "if not os.path.exists(\"./binarized\"):\n",
    "    os.makedirs(\"./binarized\")\n",
    "    \n",
    "\n",
    "def pipeline(img, s_thresh=(140, 255), sx_thresh=(20, 255), y_thresh=(45, 255)):\n",
    "    img = np.copy(img)\n",
    "    # Convert to HLS color space and separate the V channel\n",
    "    hls = cv2.cvtColor(img, cv2.COLOR_RGB2HLS).astype(np.float)\n",
    "    l_channel = hls[:,:,1]\n",
    "    s_channel = hls[:,:,2]\n",
    "    kernel = np.ones((3,3),np.uint8)\n",
    "    # Sobel x\n",
    "    sobelx = cv2.Sobel(cv2.GaussianBlur(l_channel, (5,5), 0), cv2.CV_64F, 1, 0) # Take the derivative in x\n",
    "    abs_sobelx = np.absolute(sobelx) # Absolute x derivative to accentuate lines away from horizontal\n",
    "    scaled_sobel = np.uint8(255*abs_sobelx/np.max(abs_sobelx))\n",
    "    scaled_sobel = cv2.erode(scaled_sobel, kernel)\n",
    "    scaled_sobel = cv2.dilate(scaled_sobel, kernel)\n",
    "\n",
    "    # Threshold x gradient\n",
    "    sxbinary = np.zeros_like(scaled_sobel)\n",
    "    sxbinary[(scaled_sobel >= sx_thresh[0]) & (scaled_sobel <= sx_thresh[1])] = 1\n",
    "\n",
    "    # Threshold color channel\n",
    "    s_binary = np.zeros_like(s_channel)\n",
    "    s_binary[(s_channel >= s_thresh[0]) & (s_channel <= s_thresh[1])] = 1\n",
    "\n",
    "    # Threshold ___\n",
    "    y_binary = np.zeros_like(l_channel)\n",
    "    y_binary[(l_channel >= y_thresh[0]) & (l_channel <= y_thresh[1])] = 1    \n",
    "    \n",
    "    # Stack each channel\n",
    "    color_binary = np.dstack((y_binary, sxbinary, s_binary)) * 255\n",
    "    return color_binary\n",
    "\n"
   ]
  },
  {
   "cell_type": "code",
   "execution_count": 6,
   "metadata": {
    "collapsed": true
   },
   "outputs": [],
   "source": [
    "corrected_imgs = glob(\".\\\\corrected\\\\*.jpg\")\n",
    "\n",
    "for corrected_img_path in corrected_imgs:\n",
    "    img = cv2.imread(corrected_img_path)\n",
    "    result = pipeline(img)\n",
    "    fileName = corrected_img_path.split(\"\\\\\")[-1]\n",
    "    cv2.imwrite(\".\\\\binarized\\\\\" + fileName, result)"
   ]
  },
  {
   "cell_type": "markdown",
   "metadata": {},
   "source": [
    "***\n",
    "\n",
    "## 4. Perspective Transform\n",
    "\n",
    "Binalized lane candinate will be transformed to bird view image. Now we can see the lane shape correlated with world coordinate system."
   ]
  },
  {
   "cell_type": "code",
   "execution_count": 7,
   "metadata": {
    "collapsed": true
   },
   "outputs": [],
   "source": [
    "if not os.path.exists(\"./Perspective\"):\n",
    "    os.makedirs(\"./perspective\")\n",
    "\n",
    "def warper(img, src, dst):\n",
    "    # Compute and apply perpective transform\n",
    "    img_size = (img.shape[1], img.shape[0])\n",
    "    M = cv2.getPerspectiveTransform(src, dst)\n",
    "    warped = cv2.warpPerspective(img, M, img_size, flags=cv2.INTER_NEAREST)  # keep same size as input image\n",
    "    return warped\n"
   ]
  },
  {
   "cell_type": "code",
   "execution_count": 8,
   "metadata": {
    "collapsed": true
   },
   "outputs": [],
   "source": [
    "binarized_imgs = glob(\".\\\\binarized\\\\*.jpg\")\n",
    "#234 691,1070, 691, 604, 442, 674, 442\n",
    "src = np.array([[248,691], [602,442], [678,442], [1075, 691]], dtype=np.float32)\n",
    "dst = np.array([[360,719], [360,0], [960,0], [960,719]], dtype=np.float32)\n",
    "\n",
    "for binarized_img_path in binarized_imgs:\n",
    "    img = cv2.imread(binarized_img_path)\n",
    "    result = warper(img, src, dst)\n",
    "    fileName = binarized_img_path.split(\"\\\\\")[-1]\n",
    "    cv2.imwrite(\".\\\\perspective\\\\\" + fileName, result)"
   ]
  },
  {
   "cell_type": "markdown",
   "metadata": {},
   "source": [
    "***\n",
    "\n",
    "## 5. Lane Detection\n",
    "\n",
    "I adopted histgram based algorithm to detect lane information. Binarized image will be vertically summed up to create histgram. As the lane marking is vertical and sequencial, histgram will have peaks at the lane marking. While creating histograms, image regions are horizontally divided, to cope with curved line."
   ]
  },
  {
   "cell_type": "code",
   "execution_count": 9,
   "metadata": {
    "collapsed": true
   },
   "outputs": [],
   "source": [
    "def integrate_binarized_image(img):\n",
    "    warp_binarized = np.zeros((img.shape[0], img.shape[1]), dtype=np.uint8)\n",
    "    warp_binarized[(img[:,:,0]>128) & ((img[:,:,1]>128) | (img[:,:,2]>128))] = 1\n",
    "    return warp_binarized\n",
    "\n",
    "def find_line(img):\n",
    "    # Take a histogram of the bottom half of the image\n",
    "    histogram = np.sum(img[img.shape[0]//2:,:], axis=0)\n",
    "    # Create an output image to draw on and  visualize the result\n",
    "    out_img = np.dstack((img, img, img))*255\n",
    "    print(out_img.shape)\n",
    "    # Find the peak of the left and right halves of the histogram\n",
    "    # These will be the starting point for the left and right lines\n",
    "    midpoint = np.int(histogram.shape[0]//2)\n",
    "    leftx_base = np.argmax(histogram[:midpoint])\n",
    "    rightx_base = np.argmax(histogram[midpoint:]) + midpoint\n",
    "\n",
    "    # Choose the number of sliding windows\n",
    "    nwindows = 9\n",
    "    # Set height of windows\n",
    "    window_height = np.int(img.shape[0]/nwindows)\n",
    "    # Identify the x and y positions of all nonzero pixels in the image\n",
    "    nonzero = img.nonzero()\n",
    "    nonzeroy = np.array(nonzero[0])\n",
    "    nonzerox = np.array(nonzero[1])\n",
    "    # Current positions to be updated for each window\n",
    "    leftx_current = leftx_base\n",
    "    rightx_current = rightx_base\n",
    "    # Set the width of the windows +/- margin\n",
    "    margin = 100\n",
    "    # Set minimum number of pixels found to recenter window\n",
    "    minpix = 50\n",
    "    # Create empty lists to receive left and right lane pixel indices\n",
    "    left_lane_inds = []\n",
    "    right_lane_inds = []\n",
    "\n",
    "    # Step through the windows one by one\n",
    "    for window in range(nwindows):\n",
    "        # Identify window boundaries in x and y (and right and left)\n",
    "        win_y_low = img.shape[0] - (window+1)*window_height\n",
    "        win_y_high = img.shape[0] - window*window_height\n",
    "        win_xleft_low = leftx_current - margin\n",
    "        win_xleft_high = leftx_current + margin\n",
    "        win_xright_low = rightx_current - margin\n",
    "        win_xright_high = rightx_current + margin\n",
    "        # Draw the windows on the visualization image\n",
    "        cv2.rectangle(out_img,(win_xleft_low,win_y_low),(win_xleft_high,win_y_high),\n",
    "        (0,255,0), 2) \n",
    "        cv2.rectangle(out_img,(win_xright_low,win_y_low),(win_xright_high,win_y_high),\n",
    "        (0,255,0), 2) \n",
    "        # Identify the nonzero pixels in x and y within the window\n",
    "        good_left_inds = ((nonzeroy >= win_y_low) & (nonzeroy < win_y_high) & \n",
    "        (nonzerox >= win_xleft_low) &  (nonzerox < win_xleft_high)).nonzero()[0]\n",
    "        good_right_inds = ((nonzeroy >= win_y_low) & (nonzeroy < win_y_high) & \n",
    "        (nonzerox >= win_xright_low) &  (nonzerox < win_xright_high)).nonzero()[0]\n",
    "        # Append these indices to the lists\n",
    "        left_lane_inds.append(good_left_inds)\n",
    "        right_lane_inds.append(good_right_inds)\n",
    "        # If you found > minpix pixels, recenter next window on their mean position\n",
    "        if len(good_left_inds) > minpix:\n",
    "            leftx_current = np.int(np.mean(nonzerox[good_left_inds]))\n",
    "        if len(good_right_inds) > minpix:        \n",
    "            rightx_current = np.int(np.mean(nonzerox[good_right_inds]))\n",
    "\n",
    "    # Concatenate the arrays of indices\n",
    "    left_lane_inds = np.concatenate(left_lane_inds)\n",
    "    right_lane_inds = np.concatenate(right_lane_inds)\n",
    "\n",
    "    # Extract left and right line pixel positions\n",
    "    leftx = nonzerox[left_lane_inds]\n",
    "    lefty = nonzeroy[left_lane_inds] \n",
    "    rightx = nonzerox[right_lane_inds]\n",
    "    righty = nonzeroy[right_lane_inds] \n",
    "\n",
    "    # Fit a second order polynomial to each\n",
    "    left_fit = np.polyfit(lefty, leftx, 2)\n",
    "    right_fit = np.polyfit(righty, rightx, 2)\n",
    "    \n",
    "    return left_lane_inds, right_lane_inds, nonzerox, nonzeroy, left_fit, right_fit"
   ]
  },
  {
   "cell_type": "markdown",
   "metadata": {},
   "source": [
    "Function `visualize_laneshape()` defined below draws lane candidate to bird view image. This is just used for debugging purpose."
   ]
  },
  {
   "cell_type": "code",
   "execution_count": 10,
   "metadata": {
    "collapsed": true
   },
   "outputs": [],
   "source": [
    "\n",
    "def visualize_laneshape(img, left_fit, right_fit):\n",
    "    # Generate x and y values for plotting\n",
    "    ploty = np.linspace(0, img.shape[0]-1, img.shape[0] )\n",
    "    left_fitx = left_fit[0]*ploty**2 + left_fit[1]*ploty + left_fit[2]\n",
    "    right_fitx = right_fit[0]*ploty**2 + right_fit[1]*ploty + right_fit[2]\n",
    "\n",
    "    out_img = np.zeros_like(img)\n",
    "    out_img[nonzeroy[left_lane_inds], nonzerox[left_lane_inds]] = [255, 0, 0]\n",
    "    out_img[nonzeroy[right_lane_inds], nonzerox[right_lane_inds]] = [0, 0, 255]\n",
    "\n",
    "    for i in range(len(left_fitx)):\n",
    "        y = int(ploty[i])\n",
    "        x = int(left_fitx[i])\n",
    "        if(y >= 0 and y < img.shape[0] and x >= 0 and x < img.shape[1]):\n",
    "            #print(left_fitx[i], ploty[i])\n",
    "            out_img[y, x] = [0, 255, 255]\n",
    "\n",
    "        x = int(right_fitx[i])\n",
    "        if(y >= 0 and y < img.shape[0] and x >= 0 and x < img.shape[1]):\n",
    "            out_img[y, x] = [0, 255, 255]    \n",
    "    \n",
    "    return out_img"
   ]
  },
  {
   "cell_type": "code",
   "execution_count": 27,
   "metadata": {},
   "outputs": [
    {
     "name": "stdout",
     "output_type": "stream",
     "text": [
      "(720, 1280, 3)\n",
      "(720, 1280, 3)\n",
      "(720, 1280, 3)\n",
      "(720, 1280, 3)\n",
      "(720, 1280, 3)\n",
      "(720, 1280, 3)\n",
      "(720, 1280, 3)\n",
      "(720, 1280, 3)\n"
     ]
    }
   ],
   "source": [
    "if not os.path.exists(\"./estimated\"):\n",
    "    os.makedirs(\"./estimated\")\n",
    "\n",
    "perspective_imgs = glob(\".\\\\perspective\\\\*.jpg\")\n",
    "\n",
    "for perspective_img_path in perspective_imgs:\n",
    "    img = cv2.imread(perspective_img_path)\n",
    "    binarized = integrate_binarized_image(img)\n",
    "    left_lane_inds, right_lane_inds, nonzerox, nonzeroy, left_fit, right_fit = find_line(binarized)\n",
    "    result = visualize_laneshape(img, left_fit, right_fit)\n",
    "    fileName = perspective_img_path.split(\"\\\\\")[-1]\n",
    "    cv2.imwrite(\".\\\\estimated\\\\\" + fileName, result)\n"
   ]
  },
  {
   "cell_type": "markdown",
   "metadata": {},
   "source": [
    "***\n",
    "\n",
    "## 6. Curvature Calculation\n",
    "\n",
    "Next, polyline is converted to curvature. I scaled bird view image so that the estimated polyline will correlate with actual size."
   ]
  },
  {
   "cell_type": "code",
   "execution_count": 23,
   "metadata": {
    "collapsed": true
   },
   "outputs": [],
   "source": [
    "# Define conversions in x and y from pixels space to meters\n",
    "ym_per_pix = 60/720 # meters per pixel in y dimension\n",
    "xm_per_pix = 3.7/584 # meters per pixel in x dimension\n",
    "\n",
    "def curvature_calculation(left_lane_inds, right_lane_inds, nonzerox, nonzeroy):\n",
    "    \n",
    "    ploty = np.linspace(0, img.shape[0]-1, img.shape[0] )\n",
    "    y_eval = np.max(ploty)\n",
    "\n",
    "    # Extract left and right line pixel positions\n",
    "    leftx = nonzerox[left_lane_inds]\n",
    "    lefty = nonzeroy[left_lane_inds] \n",
    "    rightx = nonzerox[right_lane_inds]\n",
    "    righty = nonzeroy[right_lane_inds] \n",
    "\n",
    "    # Fit new polynomials to x,y in world space\n",
    "    left_fit_cr = np.polyfit(lefty*ym_per_pix, leftx*xm_per_pix, 2)\n",
    "    right_fit_cr = np.polyfit(righty*ym_per_pix, rightx*xm_per_pix, 2)\n",
    "    \n",
    "    # Calculate the new radii of curvature\n",
    "    ylen = img.shape[0] * ym_per_pix\n",
    "    left_offset = left_fit_cr[0]*ylen**2 + left_fit_cr[1]*ylen + left_fit_cr[2] - xm_per_pix * img.shape[1]/2\n",
    "    right_offset = right_fit_cr[0]*ylen**2 + right_fit_cr[1]*ylen + right_fit_cr[2] - xm_per_pix * img.shape[1]/2\n",
    "    \n",
    "    left_curverad = ((1 + (2*left_fit_cr[0]*y_eval*ym_per_pix + left_fit_cr[1])**2)**1.5) / np.absolute(2*left_fit_cr[0])\n",
    "    right_curverad = ((1 + (2*right_fit_cr[0]*y_eval*ym_per_pix + right_fit_cr[1])**2)**1.5) / np.absolute(2*right_fit_cr[0])\n",
    "    # Now our radius of curvature is in meters\n",
    "    print('left offset', left_offset, \"right offset\", right_offset)\n",
    "    print(left_curverad, 'm', right_curverad, 'm')\n",
    "    # Example values: 632.1 m    626.2 m\n",
    "    return left_offset, right_offset, left_curverad, right_curverad"
   ]
  },
  {
   "cell_type": "code",
   "execution_count": 25,
   "metadata": {},
   "outputs": [
    {
     "name": "stdout",
     "output_type": "stream",
     "text": [
      "(720, 1280, 3)\n",
      "left offset -1.80441908099 right offset 1.95413872681\n",
      "3320.91096242 m 12737.9209656 m\n",
      "(720, 1280, 3)\n",
      "left offset -1.76273377399 right offset 1.97540391419\n",
      "6880.10980221 m 169360.452706 m\n",
      "(720, 1280, 3)\n",
      "left offset -1.62207230161 right offset 2.18137743827\n",
      "1205.71623955 m 1085.30691214 m\n",
      "(720, 1280, 3)\n",
      "left offset -1.40391244725 right offset 2.3613948333\n",
      "927.604311675 m 1309.97365696 m\n",
      "(720, 1280, 3)\n",
      "left offset -1.63482629099 right offset 2.11415613505\n",
      "1029.30431061 m 1052.40916961 m\n",
      "(720, 1280, 3)\n",
      "left offset -1.64394158413 right offset 2.30900290686\n",
      "1026.16390373 m 807.96626651 m\n",
      "(720, 1280, 3)\n",
      "left offset -1.92316215741 right offset 2.11539433903\n",
      "883.129539898 m 964.240003872 m\n",
      "(720, 1280, 3)\n",
      "left offset -1.65826433527 right offset 2.26228165055\n",
      "849.506416496 m 1514.75510398 m\n"
     ]
    }
   ],
   "source": [
    "if not os.path.exists(\"./estimated\"):\n",
    "    os.makedirs(\"./estimated\")\n",
    "\n",
    "perspective_imgs = glob(\".\\\\perspective\\\\*.jpg\")\n",
    "\n",
    "for perspective_img_path in perspective_imgs:\n",
    "    img = cv2.imread(perspective_img_path)\n",
    "    warp_binarized = np.zeros((img.shape[0], img.shape[1]), dtype=np.uint8)\n",
    "    warp_binarized[(img[:,:,0]>128) & ((img[:,:,1]>128) | (img[:,:,2]>128))] = 1\n",
    "    left_lane_inds, right_lane_inds, nonzerox, nonzeroy, left_fit, right_fit = find_line(warp_binarized)\n",
    "    result = curvature_calculation(left_lane_inds, right_lane_inds, nonzerox, nonzeroy)\n",
    "    fileName = perspective_img_path.split(\"\\\\\")[-1]\n",
    "    cv2.imwrite(\".\\\\estimated\\\\\" + fileName, result)"
   ]
  },
  {
   "cell_type": "markdown",
   "metadata": {},
   "source": [
    "## 7. Drawing\n",
    "Finally, estimated road region is overlayed onto source video data."
   ]
  },
  {
   "cell_type": "code",
   "execution_count": 19,
   "metadata": {},
   "outputs": [],
   "source": [
    "def overlay_result(orgimg, warpimg, lineL, lineR, Minv):\n",
    "    # Create an image to draw the lines on\n",
    "    warp_zero = np.zeros_like(warpimg).astype(np.uint8)\n",
    "    color_warp = np.dstack((warp_zero, warp_zero, warp_zero))\n",
    "\n",
    "    left_fit = lineL.ave_fit\n",
    "    right_fit = lineR.ave_fit\n",
    "    offset = lineL.offset_x + 1.85 \n",
    "    curvature = (lineL.ave_curvature + lineR.ave_curvature) / 2.0\n",
    "\n",
    "    ploty = np.linspace(0, img.shape[0]-1, img.shape[0] )\n",
    "    left_fitx = left_fit[0]*ploty**2 + left_fit[1]*ploty + left_fit[2]\n",
    "    right_fitx = right_fit[0]*ploty**2 + right_fit[1]*ploty + right_fit[2]\n",
    "\n",
    "    # Recast the x and y points into usable format for cv2.fillPoly()\n",
    "    pts_left = np.array([np.transpose(np.vstack([left_fitx, ploty]))])\n",
    "    pts_right = np.array([np.flipud(np.transpose(np.vstack([right_fitx, ploty])))])\n",
    "    pts = np.hstack((pts_left, pts_right))\n",
    "\n",
    "    # Draw the lane onto the warped blank image\n",
    "    warpimg[:,:,0] = np.zeros_like(warp_zero[:,:,0])\n",
    "    cv2.fillPoly(warpimg, np.int_([pts]), (0,255, 0))\n",
    "\n",
    "    # Warp the blank back to original image space using inverse perspective matrix (Minv)\n",
    "    newwarp = cv2.warpPerspective(warpimg, Minv, (img.shape[1], img.shape[0]))\n",
    "    # Combine the result with the original image\n",
    "    result = cv2.addWeighted(orgimg, 1, newwarp, 0.3, 0)\n",
    "    \n",
    "    font = cv2.FONT_HERSHEY_SIMPLEX\n",
    "    data_curve = ('curvature[m]: ' + \"{0:.1f}\".format(curvature))\n",
    "    data_offset = ('offset[m]: ' + \"{0:.2f}\".format(offset))\n",
    "    cv2.putText(result,data_curve,(50,50), font, 1,(255,255,255),2,cv2.LINE_AA)\n",
    "    cv2.putText(result,data_offset,(50,90), font, 1,(255,255,255),2,cv2.LINE_AA)\n",
    "\n",
    "    return result, pts_left, pts_right"
   ]
  },
  {
   "cell_type": "markdown",
   "metadata": {},
   "source": [
    "***\n",
    "\n",
    "## 8. Against Dataset\n",
    "Now I'll apply my implementation to video sequence. In order to achieve stable result, I adopted some functionality to ignore the false result. Which can be detected by the estimated road width."
   ]
  },
  {
   "cell_type": "code",
   "execution_count": 15,
   "metadata": {
    "collapsed": true
   },
   "outputs": [],
   "source": [
    "# Define a class to receive the characteristics of each line detection\n",
    "class Line():\n",
    "    def __init__(self):\n",
    "        # was the line detected in the last iteration?\n",
    "        self.detected = False  \n",
    "        #polynomial coefficients averaged over the last n iterations\n",
    "        self.ave_fit = np.zeros(3)  \n",
    "        #polynomial coefficients for the most recent fit\n",
    "        self.current_fit = np.zeros(3)  \n",
    "        #radius of curvature of the line in some units\n",
    "        self.curvature = np.zeros(3)\n",
    "        #radius of curvature averaged over the last n iterations\n",
    "        self.ave_curvature = np.zeros(3)\n",
    "        #distance in meters of vehicle center from the line\n",
    "        self.offset_x = None \n",
    "        #x values for detected line pixels\n",
    "        self.pts = None\n",
    "        # number of sequencial sucess\n",
    "        self.num_success = 0\n",
    "        # initialized?\n",
    "        self.is_first = True\n",
    "        \n",
    "    def update(self, road_width_near, road_width_far):\n",
    "        if road_width_near > 3.0 and road_width_near < 4.5 and road_width_far > 3.0 and road_width_far < 4.5:\n",
    "            #print(\"success\")\n",
    "            self.detected = True\n",
    "            self.num_success += 1\n",
    "        else:\n",
    "            #print(\"fail\")\n",
    "            self.detected = False\n",
    "            self.num_success = 0\n",
    "        if self.num_success == 0:\n",
    "            pass\n",
    "        else:\n",
    "            if self.is_first == True:\n",
    "                self.is_first = False\n",
    "                self.ave_fit = self.current_fit\n",
    "                self.ave_curvature = self.curvature\n",
    "            else:\n",
    "                self.ave_fit = self.ave_fit * (0.8) + self.current_fit *(0.2)\n",
    "                self.ave_curvature = self.ave_curvature * (0.8) + self.curvature * (0.2)"
   ]
  },
  {
   "cell_type": "code",
   "execution_count": 16,
   "metadata": {
    "collapsed": true
   },
   "outputs": [],
   "source": [
    "\n",
    "src = np.array([[248,691], [602,442], [678,442], [1075, 691]], dtype=np.float32)\n",
    "dst = np.array([[360,719], [360,0], [960,0], [960,719]], dtype=np.float32)\n",
    "M = cv2.getPerspectiveTransform(src, dst)\n",
    "Minv = cv2.getPerspectiveTransform(dst, src)\n",
    "\n",
    "\n",
    "def process_image(img, lineL, lineR):\n",
    "    corrected = distortion_correction(img, mtx, dist)\n",
    "    color_bin = pipeline(corrected, s_thresh=(120, 255), sx_thresh=(20, 100))\n",
    "    cv2.imwrite(\".\\\\color_bin.jpg\", color_bin)\n",
    "    warped = warper(color_bin, src, dst)\n",
    "    mono_warped = integrate_binarized_image(warped)\n",
    "    left_lane_inds, right_lane_inds, nonzerox, nonzeroy, left_fit, right_fit = find_line(mono_warped)\n",
    "    #result = visualize_laneshape(warped, left_fit, right_fit)\n",
    "    offsetL, offsetR, curvatureL, curvatureR = curvature_calculation( \\\n",
    "                                                                     left_lane_inds, right_lane_inds,\\\n",
    "                                                                     nonzerox, nonzeroy)\n",
    "    lineL.curvature = curvatureL\n",
    "    lineR.curvature = curvatureR\n",
    "    road_width_near = offsetR - offsetL\n",
    "    lineL.offset_x = offsetL\n",
    "    lineR.offset_x = offsetR\n",
    "    lineL.current_fit = left_fit\n",
    "    lineR.current_fit = right_fit\n",
    "    road_width_far = (lineR.current_fit[2] - lineL.current_fit[2]) * xm_per_pix\n",
    "    lineL.update(road_width_near, road_width_far)\n",
    "    lineR.update(road_width_near, road_width_far)\n",
    "    result, left_pts, right_pts = overlay_result(corrected, warped.astype(np.uint8), lineL, lineR, Minv)\n",
    "    #print(left_pts[0])\n",
    "    #lineL,pts = left_pts\n",
    "    #lineR.pts = right_pts\n",
    "\n",
    "    return result"
   ]
  },
  {
   "cell_type": "markdown",
   "metadata": {},
   "source": [
    "### Test per image\n",
    "this cell should be deleted"
   ]
  },
  {
   "cell_type": "code",
   "execution_count": 20,
   "metadata": {},
   "outputs": [
    {
     "name": "stdout",
     "output_type": "stream",
     "text": [
      "(720, 1280, 3)\n",
      "left offset -1.80290105318 right offset 1.94967180682\n",
      "3324.62786459 m 11389.7153136 m\n",
      "(720, 1280, 3)\n",
      "left offset -1.76297682598 right offset 1.97420345587\n",
      "6899.62768442 m 86643.0066962 m\n",
      "(720, 1280, 3)\n",
      "left offset -1.68736782167 right offset 2.18982441853\n",
      "4200.03333312 m 1057.61403324 m\n",
      "(720, 1280, 3)\n",
      "left offset -1.40667247961 right offset 2.35300485604\n",
      "922.328498525 m 1289.64959905 m\n",
      "(720, 1280, 3)\n",
      "left offset -1.63035587979 right offset 2.11601566347\n",
      "1018.24519736 m 1049.81148529 m\n",
      "(720, 1280, 3)\n",
      "left offset -1.54589505178 right offset 2.29787440297\n",
      "2211.35807773 m 844.633246328 m\n",
      "(720, 1280, 3)\n",
      "left offset -1.92232303568 right offset 2.11829057853\n",
      "855.399641396 m 962.671031574 m\n",
      "(720, 1280, 3)\n",
      "left offset -1.67370901035 right offset 2.2630521344\n",
      "1527.38507844 m 1509.49457609 m\n"
     ]
    }
   ],
   "source": [
    "#img = cv2.imread(\".\\\\test_images\\\\test3.jpg\")\n",
    "#img = cv2.cvtColor(img, cv2.COLOR_BGR2RGB)\n",
    "lineL = Line()\n",
    "lineR = Line()\n",
    "#result = process_image(img, lineL, lineR)\n",
    "#plt.imshow(result)\n",
    "\n",
    "if not os.path.exists(\"./overlayed\"):\n",
    "    os.makedirs(\"./overlayed\")\n",
    "\n",
    "overlay_imgs = glob(\".\\\\test_images\\\\*.jpg\")\n",
    "\n",
    "for overlay_img_path in overlay_imgs:\n",
    "    img = cv2.imread(overlay_img_path)\n",
    "    result = process_image(img, lineL, lineR)\n",
    "    fileName = overlay_img_path.split(\"\\\\\")[-1]\n",
    "    cv2.imwrite(\".\\\\overlayed\\\\\" + fileName, result)"
   ]
  },
  {
   "cell_type": "markdown",
   "metadata": {},
   "source": [
    "## Apply to video sequence\n",
    "Now all functions are ready to be evaluated. I use `moviepy` module to process input movie to my function."
   ]
  },
  {
   "cell_type": "code",
   "execution_count": 18,
   "metadata": {},
   "outputs": [
    {
     "name": "stdout",
     "output_type": "stream",
     "text": [
      "(720, 1280, 3)\n",
      "left offset -1.43901174449 right offset 2.43365913289\n",
      "995.620155074 m 1789.58384623 m\n",
      "[MoviePy] >>>> Building video output_images/output.mp4\n",
      "[MoviePy] Writing video output_images/output.mp4\n"
     ]
    },
    {
     "name": "stderr",
     "output_type": "stream",
     "text": [
      "\r",
      "  0%|                                                                                 | 0/1261 [00:00<?, ?it/s]"
     ]
    },
    {
     "name": "stdout",
     "output_type": "stream",
     "text": [
      "(720, 1280, 3)\n",
      "left offset -1.43901174449 right offset 2.43365913289\n",
      "995.620155074 m 1789.58384623 m\n"
     ]
    },
    {
     "name": "stderr",
     "output_type": "stream",
     "text": [
      "\r",
      "  0%|                                                                         | 1/1261 [00:00<06:51,  3.06it/s]"
     ]
    },
    {
     "name": "stdout",
     "output_type": "stream",
     "text": [
      "(720, 1280, 3)\n",
      "left offset -1.42923237719 right offset 2.41992421029\n",
      "978.709332636 m 1703.58312278 m\n"
     ]
    },
    {
     "name": "stderr",
     "output_type": "stream",
     "text": [
      "\r",
      "  0%|                                                                         | 2/1261 [00:00<06:56,  3.03it/s]"
     ]
    },
    {
     "name": "stdout",
     "output_type": "stream",
     "text": [
      "(720, 1280, 3)\n",
      "left offset -1.42842405364 right offset 2.38733503045\n",
      "955.169508161 m 1404.06919984 m\n"
     ]
    },
    {
     "name": "stderr",
     "output_type": "stream",
     "text": [
      "\r",
      "  0%|▏                                                                        | 3/1261 [00:01<06:57,  3.01it/s]"
     ]
    },
    {
     "name": "stdout",
     "output_type": "stream",
     "text": [
      "(720, 1280, 3)\n",
      "left offset -1.41748968433 right offset 2.37431804579\n",
      "957.045116893 m 1402.48376587 m\n"
     ]
    },
    {
     "name": "stderr",
     "output_type": "stream",
     "text": [
      "\r",
      "  0%|▏                                                                        | 4/1261 [00:01<06:50,  3.06it/s]"
     ]
    },
    {
     "name": "stdout",
     "output_type": "stream",
     "text": [
      "(720, 1280, 3)\n",
      "left offset -1.41158999364 right offset 2.3533972261\n",
      "967.6492642 m 1228.59092034 m\n"
     ]
    },
    {
     "name": "stderr",
     "output_type": "stream",
     "text": [
      "\r",
      "  0%|▎                                                                        | 5/1261 [00:01<06:53,  3.04it/s]"
     ]
    },
    {
     "name": "stdout",
     "output_type": "stream",
     "text": [
      "(720, 1280, 3)\n",
      "left offset -1.40118198311 right offset 2.38940433737\n",
      "961.967028474 m 1343.63222656 m\n"
     ]
    },
    {
     "name": "stderr",
     "output_type": "stream",
     "text": [
      "\r",
      "  0%|▎                                                                        | 6/1261 [00:01<06:51,  3.05it/s]"
     ]
    },
    {
     "name": "stdout",
     "output_type": "stream",
     "text": [
      "(720, 1280, 3)\n",
      "left offset -1.39728657353 right offset 2.41311968098\n",
      "1001.89941365 m 1371.65051288 m\n"
     ]
    },
    {
     "name": "stderr",
     "output_type": "stream",
     "text": [
      "\r",
      "  1%|▍                                                                        | 7/1261 [00:02<06:33,  3.19it/s]"
     ]
    },
    {
     "name": "stdout",
     "output_type": "stream",
     "text": [
      "(720, 1280, 3)\n",
      "left offset -1.39480640131 right offset 2.40482485157\n",
      "951.498226342 m 1266.88664531 m\n"
     ]
    },
    {
     "name": "stderr",
     "output_type": "stream",
     "text": [
      "\r",
      "  1%|▍                                                                        | 8/1261 [00:02<06:34,  3.17it/s]"
     ]
    },
    {
     "name": "stdout",
     "output_type": "stream",
     "text": [
      "(720, 1280, 3)\n",
      "left offset -1.40071226037 right offset 2.39174849873\n",
      "992.062134432 m 1243.19806064 m\n"
     ]
    },
    {
     "name": "stderr",
     "output_type": "stream",
     "text": [
      "\r",
      "  1%|▌                                                                        | 9/1261 [00:02<06:32,  3.19it/s]"
     ]
    },
    {
     "name": "stdout",
     "output_type": "stream",
     "text": [
      "(720, 1280, 3)\n",
      "left offset -1.41247256877 right offset 2.37402039497\n",
      "973.978767202 m 1325.71607116 m\n"
     ]
    },
    {
     "name": "stderr",
     "output_type": "stream",
     "text": [
      "\r",
      "  1%|▌                                                                       | 10/1261 [00:03<06:39,  3.13it/s]"
     ]
    },
    {
     "name": "stdout",
     "output_type": "stream",
     "text": [
      "(720, 1280, 3)\n",
      "left offset -1.42567396739 right offset 2.36974270529\n",
      "910.0505151 m 1201.05673356 m\n"
     ]
    },
    {
     "name": "stderr",
     "output_type": "stream",
     "text": [
      "\r",
      "  1%|▋                                                                       | 11/1261 [00:03<06:33,  3.18it/s]"
     ]
    },
    {
     "name": "stdout",
     "output_type": "stream",
     "text": [
      "(720, 1280, 3)\n",
      "left offset -1.41336453083 right offset 2.35479620782\n",
      "1093.3326638 m 1192.32853144 m\n"
     ]
    },
    {
     "name": "stderr",
     "output_type": "stream",
     "text": [
      "\r",
      "  1%|▋                                                                       | 12/1261 [00:03<06:08,  3.39it/s]"
     ]
    },
    {
     "name": "stdout",
     "output_type": "stream",
     "text": [
      "(720, 1280, 3)\n",
      "left offset -1.42832404995 right offset 2.40080979506\n",
      "1004.82147659 m 1542.7991068 m\n"
     ]
    },
    {
     "name": "stderr",
     "output_type": "stream",
     "text": [
      "\r",
      "  1%|▋                                                                       | 13/1261 [00:04<05:48,  3.58it/s]"
     ]
    },
    {
     "name": "stdout",
     "output_type": "stream",
     "text": [
      "(720, 1280, 3)\n",
      "left offset -1.42549974065 right offset 2.40017318559\n",
      "978.77923908 m 1577.94343639 m\n"
     ]
    },
    {
     "name": "stderr",
     "output_type": "stream",
     "text": [
      "\r",
      "  1%|▊                                                                       | 14/1261 [00:04<05:27,  3.80it/s]"
     ]
    },
    {
     "name": "stdout",
     "output_type": "stream",
     "text": [
      "(720, 1280, 3)\n",
      "left offset -1.43738398564 right offset 2.35778179635\n",
      "877.318126622 m 1218.81623867 m\n"
     ]
    },
    {
     "name": "stderr",
     "output_type": "stream",
     "text": [
      "\r",
      "  1%|▊                                                                       | 15/1261 [00:04<05:16,  3.94it/s]"
     ]
    },
    {
     "name": "stdout",
     "output_type": "stream",
     "text": [
      "(720, 1280, 3)\n",
      "left offset -1.44630661506 right offset 2.32948505938\n",
      "829.781035458 m 1315.65702632 m\n"
     ]
    },
    {
     "name": "stderr",
     "output_type": "stream",
     "text": [
      "\r",
      "  1%|▉                                                                       | 16/1261 [00:04<05:06,  4.07it/s]"
     ]
    },
    {
     "name": "stdout",
     "output_type": "stream",
     "text": [
      "(720, 1280, 3)\n",
      "left offset -1.45273960591 right offset 2.29747850265\n",
      "816.737154241 m 1045.86290644 m\n"
     ]
    },
    {
     "name": "stderr",
     "output_type": "stream",
     "text": [
      "\r",
      "  1%|▉                                                                       | 17/1261 [00:04<05:13,  3.97it/s]"
     ]
    },
    {
     "name": "stdout",
     "output_type": "stream",
     "text": [
      "(720, 1280, 3)\n",
      "left offset -1.46571765783 right offset 2.34699257955\n",
      "774.052129254 m 1357.04487041 m\n"
     ]
    },
    {
     "name": "stderr",
     "output_type": "stream",
     "text": [
      "\r",
      "  1%|█                                                                       | 18/1261 [00:05<05:42,  3.63it/s]"
     ]
    },
    {
     "name": "stdout",
     "output_type": "stream",
     "text": [
      "(720, 1280, 3)\n",
      "left offset -1.46557417507 right offset 2.33743286249\n",
      "819.108614117 m 1321.30493958 m\n"
     ]
    },
    {
     "name": "stderr",
     "output_type": "stream",
     "text": [
      "\r",
      "  2%|█                                                                       | 19/1261 [00:05<06:02,  3.43it/s]"
     ]
    },
    {
     "name": "stdout",
     "output_type": "stream",
     "text": [
      "(720, 1280, 3)\n",
      "left offset -1.47408796555 right offset 2.30938299335\n",
      "850.450716141 m 1088.85389231 m\n"
     ]
    },
    {
     "name": "stderr",
     "output_type": "stream",
     "text": [
      "\r",
      "  2%|█▏                                                                      | 20/1261 [00:05<06:10,  3.35it/s]"
     ]
    },
    {
     "name": "stdout",
     "output_type": "stream",
     "text": [
      "(720, 1280, 3)\n",
      "left offset -1.48861886051 right offset 2.32468990771\n",
      "860.263446128 m 1191.37141204 m\n"
     ]
    },
    {
     "name": "stderr",
     "output_type": "stream",
     "text": [
      "\r",
      "  2%|█▏                                                                      | 21/1261 [00:06<06:06,  3.39it/s]"
     ]
    },
    {
     "name": "stdout",
     "output_type": "stream",
     "text": [
      "(720, 1280, 3)\n",
      "left offset -1.49677004772 right offset 2.3664812235\n",
      "908.26754246 m 1557.3973854 m\n"
     ]
    },
    {
     "name": "stderr",
     "output_type": "stream",
     "text": [
      "\r",
      "  2%|█▎                                                                      | 22/1261 [00:06<06:18,  3.27it/s]"
     ]
    },
    {
     "name": "stdout",
     "output_type": "stream",
     "text": [
      "(720, 1280, 3)\n",
      "left offset -1.51026405177 right offset 2.31674197554\n",
      "939.97400089 m 1203.31249929 m\n"
     ]
    },
    {
     "name": "stderr",
     "output_type": "stream",
     "text": [
      "\r",
      "  2%|█▎                                                                      | 23/1261 [00:06<06:27,  3.19it/s]"
     ]
    },
    {
     "name": "stdout",
     "output_type": "stream",
     "text": [
      "(720, 1280, 3)\n",
      "left offset -1.52565480855 right offset 2.30962100896\n",
      "858.89098736 m 1345.4563154 m\n"
     ]
    },
    {
     "name": "stderr",
     "output_type": "stream",
     "text": [
      "\r",
      "  2%|█▎                                                                      | 24/1261 [00:07<06:14,  3.30it/s]"
     ]
    },
    {
     "name": "stdout",
     "output_type": "stream",
     "text": [
      "(720, 1280, 3)\n",
      "left offset -1.54013661455 right offset 2.28810610034\n",
      "790.804882776 m 1062.68103944 m\n"
     ]
    },
    {
     "name": "stderr",
     "output_type": "stream",
     "text": [
      "\r",
      "  2%|█▍                                                                      | 25/1261 [00:07<06:09,  3.35it/s]"
     ]
    },
    {
     "name": "stdout",
     "output_type": "stream",
     "text": [
      "(720, 1280, 3)\n",
      "left offset -1.54250813282 right offset 2.36174656246\n",
      "859.611926364 m 1359.15258779 m\n"
     ]
    },
    {
     "name": "stderr",
     "output_type": "stream",
     "text": [
      "\r",
      "  2%|█▍                                                                      | 26/1261 [00:07<06:22,  3.23it/s]"
     ]
    },
    {
     "name": "stdout",
     "output_type": "stream",
     "text": [
      "(720, 1280, 3)\n",
      "left offset -1.55068165798 right offset 2.34135396755\n",
      "839.072207608 m 1284.9900515 m\n"
     ]
    },
    {
     "name": "stderr",
     "output_type": "stream",
     "text": [
      "\r",
      "  2%|█▌                                                                      | 27/1261 [00:08<05:59,  3.43it/s]"
     ]
    },
    {
     "name": "stdout",
     "output_type": "stream",
     "text": [
      "(720, 1280, 3)\n",
      "left offset -1.55235972051 right offset 2.32945345505\n",
      "888.117399928 m 1225.95831454 m\n"
     ]
    },
    {
     "name": "stderr",
     "output_type": "stream",
     "text": [
      "\r",
      "  2%|█▌                                                                      | 28/1261 [00:08<05:37,  3.65it/s]"
     ]
    },
    {
     "name": "stdout",
     "output_type": "stream",
     "text": [
      "(720, 1280, 3)\n",
      "left offset -1.56268967396 right offset 2.33746795935\n",
      "815.008259198 m 1248.48518555 m\n"
     ]
    },
    {
     "name": "stderr",
     "output_type": "stream",
     "text": [
      "\r",
      "  2%|█▋                                                                      | 29/1261 [00:08<05:26,  3.77it/s]"
     ]
    },
    {
     "name": "stdout",
     "output_type": "stream",
     "text": [
      "(720, 1280, 3)\n",
      "left offset -1.55385118126 right offset 2.3252140744\n",
      "774.721583819 m 1188.06168844 m\n"
     ]
    },
    {
     "name": "stderr",
     "output_type": "stream",
     "text": [
      "\r",
      "  2%|█▋                                                                      | 30/1261 [00:08<05:22,  3.82it/s]"
     ]
    },
    {
     "name": "stdout",
     "output_type": "stream",
     "text": [
      "(720, 1280, 3)\n",
      "left offset -1.54576409824 right offset 2.31008189079\n",
      "739.944499531 m 1037.86441641 m\n"
     ]
    },
    {
     "name": "stderr",
     "output_type": "stream",
     "text": [
      "\r",
      "  2%|█▊                                                                      | 31/1261 [00:09<05:41,  3.60it/s]"
     ]
    },
    {
     "name": "stdout",
     "output_type": "stream",
     "text": [
      "(720, 1280, 3)\n",
      "left offset -1.54477145091 right offset 2.32604475747\n",
      "699.604104456 m 1051.29816209 m\n"
     ]
    },
    {
     "name": "stderr",
     "output_type": "stream",
     "text": [
      "\r",
      "  3%|█▊                                                                      | 32/1261 [00:09<05:36,  3.65it/s]"
     ]
    },
    {
     "name": "stdout",
     "output_type": "stream",
     "text": [
      "(720, 1280, 3)\n",
      "left offset -1.53670099681 right offset 2.35072054593\n",
      "740.831895474 m 1101.991916 m\n"
     ]
    },
    {
     "name": "stderr",
     "output_type": "stream",
     "text": [
      "\r",
      "  3%|█▉                                                                      | 33/1261 [00:09<05:35,  3.66it/s]"
     ]
    },
    {
     "name": "stdout",
     "output_type": "stream",
     "text": [
      "(720, 1280, 3)\n",
      "left offset -1.52622178405 right offset 2.38381568866\n",
      "716.570936554 m 1207.40720695 m\n"
     ]
    },
    {
     "name": "stderr",
     "output_type": "stream",
     "text": [
      "\r",
      "  3%|█▉                                                                      | 34/1261 [00:09<05:31,  3.71it/s]"
     ]
    },
    {
     "name": "stdout",
     "output_type": "stream",
     "text": [
      "(720, 1280, 3)\n",
      "left offset -1.51842727464 right offset 2.31614003536\n",
      "714.984742255 m 968.840611482 m\n"
     ]
    },
    {
     "name": "stderr",
     "output_type": "stream",
     "text": [
      "\r",
      "  3%|█▉                                                                      | 35/1261 [00:10<05:27,  3.74it/s]"
     ]
    },
    {
     "name": "stdout",
     "output_type": "stream",
     "text": [
      "(720, 1280, 3)\n",
      "left offset -1.50892027492 right offset 2.2867260732\n",
      "686.859451384 m 841.021564414 m\n"
     ]
    },
    {
     "name": "stderr",
     "output_type": "stream",
     "text": [
      "\r",
      "  3%|██                                                                      | 36/1261 [00:10<05:17,  3.85it/s]"
     ]
    },
    {
     "name": "stdout",
     "output_type": "stream",
     "text": [
      "(720, 1280, 3)\n",
      "left offset -1.49981629233 right offset 2.33188623674\n",
      "694.646123165 m 1061.5326432 m\n"
     ]
    },
    {
     "name": "stderr",
     "output_type": "stream",
     "text": [
      "\r",
      "  3%|██                                                                      | 37/1261 [00:10<05:14,  3.89it/s]"
     ]
    },
    {
     "name": "stdout",
     "output_type": "stream",
     "text": [
      "(720, 1280, 3)\n",
      "left offset -1.47882906621 right offset 2.31075277689\n",
      "709.294422088 m 872.067873618 m\n"
     ]
    },
    {
     "name": "stderr",
     "output_type": "stream",
     "text": [
      "\r",
      "  3%|██▏                                                                     | 38/1261 [00:10<05:06,  3.99it/s]"
     ]
    },
    {
     "name": "stdout",
     "output_type": "stream",
     "text": [
      "(720, 1280, 3)\n",
      "left offset -1.48697436756 right offset 2.27315248644\n",
      "657.69076537 m 801.659382144 m\n"
     ]
    },
    {
     "name": "stderr",
     "output_type": "stream",
     "text": [
      "\r",
      "  3%|██▏                                                                     | 39/1261 [00:11<05:35,  3.64it/s]"
     ]
    },
    {
     "name": "stdout",
     "output_type": "stream",
     "text": [
      "(720, 1280, 3)\n",
      "left offset -1.47858205175 right offset 2.29045309235\n",
      "679.831103603 m 849.536923823 m\n"
     ]
    },
    {
     "name": "stderr",
     "output_type": "stream",
     "text": [
      "\r",
      "  3%|██▎                                                                     | 40/1261 [00:11<05:40,  3.59it/s]"
     ]
    },
    {
     "name": "stdout",
     "output_type": "stream",
     "text": [
      "(720, 1280, 3)\n",
      "left offset -1.47334449177 right offset 2.29300142463\n",
      "687.73565343 m 874.693811655 m\n"
     ]
    },
    {
     "name": "stderr",
     "output_type": "stream",
     "text": [
      "\r",
      "  3%|██▎                                                                     | 41/1261 [00:11<05:28,  3.72it/s]"
     ]
    },
    {
     "name": "stdout",
     "output_type": "stream",
     "text": [
      "(720, 1280, 3)\n",
      "left offset -1.45967321839 right offset 2.29588151106\n",
      "713.818339077 m 906.373082637 m\n"
     ]
    },
    {
     "name": "stderr",
     "output_type": "stream",
     "text": [
      "\r",
      "  3%|██▍                                                                     | 42/1261 [00:11<05:20,  3.80it/s]"
     ]
    },
    {
     "name": "stdout",
     "output_type": "stream",
     "text": [
      "(720, 1280, 3)\n",
      "left offset -1.43500066181 right offset 2.3397791667\n",
      "793.244111568 m 1075.63490145 m\n"
     ]
    },
    {
     "name": "stderr",
     "output_type": "stream",
     "text": [
      "\r",
      "  3%|██▍                                                                     | 43/1261 [00:12<05:16,  3.84it/s]"
     ]
    },
    {
     "name": "stdout",
     "output_type": "stream",
     "text": [
      "(720, 1280, 3)\n",
      "left offset -1.4302148048 right offset 2.32209965149\n",
      "850.417852949 m 1027.96917313 m\n"
     ]
    },
    {
     "name": "stderr",
     "output_type": "stream",
     "text": [
      "\r",
      "  3%|██▌                                                                     | 44/1261 [00:12<05:12,  3.89it/s]"
     ]
    },
    {
     "name": "stdout",
     "output_type": "stream",
     "text": [
      "(720, 1280, 3)\n",
      "left offset -1.42222730834 right offset 2.40365121908\n",
      "886.166803112 m 1183.36789808 m\n"
     ]
    },
    {
     "name": "stderr",
     "output_type": "stream",
     "text": [
      "\r",
      "  4%|██▌                                                                     | 45/1261 [00:12<05:20,  3.79it/s]"
     ]
    },
    {
     "name": "stdout",
     "output_type": "stream",
     "text": [
      "(720, 1280, 3)\n",
      "left offset -1.42889737528 right offset 2.45144532607\n",
      "904.19463397 m 1254.46185036 m\n"
     ]
    },
    {
     "name": "stderr",
     "output_type": "stream",
     "text": [
      "\r",
      "  4%|██▋                                                                     | 46/1261 [00:13<05:13,  3.88it/s]"
     ]
    },
    {
     "name": "stdout",
     "output_type": "stream",
     "text": [
      "(720, 1280, 3)\n",
      "left offset -1.43497683671 right offset 2.44744181711\n",
      "928.820822211 m 1455.92439925 m\n"
     ]
    },
    {
     "name": "stderr",
     "output_type": "stream",
     "text": [
      "\r",
      "  4%|██▋                                                                     | 47/1261 [00:13<05:06,  3.96it/s]"
     ]
    },
    {
     "name": "stdout",
     "output_type": "stream",
     "text": [
      "(720, 1280, 3)\n",
      "left offset -1.43421418138 right offset 2.38636721643\n",
      "935.942748114 m 1207.54792031 m\n"
     ]
    },
    {
     "name": "stderr",
     "output_type": "stream",
     "text": [
      "\r",
      "  4%|██▋                                                                     | 48/1261 [00:13<05:01,  4.03it/s]"
     ]
    },
    {
     "name": "stdout",
     "output_type": "stream",
     "text": [
      "(720, 1280, 3)\n",
      "left offset -1.43675174849 right offset 2.38321513379\n",
      "1003.29808845 m 1258.51549976 m\n"
     ]
    },
    {
     "name": "stderr",
     "output_type": "stream",
     "text": [
      "\r",
      "  4%|██▊                                                                     | 49/1261 [00:13<04:57,  4.07it/s]"
     ]
    },
    {
     "name": "stdout",
     "output_type": "stream",
     "text": [
      "(720, 1280, 3)\n",
      "left offset -1.43767460584 right offset 2.37527060223\n",
      "1000.16082771 m 1260.80823237 m\n"
     ]
    },
    {
     "name": "stderr",
     "output_type": "stream",
     "text": [
      "\r",
      "  4%|██▊                                                                     | 50/1261 [00:13<04:58,  4.05it/s]"
     ]
    },
    {
     "name": "stdout",
     "output_type": "stream",
     "text": [
      "(720, 1280, 3)\n",
      "left offset -1.44152822253 right offset 2.41487303292\n",
      "1022.61321681 m 1510.42117693 m\n"
     ]
    },
    {
     "name": "stderr",
     "output_type": "stream",
     "text": [
      "\r",
      "  4%|██▉                                                                     | 51/1261 [00:14<04:54,  4.11it/s]"
     ]
    },
    {
     "name": "stdout",
     "output_type": "stream",
     "text": [
      "(720, 1280, 3)\n",
      "left offset -1.44149887992 right offset 2.3223569629\n",
      "991.999036221 m 1008.09001749 m\n"
     ]
    },
    {
     "name": "stderr",
     "output_type": "stream",
     "text": [
      "\r",
      "  4%|██▉                                                                     | 52/1261 [00:14<04:55,  4.09it/s]"
     ]
    },
    {
     "name": "stdout",
     "output_type": "stream",
     "text": [
      "(720, 1280, 3)\n",
      "left offset -1.44525998436 right offset 2.33196786238\n",
      "994.593922517 m 1170.07321629 m\n"
     ]
    },
    {
     "name": "stderr",
     "output_type": "stream",
     "text": [
      "\r",
      "  4%|███                                                                     | 53/1261 [00:14<04:58,  4.05it/s]"
     ]
    },
    {
     "name": "stdout",
     "output_type": "stream",
     "text": [
      "(720, 1280, 3)\n",
      "left offset -1.44763287021 right offset 2.31640248715\n",
      "993.717376261 m 1185.01772407 m\n"
     ]
    },
    {
     "name": "stderr",
     "output_type": "stream",
     "text": [
      "\r",
      "  4%|███                                                                     | 54/1261 [00:14<04:59,  4.03it/s]"
     ]
    },
    {
     "name": "stdout",
     "output_type": "stream",
     "text": [
      "(720, 1280, 3)\n",
      "left offset -1.44731402272 right offset 2.32574890106\n",
      "1005.41433881 m 1281.61791929 m\n"
     ]
    },
    {
     "name": "stderr",
     "output_type": "stream",
     "text": [
      "\r",
      "  4%|███▏                                                                    | 55/1261 [00:15<04:55,  4.08it/s]"
     ]
    },
    {
     "name": "stdout",
     "output_type": "stream",
     "text": [
      "(720, 1280, 3)\n",
      "left offset -1.45822036818 right offset 2.33066080796\n",
      "1041.20970284 m 1244.04111283 m\n"
     ]
    },
    {
     "name": "stderr",
     "output_type": "stream",
     "text": [
      "\r",
      "  4%|███▏                                                                    | 56/1261 [00:15<04:52,  4.12it/s]"
     ]
    },
    {
     "name": "stdout",
     "output_type": "stream",
     "text": [
      "(720, 1280, 3)\n",
      "left offset -1.47750614964 right offset 2.29173533513\n",
      "978.244714952 m 900.113550383 m\n"
     ]
    },
    {
     "name": "stderr",
     "output_type": "stream",
     "text": [
      "\r",
      "  5%|███▎                                                                    | 57/1261 [00:15<04:58,  4.04it/s]"
     ]
    },
    {
     "name": "stdout",
     "output_type": "stream",
     "text": [
      "(720, 1280, 3)\n",
      "left offset -1.48970160163 right offset 2.28559966948\n",
      "978.529537568 m 953.889140317 m\n"
     ]
    },
    {
     "name": "stderr",
     "output_type": "stream",
     "text": [
      "\r",
      "  5%|███▎                                                                    | 58/1261 [00:16<05:27,  3.67it/s]"
     ]
    },
    {
     "name": "stdout",
     "output_type": "stream",
     "text": [
      "(720, 1280, 3)\n",
      "left offset -1.49934865424 right offset 2.27801726587\n",
      "898.97729581 m 1069.15866679 m\n"
     ]
    },
    {
     "name": "stderr",
     "output_type": "stream",
     "text": [
      "\r",
      "  5%|███▎                                                                    | 59/1261 [00:16<05:24,  3.70it/s]"
     ]
    },
    {
     "name": "stdout",
     "output_type": "stream",
     "text": [
      "(720, 1280, 3)\n",
      "left offset -1.51352546026 right offset 2.17344801999\n",
      "846.241049538 m 955.372439319 m\n"
     ]
    },
    {
     "name": "stderr",
     "output_type": "stream",
     "text": [
      "\r",
      "  5%|███▍                                                                    | 60/1261 [00:16<05:21,  3.74it/s]"
     ]
    },
    {
     "name": "stdout",
     "output_type": "stream",
     "text": [
      "(720, 1280, 3)\n",
      "left offset -1.53219708556 right offset 2.34811334423\n",
      "788.563292104 m 1489.40911102 m\n"
     ]
    },
    {
     "name": "stderr",
     "output_type": "stream",
     "text": [
      "\r",
      "  5%|███▍                                                                    | 61/1261 [00:16<05:21,  3.73it/s]"
     ]
    },
    {
     "name": "stdout",
     "output_type": "stream",
     "text": [
      "(720, 1280, 3)\n",
      "left offset -1.53967850361 right offset 2.23307965131\n",
      "744.84085622 m 932.898087423 m\n"
     ]
    },
    {
     "name": "stderr",
     "output_type": "stream",
     "text": [
      "\r",
      "  5%|███▌                                                                    | 62/1261 [00:17<05:18,  3.76it/s]"
     ]
    },
    {
     "name": "stdout",
     "output_type": "stream",
     "text": [
      "(720, 1280, 3)\n",
      "left offset -1.55122210731 right offset 2.22920540732\n",
      "774.228241015 m 997.495720014 m\n"
     ]
    },
    {
     "name": "stderr",
     "output_type": "stream",
     "text": [
      "\r",
      "  5%|███▌                                                                    | 63/1261 [00:17<05:16,  3.79it/s]"
     ]
    },
    {
     "name": "stdout",
     "output_type": "stream",
     "text": [
      "(720, 1280, 3)\n",
      "left offset -4.21987305761 right offset 2.62414436321\n",
      "10976.1744077 m 834.966543871 m\n"
     ]
    },
    {
     "name": "stderr",
     "output_type": "stream",
     "text": [
      "\r",
      "  5%|███▋                                                                    | 64/1261 [00:17<05:08,  3.88it/s]"
     ]
    },
    {
     "name": "stdout",
     "output_type": "stream",
     "text": [
      "(720, 1280, 3)\n",
      "left offset -1.56630898761 right offset 2.47277130516\n",
      "779.683578885 m 1563.30931545 m\n"
     ]
    },
    {
     "name": "stderr",
     "output_type": "stream",
     "text": [
      "\r",
      "  5%|███▋                                                                    | 65/1261 [00:17<05:07,  3.89it/s]"
     ]
    },
    {
     "name": "stdout",
     "output_type": "stream",
     "text": [
      "(720, 1280, 3)\n",
      "left offset -1.58280074122 right offset 2.19002744125\n",
      "740.48346647 m 891.051756974 m\n"
     ]
    },
    {
     "name": "stderr",
     "output_type": "stream",
     "text": [
      "\r",
      "  5%|███▊                                                                    | 66/1261 [00:18<05:02,  3.95it/s]"
     ]
    },
    {
     "name": "stdout",
     "output_type": "stream",
     "text": [
      "(720, 1280, 3)\n",
      "left offset -1.58098034064 right offset 2.21643105628\n",
      "762.274391863 m 1011.94703509 m\n"
     ]
    },
    {
     "name": "stderr",
     "output_type": "stream",
     "text": [
      "\r",
      "  5%|███▊                                                                    | 67/1261 [00:18<05:19,  3.74it/s]"
     ]
    },
    {
     "name": "stdout",
     "output_type": "stream",
     "text": [
      "(720, 1280, 3)\n",
      "left offset -1.58208456086 right offset 2.21321373336\n",
      "789.125446016 m 1003.86702265 m\n"
     ]
    },
    {
     "name": "stderr",
     "output_type": "stream",
     "text": [
      "\r",
      "  5%|███▉                                                                    | 68/1261 [00:18<05:20,  3.72it/s]"
     ]
    },
    {
     "name": "stdout",
     "output_type": "stream",
     "text": [
      "(720, 1280, 3)\n",
      "left offset -1.58115143682 right offset 2.19873754184\n",
      "768.652342228 m 987.362483118 m\n"
     ]
    },
    {
     "name": "stderr",
     "output_type": "stream",
     "text": [
      "\r",
      "  5%|███▉                                                                    | 69/1261 [00:18<05:14,  3.79it/s]"
     ]
    },
    {
     "name": "stdout",
     "output_type": "stream",
     "text": [
      "(720, 1280, 3)\n",
      "left offset -1.58477386703 right offset 2.16548558768\n",
      "825.979512933 m 927.326725393 m\n"
     ]
    },
    {
     "name": "stderr",
     "output_type": "stream",
     "text": [
      "\r",
      "  6%|███▉                                                                    | 70/1261 [00:19<05:13,  3.80it/s]"
     ]
    },
    {
     "name": "stdout",
     "output_type": "stream",
     "text": [
      "(720, 1280, 3)\n",
      "left offset -1.59333729707 right offset 2.20659078929\n",
      "790.102238238 m 1135.24358348 m\n"
     ]
    },
    {
     "name": "stderr",
     "output_type": "stream",
     "text": [
      "\r",
      "  6%|████                                                                    | 71/1261 [00:19<05:09,  3.85it/s]"
     ]
    },
    {
     "name": "stdout",
     "output_type": "stream",
     "text": [
      "(720, 1280, 3)\n",
      "left offset -1.59656516119 right offset 2.22455619838\n",
      "819.198684007 m 1243.15965994 m\n"
     ]
    },
    {
     "name": "stderr",
     "output_type": "stream",
     "text": [
      "\r",
      "  6%|████                                                                    | 72/1261 [00:19<05:10,  3.82it/s]"
     ]
    },
    {
     "name": "stdout",
     "output_type": "stream",
     "text": [
      "(720, 1280, 3)\n",
      "left offset -1.60671631781 right offset 2.1902565797\n",
      "819.979995413 m 999.240828002 m\n"
     ]
    },
    {
     "name": "stderr",
     "output_type": "stream",
     "text": [
      "\r",
      "  6%|████▏                                                                   | 73/1261 [00:19<05:10,  3.83it/s]"
     ]
    },
    {
     "name": "stdout",
     "output_type": "stream",
     "text": [
      "(720, 1280, 3)\n",
      "left offset -1.60750832578 right offset 2.15607774687\n",
      "829.489302574 m 885.479060656 m\n"
     ]
    },
    {
     "name": "stderr",
     "output_type": "stream",
     "text": [
      "\r",
      "  6%|████▏                                                                   | 74/1261 [00:20<04:59,  3.96it/s]"
     ]
    },
    {
     "name": "stdout",
     "output_type": "stream",
     "text": [
      "(720, 1280, 3)\n",
      "left offset -1.61403871176 right offset 2.15257186624\n",
      "869.820265608 m 889.142870041 m\n"
     ]
    },
    {
     "name": "stderr",
     "output_type": "stream",
     "text": [
      "\r",
      "  6%|████▎                                                                   | 75/1261 [00:20<04:53,  4.05it/s]"
     ]
    },
    {
     "name": "stdout",
     "output_type": "stream",
     "text": [
      "(720, 1280, 3)\n",
      "left offset -1.60939354225 right offset 2.13883165831\n",
      "858.84573925 m 854.855389519 m\n"
     ]
    },
    {
     "name": "stderr",
     "output_type": "stream",
     "text": [
      "\r",
      "  6%|████▎                                                                   | 76/1261 [00:20<04:50,  4.08it/s]"
     ]
    },
    {
     "name": "stdout",
     "output_type": "stream",
     "text": [
      "(720, 1280, 3)\n",
      "left offset -1.61909320122 right offset 2.1822264052\n",
      "952.947752699 m 997.939660568 m\n"
     ]
    },
    {
     "name": "stderr",
     "output_type": "stream",
     "text": [
      "\r",
      "  6%|████▍                                                                   | 77/1261 [00:20<04:46,  4.13it/s]"
     ]
    },
    {
     "name": "stdout",
     "output_type": "stream",
     "text": [
      "(720, 1280, 3)\n",
      "left offset -1.62957679197 right offset 2.16480048765\n",
      "969.236649058 m 981.21405315 m\n"
     ]
    },
    {
     "name": "stderr",
     "output_type": "stream",
     "text": [
      "\r",
      "  6%|████▍                                                                   | 78/1261 [00:21<04:42,  4.19it/s]"
     ]
    },
    {
     "name": "stdout",
     "output_type": "stream",
     "text": [
      "(720, 1280, 3)\n",
      "left offset -1.64373739609 right offset 2.16285857558\n",
      "994.766643542 m 932.044062708 m\n"
     ]
    },
    {
     "name": "stderr",
     "output_type": "stream",
     "text": [
      "\r",
      "  6%|████▌                                                                   | 79/1261 [00:21<04:40,  4.22it/s]"
     ]
    },
    {
     "name": "stdout",
     "output_type": "stream",
     "text": [
      "(720, 1280, 3)\n",
      "left offset -1.65491098344 right offset 2.15860002815\n",
      "975.849368997 m 1000.56170183 m\n"
     ]
    },
    {
     "name": "stderr",
     "output_type": "stream",
     "text": [
      "\r",
      "  6%|████▌                                                                   | 80/1261 [00:21<04:51,  4.05it/s]"
     ]
    },
    {
     "name": "stdout",
     "output_type": "stream",
     "text": [
      "(720, 1280, 3)\n",
      "left offset -1.65589795054 right offset 2.16427070622\n",
      "972.877277183 m 1062.15677985 m\n"
     ]
    },
    {
     "name": "stderr",
     "output_type": "stream",
     "text": [
      "\r",
      "  6%|████▌                                                                   | 81/1261 [00:21<05:00,  3.93it/s]"
     ]
    },
    {
     "name": "stdout",
     "output_type": "stream",
     "text": [
      "(720, 1280, 3)\n",
      "left offset -1.67458995811 right offset 2.17810385118\n",
      "948.638643569 m 1093.72037938 m\n"
     ]
    },
    {
     "name": "stderr",
     "output_type": "stream",
     "text": [
      "\r",
      "  7%|████▋                                                                   | 82/1261 [00:22<04:56,  3.97it/s]"
     ]
    },
    {
     "name": "stdout",
     "output_type": "stream",
     "text": [
      "(720, 1280, 3)\n",
      "left offset -1.68481080455 right offset 2.27562898554\n",
      "968.797307601 m 1545.44768003 m\n"
     ]
    },
    {
     "name": "stderr",
     "output_type": "stream",
     "text": [
      "\r",
      "  7%|████▋                                                                   | 83/1261 [00:22<04:55,  3.98it/s]"
     ]
    },
    {
     "name": "stdout",
     "output_type": "stream",
     "text": [
      "(720, 1280, 3)\n",
      "left offset -1.70018285817 right offset 2.25631110754\n",
      "1035.66990236 m 1450.86940236 m\n"
     ]
    },
    {
     "name": "stderr",
     "output_type": "stream",
     "text": [
      "\r",
      "  7%|████▊                                                                   | 84/1261 [00:22<04:55,  3.98it/s]"
     ]
    },
    {
     "name": "stdout",
     "output_type": "stream",
     "text": [
      "(720, 1280, 3)\n",
      "left offset -1.71250927406 right offset 2.29273442777\n",
      "977.74431164 m 1584.37368111 m\n"
     ]
    },
    {
     "name": "stderr",
     "output_type": "stream",
     "text": [
      "\r",
      "  7%|████▊                                                                   | 85/1261 [00:22<04:59,  3.93it/s]"
     ]
    },
    {
     "name": "stdout",
     "output_type": "stream",
     "text": [
      "(720, 1280, 3)\n",
      "left offset -1.70988527586 right offset 2.18652780551\n",
      "959.145417207 m 1085.61672737 m\n"
     ]
    },
    {
     "name": "stderr",
     "output_type": "stream",
     "text": [
      "\r",
      "  7%|████▉                                                                   | 86/1261 [00:23<04:52,  4.02it/s]"
     ]
    },
    {
     "name": "stdout",
     "output_type": "stream",
     "text": [
      "(720, 1280, 3)\n",
      "left offset -1.71846820378 right offset 2.23390399477\n",
      "813.409276857 m 1317.29255433 m\n"
     ]
    },
    {
     "name": "stderr",
     "output_type": "stream",
     "text": [
      "\r",
      "  7%|████▉                                                                   | 87/1261 [00:23<04:48,  4.07it/s]"
     ]
    },
    {
     "name": "stdout",
     "output_type": "stream",
     "text": [
      "(720, 1280, 3)\n",
      "left offset -1.72078045397 right offset 2.15744440856\n",
      "737.605109898 m 934.468053958 m\n"
     ]
    },
    {
     "name": "stderr",
     "output_type": "stream",
     "text": [
      "\r",
      "  7%|█████                                                                   | 88/1261 [00:23<04:44,  4.13it/s]"
     ]
    },
    {
     "name": "stdout",
     "output_type": "stream",
     "text": [
      "(720, 1280, 3)\n",
      "left offset -1.7297664313 right offset 2.12878764446\n",
      "679.777564018 m 881.81694054 m\n"
     ]
    },
    {
     "name": "stderr",
     "output_type": "stream",
     "text": [
      "\r",
      "  7%|█████                                                                   | 89/1261 [00:23<05:03,  3.86it/s]"
     ]
    },
    {
     "name": "stdout",
     "output_type": "stream",
     "text": [
      "(720, 1280, 3)\n",
      "left offset -1.71673481263 right offset 2.12735323806\n",
      "619.528814021 m 876.368455399 m\n"
     ]
    },
    {
     "name": "stderr",
     "output_type": "stream",
     "text": [
      "\r",
      "  7%|█████▏                                                                  | 90/1261 [00:24<05:05,  3.83it/s]"
     ]
    },
    {
     "name": "stdout",
     "output_type": "stream",
     "text": [
      "(720, 1280, 3)\n",
      "left offset -1.72174500337 right offset 2.13912723141\n",
      "628.593392435 m 1002.18891262 m\n"
     ]
    },
    {
     "name": "stderr",
     "output_type": "stream",
     "text": [
      "\r",
      "  7%|█████▏                                                                  | 91/1261 [00:24<05:15,  3.71it/s]"
     ]
    },
    {
     "name": "stdout",
     "output_type": "stream",
     "text": [
      "(720, 1280, 3)\n",
      "left offset -1.70313319526 right offset 2.14163985115\n",
      "667.386399508 m 946.787023308 m\n"
     ]
    },
    {
     "name": "stderr",
     "output_type": "stream",
     "text": [
      "\r",
      "  7%|█████▎                                                                  | 92/1261 [00:24<05:13,  3.72it/s]"
     ]
    },
    {
     "name": "stdout",
     "output_type": "stream",
     "text": [
      "(720, 1280, 3)\n",
      "left offset -1.71055398154 right offset 2.12116025881\n",
      "612.273902452 m 801.472317054 m\n"
     ]
    },
    {
     "name": "stderr",
     "output_type": "stream",
     "text": [
      "\r",
      "  7%|█████▎                                                                  | 93/1261 [00:25<05:17,  3.68it/s]"
     ]
    },
    {
     "name": "stdout",
     "output_type": "stream",
     "text": [
      "(720, 1280, 3)\n",
      "left offset -1.68252948636 right offset 2.1125731982\n",
      "630.428280758 m 836.82462654 m\n"
     ]
    },
    {
     "name": "stderr",
     "output_type": "stream",
     "text": [
      "\r",
      "  7%|█████▎                                                                  | 94/1261 [00:25<05:24,  3.60it/s]"
     ]
    },
    {
     "name": "stdout",
     "output_type": "stream",
     "text": [
      "(720, 1280, 3)\n",
      "left offset -1.68322326014 right offset 2.10461135722\n",
      "644.342847228 m 834.79656529 m\n"
     ]
    },
    {
     "name": "stderr",
     "output_type": "stream",
     "text": [
      "\r",
      "  8%|█████▍                                                                  | 95/1261 [00:25<05:12,  3.74it/s]"
     ]
    },
    {
     "name": "stdout",
     "output_type": "stream",
     "text": [
      "(720, 1280, 3)\n",
      "left offset -1.67952239343 right offset 2.0662063215\n",
      "650.777039807 m 834.435524562 m\n"
     ]
    },
    {
     "name": "stderr",
     "output_type": "stream",
     "text": [
      "\r",
      "  8%|█████▍                                                                  | 96/1261 [00:25<05:01,  3.87it/s]"
     ]
    },
    {
     "name": "stdout",
     "output_type": "stream",
     "text": [
      "(720, 1280, 3)\n",
      "left offset -1.6790082897 right offset 2.06395874783\n",
      "634.713652012 m 843.511899662 m\n"
     ]
    },
    {
     "name": "stderr",
     "output_type": "stream",
     "text": [
      "\r",
      "  8%|█████▌                                                                  | 97/1261 [00:26<04:54,  3.95it/s]"
     ]
    },
    {
     "name": "stdout",
     "output_type": "stream",
     "text": [
      "(720, 1280, 3)\n",
      "left offset -1.65332755993 right offset 2.0603873617\n",
      "711.500496035 m 783.715374396 m\n"
     ]
    },
    {
     "name": "stderr",
     "output_type": "stream",
     "text": [
      "\r",
      "  8%|█████▌                                                                  | 98/1261 [00:26<04:47,  4.05it/s]"
     ]
    },
    {
     "name": "stdout",
     "output_type": "stream",
     "text": [
      "(720, 1280, 3)\n",
      "left offset -1.65901796178 right offset 2.1196444309\n",
      "662.438170556 m 931.325699429 m\n"
     ]
    },
    {
     "name": "stderr",
     "output_type": "stream",
     "text": [
      "\r",
      "  8%|█████▋                                                                  | 99/1261 [00:26<04:47,  4.04it/s]"
     ]
    },
    {
     "name": "stdout",
     "output_type": "stream",
     "text": [
      "(720, 1280, 3)\n",
      "left offset -1.64125148033 right offset 2.14571753302\n",
      "717.891628778 m 1041.27380318 m\n"
     ]
    },
    {
     "name": "stderr",
     "output_type": "stream",
     "text": [
      "\r",
      "  8%|█████▋                                                                 | 100/1261 [00:26<04:42,  4.10it/s]"
     ]
    },
    {
     "name": "stdout",
     "output_type": "stream",
     "text": [
      "(720, 1280, 3)\n",
      "left offset -1.65505569078 right offset 2.0957636266\n",
      "655.266869379 m 772.534285663 m\n"
     ]
    },
    {
     "name": "stderr",
     "output_type": "stream",
     "text": [
      "\r",
      "  8%|█████▋                                                                 | 101/1261 [00:26<04:39,  4.16it/s]"
     ]
    },
    {
     "name": "stdout",
     "output_type": "stream",
     "text": [
      "(720, 1280, 3)\n",
      "left offset -1.65250305657 right offset 2.09997515114\n",
      "648.479143776 m 821.702837579 m\n"
     ]
    },
    {
     "name": "stderr",
     "output_type": "stream",
     "text": [
      "\r",
      "  8%|█████▋                                                                 | 102/1261 [00:27<04:38,  4.16it/s]"
     ]
    },
    {
     "name": "stdout",
     "output_type": "stream",
     "text": [
      "(720, 1280, 3)\n",
      "left offset -1.65312617228 right offset 2.11537239224\n",
      "641.381260349 m 833.66517089 m\n"
     ]
    },
    {
     "name": "stderr",
     "output_type": "stream",
     "text": [
      "\r",
      "  8%|█████▊                                                                 | 103/1261 [00:27<04:37,  4.17it/s]"
     ]
    },
    {
     "name": "stdout",
     "output_type": "stream",
     "text": [
      "(720, 1280, 3)\n",
      "left offset -1.64153757188 right offset 2.11970310506\n",
      "651.709747345 m 849.713136203 m\n"
     ]
    },
    {
     "name": "stderr",
     "output_type": "stream",
     "text": [
      "\r",
      "  8%|█████▊                                                                 | 104/1261 [00:27<04:37,  4.18it/s]"
     ]
    },
    {
     "name": "stdout",
     "output_type": "stream",
     "text": [
      "(720, 1280, 3)\n",
      "left offset -1.63104883149 right offset 2.12709284516\n",
      "720.177462607 m 855.809259272 m\n"
     ]
    },
    {
     "name": "stderr",
     "output_type": "stream",
     "text": [
      "\r",
      "  8%|█████▉                                                                 | 105/1261 [00:27<04:37,  4.17it/s]"
     ]
    },
    {
     "name": "stdout",
     "output_type": "stream",
     "text": [
      "(720, 1280, 3)\n",
      "left offset -1.62019544349 right offset 2.14262125036\n",
      "744.541295625 m 881.513496735 m\n"
     ]
    },
    {
     "name": "stderr",
     "output_type": "stream",
     "text": [
      "\r",
      "  8%|█████▉                                                                 | 106/1261 [00:28<04:33,  4.23it/s]"
     ]
    },
    {
     "name": "stdout",
     "output_type": "stream",
     "text": [
      "(720, 1280, 3)\n",
      "left offset -1.61417512578 right offset 2.16228234532\n",
      "769.501501505 m 924.442976077 m\n"
     ]
    },
    {
     "name": "stderr",
     "output_type": "stream",
     "text": [
      "\r",
      "  8%|██████                                                                 | 107/1261 [00:28<04:38,  4.15it/s]"
     ]
    },
    {
     "name": "stdout",
     "output_type": "stream",
     "text": [
      "(720, 1280, 3)\n",
      "left offset -1.62253941398 right offset 2.25053584014\n",
      "692.255427417 m 1111.38845993 m\n"
     ]
    },
    {
     "name": "stderr",
     "output_type": "stream",
     "text": [
      "\r",
      "  9%|██████                                                                 | 108/1261 [00:28<04:40,  4.11it/s]"
     ]
    },
    {
     "name": "stdout",
     "output_type": "stream",
     "text": [
      "(720, 1280, 3)\n",
      "left offset -1.61562222247 right offset 2.22550888069\n",
      "699.456430618 m 980.849668831 m\n"
     ]
    },
    {
     "name": "stderr",
     "output_type": "stream",
     "text": [
      "\r",
      "  9%|██████▏                                                                | 109/1261 [00:28<04:40,  4.10it/s]"
     ]
    },
    {
     "name": "stdout",
     "output_type": "stream",
     "text": [
      "(720, 1280, 3)\n",
      "left offset -1.61357023702 right offset 2.22292504677\n",
      "699.216143187 m 960.282736024 m\n"
     ]
    },
    {
     "name": "stderr",
     "output_type": "stream",
     "text": [
      "\r",
      "  9%|██████▏                                                                | 110/1261 [00:29<04:42,  4.08it/s]"
     ]
    },
    {
     "name": "stdout",
     "output_type": "stream",
     "text": [
      "(720, 1280, 3)\n",
      "left offset -1.6070982354 right offset 2.1700753156\n",
      "691.903032923 m 814.178612043 m\n"
     ]
    },
    {
     "name": "stderr",
     "output_type": "stream",
     "text": [
      "\r",
      "  9%|██████▏                                                                | 111/1261 [00:29<04:39,  4.11it/s]"
     ]
    },
    {
     "name": "stdout",
     "output_type": "stream",
     "text": [
      "(720, 1280, 3)\n",
      "left offset -1.5878990957 right offset 2.20343630478\n",
      "786.332018848 m 891.565985256 m\n"
     ]
    },
    {
     "name": "stderr",
     "output_type": "stream",
     "text": [
      "\r",
      "  9%|██████▎                                                                | 112/1261 [00:29<04:38,  4.13it/s]"
     ]
    },
    {
     "name": "stdout",
     "output_type": "stream",
     "text": [
      "(720, 1280, 3)\n",
      "left offset -1.58767035595 right offset 2.22120170634\n",
      "721.544398222 m 904.746179564 m\n"
     ]
    },
    {
     "name": "stderr",
     "output_type": "stream",
     "text": [
      "\r",
      "  9%|██████▎                                                                | 113/1261 [00:29<04:37,  4.14it/s]"
     ]
    },
    {
     "name": "stdout",
     "output_type": "stream",
     "text": [
      "(720, 1280, 3)\n",
      "left offset -1.57339689489 right offset 2.27566538468\n",
      "735.347504089 m 1041.79107316 m\n"
     ]
    },
    {
     "name": "stderr",
     "output_type": "stream",
     "text": [
      "\r",
      "  9%|██████▍                                                                | 114/1261 [00:30<04:38,  4.12it/s]"
     ]
    },
    {
     "name": "stdout",
     "output_type": "stream",
     "text": [
      "(720, 1280, 3)\n",
      "left offset -1.57665498451 right offset 2.20335858068\n",
      "667.143964108 m 748.239981899 m\n"
     ]
    },
    {
     "name": "stderr",
     "output_type": "stream",
     "text": [
      "\r",
      "  9%|██████▍                                                                | 115/1261 [00:30<04:38,  4.11it/s]"
     ]
    },
    {
     "name": "stdout",
     "output_type": "stream",
     "text": [
      "(720, 1280, 3)\n",
      "left offset -1.56996180979 right offset 2.2210878359\n",
      "656.982706703 m 826.261022955 m\n"
     ]
    },
    {
     "name": "stderr",
     "output_type": "stream",
     "text": [
      "\r",
      "  9%|██████▌                                                                | 116/1261 [00:30<04:37,  4.12it/s]"
     ]
    },
    {
     "name": "stdout",
     "output_type": "stream",
     "text": [
      "(720, 1280, 3)\n",
      "left offset -1.55291486336 right offset 2.21649561209\n",
      "694.581915636 m 842.944230904 m\n"
     ]
    },
    {
     "name": "stderr",
     "output_type": "stream",
     "text": [
      "\r",
      "  9%|██████▌                                                                | 117/1261 [00:30<04:48,  3.97it/s]"
     ]
    },
    {
     "name": "stdout",
     "output_type": "stream",
     "text": [
      "(720, 1280, 3)\n",
      "left offset -1.55811322244 right offset 2.23226952301\n",
      "667.588956289 m 922.048132396 m\n"
     ]
    },
    {
     "name": "stderr",
     "output_type": "stream",
     "text": [
      "\r",
      "  9%|██████▋                                                                | 118/1261 [00:31<05:52,  3.24it/s]"
     ]
    },
    {
     "name": "stdout",
     "output_type": "stream",
     "text": [
      "(720, 1280, 3)\n",
      "left offset -1.53716822956 right offset 2.22276667718\n",
      "706.532866564 m 776.667931763 m\n"
     ]
    },
    {
     "name": "stderr",
     "output_type": "stream",
     "text": [
      "\r",
      "  9%|██████▋                                                                | 119/1261 [00:31<05:42,  3.34it/s]"
     ]
    },
    {
     "name": "stdout",
     "output_type": "stream",
     "text": [
      "(720, 1280, 3)\n",
      "left offset -1.52120599318 right offset 2.2552026137\n",
      "689.162835321 m 825.776203446 m\n"
     ]
    },
    {
     "name": "stderr",
     "output_type": "stream",
     "text": [
      "\r",
      " 10%|██████▊                                                                | 120/1261 [00:32<06:16,  3.03it/s]"
     ]
    },
    {
     "name": "stdout",
     "output_type": "stream",
     "text": [
      "(720, 1280, 3)\n",
      "left offset -1.51910455972 right offset 2.32722030204\n",
      "703.015272775 m 1031.78267292 m\n"
     ]
    },
    {
     "name": "stderr",
     "output_type": "stream",
     "text": [
      "\r",
      " 10%|██████▊                                                                | 121/1261 [00:32<06:37,  2.87it/s]"
     ]
    },
    {
     "name": "stdout",
     "output_type": "stream",
     "text": [
      "(720, 1280, 3)\n",
      "left offset -1.50876571621 right offset 2.34333795255\n",
      "710.427538993 m 1125.98031692 m\n"
     ]
    },
    {
     "name": "stderr",
     "output_type": "stream",
     "text": [
      "\r",
      " 10%|██████▊                                                                | 122/1261 [00:32<06:07,  3.10it/s]"
     ]
    },
    {
     "name": "stdout",
     "output_type": "stream",
     "text": [
      "(720, 1280, 3)\n",
      "left offset -1.4835213606 right offset 2.27696905518\n",
      "737.933510972 m 1019.43303615 m\n"
     ]
    },
    {
     "name": "stderr",
     "output_type": "stream",
     "text": [
      "\r",
      " 10%|██████▉                                                                | 123/1261 [00:33<06:17,  3.02it/s]"
     ]
    },
    {
     "name": "stdout",
     "output_type": "stream",
     "text": [
      "(720, 1280, 3)\n",
      "left offset -1.49202874382 right offset 2.21245252741\n",
      "699.279425477 m 729.306448521 m\n"
     ]
    },
    {
     "name": "stderr",
     "output_type": "stream",
     "text": [
      "\r",
      " 10%|██████▉                                                                | 124/1261 [00:33<06:01,  3.15it/s]"
     ]
    },
    {
     "name": "stdout",
     "output_type": "stream",
     "text": [
      "(720, 1280, 3)\n",
      "left offset -1.47098752332 right offset 2.25589796589\n",
      "739.735775554 m 813.497818094 m\n"
     ]
    },
    {
     "name": "stderr",
     "output_type": "stream",
     "text": [
      "\r",
      " 10%|███████                                                                | 125/1261 [00:33<05:35,  3.39it/s]"
     ]
    },
    {
     "name": "stdout",
     "output_type": "stream",
     "text": [
      "(720, 1280, 3)\n",
      "left offset -1.46947484547 right offset 2.29268032709\n",
      "785.80231862 m 896.73102018 m\n"
     ]
    },
    {
     "name": "stderr",
     "output_type": "stream",
     "text": [
      "\r",
      " 10%|███████                                                                | 126/1261 [00:33<05:14,  3.61it/s]"
     ]
    },
    {
     "name": "stdout",
     "output_type": "stream",
     "text": [
      "(720, 1280, 3)\n",
      "left offset -1.47037088136 right offset 2.29448304403\n",
      "754.87766618 m 914.22198026 m\n"
     ]
    },
    {
     "name": "stderr",
     "output_type": "stream",
     "text": [
      "\r",
      " 10%|███████▏                                                               | 127/1261 [00:34<05:02,  3.74it/s]"
     ]
    },
    {
     "name": "stdout",
     "output_type": "stream",
     "text": [
      "(720, 1280, 3)\n",
      "left offset -1.46857712756 right offset 2.2789104635\n",
      "782.524383781 m 916.602445814 m\n"
     ]
    },
    {
     "name": "stderr",
     "output_type": "stream",
     "text": [
      "\r",
      " 10%|███████▏                                                               | 128/1261 [00:34<04:54,  3.85it/s]"
     ]
    },
    {
     "name": "stdout",
     "output_type": "stream",
     "text": [
      "(720, 1280, 3)\n",
      "left offset -1.46892099907 right offset 2.27638210669\n",
      "721.749400788 m 896.417594757 m\n"
     ]
    },
    {
     "name": "stderr",
     "output_type": "stream",
     "text": [
      "\r",
      " 10%|███████▎                                                               | 129/1261 [00:34<04:46,  3.96it/s]"
     ]
    },
    {
     "name": "stdout",
     "output_type": "stream",
     "text": [
      "(720, 1280, 3)\n",
      "left offset -1.44152854858 right offset 2.28575910111\n",
      "825.160716847 m 952.162565045 m\n"
     ]
    },
    {
     "name": "stderr",
     "output_type": "stream",
     "text": [
      "\r",
      " 10%|███████▎                                                               | 130/1261 [00:34<04:38,  4.06it/s]"
     ]
    },
    {
     "name": "stdout",
     "output_type": "stream",
     "text": [
      "(720, 1280, 3)\n",
      "left offset -1.47060104601 right offset 2.29066072523\n",
      "734.935554377 m 956.707702364 m\n"
     ]
    },
    {
     "name": "stderr",
     "output_type": "stream",
     "text": [
      "\r",
      " 10%|███████▍                                                               | 131/1261 [00:34<04:36,  4.09it/s]"
     ]
    },
    {
     "name": "stdout",
     "output_type": "stream",
     "text": [
      "(720, 1280, 3)\n",
      "left offset -1.44231420765 right offset 2.28417630835\n",
      "786.761793067 m 969.32458369 m\n"
     ]
    },
    {
     "name": "stderr",
     "output_type": "stream",
     "text": [
      "\r",
      " 10%|███████▍                                                               | 132/1261 [00:35<04:33,  4.12it/s]"
     ]
    },
    {
     "name": "stdout",
     "output_type": "stream",
     "text": [
      "(720, 1280, 3)\n",
      "left offset -1.44209712689 right offset 2.31864488873\n",
      "794.943305672 m 1102.57824576 m\n"
     ]
    },
    {
     "name": "stderr",
     "output_type": "stream",
     "text": [
      "\r",
      " 11%|███████▍                                                               | 133/1261 [00:35<04:29,  4.19it/s]"
     ]
    },
    {
     "name": "stdout",
     "output_type": "stream",
     "text": [
      "(720, 1280, 3)\n",
      "left offset -1.44877206792 right offset 2.2781743703\n",
      "765.445844992 m 1035.37335205 m\n"
     ]
    },
    {
     "name": "stderr",
     "output_type": "stream",
     "text": [
      "\r",
      " 11%|███████▌                                                               | 134/1261 [00:35<04:26,  4.23it/s]"
     ]
    },
    {
     "name": "stdout",
     "output_type": "stream",
     "text": [
      "(720, 1280, 3)\n",
      "left offset -1.4274336932 right offset 2.32299903938\n",
      "828.262829508 m 1247.17198424 m\n"
     ]
    },
    {
     "name": "stderr",
     "output_type": "stream",
     "text": [
      "\r",
      " 11%|███████▌                                                               | 135/1261 [00:35<04:26,  4.22it/s]"
     ]
    },
    {
     "name": "stdout",
     "output_type": "stream",
     "text": [
      "(720, 1280, 3)\n",
      "left offset -1.43594281381 right offset 2.31368139267\n",
      "822.972121562 m 916.913197822 m\n"
     ]
    },
    {
     "name": "stderr",
     "output_type": "stream",
     "text": [
      "\r",
      " 11%|███████▋                                                               | 136/1261 [00:36<04:27,  4.20it/s]"
     ]
    },
    {
     "name": "stdout",
     "output_type": "stream",
     "text": [
      "(720, 1280, 3)\n",
      "left offset -1.42900350184 right offset 2.28898168156\n",
      "879.202280955 m 917.411966957 m\n"
     ]
    },
    {
     "name": "stderr",
     "output_type": "stream",
     "text": [
      "\r",
      " 11%|███████▋                                                               | 137/1261 [00:36<04:27,  4.21it/s]"
     ]
    },
    {
     "name": "stdout",
     "output_type": "stream",
     "text": [
      "(720, 1280, 3)\n",
      "left offset -1.43771923428 right offset 2.33564879476\n",
      "923.330053518 m 1023.10369538 m\n"
     ]
    },
    {
     "name": "stderr",
     "output_type": "stream",
     "text": [
      "\r",
      " 11%|███████▊                                                               | 138/1261 [00:36<04:24,  4.24it/s]"
     ]
    },
    {
     "name": "stdout",
     "output_type": "stream",
     "text": [
      "(720, 1280, 3)\n",
      "left offset -1.45004473272 right offset 2.33996787362\n",
      "915.870267003 m 1117.63815999 m\n"
     ]
    },
    {
     "name": "stderr",
     "output_type": "stream",
     "text": [
      "\r",
      " 11%|███████▊                                                               | 139/1261 [00:36<04:28,  4.19it/s]"
     ]
    },
    {
     "name": "stdout",
     "output_type": "stream",
     "text": [
      "(720, 1280, 3)\n",
      "left offset -1.45273824658 right offset 2.3328024804\n",
      "992.271603955 m 1072.64130943 m\n"
     ]
    },
    {
     "name": "stderr",
     "output_type": "stream",
     "text": [
      "\r",
      " 11%|███████▉                                                               | 140/1261 [00:37<04:26,  4.20it/s]"
     ]
    },
    {
     "name": "stdout",
     "output_type": "stream",
     "text": [
      "(720, 1280, 3)\n",
      "left offset -1.46233388994 right offset 2.32715977652\n",
      "969.737005754 m 1050.57855141 m\n"
     ]
    },
    {
     "name": "stderr",
     "output_type": "stream",
     "text": [
      "\r",
      " 11%|███████▉                                                               | 141/1261 [00:37<04:25,  4.21it/s]"
     ]
    },
    {
     "name": "stdout",
     "output_type": "stream",
     "text": [
      "(720, 1280, 3)\n",
      "left offset -1.47958455957 right offset 2.33005756338\n",
      "923.487136172 m 1201.29975153 m\n"
     ]
    },
    {
     "name": "stderr",
     "output_type": "stream",
     "text": [
      "\r",
      " 11%|███████▉                                                               | 142/1261 [00:37<04:24,  4.23it/s]"
     ]
    },
    {
     "name": "stdout",
     "output_type": "stream",
     "text": [
      "(720, 1280, 3)\n",
      "left offset -1.48445461024 right offset 2.31889126801\n",
      "858.931792833 m 1128.83113207 m\n"
     ]
    },
    {
     "name": "stderr",
     "output_type": "stream",
     "text": [
      "\r",
      " 11%|████████                                                               | 143/1261 [00:37<04:23,  4.25it/s]"
     ]
    },
    {
     "name": "stdout",
     "output_type": "stream",
     "text": [
      "(720, 1280, 3)\n",
      "left offset -1.49527589135 right offset 2.29071876591\n",
      "841.554589678 m 1003.71284321 m\n"
     ]
    },
    {
     "name": "stderr",
     "output_type": "stream",
     "text": [
      "\r",
      " 11%|████████                                                               | 144/1261 [00:38<04:26,  4.19it/s]"
     ]
    },
    {
     "name": "stdout",
     "output_type": "stream",
     "text": [
      "(720, 1280, 3)\n",
      "left offset -1.50109529159 right offset 2.30384390062\n",
      "841.925579474 m 1047.70169854 m\n"
     ]
    },
    {
     "name": "stderr",
     "output_type": "stream",
     "text": [
      "\r",
      " 11%|████████▏                                                              | 145/1261 [00:38<04:26,  4.18it/s]"
     ]
    },
    {
     "name": "stdout",
     "output_type": "stream",
     "text": [
      "(720, 1280, 3)\n",
      "left offset -1.48819471074 right offset 2.29874870562\n",
      "865.991097243 m 1047.03544381 m\n"
     ]
    },
    {
     "name": "stderr",
     "output_type": "stream",
     "text": [
      "\r",
      " 12%|████████▏                                                              | 146/1261 [00:38<04:26,  4.19it/s]"
     ]
    },
    {
     "name": "stdout",
     "output_type": "stream",
     "text": [
      "(720, 1280, 3)\n",
      "left offset -1.50416070469 right offset 2.29545573131\n",
      "812.971747004 m 1069.3171551 m\n"
     ]
    },
    {
     "name": "stderr",
     "output_type": "stream",
     "text": [
      "\r",
      " 12%|████████▎                                                              | 147/1261 [00:38<04:21,  4.26it/s]"
     ]
    },
    {
     "name": "stdout",
     "output_type": "stream",
     "text": [
      "(720, 1280, 3)\n",
      "left offset -1.49556727278 right offset 2.26665702273\n",
      "736.222514702 m 905.887834593 m\n"
     ]
    },
    {
     "name": "stderr",
     "output_type": "stream",
     "text": [
      "\r",
      " 12%|████████▎                                                              | 148/1261 [00:38<04:21,  4.25it/s]"
     ]
    },
    {
     "name": "stdout",
     "output_type": "stream",
     "text": [
      "(720, 1280, 3)\n",
      "left offset -1.51668143213 right offset 2.27437356757\n",
      "674.444999418 m 886.807725071 m\n"
     ]
    },
    {
     "name": "stderr",
     "output_type": "stream",
     "text": [
      "\r",
      " 12%|████████▍                                                              | 149/1261 [00:39<04:19,  4.29it/s]"
     ]
    },
    {
     "name": "stdout",
     "output_type": "stream",
     "text": [
      "(720, 1280, 3)\n",
      "left offset -1.48816146831 right offset 2.26209568889\n",
      "795.935339781 m 890.5713297 m\n"
     ]
    },
    {
     "name": "stderr",
     "output_type": "stream",
     "text": [
      "\r",
      " 12%|████████▍                                                              | 150/1261 [00:39<04:19,  4.28it/s]"
     ]
    },
    {
     "name": "stdout",
     "output_type": "stream",
     "text": [
      "(720, 1280, 3)\n",
      "left offset -1.49954234035 right offset 2.31136904707\n",
      "769.722337999 m 1090.31426491 m\n"
     ]
    },
    {
     "name": "stderr",
     "output_type": "stream",
     "text": [
      "\r",
      " 12%|████████▌                                                              | 151/1261 [00:39<04:18,  4.30it/s]"
     ]
    },
    {
     "name": "stdout",
     "output_type": "stream",
     "text": [
      "(720, 1280, 3)\n",
      "left offset -1.50763781388 right offset 2.28325472453\n",
      "791.301218418 m 1014.40384531 m\n"
     ]
    },
    {
     "name": "stderr",
     "output_type": "stream",
     "text": [
      "\r",
      " 12%|████████▌                                                              | 152/1261 [00:39<04:22,  4.23it/s]"
     ]
    },
    {
     "name": "stdout",
     "output_type": "stream",
     "text": [
      "(720, 1280, 3)\n",
      "left offset -1.52022750376 right offset 2.23386037611\n",
      "717.359756304 m 841.776390066 m\n"
     ]
    },
    {
     "name": "stderr",
     "output_type": "stream",
     "text": [
      "\r",
      " 12%|████████▌                                                              | 153/1261 [00:40<04:22,  4.23it/s]"
     ]
    },
    {
     "name": "stdout",
     "output_type": "stream",
     "text": [
      "(720, 1280, 3)\n",
      "left offset -1.50965471933 right offset 2.27833706294\n",
      "816.900448653 m 1054.65401748 m\n"
     ]
    },
    {
     "name": "stderr",
     "output_type": "stream",
     "text": [
      "\r",
      " 12%|████████▋                                                              | 154/1261 [00:40<04:20,  4.24it/s]"
     ]
    },
    {
     "name": "stdout",
     "output_type": "stream",
     "text": [
      "(720, 1280, 3)\n",
      "left offset -1.50474567765 right offset 2.28470529829\n",
      "872.203726868 m 1069.44498344 m\n"
     ]
    },
    {
     "name": "stderr",
     "output_type": "stream",
     "text": [
      "\r",
      " 12%|████████▋                                                              | 155/1261 [00:40<04:20,  4.25it/s]"
     ]
    },
    {
     "name": "stdout",
     "output_type": "stream",
     "text": [
      "(720, 1280, 3)\n",
      "left offset -1.54617292782 right offset 2.26717773706\n",
      "730.122013555 m 951.532895519 m\n"
     ]
    },
    {
     "name": "stderr",
     "output_type": "stream",
     "text": [
      "\r",
      " 12%|████████▊                                                              | 156/1261 [00:40<04:21,  4.22it/s]"
     ]
    },
    {
     "name": "stdout",
     "output_type": "stream",
     "text": [
      "(720, 1280, 3)\n",
      "left offset -1.55127705751 right offset 2.2619772316\n",
      "739.790286072 m 846.097109516 m\n"
     ]
    },
    {
     "name": "stderr",
     "output_type": "stream",
     "text": [
      "\r",
      " 12%|████████▊                                                              | 157/1261 [00:41<04:18,  4.26it/s]"
     ]
    },
    {
     "name": "stdout",
     "output_type": "stream",
     "text": [
      "(720, 1280, 3)\n",
      "left offset -1.54256673934 right offset 2.24831357947\n",
      "743.482584972 m 866.357027675 m\n"
     ]
    },
    {
     "name": "stderr",
     "output_type": "stream",
     "text": [
      "\r",
      " 13%|████████▉                                                              | 158/1261 [00:41<04:16,  4.30it/s]"
     ]
    },
    {
     "name": "stdout",
     "output_type": "stream",
     "text": [
      "(720, 1280, 3)\n",
      "left offset -1.53921538812 right offset 2.20559679717\n",
      "771.456211252 m 831.007904167 m\n"
     ]
    },
    {
     "name": "stderr",
     "output_type": "stream",
     "text": [
      "\r",
      " 13%|████████▉                                                              | 159/1261 [00:41<04:14,  4.33it/s]"
     ]
    },
    {
     "name": "stdout",
     "output_type": "stream",
     "text": [
      "(720, 1280, 3)\n",
      "left offset -1.56657059637 right offset 2.1319778341\n",
      "682.556778678 m 746.726901858 m\n"
     ]
    },
    {
     "name": "stderr",
     "output_type": "stream",
     "text": [
      "\r",
      " 13%|█████████                                                              | 160/1261 [00:41<04:12,  4.37it/s]"
     ]
    },
    {
     "name": "stdout",
     "output_type": "stream",
     "text": [
      "(720, 1280, 3)\n",
      "left offset -1.56312960164 right offset 2.19697999463\n",
      "730.87897479 m 813.347028934 m\n"
     ]
    },
    {
     "name": "stderr",
     "output_type": "stream",
     "text": [
      "\r",
      " 13%|█████████                                                              | 161/1261 [00:42<04:10,  4.39it/s]"
     ]
    },
    {
     "name": "stdout",
     "output_type": "stream",
     "text": [
      "(720, 1280, 3)\n",
      "left offset -1.54132390834 right offset 2.21710405233\n",
      "828.473371944 m 857.958974673 m\n"
     ]
    },
    {
     "name": "stderr",
     "output_type": "stream",
     "text": [
      "\r",
      " 13%|█████████                                                              | 162/1261 [00:42<04:09,  4.41it/s]"
     ]
    },
    {
     "name": "stdout",
     "output_type": "stream",
     "text": [
      "(720, 1280, 3)\n",
      "left offset -1.56304129115 right offset 2.26385175038\n",
      "802.706113443 m 949.065293275 m\n"
     ]
    },
    {
     "name": "stderr",
     "output_type": "stream",
     "text": [
      "\r",
      " 13%|█████████▏                                                             | 163/1261 [00:42<04:09,  4.41it/s]"
     ]
    },
    {
     "name": "stdout",
     "output_type": "stream",
     "text": [
      "(720, 1280, 3)\n",
      "left offset -1.58645999978 right offset 2.24006825608\n",
      "686.449415228 m 781.526323871 m\n"
     ]
    },
    {
     "name": "stderr",
     "output_type": "stream",
     "text": [
      "\r",
      " 13%|█████████▏                                                             | 164/1261 [00:42<04:10,  4.39it/s]"
     ]
    },
    {
     "name": "stdout",
     "output_type": "stream",
     "text": [
      "(720, 1280, 3)\n",
      "left offset -1.56665192416 right offset 2.20800373353\n",
      "699.422973126 m 718.005413068 m\n"
     ]
    },
    {
     "name": "stderr",
     "output_type": "stream",
     "text": [
      "\r",
      " 13%|█████████▎                                                             | 165/1261 [00:42<04:12,  4.34it/s]"
     ]
    },
    {
     "name": "stdout",
     "output_type": "stream",
     "text": [
      "(720, 1280, 3)\n",
      "left offset -1.5645953453 right offset 2.20218706129\n",
      "724.342408681 m 723.705987016 m\n"
     ]
    },
    {
     "name": "stderr",
     "output_type": "stream",
     "text": [
      "\r",
      " 13%|█████████▎                                                             | 166/1261 [00:43<04:13,  4.32it/s]"
     ]
    },
    {
     "name": "stdout",
     "output_type": "stream",
     "text": [
      "(720, 1280, 3)\n",
      "left offset -1.58786435683 right offset 2.55223861147\n",
      "629.848317345 m 1143.17016871 m\n"
     ]
    },
    {
     "name": "stderr",
     "output_type": "stream",
     "text": [
      "\r",
      " 13%|█████████▍                                                             | 167/1261 [00:43<04:15,  4.29it/s]"
     ]
    },
    {
     "name": "stdout",
     "output_type": "stream",
     "text": [
      "(720, 1280, 3)\n",
      "left offset -1.59299363288 right offset 2.23200507636\n",
      "668.817823791 m 702.582029394 m\n"
     ]
    },
    {
     "name": "stderr",
     "output_type": "stream",
     "text": [
      "\r",
      " 13%|█████████▍                                                             | 168/1261 [00:43<04:14,  4.29it/s]"
     ]
    },
    {
     "name": "stdout",
     "output_type": "stream",
     "text": [
      "(720, 1280, 3)\n",
      "left offset -1.60494214569 right offset 2.22278204404\n",
      "661.420372639 m 700.001053993 m\n"
     ]
    },
    {
     "name": "stderr",
     "output_type": "stream",
     "text": [
      "\r",
      " 13%|█████████▌                                                             | 169/1261 [00:43<04:16,  4.25it/s]"
     ]
    },
    {
     "name": "stdout",
     "output_type": "stream",
     "text": [
      "(720, 1280, 3)\n",
      "left offset -1.58290458503 right offset 2.21704340367\n",
      "786.487894611 m 695.097525665 m\n"
     ]
    },
    {
     "name": "stderr",
     "output_type": "stream",
     "text": [
      "\r",
      " 13%|█████████▌                                                             | 170/1261 [00:44<04:14,  4.29it/s]"
     ]
    },
    {
     "name": "stdout",
     "output_type": "stream",
     "text": [
      "(720, 1280, 3)\n",
      "left offset -1.61315966546 right offset 2.21015738669\n",
      "703.293334521 m 700.52983925 m\n"
     ]
    },
    {
     "name": "stderr",
     "output_type": "stream",
     "text": [
      "\r",
      " 14%|█████████▋                                                             | 171/1261 [00:44<04:13,  4.31it/s]"
     ]
    },
    {
     "name": "stdout",
     "output_type": "stream",
     "text": [
      "(720, 1280, 3)\n",
      "left offset -1.61364882536 right offset 2.15889373219\n",
      "722.010381114 m 641.158046429 m\n"
     ]
    },
    {
     "name": "stderr",
     "output_type": "stream",
     "text": [
      "\r",
      " 14%|█████████▋                                                             | 172/1261 [00:44<04:09,  4.36it/s]"
     ]
    },
    {
     "name": "stdout",
     "output_type": "stream",
     "text": [
      "(720, 1280, 3)\n",
      "left offset -1.62812234993 right offset 2.15007412926\n",
      "670.758572968 m 665.542062329 m\n"
     ]
    },
    {
     "name": "stderr",
     "output_type": "stream",
     "text": [
      "\r",
      " 14%|█████████▋                                                             | 173/1261 [00:44<04:10,  4.34it/s]"
     ]
    },
    {
     "name": "stdout",
     "output_type": "stream",
     "text": [
      "(720, 1280, 3)\n",
      "left offset -1.60194426114 right offset 2.15927178283\n",
      "697.958069334 m 680.855046509 m\n"
     ]
    },
    {
     "name": "stderr",
     "output_type": "stream",
     "text": [
      "\r",
      " 14%|█████████▊                                                             | 174/1261 [00:45<04:13,  4.30it/s]"
     ]
    },
    {
     "name": "stdout",
     "output_type": "stream",
     "text": [
      "(720, 1280, 3)\n",
      "left offset -1.60925543103 right offset 2.17404204669\n",
      "666.291152822 m 627.107303698 m\n"
     ]
    },
    {
     "name": "stderr",
     "output_type": "stream",
     "text": [
      "\r",
      " 14%|█████████▊                                                             | 175/1261 [00:45<04:13,  4.29it/s]"
     ]
    },
    {
     "name": "stdout",
     "output_type": "stream",
     "text": [
      "(720, 1280, 3)\n",
      "left offset -1.62730645434 right offset 2.17515062824\n",
      "625.181610576 m 610.968170897 m\n"
     ]
    },
    {
     "name": "stderr",
     "output_type": "stream",
     "text": [
      "\r",
      " 14%|█████████▉                                                             | 176/1261 [00:45<04:15,  4.24it/s]"
     ]
    },
    {
     "name": "stdout",
     "output_type": "stream",
     "text": [
      "(720, 1280, 3)\n",
      "left offset -1.63438220868 right offset 2.183824232\n",
      "672.218956149 m 648.27329278 m\n"
     ]
    },
    {
     "name": "stderr",
     "output_type": "stream",
     "text": [
      "\r",
      " 14%|█████████▉                                                             | 177/1261 [00:45<04:13,  4.28it/s]"
     ]
    },
    {
     "name": "stdout",
     "output_type": "stream",
     "text": [
      "(720, 1280, 3)\n",
      "left offset -1.63132629974 right offset 2.20262272256\n",
      "686.796051374 m 632.652159043 m\n"
     ]
    },
    {
     "name": "stderr",
     "output_type": "stream",
     "text": [
      "\r",
      " 14%|██████████                                                             | 178/1261 [00:45<04:15,  4.24it/s]"
     ]
    },
    {
     "name": "stdout",
     "output_type": "stream",
     "text": [
      "(720, 1280, 3)\n",
      "left offset -1.63753574145 right offset 2.19852193224\n",
      "681.816832344 m 626.727220726 m\n"
     ]
    },
    {
     "name": "stderr",
     "output_type": "stream",
     "text": [
      "\r",
      " 14%|██████████                                                             | 179/1261 [00:46<04:10,  4.31it/s]"
     ]
    },
    {
     "name": "stdout",
     "output_type": "stream",
     "text": [
      "(720, 1280, 3)\n",
      "left offset -1.6300888046 right offset 2.26627326693\n",
      "726.598923715 m 762.699461481 m\n"
     ]
    },
    {
     "name": "stderr",
     "output_type": "stream",
     "text": [
      "\r",
      " 14%|██████████▏                                                            | 180/1261 [00:46<04:11,  4.30it/s]"
     ]
    },
    {
     "name": "stdout",
     "output_type": "stream",
     "text": [
      "(720, 1280, 3)\n",
      "left offset -1.66798449863 right offset 2.25385767346\n",
      "602.005286454 m 631.590968716 m\n"
     ]
    },
    {
     "name": "stderr",
     "output_type": "stream",
     "text": [
      "\r",
      " 14%|██████████▏                                                            | 181/1261 [00:46<04:10,  4.32it/s]"
     ]
    },
    {
     "name": "stdout",
     "output_type": "stream",
     "text": [
      "(720, 1280, 3)\n",
      "left offset -1.66966318915 right offset 2.26725781013\n",
      "623.577944948 m 659.585696274 m\n"
     ]
    },
    {
     "name": "stderr",
     "output_type": "stream",
     "text": [
      "\r",
      " 14%|██████████▏                                                            | 182/1261 [00:46<04:10,  4.31it/s]"
     ]
    },
    {
     "name": "stdout",
     "output_type": "stream",
     "text": [
      "(720, 1280, 3)\n",
      "left offset -1.66430048129 right offset 2.34270050152\n",
      "611.896007843 m 814.886880609 m\n"
     ]
    },
    {
     "name": "stderr",
     "output_type": "stream",
     "text": [
      "\r",
      " 15%|██████████▎                                                            | 183/1261 [00:47<04:06,  4.37it/s]"
     ]
    },
    {
     "name": "stdout",
     "output_type": "stream",
     "text": [
      "(720, 1280, 3)\n",
      "left offset -1.65412981524 right offset 2.38424281957\n",
      "603.566617148 m 929.366953067 m\n"
     ]
    },
    {
     "name": "stderr",
     "output_type": "stream",
     "text": [
      "\r",
      " 15%|██████████▎                                                            | 184/1261 [00:47<04:06,  4.36it/s]"
     ]
    },
    {
     "name": "stdout",
     "output_type": "stream",
     "text": [
      "(720, 1280, 3)\n",
      "left offset -1.64099577265 right offset 2.84144031474\n",
      "617.177697012 m 1536.46707468 m\n"
     ]
    },
    {
     "name": "stderr",
     "output_type": "stream",
     "text": [
      "\r",
      " 15%|██████████▍                                                            | 185/1261 [00:47<04:06,  4.36it/s]"
     ]
    },
    {
     "name": "stdout",
     "output_type": "stream",
     "text": [
      "(720, 1280, 3)\n",
      "left offset -1.49931268351 right offset 2.88397931731\n",
      "918.723527626 m 919.432307129 m\n"
     ]
    },
    {
     "name": "stderr",
     "output_type": "stream",
     "text": [
      "\r",
      " 15%|██████████▍                                                            | 186/1261 [00:47<04:05,  4.39it/s]"
     ]
    },
    {
     "name": "stdout",
     "output_type": "stream",
     "text": [
      "(720, 1280, 3)\n",
      "left offset -1.62812880922 right offset 2.79523207096\n",
      "538.67125464 m 908.441462535 m\n"
     ]
    },
    {
     "name": "stderr",
     "output_type": "stream",
     "text": [
      "\r",
      " 15%|██████████▌                                                            | 187/1261 [00:48<04:05,  4.38it/s]"
     ]
    },
    {
     "name": "stdout",
     "output_type": "stream",
     "text": [
      "(720, 1280, 3)\n",
      "left offset -1.60016916742 right offset 2.6444166906\n",
      "545.1184953 m 1130.09586868 m\n"
     ]
    },
    {
     "name": "stderr",
     "output_type": "stream",
     "text": [
      "\r",
      " 15%|██████████▌                                                            | 188/1261 [00:48<04:05,  4.38it/s]"
     ]
    },
    {
     "name": "stdout",
     "output_type": "stream",
     "text": [
      "(720, 1280, 3)\n",
      "left offset -1.61687915089 right offset 2.62768553688\n",
      "509.590106969 m 10312.0914402 m\n"
     ]
    },
    {
     "name": "stderr",
     "output_type": "stream",
     "text": [
      "\r",
      " 15%|██████████▋                                                            | 189/1261 [00:48<04:05,  4.37it/s]"
     ]
    },
    {
     "name": "stdout",
     "output_type": "stream",
     "text": [
      "(720, 1280, 3)\n",
      "left offset -1.61024671192 right offset 2.519205096\n",
      "494.812414033 m 18881.1851053 m\n"
     ]
    },
    {
     "name": "stderr",
     "output_type": "stream",
     "text": [
      "\r",
      " 15%|██████████▋                                                            | 190/1261 [00:48<04:05,  4.37it/s]"
     ]
    },
    {
     "name": "stdout",
     "output_type": "stream",
     "text": [
      "(720, 1280, 3)\n",
      "left offset -1.5911116815 right offset 2.48455765402\n",
      "490.634157649 m 5610.70256632 m\n"
     ]
    },
    {
     "name": "stderr",
     "output_type": "stream",
     "text": [
      "\r",
      " 15%|██████████▊                                                            | 191/1261 [00:48<04:09,  4.29it/s]"
     ]
    },
    {
     "name": "stdout",
     "output_type": "stream",
     "text": [
      "(720, 1280, 3)\n",
      "left offset -1.56600089644 right offset 2.42073456242\n",
      "542.18703603 m 7717.38270452 m\n"
     ]
    },
    {
     "name": "stderr",
     "output_type": "stream",
     "text": [
      "\r",
      " 15%|██████████▊                                                            | 192/1261 [00:49<04:08,  4.30it/s]"
     ]
    },
    {
     "name": "stdout",
     "output_type": "stream",
     "text": [
      "(720, 1280, 3)\n",
      "left offset -1.56342411745 right offset 2.44557247927\n",
      "503.016991553 m 14117.6371191 m\n"
     ]
    },
    {
     "name": "stderr",
     "output_type": "stream",
     "text": [
      "\r",
      " 15%|██████████▊                                                            | 193/1261 [00:49<04:09,  4.28it/s]"
     ]
    },
    {
     "name": "stdout",
     "output_type": "stream",
     "text": [
      "(720, 1280, 3)\n",
      "left offset -1.53943306426 right offset 3.08694861606\n",
      "548.577347518 m 939.998144281 m\n"
     ]
    },
    {
     "name": "stderr",
     "output_type": "stream",
     "text": [
      "\r",
      " 15%|██████████▉                                                            | 194/1261 [00:49<04:13,  4.22it/s]"
     ]
    },
    {
     "name": "stdout",
     "output_type": "stream",
     "text": [
      "(720, 1280, 3)\n",
      "left offset -1.54084234272 right offset 2.8490336664\n",
      "544.663440819 m 1386.77418752 m\n"
     ]
    },
    {
     "name": "stderr",
     "output_type": "stream",
     "text": [
      "\r",
      " 15%|██████████▉                                                            | 195/1261 [00:49<04:14,  4.18it/s]"
     ]
    },
    {
     "name": "stdout",
     "output_type": "stream",
     "text": [
      "(720, 1280, 3)\n",
      "left offset -1.5177394334 right offset 2.30069463785\n",
      "693.115057053 m 984.990639868 m\n"
     ]
    },
    {
     "name": "stderr",
     "output_type": "stream",
     "text": [
      "\r",
      " 16%|███████████                                                            | 196/1261 [00:50<04:41,  3.79it/s]"
     ]
    },
    {
     "name": "stdout",
     "output_type": "stream",
     "text": [
      "(720, 1280, 3)\n",
      "left offset -1.53555930603 right offset 2.30168123732\n",
      "771.243255217 m 943.848537828 m\n"
     ]
    },
    {
     "name": "stderr",
     "output_type": "stream",
     "text": [
      "\r",
      " 16%|███████████                                                            | 197/1261 [00:50<04:40,  3.79it/s]"
     ]
    },
    {
     "name": "stdout",
     "output_type": "stream",
     "text": [
      "(720, 1280, 3)\n",
      "left offset -1.55070271677 right offset 2.29794165203\n",
      "868.697891154 m 1008.22977612 m\n"
     ]
    },
    {
     "name": "stderr",
     "output_type": "stream",
     "text": [
      "\r",
      " 16%|███████████▏                                                           | 198/1261 [00:50<04:31,  3.92it/s]"
     ]
    },
    {
     "name": "stdout",
     "output_type": "stream",
     "text": [
      "(720, 1280, 3)\n",
      "left offset -1.55257527069 right offset 2.34299654999\n",
      "987.055891432 m 1159.8762129 m\n"
     ]
    },
    {
     "name": "stderr",
     "output_type": "stream",
     "text": [
      "\r",
      " 16%|███████████▏                                                           | 199/1261 [00:50<04:24,  4.02it/s]"
     ]
    },
    {
     "name": "stdout",
     "output_type": "stream",
     "text": [
      "(720, 1280, 3)\n",
      "left offset -1.56310343423 right offset 2.3138739241\n",
      "952.499025493 m 1027.86442204 m\n"
     ]
    },
    {
     "name": "stderr",
     "output_type": "stream",
     "text": [
      "\r",
      " 16%|███████████▎                                                           | 200/1261 [00:51<04:29,  3.93it/s]"
     ]
    },
    {
     "name": "stdout",
     "output_type": "stream",
     "text": [
      "(720, 1280, 3)\n",
      "left offset -1.57656390198 right offset 2.30541321711\n",
      "973.815383849 m 997.828761641 m\n"
     ]
    },
    {
     "name": "stderr",
     "output_type": "stream",
     "text": [
      "\r",
      " 16%|███████████▎                                                           | 201/1261 [00:51<04:53,  3.61it/s]"
     ]
    },
    {
     "name": "stdout",
     "output_type": "stream",
     "text": [
      "(720, 1280, 3)\n",
      "left offset -1.58192422326 right offset 2.34972627104\n",
      "912.985870222 m 1278.25067488 m\n"
     ]
    },
    {
     "name": "stderr",
     "output_type": "stream",
     "text": [
      "\r",
      " 16%|███████████▎                                                           | 202/1261 [00:51<04:54,  3.60it/s]"
     ]
    },
    {
     "name": "stdout",
     "output_type": "stream",
     "text": [
      "(720, 1280, 3)\n",
      "left offset -1.59229095694 right offset 2.32283476183\n",
      "866.574884526 m 1084.78024252 m\n"
     ]
    },
    {
     "name": "stderr",
     "output_type": "stream",
     "text": [
      "\r",
      " 16%|███████████▍                                                           | 203/1261 [00:52<04:56,  3.57it/s]"
     ]
    },
    {
     "name": "stdout",
     "output_type": "stream",
     "text": [
      "(720, 1280, 3)\n",
      "left offset -1.59376419675 right offset 2.31059027514\n",
      "862.250676455 m 1107.89124402 m\n"
     ]
    },
    {
     "name": "stderr",
     "output_type": "stream",
     "text": [
      "\r",
      " 16%|███████████▍                                                           | 204/1261 [00:52<04:53,  3.60it/s]"
     ]
    },
    {
     "name": "stdout",
     "output_type": "stream",
     "text": [
      "(720, 1280, 3)\n",
      "left offset -1.59970284749 right offset 2.28328037359\n",
      "798.472976247 m 1022.07853259 m\n"
     ]
    },
    {
     "name": "stderr",
     "output_type": "stream",
     "text": [
      "\r",
      " 16%|███████████▌                                                           | 205/1261 [00:52<04:35,  3.84it/s]"
     ]
    },
    {
     "name": "stdout",
     "output_type": "stream",
     "text": [
      "(720, 1280, 3)\n",
      "left offset -1.60696337509 right offset 2.33219864921\n",
      "758.449044088 m 1231.82927894 m\n"
     ]
    },
    {
     "name": "stderr",
     "output_type": "stream",
     "text": [
      "\r",
      " 16%|███████████▌                                                           | 206/1261 [00:52<04:23,  4.00it/s]"
     ]
    },
    {
     "name": "stdout",
     "output_type": "stream",
     "text": [
      "(720, 1280, 3)\n",
      "left offset -1.59010059236 right offset 2.29249754923\n",
      "711.584907917 m 946.47128197 m\n"
     ]
    },
    {
     "name": "stderr",
     "output_type": "stream",
     "text": [
      "\r",
      " 16%|███████████▋                                                           | 207/1261 [00:53<04:14,  4.13it/s]"
     ]
    },
    {
     "name": "stdout",
     "output_type": "stream",
     "text": [
      "(720, 1280, 3)\n",
      "left offset -1.58717726025 right offset 2.34926158461\n",
      "672.817007181 m 1201.88730599 m\n"
     ]
    },
    {
     "name": "stderr",
     "output_type": "stream",
     "text": [
      "\r",
      " 16%|███████████▋                                                           | 208/1261 [00:53<04:10,  4.20it/s]"
     ]
    },
    {
     "name": "stdout",
     "output_type": "stream",
     "text": [
      "(720, 1280, 3)\n",
      "left offset -1.59200026404 right offset 2.32869418991\n",
      "685.341051277 m 1177.13345836 m\n"
     ]
    },
    {
     "name": "stderr",
     "output_type": "stream",
     "text": [
      "\r",
      " 17%|███████████▊                                                           | 209/1261 [00:53<04:07,  4.25it/s]"
     ]
    },
    {
     "name": "stdout",
     "output_type": "stream",
     "text": [
      "(720, 1280, 3)\n",
      "left offset -1.59231946875 right offset 2.28548820391\n",
      "721.902052527 m 1132.93833215 m\n"
     ]
    },
    {
     "name": "stderr",
     "output_type": "stream",
     "text": [
      "\r",
      " 17%|███████████▊                                                           | 210/1261 [00:53<04:03,  4.32it/s]"
     ]
    },
    {
     "name": "stdout",
     "output_type": "stream",
     "text": [
      "(720, 1280, 3)\n",
      "left offset -1.57625656003 right offset 2.26372861344\n",
      "824.089690536 m 1104.92496803 m\n"
     ]
    },
    {
     "name": "stderr",
     "output_type": "stream",
     "text": [
      "\r",
      " 17%|███████████▉                                                           | 211/1261 [00:54<04:11,  4.18it/s]"
     ]
    },
    {
     "name": "stdout",
     "output_type": "stream",
     "text": [
      "(720, 1280, 3)\n",
      "left offset -1.56780032159 right offset 2.31878443145\n",
      "837.36456184 m 1379.14635282 m\n"
     ]
    },
    {
     "name": "stderr",
     "output_type": "stream",
     "text": [
      "\r",
      " 17%|███████████▉                                                           | 212/1261 [00:54<04:43,  3.70it/s]"
     ]
    },
    {
     "name": "stdout",
     "output_type": "stream",
     "text": [
      "(720, 1280, 3)\n",
      "left offset -1.56678230544 right offset 2.37613271542\n",
      "851.782014642 m 1788.46986113 m\n"
     ]
    },
    {
     "name": "stderr",
     "output_type": "stream",
     "text": [
      "\r",
      " 17%|███████████▉                                                           | 213/1261 [00:54<04:38,  3.77it/s]"
     ]
    },
    {
     "name": "stdout",
     "output_type": "stream",
     "text": [
      "(720, 1280, 3)\n",
      "left offset -1.5746112315 right offset 2.30429747269\n",
      "809.734134142 m 1159.11130057 m\n"
     ]
    },
    {
     "name": "stderr",
     "output_type": "stream",
     "text": [
      "\r",
      " 17%|████████████                                                           | 214/1261 [00:54<04:27,  3.91it/s]"
     ]
    },
    {
     "name": "stdout",
     "output_type": "stream",
     "text": [
      "(720, 1280, 3)\n",
      "left offset -1.59635768872 right offset 2.25593346877\n",
      "752.373997167 m 1095.4611081 m\n"
     ]
    },
    {
     "name": "stderr",
     "output_type": "stream",
     "text": [
      "\r",
      " 17%|████████████                                                           | 215/1261 [00:55<04:24,  3.95it/s]"
     ]
    },
    {
     "name": "stdout",
     "output_type": "stream",
     "text": [
      "(720, 1280, 3)\n",
      "left offset -1.59156532095 right offset 2.24010072373\n",
      "773.416961233 m 1049.27173949 m\n"
     ]
    },
    {
     "name": "stderr",
     "output_type": "stream",
     "text": [
      "\r",
      " 17%|████████████▏                                                          | 216/1261 [00:55<04:17,  4.05it/s]"
     ]
    },
    {
     "name": "stdout",
     "output_type": "stream",
     "text": [
      "(720, 1280, 3)\n",
      "left offset -1.59426768593 right offset 2.23958472413\n",
      "752.09964486 m 1068.35232969 m\n"
     ]
    },
    {
     "name": "stderr",
     "output_type": "stream",
     "text": [
      "\r",
      " 17%|████████████▏                                                          | 217/1261 [00:55<04:19,  4.02it/s]"
     ]
    },
    {
     "name": "stdout",
     "output_type": "stream",
     "text": [
      "(720, 1280, 3)\n",
      "left offset -1.58750484911 right offset 2.21830788509\n",
      "831.624184787 m 1054.20345495 m\n"
     ]
    },
    {
     "name": "stderr",
     "output_type": "stream",
     "text": [
      "\r",
      " 17%|████████████▎                                                          | 218/1261 [00:55<04:19,  4.03it/s]"
     ]
    },
    {
     "name": "stdout",
     "output_type": "stream",
     "text": [
      "(720, 1280, 3)\n",
      "left offset -1.59961330248 right offset 2.19621758945\n",
      "755.639767775 m 930.797639011 m\n"
     ]
    },
    {
     "name": "stderr",
     "output_type": "stream",
     "text": [
      "\r",
      " 17%|████████████▎                                                          | 219/1261 [00:56<04:16,  4.07it/s]"
     ]
    },
    {
     "name": "stdout",
     "output_type": "stream",
     "text": [
      "(720, 1280, 3)\n",
      "left offset -1.59150930042 right offset 2.26612218263\n",
      "861.834530991 m 1294.28746859 m\n"
     ]
    },
    {
     "name": "stderr",
     "output_type": "stream",
     "text": [
      "\r",
      " 17%|████████████▍                                                          | 220/1261 [00:56<04:15,  4.07it/s]"
     ]
    },
    {
     "name": "stdout",
     "output_type": "stream",
     "text": [
      "(720, 1280, 3)\n",
      "left offset -1.59501559792 right offset 2.17934988973\n",
      "855.267656331 m 928.208540346 m\n"
     ]
    },
    {
     "name": "stderr",
     "output_type": "stream",
     "text": [
      "\r",
      " 18%|████████████▍                                                          | 221/1261 [00:56<04:12,  4.11it/s]"
     ]
    },
    {
     "name": "stdout",
     "output_type": "stream",
     "text": [
      "(720, 1280, 3)\n",
      "left offset -1.60574941314 right offset 2.03462848281\n",
      "827.400964904 m 750.38619757 m\n"
     ]
    },
    {
     "name": "stderr",
     "output_type": "stream",
     "text": [
      "\r",
      " 18%|████████████▍                                                          | 222/1261 [00:56<04:46,  3.62it/s]"
     ]
    },
    {
     "name": "stdout",
     "output_type": "stream",
     "text": [
      "(720, 1280, 3)\n",
      "left offset -1.59069842604 right offset 2.09478410089\n",
      "902.367793739 m 873.43028788 m\n"
     ]
    },
    {
     "name": "stderr",
     "output_type": "stream",
     "text": [
      "\r",
      " 18%|████████████▌                                                          | 223/1261 [00:57<04:59,  3.46it/s]"
     ]
    },
    {
     "name": "stdout",
     "output_type": "stream",
     "text": [
      "(720, 1280, 3)\n",
      "left offset -1.59313506481 right offset 2.15055162886\n",
      "826.742008979 m 990.524079929 m\n"
     ]
    },
    {
     "name": "stderr",
     "output_type": "stream",
     "text": [
      "\r",
      " 18%|████████████▌                                                          | 224/1261 [00:57<04:48,  3.59it/s]"
     ]
    },
    {
     "name": "stdout",
     "output_type": "stream",
     "text": [
      "(720, 1280, 3)\n",
      "left offset -1.61310659761 right offset 2.14656843608\n",
      "800.692391224 m 840.175843549 m\n"
     ]
    },
    {
     "name": "stderr",
     "output_type": "stream",
     "text": [
      "\r",
      " 18%|████████████▋                                                          | 225/1261 [00:57<04:43,  3.66it/s]"
     ]
    },
    {
     "name": "stdout",
     "output_type": "stream",
     "text": [
      "(720, 1280, 3)\n",
      "left offset -1.60533302806 right offset 2.12866684607\n",
      "813.103164583 m 846.088018956 m\n"
     ]
    },
    {
     "name": "stderr",
     "output_type": "stream",
     "text": [
      "\r",
      " 18%|████████████▋                                                          | 226/1261 [00:58<05:18,  3.25it/s]"
     ]
    },
    {
     "name": "stdout",
     "output_type": "stream",
     "text": [
      "(720, 1280, 3)\n",
      "left offset -1.63074862882 right offset 2.13708490534\n",
      "777.63433736 m 900.156390268 m\n"
     ]
    },
    {
     "name": "stderr",
     "output_type": "stream",
     "text": [
      "\r",
      " 18%|████████████▊                                                          | 227/1261 [00:58<05:41,  3.03it/s]"
     ]
    },
    {
     "name": "stdout",
     "output_type": "stream",
     "text": [
      "(720, 1280, 3)\n",
      "left offset -1.63793737179 right offset 2.13615300001\n",
      "803.0284282 m 872.866834887 m\n"
     ]
    },
    {
     "name": "stderr",
     "output_type": "stream",
     "text": [
      "\r",
      " 18%|████████████▊                                                          | 228/1261 [00:58<06:13,  2.76it/s]"
     ]
    },
    {
     "name": "stdout",
     "output_type": "stream",
     "text": [
      "(720, 1280, 3)\n",
      "left offset -1.64229381049 right offset 2.12413757969\n",
      "807.922209969 m 902.205781145 m\n"
     ]
    },
    {
     "name": "stderr",
     "output_type": "stream",
     "text": [
      "\r",
      " 18%|████████████▉                                                          | 229/1261 [00:59<06:17,  2.74it/s]"
     ]
    },
    {
     "name": "stdout",
     "output_type": "stream",
     "text": [
      "(720, 1280, 3)\n",
      "left offset -1.64408242138 right offset 2.12941078418\n",
      "889.75536579 m 970.8415074 m\n"
     ]
    },
    {
     "name": "stderr",
     "output_type": "stream",
     "text": [
      "\r",
      " 18%|████████████▉                                                          | 230/1261 [00:59<06:16,  2.74it/s]"
     ]
    },
    {
     "name": "stdout",
     "output_type": "stream",
     "text": [
      "(720, 1280, 3)\n",
      "left offset -1.66008036407 right offset 2.12264942575\n",
      "826.711837407 m 836.70276385 m\n"
     ]
    },
    {
     "name": "stderr",
     "output_type": "stream",
     "text": [
      "\r",
      " 18%|█████████████                                                          | 231/1261 [01:00<06:25,  2.67it/s]"
     ]
    },
    {
     "name": "stdout",
     "output_type": "stream",
     "text": [
      "(720, 1280, 3)\n",
      "left offset -1.66312218314 right offset 2.15517148901\n",
      "905.126489485 m 989.526687719 m\n"
     ]
    },
    {
     "name": "stderr",
     "output_type": "stream",
     "text": [
      "\r",
      " 18%|█████████████                                                          | 232/1261 [01:00<06:35,  2.60it/s]"
     ]
    },
    {
     "name": "stdout",
     "output_type": "stream",
     "text": [
      "(720, 1280, 3)\n",
      "left offset -1.67788258974 right offset 2.09658893812\n",
      "884.135916137 m 847.656219757 m\n"
     ]
    },
    {
     "name": "stderr",
     "output_type": "stream",
     "text": [
      "\r",
      " 18%|█████████████                                                          | 233/1261 [01:00<06:47,  2.52it/s]"
     ]
    },
    {
     "name": "stdout",
     "output_type": "stream",
     "text": [
      "(720, 1280, 3)\n",
      "left offset -1.68925957119 right offset 2.06779973864\n",
      "879.420338104 m 792.969458121 m\n"
     ]
    },
    {
     "name": "stderr",
     "output_type": "stream",
     "text": [
      "\r",
      " 19%|█████████████▏                                                         | 234/1261 [01:01<06:47,  2.52it/s]"
     ]
    },
    {
     "name": "stdout",
     "output_type": "stream",
     "text": [
      "(720, 1280, 3)\n",
      "left offset -1.71341184734 right offset 2.0409806867\n",
      "832.214645302 m 842.850374508 m\n"
     ]
    },
    {
     "name": "stderr",
     "output_type": "stream",
     "text": [
      "\r",
      " 19%|█████████████▏                                                         | 235/1261 [01:01<06:49,  2.51it/s]"
     ]
    },
    {
     "name": "stdout",
     "output_type": "stream",
     "text": [
      "(720, 1280, 3)\n",
      "left offset -1.72945603524 right offset 2.00119816781\n",
      "715.936693713 m 653.962815597 m\n"
     ]
    },
    {
     "name": "stderr",
     "output_type": "stream",
     "text": [
      "\r",
      " 19%|█████████████▎                                                         | 236/1261 [01:02<06:50,  2.50it/s]"
     ]
    },
    {
     "name": "stdout",
     "output_type": "stream",
     "text": [
      "(720, 1280, 3)\n",
      "left offset -1.73627151911 right offset 2.32356892277\n",
      "719.132925319 m 3748.86887102 m\n"
     ]
    },
    {
     "name": "stderr",
     "output_type": "stream",
     "text": [
      "\r",
      " 19%|█████████████▎                                                         | 237/1261 [01:02<06:45,  2.52it/s]"
     ]
    },
    {
     "name": "stdout",
     "output_type": "stream",
     "text": [
      "(720, 1280, 3)\n",
      "left offset -1.74209911808 right offset 2.06159996044\n",
      "694.61701549 m 715.767980394 m\n"
     ]
    },
    {
     "name": "stderr",
     "output_type": "stream",
     "text": [
      "\r",
      " 19%|█████████████▍                                                         | 238/1261 [01:02<06:15,  2.72it/s]"
     ]
    },
    {
     "name": "stdout",
     "output_type": "stream",
     "text": [
      "(720, 1280, 3)\n",
      "left offset -1.73649326303 right offset 2.35510840126\n",
      "708.502569915 m 1512.75996087 m\n"
     ]
    },
    {
     "name": "stderr",
     "output_type": "stream",
     "text": [
      "\r",
      " 19%|█████████████▍                                                         | 239/1261 [01:03<05:45,  2.96it/s]"
     ]
    },
    {
     "name": "stdout",
     "output_type": "stream",
     "text": [
      "(720, 1280, 3)\n",
      "left offset -1.74834580501 right offset 2.33203973142\n",
      "706.72621735 m 1474.76589405 m\n"
     ]
    },
    {
     "name": "stderr",
     "output_type": "stream",
     "text": [
      "\r",
      " 19%|█████████████▌                                                         | 240/1261 [01:03<05:22,  3.16it/s]"
     ]
    },
    {
     "name": "stdout",
     "output_type": "stream",
     "text": [
      "(720, 1280, 3)\n",
      "left offset -1.74554441068 right offset 2.07938721812\n",
      "724.184213541 m 735.879652205 m\n"
     ]
    },
    {
     "name": "stderr",
     "output_type": "stream",
     "text": [
      "\r",
      " 19%|█████████████▌                                                         | 241/1261 [01:03<05:08,  3.31it/s]"
     ]
    },
    {
     "name": "stdout",
     "output_type": "stream",
     "text": [
      "(720, 1280, 3)\n",
      "left offset -1.77234074695 right offset 2.09127790767\n",
      "721.621689785 m 744.839350204 m\n"
     ]
    },
    {
     "name": "stderr",
     "output_type": "stream",
     "text": [
      "\r",
      " 19%|█████████████▋                                                         | 242/1261 [01:03<04:58,  3.42it/s]"
     ]
    },
    {
     "name": "stdout",
     "output_type": "stream",
     "text": [
      "(720, 1280, 3)\n",
      "left offset -1.75582523221 right offset 2.07723776753\n",
      "719.349871471 m 739.260770624 m\n"
     ]
    },
    {
     "name": "stderr",
     "output_type": "stream",
     "text": [
      "\r",
      " 19%|█████████████▋                                                         | 243/1261 [01:04<04:50,  3.50it/s]"
     ]
    },
    {
     "name": "stdout",
     "output_type": "stream",
     "text": [
      "(720, 1280, 3)\n",
      "left offset -1.77198978284 right offset 2.08918446283\n",
      "708.043107058 m 785.734146425 m\n"
     ]
    },
    {
     "name": "stderr",
     "output_type": "stream",
     "text": [
      "\r",
      " 19%|█████████████▋                                                         | 244/1261 [01:04<04:46,  3.55it/s]"
     ]
    },
    {
     "name": "stdout",
     "output_type": "stream",
     "text": [
      "(720, 1280, 3)\n",
      "left offset -1.79089520447 right offset 2.11347417901\n",
      "640.029832259 m 882.430767384 m\n"
     ]
    },
    {
     "name": "stderr",
     "output_type": "stream",
     "text": [
      "\r",
      " 19%|█████████████▊                                                         | 245/1261 [01:04<04:41,  3.61it/s]"
     ]
    },
    {
     "name": "stdout",
     "output_type": "stream",
     "text": [
      "(720, 1280, 3)\n",
      "left offset -1.79998986113 right offset 2.04435112974\n",
      "619.028850353 m 695.780483558 m\n"
     ]
    },
    {
     "name": "stderr",
     "output_type": "stream",
     "text": [
      "\r",
      " 20%|█████████████▊                                                         | 246/1261 [01:04<04:38,  3.64it/s]"
     ]
    },
    {
     "name": "stdout",
     "output_type": "stream",
     "text": [
      "(720, 1280, 3)\n",
      "left offset -1.79253871515 right offset 2.01783245349\n",
      "653.488812275 m 731.197536761 m\n"
     ]
    },
    {
     "name": "stderr",
     "output_type": "stream",
     "text": [
      "\r",
      " 20%|█████████████▉                                                         | 247/1261 [01:05<04:35,  3.68it/s]"
     ]
    },
    {
     "name": "stdout",
     "output_type": "stream",
     "text": [
      "(720, 1280, 3)\n",
      "left offset -1.80177350542 right offset 1.96595379605\n",
      "590.83586908 m 626.671140366 m\n"
     ]
    },
    {
     "name": "stderr",
     "output_type": "stream",
     "text": [
      "\r",
      " 20%|█████████████▉                                                         | 248/1261 [01:05<04:49,  3.50it/s]"
     ]
    },
    {
     "name": "stdout",
     "output_type": "stream",
     "text": [
      "(720, 1280, 3)\n",
      "left offset -1.7766136319 right offset 2.0784154321\n",
      "691.046163899 m 856.674276335 m\n"
     ]
    },
    {
     "name": "stderr",
     "output_type": "stream",
     "text": [
      "\r",
      " 20%|██████████████                                                         | 249/1261 [01:05<05:16,  3.20it/s]"
     ]
    },
    {
     "name": "stdout",
     "output_type": "stream",
     "text": [
      "(720, 1280, 3)\n",
      "left offset -1.7705712837 right offset 2.03514881862\n",
      "698.885293817 m 764.633339099 m\n"
     ]
    },
    {
     "name": "stderr",
     "output_type": "stream",
     "text": [
      "\r",
      " 20%|██████████████                                                         | 250/1261 [01:06<05:37,  3.00it/s]"
     ]
    },
    {
     "name": "stdout",
     "output_type": "stream",
     "text": [
      "(720, 1280, 3)\n",
      "left offset -1.782034878 right offset 2.25437772153\n",
      "703.064823141 m 8907.07979893 m\n"
     ]
    },
    {
     "name": "stderr",
     "output_type": "stream",
     "text": [
      "\r",
      " 20%|██████████████▏                                                        | 251/1261 [01:06<05:47,  2.91it/s]"
     ]
    },
    {
     "name": "stdout",
     "output_type": "stream",
     "text": [
      "(720, 1280, 3)\n",
      "left offset -1.76903037241 right offset 2.0488110907\n",
      "766.170501761 m 778.923768216 m\n"
     ]
    },
    {
     "name": "stderr",
     "output_type": "stream",
     "text": [
      "\r",
      " 20%|██████████████▏                                                        | 252/1261 [01:07<06:07,  2.74it/s]"
     ]
    },
    {
     "name": "stdout",
     "output_type": "stream",
     "text": [
      "(720, 1280, 3)\n",
      "left offset -1.76837775727 right offset 2.11130497375\n",
      "764.256721641 m 1105.03261175 m\n"
     ]
    },
    {
     "name": "stderr",
     "output_type": "stream",
     "text": [
      "\r",
      " 20%|██████████████▏                                                        | 253/1261 [01:07<06:19,  2.66it/s]"
     ]
    },
    {
     "name": "stdout",
     "output_type": "stream",
     "text": [
      "(720, 1280, 3)\n",
      "left offset -1.76764486863 right offset 2.07267927943\n",
      "820.549912458 m 832.662652422 m\n"
     ]
    },
    {
     "name": "stderr",
     "output_type": "stream",
     "text": [
      "\r",
      " 20%|██████████████▎                                                        | 254/1261 [01:07<06:28,  2.59it/s]"
     ]
    },
    {
     "name": "stdout",
     "output_type": "stream",
     "text": [
      "(720, 1280, 3)\n",
      "left offset -1.76494458727 right offset 2.10156123567\n",
      "772.042016652 m 1019.36665076 m\n"
     ]
    },
    {
     "name": "stderr",
     "output_type": "stream",
     "text": [
      "\r",
      " 20%|██████████████▎                                                        | 255/1261 [01:08<06:27,  2.60it/s]"
     ]
    },
    {
     "name": "stdout",
     "output_type": "stream",
     "text": [
      "(720, 1280, 3)\n",
      "left offset -1.76424621219 right offset 2.06509443149\n",
      "805.294005742 m 855.994134095 m\n"
     ]
    },
    {
     "name": "stderr",
     "output_type": "stream",
     "text": [
      "\r",
      " 20%|██████████████▍                                                        | 256/1261 [01:08<06:30,  2.57it/s]"
     ]
    },
    {
     "name": "stdout",
     "output_type": "stream",
     "text": [
      "(720, 1280, 3)\n",
      "left offset -1.76253972103 right offset 2.25206437325\n",
      "787.220934006 m 1997.90005425 m\n"
     ]
    },
    {
     "name": "stderr",
     "output_type": "stream",
     "text": [
      "\r",
      " 20%|██████████████▍                                                        | 257/1261 [01:09<06:31,  2.57it/s]"
     ]
    },
    {
     "name": "stdout",
     "output_type": "stream",
     "text": [
      "(720, 1280, 3)\n",
      "left offset -1.76142168501 right offset 2.34713123513\n",
      "786.191932244 m 4175.84819003 m\n"
     ]
    },
    {
     "name": "stderr",
     "output_type": "stream",
     "text": [
      "\r",
      " 20%|██████████████▌                                                        | 258/1261 [01:09<06:36,  2.53it/s]"
     ]
    },
    {
     "name": "stdout",
     "output_type": "stream",
     "text": [
      "(720, 1280, 3)\n",
      "left offset -1.75496617787 right offset 2.02374385244\n",
      "823.031072698 m 734.052413215 m\n"
     ]
    },
    {
     "name": "stderr",
     "output_type": "stream",
     "text": [
      "\r",
      " 21%|██████████████▌                                                        | 259/1261 [01:09<06:22,  2.62it/s]"
     ]
    },
    {
     "name": "stdout",
     "output_type": "stream",
     "text": [
      "(720, 1280, 3)\n",
      "left offset -1.75029130564 right offset 2.08113366844\n",
      "797.8669095 m 866.563357108 m\n"
     ]
    },
    {
     "name": "stderr",
     "output_type": "stream",
     "text": [
      "\r",
      " 21%|██████████████▋                                                        | 260/1261 [01:10<06:23,  2.61it/s]"
     ]
    },
    {
     "name": "stdout",
     "output_type": "stream",
     "text": [
      "(720, 1280, 3)\n",
      "left offset -1.73745392586 right offset 2.06923503064\n",
      "907.280320628 m 840.741407266 m\n"
     ]
    },
    {
     "name": "stderr",
     "output_type": "stream",
     "text": [
      "\r",
      " 21%|██████████████▋                                                        | 261/1261 [01:10<06:27,  2.58it/s]"
     ]
    },
    {
     "name": "stdout",
     "output_type": "stream",
     "text": [
      "(720, 1280, 3)\n",
      "left offset -1.74186069471 right offset 2.21292524838\n",
      "859.21639301 m 1723.40032341 m\n"
     ]
    },
    {
     "name": "stderr",
     "output_type": "stream",
     "text": [
      "\r",
      " 21%|██████████████▊                                                        | 262/1261 [01:11<06:34,  2.53it/s]"
     ]
    },
    {
     "name": "stdout",
     "output_type": "stream",
     "text": [
      "(720, 1280, 3)\n",
      "left offset -1.73202324145 right offset 2.07627193812\n",
      "916.798986502 m 876.428381027 m\n"
     ]
    },
    {
     "name": "stderr",
     "output_type": "stream",
     "text": [
      "\r",
      " 21%|██████████████▊                                                        | 263/1261 [01:11<06:38,  2.51it/s]"
     ]
    },
    {
     "name": "stdout",
     "output_type": "stream",
     "text": [
      "(720, 1280, 3)\n",
      "left offset -1.73074851847 right offset 2.09952632409\n",
      "956.408771443 m 932.634454224 m\n"
     ]
    },
    {
     "name": "stderr",
     "output_type": "stream",
     "text": [
      "\r",
      " 21%|██████████████▊                                                        | 264/1261 [01:11<06:38,  2.50it/s]"
     ]
    },
    {
     "name": "stdout",
     "output_type": "stream",
     "text": [
      "(720, 1280, 3)\n",
      "left offset -1.73013527666 right offset 2.08666302426\n",
      "977.184582187 m 867.622672614 m\n"
     ]
    },
    {
     "name": "stderr",
     "output_type": "stream",
     "text": [
      "\r",
      " 21%|██████████████▉                                                        | 265/1261 [01:12<06:39,  2.49it/s]"
     ]
    },
    {
     "name": "stdout",
     "output_type": "stream",
     "text": [
      "(720, 1280, 3)\n",
      "left offset -1.72845881014 right offset 2.09836863599\n",
      "1070.51434467 m 988.743926871 m\n"
     ]
    },
    {
     "name": "stderr",
     "output_type": "stream",
     "text": [
      "\r",
      " 21%|██████████████▉                                                        | 266/1261 [01:12<06:37,  2.50it/s]"
     ]
    },
    {
     "name": "stdout",
     "output_type": "stream",
     "text": [
      "(720, 1280, 3)\n",
      "left offset -1.72539410517 right offset 2.10626913646\n",
      "1032.03979406 m 992.22300257 m\n"
     ]
    },
    {
     "name": "stderr",
     "output_type": "stream",
     "text": [
      "\r",
      " 21%|███████████████                                                        | 267/1261 [01:12<06:08,  2.69it/s]"
     ]
    },
    {
     "name": "stdout",
     "output_type": "stream",
     "text": [
      "(720, 1280, 3)\n",
      "left offset -1.72357198159 right offset 2.15457907383\n",
      "1092.65427751 m 1278.00065346 m\n"
     ]
    },
    {
     "name": "stderr",
     "output_type": "stream",
     "text": [
      "\r",
      " 21%|███████████████                                                        | 268/1261 [01:13<05:38,  2.94it/s]"
     ]
    },
    {
     "name": "stdout",
     "output_type": "stream",
     "text": [
      "(720, 1280, 3)\n",
      "left offset -1.72714845377 right offset 2.17503262007\n",
      "1160.49599561 m 1255.94996266 m\n"
     ]
    },
    {
     "name": "stderr",
     "output_type": "stream",
     "text": [
      "\r",
      " 21%|███████████████▏                                                       | 269/1261 [01:13<05:15,  3.14it/s]"
     ]
    },
    {
     "name": "stdout",
     "output_type": "stream",
     "text": [
      "(720, 1280, 3)\n",
      "left offset -1.7308605223 right offset 2.22150302195\n",
      "1144.10249482 m 1579.31943017 m\n"
     ]
    },
    {
     "name": "stderr",
     "output_type": "stream",
     "text": [
      "\r",
      " 21%|███████████████▏                                                       | 270/1261 [01:13<05:02,  3.28it/s]"
     ]
    },
    {
     "name": "stdout",
     "output_type": "stream",
     "text": [
      "(720, 1280, 3)\n",
      "left offset -1.72092379321 right offset 2.19143736255\n",
      "1166.7871871 m 1255.27295808 m\n"
     ]
    },
    {
     "name": "stderr",
     "output_type": "stream",
     "text": [
      "\r",
      " 21%|███████████████▎                                                       | 271/1261 [01:14<04:53,  3.37it/s]"
     ]
    },
    {
     "name": "stdout",
     "output_type": "stream",
     "text": [
      "(720, 1280, 3)\n",
      "left offset -1.71164586077 right offset 2.17537730466\n",
      "1077.33461026 m 1214.47486138 m\n"
     ]
    },
    {
     "name": "stderr",
     "output_type": "stream",
     "text": [
      "\r",
      " 22%|███████████████▎                                                       | 272/1261 [01:14<04:45,  3.46it/s]"
     ]
    },
    {
     "name": "stdout",
     "output_type": "stream",
     "text": [
      "(720, 1280, 3)\n",
      "left offset -1.70197532009 right offset 2.14821696042\n",
      "1128.96547816 m 1105.48045613 m\n"
     ]
    },
    {
     "name": "stderr",
     "output_type": "stream",
     "text": [
      "\r",
      " 22%|███████████████▎                                                       | 273/1261 [01:14<04:39,  3.53it/s]"
     ]
    },
    {
     "name": "stdout",
     "output_type": "stream",
     "text": [
      "(720, 1280, 3)\n",
      "left offset -1.6902760359 right offset 2.14548267017\n",
      "1102.50568938 m 1056.40627434 m\n"
     ]
    },
    {
     "name": "stderr",
     "output_type": "stream",
     "text": [
      "\r",
      " 22%|███████████████▍                                                       | 274/1261 [01:14<04:33,  3.61it/s]"
     ]
    },
    {
     "name": "stdout",
     "output_type": "stream",
     "text": [
      "(720, 1280, 3)\n",
      "left offset -1.67784472139 right offset 2.13571246497\n",
      "1185.8828567 m 1056.7796133 m\n"
     ]
    },
    {
     "name": "stderr",
     "output_type": "stream",
     "text": [
      "\r",
      " 22%|███████████████▍                                                       | 275/1261 [01:15<04:32,  3.62it/s]"
     ]
    },
    {
     "name": "stdout",
     "output_type": "stream",
     "text": [
      "(720, 1280, 3)\n",
      "left offset -1.67886557154 right offset 2.16241047095\n",
      "1255.66766647 m 1211.8545276 m\n"
     ]
    },
    {
     "name": "stderr",
     "output_type": "stream",
     "text": [
      "\r",
      " 22%|███████████████▌                                                       | 276/1261 [01:15<04:31,  3.63it/s]"
     ]
    },
    {
     "name": "stdout",
     "output_type": "stream",
     "text": [
      "(720, 1280, 3)\n",
      "left offset -1.67017013456 right offset 2.14313284591\n",
      "1337.91851267 m 1107.2892167 m\n"
     ]
    },
    {
     "name": "stderr",
     "output_type": "stream",
     "text": [
      "\r",
      " 22%|███████████████▌                                                       | 277/1261 [01:15<04:30,  3.64it/s]"
     ]
    },
    {
     "name": "stdout",
     "output_type": "stream",
     "text": [
      "(720, 1280, 3)\n",
      "left offset -1.67282026414 right offset 2.14996549256\n",
      "1377.16606671 m 1224.82478668 m\n"
     ]
    },
    {
     "name": "stderr",
     "output_type": "stream",
     "text": [
      "\r",
      " 22%|███████████████▋                                                       | 278/1261 [01:16<05:02,  3.25it/s]"
     ]
    },
    {
     "name": "stdout",
     "output_type": "stream",
     "text": [
      "(720, 1280, 3)\n",
      "left offset -1.6621366684 right offset 2.13961087161\n",
      "1392.88514226 m 1126.54933931 m\n"
     ]
    },
    {
     "name": "stderr",
     "output_type": "stream",
     "text": [
      "\r",
      " 22%|███████████████▋                                                       | 279/1261 [01:16<05:29,  2.98it/s]"
     ]
    },
    {
     "name": "stdout",
     "output_type": "stream",
     "text": [
      "(720, 1280, 3)\n",
      "left offset -1.65579416854 right offset 2.14911526586\n",
      "1454.11167471 m 1180.04347222 m\n"
     ]
    },
    {
     "name": "stderr",
     "output_type": "stream",
     "text": [
      "\r",
      " 22%|███████████████▊                                                       | 280/1261 [01:16<05:47,  2.82it/s]"
     ]
    },
    {
     "name": "stdout",
     "output_type": "stream",
     "text": [
      "(720, 1280, 3)\n",
      "left offset -1.6515821699 right offset 2.24587032582\n",
      "1491.58734864 m 1694.68443762 m\n"
     ]
    },
    {
     "name": "stderr",
     "output_type": "stream",
     "text": [
      "\r",
      " 22%|███████████████▊                                                       | 281/1261 [01:17<06:05,  2.68it/s]"
     ]
    },
    {
     "name": "stdout",
     "output_type": "stream",
     "text": [
      "(720, 1280, 3)\n",
      "left offset -1.63569260798 right offset 2.14528350575\n",
      "1532.35134855 m 1134.80027161 m\n"
     ]
    },
    {
     "name": "stderr",
     "output_type": "stream",
     "text": [
      "\r",
      " 22%|███████████████▉                                                       | 282/1261 [01:17<06:15,  2.61it/s]"
     ]
    },
    {
     "name": "stdout",
     "output_type": "stream",
     "text": [
      "(720, 1280, 3)\n",
      "left offset -1.63736793783 right offset 2.18209236924\n",
      "1598.73239667 m 1390.3381378 m\n"
     ]
    },
    {
     "name": "stderr",
     "output_type": "stream",
     "text": [
      "\r",
      " 22%|███████████████▉                                                       | 283/1261 [01:18<06:27,  2.53it/s]"
     ]
    },
    {
     "name": "stdout",
     "output_type": "stream",
     "text": [
      "(720, 1280, 3)\n",
      "left offset -1.62559437575 right offset 2.13769649969\n",
      "1675.83657317 m 1033.03473572 m\n"
     ]
    },
    {
     "name": "stderr",
     "output_type": "stream",
     "text": [
      "\r",
      " 23%|███████████████▉                                                       | 284/1261 [01:18<06:37,  2.46it/s]"
     ]
    },
    {
     "name": "stdout",
     "output_type": "stream",
     "text": [
      "(720, 1280, 3)\n",
      "left offset -1.61939086081 right offset 2.15354060478\n",
      "1804.53043288 m 1065.26629657 m\n"
     ]
    },
    {
     "name": "stderr",
     "output_type": "stream",
     "text": [
      "\r",
      " 23%|████████████████                                                       | 285/1261 [01:18<06:43,  2.42it/s]"
     ]
    },
    {
     "name": "stdout",
     "output_type": "stream",
     "text": [
      "(720, 1280, 3)\n",
      "left offset -1.62400261299 right offset 2.20773539682\n",
      "1836.52838951 m 1344.76757324 m\n"
     ]
    },
    {
     "name": "stderr",
     "output_type": "stream",
     "text": [
      "\r",
      " 23%|████████████████                                                       | 286/1261 [01:19<06:42,  2.42it/s]"
     ]
    },
    {
     "name": "stdout",
     "output_type": "stream",
     "text": [
      "(720, 1280, 3)\n",
      "left offset -1.61994210851 right offset 2.25399186877\n",
      "1865.07443862 m 2151.93549612 m\n"
     ]
    },
    {
     "name": "stderr",
     "output_type": "stream",
     "text": [
      "\r",
      " 23%|████████████████▏                                                      | 287/1261 [01:19<06:44,  2.41it/s]"
     ]
    },
    {
     "name": "stdout",
     "output_type": "stream",
     "text": [
      "(720, 1280, 3)\n",
      "left offset -1.62280353427 right offset 2.23426246751\n",
      "1951.49832771 m 1687.99140328 m\n"
     ]
    },
    {
     "name": "stderr",
     "output_type": "stream",
     "text": [
      "\r",
      " 23%|████████████████▏                                                      | 288/1261 [01:20<06:49,  2.38it/s]"
     ]
    },
    {
     "name": "stdout",
     "output_type": "stream",
     "text": [
      "(720, 1280, 3)\n",
      "left offset -1.5941832507 right offset 2.20038583321\n",
      "2055.84874319 m 1354.22831607 m\n"
     ]
    },
    {
     "name": "stderr",
     "output_type": "stream",
     "text": [
      "\r",
      " 23%|████████████████▎                                                      | 289/1261 [01:20<06:46,  2.39it/s]"
     ]
    },
    {
     "name": "stdout",
     "output_type": "stream",
     "text": [
      "(720, 1280, 3)\n",
      "left offset -1.59010537192 right offset 2.20412639137\n",
      "2392.68563853 m 1333.94397988 m\n"
     ]
    },
    {
     "name": "stderr",
     "output_type": "stream",
     "text": [
      "\r",
      " 23%|████████████████▎                                                      | 290/1261 [01:20<06:25,  2.52it/s]"
     ]
    },
    {
     "name": "stdout",
     "output_type": "stream",
     "text": [
      "(720, 1280, 3)\n",
      "left offset -1.58868331772 right offset 2.21891665321\n",
      "2122.36566016 m 1580.30867612 m\n"
     ]
    },
    {
     "name": "stderr",
     "output_type": "stream",
     "text": [
      "\r",
      " 23%|████████████████▍                                                      | 291/1261 [01:21<06:23,  2.53it/s]"
     ]
    },
    {
     "name": "stdout",
     "output_type": "stream",
     "text": [
      "(720, 1280, 3)\n",
      "left offset -1.58983187412 right offset 2.3828450422\n",
      "1922.42549325 m 158067.771635 m\n"
     ]
    },
    {
     "name": "stderr",
     "output_type": "stream",
     "text": [
      "\r",
      " 23%|████████████████▍                                                      | 292/1261 [01:21<06:26,  2.50it/s]"
     ]
    },
    {
     "name": "stdout",
     "output_type": "stream",
     "text": [
      "(720, 1280, 3)\n",
      "left offset -1.58408873632 right offset 2.57447991232\n",
      "2210.63735833 m 2384.80490304 m\n"
     ]
    },
    {
     "name": "stderr",
     "output_type": "stream",
     "text": [
      "\r",
      " 23%|████████████████▍                                                      | 293/1261 [01:22<06:30,  2.48it/s]"
     ]
    },
    {
     "name": "stdout",
     "output_type": "stream",
     "text": [
      "(720, 1280, 3)\n",
      "left offset -1.57649423007 right offset 2.54689046821\n",
      "2102.42876301 m 2213.3215888 m\n"
     ]
    },
    {
     "name": "stderr",
     "output_type": "stream",
     "text": [
      "\r",
      " 23%|████████████████▌                                                      | 294/1261 [01:22<06:26,  2.50it/s]"
     ]
    },
    {
     "name": "stdout",
     "output_type": "stream",
     "text": [
      "(720, 1280, 3)\n",
      "left offset -1.57418448231 right offset 2.52682319535\n",
      "2246.59813449 m 2033.72217149 m\n"
     ]
    },
    {
     "name": "stderr",
     "output_type": "stream",
     "text": [
      "\r",
      " 23%|████████████████▌                                                      | 295/1261 [01:22<06:25,  2.51it/s]"
     ]
    },
    {
     "name": "stdout",
     "output_type": "stream",
     "text": [
      "(720, 1280, 3)\n",
      "left offset -1.57089341555 right offset 2.49460965594\n",
      "2140.7735567 m 2162.50183326 m\n"
     ]
    },
    {
     "name": "stderr",
     "output_type": "stream",
     "text": [
      "\r",
      " 23%|████████████████▋                                                      | 296/1261 [01:23<06:22,  2.52it/s]"
     ]
    },
    {
     "name": "stdout",
     "output_type": "stream",
     "text": [
      "(720, 1280, 3)\n",
      "left offset -1.57809715531 right offset 2.20048590573\n",
      "2161.03883101 m 1494.91887534 m\n"
     ]
    },
    {
     "name": "stderr",
     "output_type": "stream",
     "text": [
      "\r",
      " 24%|████████████████▋                                                      | 297/1261 [01:23<06:21,  2.53it/s]"
     ]
    },
    {
     "name": "stdout",
     "output_type": "stream",
     "text": [
      "(720, 1280, 3)\n",
      "left offset -1.58324809754 right offset 2.21691425501\n",
      "2269.27518692 m 1517.72699857 m\n"
     ]
    },
    {
     "name": "stderr",
     "output_type": "stream",
     "text": [
      "\r",
      " 24%|████████████████▊                                                      | 298/1261 [01:24<05:47,  2.77it/s]"
     ]
    },
    {
     "name": "stdout",
     "output_type": "stream",
     "text": [
      "(720, 1280, 3)\n",
      "left offset -1.58408397853 right offset 2.29110696657\n",
      "2353.42095751 m 5612.86748791 m\n"
     ]
    },
    {
     "name": "stderr",
     "output_type": "stream",
     "text": [
      "\r",
      " 24%|████████████████▊                                                      | 299/1261 [01:24<05:20,  3.00it/s]"
     ]
    },
    {
     "name": "stdout",
     "output_type": "stream",
     "text": [
      "(720, 1280, 3)\n",
      "left offset -1.58943542146 right offset 2.28345992975\n",
      "2524.57448932 m 4631.11304492 m\n"
     ]
    },
    {
     "name": "stderr",
     "output_type": "stream",
     "text": [
      "\r",
      " 24%|████████████████▉                                                      | 300/1261 [01:24<05:02,  3.18it/s]"
     ]
    },
    {
     "name": "stdout",
     "output_type": "stream",
     "text": [
      "(720, 1280, 3)\n",
      "left offset -1.60026225659 right offset 2.238672984\n",
      "2178.48107015 m 2392.44267415 m\n"
     ]
    },
    {
     "name": "stderr",
     "output_type": "stream",
     "text": [
      "\r",
      " 24%|████████████████▉                                                      | 301/1261 [01:24<04:49,  3.32it/s]"
     ]
    },
    {
     "name": "stdout",
     "output_type": "stream",
     "text": [
      "(720, 1280, 3)\n",
      "left offset -1.598812772 right offset 2.2544604274\n",
      "2579.86519495 m 3138.94838565 m\n"
     ]
    },
    {
     "name": "stderr",
     "output_type": "stream",
     "text": [
      "\r",
      " 24%|█████████████████                                                      | 302/1261 [01:25<04:42,  3.40it/s]"
     ]
    },
    {
     "name": "stdout",
     "output_type": "stream",
     "text": [
      "(720, 1280, 3)\n",
      "left offset -1.5949872324 right offset 2.25281402369\n",
      "3360.3977971 m 2630.78687367 m\n"
     ]
    },
    {
     "name": "stderr",
     "output_type": "stream",
     "text": [
      "\r",
      " 24%|█████████████████                                                      | 303/1261 [01:25<04:35,  3.47it/s]"
     ]
    },
    {
     "name": "stdout",
     "output_type": "stream",
     "text": [
      "(720, 1280, 3)\n",
      "left offset -1.59209811165 right offset 2.22988818137\n",
      "2989.13762458 m 2142.79048183 m\n"
     ]
    },
    {
     "name": "stderr",
     "output_type": "stream",
     "text": [
      "\r",
      " 24%|█████████████████                                                      | 304/1261 [01:25<04:28,  3.56it/s]"
     ]
    },
    {
     "name": "stdout",
     "output_type": "stream",
     "text": [
      "(720, 1280, 3)\n",
      "left offset -1.60810175141 right offset 2.22436466658\n",
      "2663.13180898 m 2077.67350406 m\n"
     ]
    },
    {
     "name": "stderr",
     "output_type": "stream",
     "text": [
      "\r",
      " 24%|█████████████████▏                                                     | 305/1261 [01:25<04:26,  3.59it/s]"
     ]
    },
    {
     "name": "stdout",
     "output_type": "stream",
     "text": [
      "(720, 1280, 3)\n",
      "left offset -1.57492020811 right offset 2.33844204093\n",
      "4478.75214576 m 9015.53774099 m\n"
     ]
    },
    {
     "name": "stderr",
     "output_type": "stream",
     "text": [
      "\r",
      " 24%|█████████████████▏                                                     | 306/1261 [01:26<04:22,  3.64it/s]"
     ]
    },
    {
     "name": "stdout",
     "output_type": "stream",
     "text": [
      "(720, 1280, 3)\n",
      "left offset -1.60323678607 right offset 2.27088768649\n",
      "3109.31940161 m 3853.77301558 m\n"
     ]
    },
    {
     "name": "stderr",
     "output_type": "stream",
     "text": [
      "\r",
      " 24%|█████████████████▎                                                     | 307/1261 [01:26<04:22,  3.63it/s]"
     ]
    },
    {
     "name": "stdout",
     "output_type": "stream",
     "text": [
      "(720, 1280, 3)\n",
      "left offset -1.57810153445 right offset 2.30203057153\n",
      "4046.8079057 m 5341.73838536 m\n"
     ]
    },
    {
     "name": "stderr",
     "output_type": "stream",
     "text": [
      "\r",
      " 24%|█████████████████▎                                                     | 308/1261 [01:26<04:19,  3.67it/s]"
     ]
    },
    {
     "name": "stdout",
     "output_type": "stream",
     "text": [
      "(720, 1280, 3)\n",
      "left offset -1.56361341428 right offset 2.20419947336\n",
      "4497.75316248 m 1858.61059052 m\n"
     ]
    },
    {
     "name": "stderr",
     "output_type": "stream",
     "text": [
      "\r",
      " 25%|█████████████████▍                                                     | 309/1261 [01:26<04:18,  3.68it/s]"
     ]
    },
    {
     "name": "stdout",
     "output_type": "stream",
     "text": [
      "(720, 1280, 3)\n",
      "left offset -1.56477028664 right offset 2.27596079197\n",
      "4107.77402555 m 4122.30161127 m\n"
     ]
    },
    {
     "name": "stderr",
     "output_type": "stream",
     "text": [
      "\r",
      " 25%|█████████████████▍                                                     | 310/1261 [01:27<04:15,  3.72it/s]"
     ]
    },
    {
     "name": "stdout",
     "output_type": "stream",
     "text": [
      "(720, 1280, 3)\n",
      "left offset -1.55711019305 right offset 2.24733232826\n",
      "5101.12883675 m 4025.31260484 m\n"
     ]
    },
    {
     "name": "stderr",
     "output_type": "stream",
     "text": [
      "\r",
      " 25%|█████████████████▌                                                     | 311/1261 [01:27<04:17,  3.69it/s]"
     ]
    },
    {
     "name": "stdout",
     "output_type": "stream",
     "text": [
      "(720, 1280, 3)\n",
      "left offset -1.55754406636 right offset 2.24442821449\n",
      "5181.18372097 m 4427.35869392 m\n"
     ]
    },
    {
     "name": "stderr",
     "output_type": "stream",
     "text": [
      "\r",
      " 25%|█████████████████▌                                                     | 312/1261 [01:27<04:18,  3.67it/s]"
     ]
    },
    {
     "name": "stdout",
     "output_type": "stream",
     "text": [
      "(720, 1280, 3)\n",
      "left offset -1.54038443868 right offset 2.23453433221\n",
      "5517.72152083 m 5272.49333641 m\n"
     ]
    },
    {
     "name": "stderr",
     "output_type": "stream",
     "text": [
      "\r",
      " 25%|█████████████████▌                                                     | 313/1261 [01:28<04:18,  3.67it/s]"
     ]
    },
    {
     "name": "stdout",
     "output_type": "stream",
     "text": [
      "(720, 1280, 3)\n",
      "left offset -1.53255958802 right offset 2.20519786147\n",
      "6345.73674151 m 3079.00962696 m\n"
     ]
    },
    {
     "name": "stderr",
     "output_type": "stream",
     "text": [
      "\r",
      " 25%|█████████████████▋                                                     | 314/1261 [01:28<04:18,  3.66it/s]"
     ]
    },
    {
     "name": "stdout",
     "output_type": "stream",
     "text": [
      "(720, 1280, 3)\n",
      "left offset -1.54799470952 right offset 2.22818980791\n",
      "6000.24524492 m 5369.62329244 m\n"
     ]
    },
    {
     "name": "stderr",
     "output_type": "stream",
     "text": [
      "\r",
      " 25%|█████████████████▋                                                     | 315/1261 [01:28<04:20,  3.64it/s]"
     ]
    },
    {
     "name": "stdout",
     "output_type": "stream",
     "text": [
      "(720, 1280, 3)\n",
      "left offset -1.55039440449 right offset 2.20605408361\n",
      "5565.61552196 m 3032.0224965 m\n"
     ]
    },
    {
     "name": "stderr",
     "output_type": "stream",
     "text": [
      "\r",
      " 25%|█████████████████▊                                                     | 316/1261 [01:28<04:19,  3.64it/s]"
     ]
    },
    {
     "name": "stdout",
     "output_type": "stream",
     "text": [
      "(720, 1280, 3)\n",
      "left offset -1.52965416993 right offset 2.27226555296\n",
      "11216.0523262 m 8087.95678439 m\n"
     ]
    },
    {
     "name": "stderr",
     "output_type": "stream",
     "text": [
      "\r",
      " 25%|█████████████████▊                                                     | 317/1261 [01:29<04:17,  3.67it/s]"
     ]
    },
    {
     "name": "stdout",
     "output_type": "stream",
     "text": [
      "(720, 1280, 3)\n",
      "left offset -1.5252286591 right offset 2.21128018018\n",
      "11859.9982548 m 3645.93127694 m\n"
     ]
    },
    {
     "name": "stderr",
     "output_type": "stream",
     "text": [
      "\r",
      " 25%|█████████████████▉                                                     | 318/1261 [01:29<04:17,  3.66it/s]"
     ]
    },
    {
     "name": "stdout",
     "output_type": "stream",
     "text": [
      "(720, 1280, 3)\n",
      "left offset -1.51246094826 right offset 2.1983589432\n",
      "22776.5571303 m 3736.83038963 m\n"
     ]
    },
    {
     "name": "stderr",
     "output_type": "stream",
     "text": [
      "\r",
      " 25%|█████████████████▉                                                     | 319/1261 [01:29<04:15,  3.68it/s]"
     ]
    },
    {
     "name": "stdout",
     "output_type": "stream",
     "text": [
      "(720, 1280, 3)\n",
      "left offset -1.53214841548 right offset 2.2015076066\n",
      "7262.67807093 m 3832.81868795 m\n"
     ]
    },
    {
     "name": "stderr",
     "output_type": "stream",
     "text": [
      "\r",
      " 25%|██████████████████                                                     | 320/1261 [01:29<04:15,  3.69it/s]"
     ]
    },
    {
     "name": "stdout",
     "output_type": "stream",
     "text": [
      "(720, 1280, 3)\n",
      "left offset -1.53611450804 right offset 2.24793799104\n",
      "13382.4870537 m 29800.7818299 m\n"
     ]
    },
    {
     "name": "stderr",
     "output_type": "stream",
     "text": [
      "\r",
      " 25%|██████████████████                                                     | 321/1261 [01:30<04:12,  3.73it/s]"
     ]
    },
    {
     "name": "stdout",
     "output_type": "stream",
     "text": [
      "(720, 1280, 3)\n",
      "left offset -1.51976314217 right offset 2.20538909415\n",
      "72756.2561504 m 3930.07067694 m\n"
     ]
    },
    {
     "name": "stderr",
     "output_type": "stream",
     "text": [
      "\r",
      " 26%|██████████████████▏                                                    | 322/1261 [01:30<04:12,  3.72it/s]"
     ]
    },
    {
     "name": "stdout",
     "output_type": "stream",
     "text": [
      "(720, 1280, 3)\n",
      "left offset -1.55049429849 right offset 2.15711219879\n",
      "7467.90835649 m 1904.8371977 m\n"
     ]
    },
    {
     "name": "stderr",
     "output_type": "stream",
     "text": [
      "\r",
      " 26%|██████████████████▏                                                    | 323/1261 [01:30<04:12,  3.71it/s]"
     ]
    },
    {
     "name": "stdout",
     "output_type": "stream",
     "text": [
      "(720, 1280, 3)\n",
      "left offset -1.55388592777 right offset 2.18305067469\n",
      "9244.4890998 m 2171.47180526 m\n"
     ]
    },
    {
     "name": "stderr",
     "output_type": "stream",
     "text": [
      "\r",
      " 26%|██████████████████▏                                                    | 324/1261 [01:31<04:13,  3.69it/s]"
     ]
    },
    {
     "name": "stdout",
     "output_type": "stream",
     "text": [
      "(720, 1280, 3)\n",
      "left offset -1.54668869216 right offset 2.22205105306\n",
      "15291.6328551 m 4791.83306769 m\n"
     ]
    },
    {
     "name": "stderr",
     "output_type": "stream",
     "text": [
      "\r",
      " 26%|██████████████████▎                                                    | 325/1261 [01:31<04:11,  3.72it/s]"
     ]
    },
    {
     "name": "stdout",
     "output_type": "stream",
     "text": [
      "(720, 1280, 3)\n",
      "left offset -1.53369190524 right offset 2.23891110146\n",
      "35036.0162856 m 9442.19224033 m\n"
     ]
    },
    {
     "name": "stderr",
     "output_type": "stream",
     "text": [
      "\r",
      " 26%|██████████████████▎                                                    | 326/1261 [01:31<04:12,  3.70it/s]"
     ]
    },
    {
     "name": "stdout",
     "output_type": "stream",
     "text": [
      "(720, 1280, 3)\n",
      "left offset -1.58365264381 right offset 2.24921103742\n",
      "5229.40100307 m 8869.61129947 m\n"
     ]
    },
    {
     "name": "stderr",
     "output_type": "stream",
     "text": [
      "\r",
      " 26%|██████████████████▍                                                    | 327/1261 [01:31<04:37,  3.36it/s]"
     ]
    },
    {
     "name": "stdout",
     "output_type": "stream",
     "text": [
      "(720, 1280, 3)\n",
      "left offset -1.59381775642 right offset 2.26013835539\n",
      "4687.22012029 m 7955.24242525 m\n"
     ]
    },
    {
     "name": "stderr",
     "output_type": "stream",
     "text": [
      "\r",
      " 26%|██████████████████▍                                                    | 328/1261 [01:32<05:06,  3.05it/s]"
     ]
    },
    {
     "name": "stdout",
     "output_type": "stream",
     "text": [
      "(720, 1280, 3)\n",
      "left offset -1.58557725645 right offset 2.36128859352\n",
      "11989.6191684 m 16292.4571125 m\n"
     ]
    },
    {
     "name": "stderr",
     "output_type": "stream",
     "text": [
      "\r",
      " 26%|██████████████████▌                                                    | 329/1261 [01:32<05:22,  2.89it/s]"
     ]
    },
    {
     "name": "stdout",
     "output_type": "stream",
     "text": [
      "(720, 1280, 3)\n",
      "left offset -1.59814471554 right offset 2.28029895699\n",
      "6053.25193097 m 11577.8328871 m\n"
     ]
    },
    {
     "name": "stderr",
     "output_type": "stream",
     "text": [
      "\r",
      " 26%|██████████████████▌                                                    | 330/1261 [01:33<05:37,  2.76it/s]"
     ]
    },
    {
     "name": "stdout",
     "output_type": "stream",
     "text": [
      "(720, 1280, 3)\n",
      "left offset -1.59454721402 right offset 2.28217238408\n",
      "4482.18451688 m 10745.3823146 m\n"
     ]
    },
    {
     "name": "stderr",
     "output_type": "stream",
     "text": [
      "\r",
      " 26%|██████████████████▋                                                    | 331/1261 [01:33<05:58,  2.59it/s]"
     ]
    },
    {
     "name": "stdout",
     "output_type": "stream",
     "text": [
      "(720, 1280, 3)\n",
      "left offset -1.56753516532 right offset 2.24481225475\n",
      "13866.4229057 m 6366.79166895 m\n"
     ]
    },
    {
     "name": "stderr",
     "output_type": "stream",
     "text": [
      "\r",
      " 26%|██████████████████▋                                                    | 332/1261 [01:34<06:11,  2.50it/s]"
     ]
    },
    {
     "name": "stdout",
     "output_type": "stream",
     "text": [
      "(720, 1280, 3)\n",
      "left offset -1.57998745016 right offset 2.24280954435\n",
      "4144.45052702 m 11475.5726726 m\n"
     ]
    },
    {
     "name": "stderr",
     "output_type": "stream",
     "text": [
      "\r",
      " 26%|██████████████████▋                                                    | 333/1261 [01:34<06:13,  2.48it/s]"
     ]
    },
    {
     "name": "stdout",
     "output_type": "stream",
     "text": [
      "(720, 1280, 3)\n",
      "left offset -1.56491673786 right offset 2.28095174931\n",
      "16926.4610021 m 6883.07625471 m\n"
     ]
    },
    {
     "name": "stderr",
     "output_type": "stream",
     "text": [
      "\r",
      " 26%|██████████████████▊                                                    | 334/1261 [01:34<06:05,  2.53it/s]"
     ]
    },
    {
     "name": "stdout",
     "output_type": "stream",
     "text": [
      "(720, 1280, 3)\n",
      "left offset -1.57315226431 right offset 2.25252084461\n",
      "6169.98933461 m 79189.2559563 m\n"
     ]
    },
    {
     "name": "stderr",
     "output_type": "stream",
     "text": [
      "\r",
      " 27%|██████████████████▊                                                    | 335/1261 [01:35<06:10,  2.50it/s]"
     ]
    },
    {
     "name": "stdout",
     "output_type": "stream",
     "text": [
      "(720, 1280, 3)\n",
      "left offset -1.56798318316 right offset 2.25520012824\n",
      "8114.3618225 m 11908.6575685 m\n"
     ]
    },
    {
     "name": "stderr",
     "output_type": "stream",
     "text": [
      "\r",
      " 27%|██████████████████▉                                                    | 336/1261 [01:35<06:17,  2.45it/s]"
     ]
    },
    {
     "name": "stdout",
     "output_type": "stream",
     "text": [
      "(720, 1280, 3)\n",
      "left offset -1.57053917441 right offset 2.22070926907\n",
      "7188.37986791 m 3441.80192003 m\n"
     ]
    },
    {
     "name": "stderr",
     "output_type": "stream",
     "text": [
      "\r",
      " 27%|██████████████████▉                                                    | 337/1261 [01:36<06:21,  2.42it/s]"
     ]
    },
    {
     "name": "stdout",
     "output_type": "stream",
     "text": [
      "(720, 1280, 3)\n",
      "left offset -1.54819435881 right offset 2.23469441264\n",
      "84815.1500553 m 5914.84067833 m\n"
     ]
    },
    {
     "name": "stderr",
     "output_type": "stream",
     "text": [
      "\r",
      " 27%|███████████████████                                                    | 338/1261 [01:36<06:22,  2.42it/s]"
     ]
    },
    {
     "name": "stdout",
     "output_type": "stream",
     "text": [
      "(720, 1280, 3)\n",
      "left offset -1.54337244572 right offset 2.20382487502\n",
      "66422.6214448 m 3012.05811619 m\n"
     ]
    },
    {
     "name": "stderr",
     "output_type": "stream",
     "text": [
      "\r",
      " 27%|███████████████████                                                    | 339/1261 [01:36<06:20,  2.42it/s]"
     ]
    },
    {
     "name": "stdout",
     "output_type": "stream",
     "text": [
      "(720, 1280, 3)\n",
      "left offset -1.54595544542 right offset 2.25690335103\n",
      "15204.5738222 m 57262.583242 m\n"
     ]
    },
    {
     "name": "stderr",
     "output_type": "stream",
     "text": [
      "\r",
      " 27%|███████████████████▏                                                   | 340/1261 [01:37<06:19,  2.43it/s]"
     ]
    },
    {
     "name": "stdout",
     "output_type": "stream",
     "text": [
      "(720, 1280, 3)\n",
      "left offset -1.53664824661 right offset 2.26448324664\n",
      "37067.7659737 m 20453.8528612 m\n"
     ]
    },
    {
     "name": "stderr",
     "output_type": "stream",
     "text": [
      "\r",
      " 27%|███████████████████▏                                                   | 341/1261 [01:37<06:13,  2.46it/s]"
     ]
    },
    {
     "name": "stdout",
     "output_type": "stream",
     "text": [
      "(720, 1280, 3)\n",
      "left offset -1.53148823172 right offset 2.22721296117\n",
      "12358.8638182 m 4834.4334761 m\n"
     ]
    },
    {
     "name": "stderr",
     "output_type": "stream",
     "text": [
      "\r",
      " 27%|███████████████████▎                                                   | 342/1261 [01:37<05:38,  2.72it/s]"
     ]
    },
    {
     "name": "stdout",
     "output_type": "stream",
     "text": [
      "(720, 1280, 3)\n",
      "left offset -1.5257913249 right offset 2.27245101008\n",
      "84701.9458303 m 39582.6849973 m\n"
     ]
    },
    {
     "name": "stderr",
     "output_type": "stream",
     "text": [
      "\r",
      " 27%|███████████████████▎                                                   | 343/1261 [01:38<05:12,  2.94it/s]"
     ]
    },
    {
     "name": "stdout",
     "output_type": "stream",
     "text": [
      "(720, 1280, 3)\n",
      "left offset -1.51962067679 right offset 2.26059379172\n",
      "43432.4355316 m 25282.8850534 m\n"
     ]
    },
    {
     "name": "stderr",
     "output_type": "stream",
     "text": [
      "\r",
      " 27%|███████████████████▎                                                   | 344/1261 [01:38<04:50,  3.16it/s]"
     ]
    },
    {
     "name": "stdout",
     "output_type": "stream",
     "text": [
      "(720, 1280, 3)\n",
      "left offset -1.52200808704 right offset 2.12903018967\n",
      "198023.135508 m 1940.68023608 m\n"
     ]
    },
    {
     "name": "stderr",
     "output_type": "stream",
     "text": [
      "\r",
      " 27%|███████████████████▍                                                   | 345/1261 [01:38<04:38,  3.29it/s]"
     ]
    },
    {
     "name": "stdout",
     "output_type": "stream",
     "text": [
      "(720, 1280, 3)\n",
      "left offset -1.53089542303 right offset 2.27873475686\n",
      "23462.8048158 m 13424.2844971 m\n"
     ]
    },
    {
     "name": "stderr",
     "output_type": "stream",
     "text": [
      "\r",
      " 27%|███████████████████▍                                                   | 346/1261 [01:39<05:05,  3.00it/s]"
     ]
    },
    {
     "name": "stdout",
     "output_type": "stream",
     "text": [
      "(720, 1280, 3)\n",
      "left offset -1.50434796259 right offset 2.20854193319\n",
      "16299.7993943 m 3763.85551773 m\n"
     ]
    },
    {
     "name": "stderr",
     "output_type": "stream",
     "text": [
      "\r",
      " 28%|███████████████████▌                                                   | 347/1261 [01:39<05:29,  2.77it/s]"
     ]
    },
    {
     "name": "stdout",
     "output_type": "stream",
     "text": [
      "(720, 1280, 3)\n",
      "left offset -1.51681280394 right offset 2.24535079694\n",
      "265906.386143 m 9336.61410385 m\n"
     ]
    },
    {
     "name": "stderr",
     "output_type": "stream",
     "text": [
      "\r",
      " 28%|███████████████████▌                                                   | 348/1261 [01:40<05:56,  2.56it/s]"
     ]
    },
    {
     "name": "stdout",
     "output_type": "stream",
     "text": [
      "(720, 1280, 3)\n",
      "left offset -1.51425299801 right offset 2.24656929952\n",
      "53161.5631669 m 15711.6303648 m\n"
     ]
    },
    {
     "name": "stderr",
     "output_type": "stream",
     "text": [
      "\r",
      " 28%|███████████████████▋                                                   | 349/1261 [01:40<06:14,  2.43it/s]"
     ]
    },
    {
     "name": "stdout",
     "output_type": "stream",
     "text": [
      "(720, 1280, 3)\n",
      "left offset -1.51545079977 right offset 2.21756632491\n",
      "78253.0917014 m 3506.05904226 m\n"
     ]
    },
    {
     "name": "stderr",
     "output_type": "stream",
     "text": [
      "\r",
      " 28%|███████████████████▋                                                   | 350/1261 [01:40<06:27,  2.35it/s]"
     ]
    },
    {
     "name": "stdout",
     "output_type": "stream",
     "text": [
      "(720, 1280, 3)\n",
      "left offset -1.51069315765 right offset 2.25523948956\n",
      "24831.9145664 m 13682.8906734 m\n"
     ]
    },
    {
     "name": "stderr",
     "output_type": "stream",
     "text": [
      "\r",
      " 28%|███████████████████▊                                                   | 351/1261 [01:41<06:31,  2.33it/s]"
     ]
    },
    {
     "name": "stdout",
     "output_type": "stream",
     "text": [
      "(720, 1280, 3)\n",
      "left offset -1.52514667067 right offset 2.22936239492\n",
      "27363.666074 m 5835.04405548 m\n"
     ]
    },
    {
     "name": "stderr",
     "output_type": "stream",
     "text": [
      "\r",
      " 28%|███████████████████▊                                                   | 352/1261 [01:41<06:35,  2.30it/s]"
     ]
    },
    {
     "name": "stdout",
     "output_type": "stream",
     "text": [
      "(720, 1280, 3)\n",
      "left offset -1.50501375874 right offset 2.28083227687\n",
      "5640.18112015 m 24549.3468531 m\n"
     ]
    },
    {
     "name": "stderr",
     "output_type": "stream",
     "text": [
      "\r",
      " 28%|███████████████████▉                                                   | 353/1261 [01:42<06:36,  2.29it/s]"
     ]
    },
    {
     "name": "stdout",
     "output_type": "stream",
     "text": [
      "(720, 1280, 3)\n",
      "left offset -1.51772950568 right offset 2.28898520228\n",
      "15710.1456316 m 102446.385766 m\n"
     ]
    },
    {
     "name": "stderr",
     "output_type": "stream",
     "text": [
      "\r",
      " 28%|███████████████████▉                                                   | 354/1261 [01:42<06:14,  2.42it/s]"
     ]
    },
    {
     "name": "stdout",
     "output_type": "stream",
     "text": [
      "(720, 1280, 3)\n",
      "left offset -1.51325389664 right offset 2.18474267975\n",
      "10911.7073619 m 2837.55067219 m\n"
     ]
    },
    {
     "name": "stderr",
     "output_type": "stream",
     "text": [
      "\r",
      " 28%|███████████████████▉                                                   | 355/1261 [01:42<05:35,  2.70it/s]"
     ]
    },
    {
     "name": "stdout",
     "output_type": "stream",
     "text": [
      "(720, 1280, 3)\n",
      "left offset -1.51135518143 right offset 2.29298803288\n",
      "10540.653881 m 25265.3229306 m\n"
     ]
    },
    {
     "name": "stderr",
     "output_type": "stream",
     "text": [
      "\r",
      " 28%|████████████████████                                                   | 356/1261 [01:43<05:06,  2.95it/s]"
     ]
    },
    {
     "name": "stdout",
     "output_type": "stream",
     "text": [
      "(720, 1280, 3)\n",
      "left offset -1.51279923353 right offset 2.22390416568\n",
      "7394.72239801 m 4661.41375881 m\n"
     ]
    },
    {
     "name": "stderr",
     "output_type": "stream",
     "text": [
      "\r",
      " 28%|████████████████████                                                   | 357/1261 [01:43<04:47,  3.14it/s]"
     ]
    },
    {
     "name": "stdout",
     "output_type": "stream",
     "text": [
      "(720, 1280, 3)\n",
      "left offset -1.49280515712 right offset 2.25467177391\n",
      "3284.91181306 m 7518.20412161 m\n"
     ]
    },
    {
     "name": "stderr",
     "output_type": "stream",
     "text": [
      "\r",
      " 28%|████████████████████▏                                                  | 358/1261 [01:43<04:36,  3.27it/s]"
     ]
    },
    {
     "name": "stdout",
     "output_type": "stream",
     "text": [
      "(720, 1280, 3)\n",
      "left offset -1.47394611259 right offset 2.25328132151\n",
      "2755.93026457 m 10727.0066151 m\n"
     ]
    },
    {
     "name": "stderr",
     "output_type": "stream",
     "text": [
      "\r",
      " 28%|████████████████████▏                                                  | 359/1261 [01:44<04:30,  3.34it/s]"
     ]
    },
    {
     "name": "stdout",
     "output_type": "stream",
     "text": [
      "(720, 1280, 3)\n",
      "left offset -1.50474684167 right offset 2.27079399493\n",
      "9154.60603357 m 2187636.00048 m\n"
     ]
    },
    {
     "name": "stderr",
     "output_type": "stream",
     "text": [
      "\r",
      " 29%|████████████████████▎                                                  | 360/1261 [01:44<04:23,  3.42it/s]"
     ]
    },
    {
     "name": "stdout",
     "output_type": "stream",
     "text": [
      "(720, 1280, 3)\n",
      "left offset -1.48590873003 right offset 2.2470683953\n",
      "5440.05168668 m 11248.1598133 m\n"
     ]
    },
    {
     "name": "stderr",
     "output_type": "stream",
     "text": [
      "\r",
      " 29%|████████████████████▎                                                  | 361/1261 [01:44<04:16,  3.51it/s]"
     ]
    },
    {
     "name": "stdout",
     "output_type": "stream",
     "text": [
      "(720, 1280, 3)\n",
      "left offset -1.46673572266 right offset 2.23339770717\n",
      "2599.19054083 m 7229.01034447 m\n"
     ]
    },
    {
     "name": "stderr",
     "output_type": "stream",
     "text": [
      "\r",
      " 29%|████████████████████▍                                                  | 362/1261 [01:44<04:09,  3.60it/s]"
     ]
    },
    {
     "name": "stdout",
     "output_type": "stream",
     "text": [
      "(720, 1280, 3)\n",
      "left offset -1.47138317419 right offset 2.24534274683\n",
      "2816.44546003 m 13859.579612 m\n"
     ]
    },
    {
     "name": "stderr",
     "output_type": "stream",
     "text": [
      "\r",
      " 29%|████████████████████▍                                                  | 363/1261 [01:45<04:09,  3.60it/s]"
     ]
    },
    {
     "name": "stdout",
     "output_type": "stream",
     "text": [
      "(720, 1280, 3)\n",
      "left offset -1.47113627816 right offset 2.24472064419\n",
      "3693.69614113 m 20647.4038959 m\n"
     ]
    },
    {
     "name": "stderr",
     "output_type": "stream",
     "text": [
      "\r",
      " 29%|████████████████████▍                                                  | 364/1261 [01:45<04:06,  3.63it/s]"
     ]
    },
    {
     "name": "stdout",
     "output_type": "stream",
     "text": [
      "(720, 1280, 3)\n",
      "left offset -1.48012974645 right offset 2.32847189064\n",
      "3366.01075032 m 5002.36983362 m\n"
     ]
    },
    {
     "name": "stderr",
     "output_type": "stream",
     "text": [
      "\r",
      " 29%|████████████████████▌                                                  | 365/1261 [01:45<04:06,  3.64it/s]"
     ]
    },
    {
     "name": "stdout",
     "output_type": "stream",
     "text": [
      "(720, 1280, 3)\n",
      "left offset -1.47827993491 right offset 2.3675907903\n",
      "3082.43135148 m 3474.598227 m\n"
     ]
    },
    {
     "name": "stderr",
     "output_type": "stream",
     "text": [
      "\r",
      " 29%|████████████████████▌                                                  | 366/1261 [01:45<04:04,  3.66it/s]"
     ]
    },
    {
     "name": "stdout",
     "output_type": "stream",
     "text": [
      "(720, 1280, 3)\n",
      "left offset -1.53592877706 right offset 2.34086110274\n",
      "12168.9368136 m 4081.4351914 m\n"
     ]
    },
    {
     "name": "stderr",
     "output_type": "stream",
     "text": [
      "\r",
      " 29%|████████████████████▋                                                  | 367/1261 [01:46<04:02,  3.69it/s]"
     ]
    },
    {
     "name": "stdout",
     "output_type": "stream",
     "text": [
      "(720, 1280, 3)\n",
      "left offset -1.54694468802 right offset 2.28069936797\n",
      "28277.7898641 m 24663.2363226 m\n"
     ]
    },
    {
     "name": "stderr",
     "output_type": "stream",
     "text": [
      "\r",
      " 29%|████████████████████▋                                                  | 368/1261 [01:46<04:02,  3.68it/s]"
     ]
    },
    {
     "name": "stdout",
     "output_type": "stream",
     "text": [
      "(720, 1280, 3)\n",
      "left offset -1.55107338683 right offset 2.21350250409\n",
      "65805.6818138 m 5899.61477844 m\n"
     ]
    },
    {
     "name": "stderr",
     "output_type": "stream",
     "text": [
      "\r",
      " 29%|████████████████████▊                                                  | 369/1261 [01:46<04:01,  3.69it/s]"
     ]
    },
    {
     "name": "stdout",
     "output_type": "stream",
     "text": [
      "(720, 1280, 3)\n",
      "left offset -1.57169651753 right offset 2.27282580202\n",
      "10645.2513849 m 11456.0080629 m\n"
     ]
    },
    {
     "name": "stderr",
     "output_type": "stream",
     "text": [
      "\r",
      " 29%|████████████████████▊                                                  | 370/1261 [01:47<04:03,  3.66it/s]"
     ]
    },
    {
     "name": "stdout",
     "output_type": "stream",
     "text": [
      "(720, 1280, 3)\n",
      "left offset -1.58077529343 right offset 2.28483353354\n",
      "11731.2621615 m 7331.14101818 m\n"
     ]
    },
    {
     "name": "stderr",
     "output_type": "stream",
     "text": [
      "\r",
      " 29%|████████████████████▉                                                  | 371/1261 [01:47<04:01,  3.68it/s]"
     ]
    },
    {
     "name": "stdout",
     "output_type": "stream",
     "text": [
      "(720, 1280, 3)\n",
      "left offset -1.60676832755 right offset 2.27264726065\n",
      "6811.50434607 m 8608.37116025 m\n"
     ]
    },
    {
     "name": "stderr",
     "output_type": "stream",
     "text": [
      "\r",
      " 30%|████████████████████▉                                                  | 372/1261 [01:47<04:02,  3.66it/s]"
     ]
    },
    {
     "name": "stdout",
     "output_type": "stream",
     "text": [
      "(720, 1280, 3)\n",
      "left offset -1.61632354063 right offset 2.2543678878\n",
      "5831.77111242 m 20405.4679291 m\n"
     ]
    },
    {
     "name": "stderr",
     "output_type": "stream",
     "text": [
      "\r",
      " 30%|█████████████████████                                                  | 373/1261 [01:47<04:00,  3.69it/s]"
     ]
    },
    {
     "name": "stdout",
     "output_type": "stream",
     "text": [
      "(720, 1280, 3)\n",
      "left offset -1.63034481713 right offset 2.25007467108\n",
      "4153.75202352 m 9260.12878486 m\n"
     ]
    },
    {
     "name": "stderr",
     "output_type": "stream",
     "text": [
      "\r",
      " 30%|█████████████████████                                                  | 374/1261 [01:48<04:02,  3.66it/s]"
     ]
    },
    {
     "name": "stdout",
     "output_type": "stream",
     "text": [
      "(720, 1280, 3)\n",
      "left offset -1.62424098648 right offset 2.20830529272\n",
      "4378.07245776 m 13655.292826 m\n"
     ]
    },
    {
     "name": "stderr",
     "output_type": "stream",
     "text": [
      "\r",
      " 30%|█████████████████████                                                  | 375/1261 [01:48<04:02,  3.66it/s]"
     ]
    },
    {
     "name": "stdout",
     "output_type": "stream",
     "text": [
      "(720, 1280, 3)\n",
      "left offset -1.61521129889 right offset 2.23513497097\n",
      "4046.15691254 m 11309.7619987 m\n"
     ]
    },
    {
     "name": "stderr",
     "output_type": "stream",
     "text": [
      "\r",
      " 30%|█████████████████████▏                                                 | 376/1261 [01:48<04:00,  3.69it/s]"
     ]
    },
    {
     "name": "stdout",
     "output_type": "stream",
     "text": [
      "(720, 1280, 3)\n",
      "left offset -1.63860978877 right offset 2.20021614635\n",
      "3104.44912482 m 68853.1997417 m\n"
     ]
    },
    {
     "name": "stderr",
     "output_type": "stream",
     "text": [
      "\r",
      " 30%|█████████████████████▏                                                 | 377/1261 [01:48<03:58,  3.71it/s]"
     ]
    },
    {
     "name": "stdout",
     "output_type": "stream",
     "text": [
      "(720, 1280, 3)\n",
      "left offset -1.62997908022 right offset 2.22903698521\n",
      "2591.27817663 m 12125.2509862 m\n"
     ]
    },
    {
     "name": "stderr",
     "output_type": "stream",
     "text": [
      "\r",
      " 30%|█████████████████████▎                                                 | 378/1261 [01:49<03:59,  3.69it/s]"
     ]
    },
    {
     "name": "stdout",
     "output_type": "stream",
     "text": [
      "(720, 1280, 3)\n",
      "left offset -1.63520087739 right offset 2.20298225577\n",
      "2865.32815147 m 56150.4838092 m\n"
     ]
    },
    {
     "name": "stderr",
     "output_type": "stream",
     "text": [
      "\r",
      " 30%|█████████████████████▎                                                 | 379/1261 [01:49<03:58,  3.69it/s]"
     ]
    },
    {
     "name": "stdout",
     "output_type": "stream",
     "text": [
      "(720, 1280, 3)\n",
      "left offset -1.56760936619 right offset 2.22720855811\n",
      "30599.5514243 m 18189.5017063 m\n"
     ]
    },
    {
     "name": "stderr",
     "output_type": "stream",
     "text": [
      "\r",
      " 30%|█████████████████████▍                                                 | 380/1261 [01:49<03:58,  3.69it/s]"
     ]
    },
    {
     "name": "stdout",
     "output_type": "stream",
     "text": [
      "(720, 1280, 3)\n",
      "left offset -1.57627228651 right offset 2.17386078197\n",
      "8225.5530143 m 6281.59744563 m\n"
     ]
    },
    {
     "name": "stderr",
     "output_type": "stream",
     "text": [
      "\r",
      " 30%|█████████████████████▍                                                 | 381/1261 [01:50<04:00,  3.67it/s]"
     ]
    },
    {
     "name": "stdout",
     "output_type": "stream",
     "text": [
      "(720, 1280, 3)\n",
      "left offset -1.56716038443 right offset 2.19975403012\n",
      "8974.66064882 m 24343.0560888 m\n"
     ]
    },
    {
     "name": "stderr",
     "output_type": "stream",
     "text": [
      "\r",
      " 30%|█████████████████████▌                                                 | 382/1261 [01:50<04:00,  3.66it/s]"
     ]
    },
    {
     "name": "stdout",
     "output_type": "stream",
     "text": [
      "(720, 1280, 3)\n",
      "left offset -1.55250920875 right offset 2.20478563627\n",
      "17003.756914 m 466472.957153 m\n"
     ]
    },
    {
     "name": "stderr",
     "output_type": "stream",
     "text": [
      "\r",
      " 30%|█████████████████████▌                                                 | 383/1261 [01:50<03:58,  3.67it/s]"
     ]
    },
    {
     "name": "stdout",
     "output_type": "stream",
     "text": [
      "(720, 1280, 3)\n",
      "left offset -1.53766036893 right offset 2.21003866809\n",
      "36496.7547948 m 23836.2780125 m\n"
     ]
    },
    {
     "name": "stderr",
     "output_type": "stream",
     "text": [
      "\r",
      " 30%|█████████████████████▌                                                 | 384/1261 [01:50<04:04,  3.58it/s]"
     ]
    },
    {
     "name": "stdout",
     "output_type": "stream",
     "text": [
      "(720, 1280, 3)\n",
      "left offset -1.5391362929 right offset 2.22535851755\n",
      "17018.0110755 m 13009.8115434 m\n"
     ]
    },
    {
     "name": "stderr",
     "output_type": "stream",
     "text": [
      "\r",
      " 31%|█████████████████████▋                                                 | 385/1261 [01:51<04:32,  3.21it/s]"
     ]
    },
    {
     "name": "stdout",
     "output_type": "stream",
     "text": [
      "(720, 1280, 3)\n",
      "left offset -1.53313957981 right offset 2.22272580133\n",
      "22960.1343715 m 12977.0340352 m\n"
     ]
    },
    {
     "name": "stderr",
     "output_type": "stream",
     "text": [
      "\r",
      " 31%|█████████████████████▋                                                 | 386/1261 [01:51<04:52,  2.99it/s]"
     ]
    },
    {
     "name": "stdout",
     "output_type": "stream",
     "text": [
      "(720, 1280, 3)\n",
      "left offset -1.53098983249 right offset 2.20700955852\n",
      "49293.8513154 m 23338.0062067 m\n"
     ]
    },
    {
     "name": "stderr",
     "output_type": "stream",
     "text": [
      "\r",
      " 31%|█████████████████████▊                                                 | 387/1261 [01:52<05:09,  2.82it/s]"
     ]
    },
    {
     "name": "stdout",
     "output_type": "stream",
     "text": [
      "(720, 1280, 3)\n",
      "left offset -1.51854582056 right offset 2.23115738364\n",
      "61429.6268392 m 16675.3962266 m\n"
     ]
    },
    {
     "name": "stderr",
     "output_type": "stream",
     "text": [
      "\r",
      " 31%|█████████████████████▊                                                 | 388/1261 [01:52<05:15,  2.77it/s]"
     ]
    },
    {
     "name": "stdout",
     "output_type": "stream",
     "text": [
      "(720, 1280, 3)\n",
      "left offset -1.51918497223 right offset 2.23613342297\n",
      "31828.2871082 m 14047.8499306 m\n"
     ]
    },
    {
     "name": "stderr",
     "output_type": "stream",
     "text": [
      "\r",
      " 31%|█████████████████████▉                                                 | 389/1261 [01:52<05:28,  2.66it/s]"
     ]
    },
    {
     "name": "stdout",
     "output_type": "stream",
     "text": [
      "(720, 1280, 3)\n",
      "left offset -1.52611154336 right offset 2.2220021255\n",
      "33356.634883 m 40088.8992594 m\n"
     ]
    },
    {
     "name": "stderr",
     "output_type": "stream",
     "text": [
      "\r",
      " 31%|█████████████████████▉                                                 | 390/1261 [01:53<05:47,  2.51it/s]"
     ]
    },
    {
     "name": "stdout",
     "output_type": "stream",
     "text": [
      "(720, 1280, 3)\n",
      "left offset -1.52504704648 right offset 2.25433343305\n",
      "20222.8512054 m 7696.50128514 m\n"
     ]
    },
    {
     "name": "stderr",
     "output_type": "stream",
     "text": [
      "\r",
      " 31%|██████████████████████                                                 | 391/1261 [01:53<05:59,  2.42it/s]"
     ]
    },
    {
     "name": "stdout",
     "output_type": "stream",
     "text": [
      "(720, 1280, 3)\n",
      "left offset -1.51820230568 right offset 2.24502196736\n",
      "15590.222182 m 8719.71870237 m\n"
     ]
    },
    {
     "name": "stderr",
     "output_type": "stream",
     "text": [
      "\r",
      " 31%|██████████████████████                                                 | 392/1261 [01:54<06:04,  2.39it/s]"
     ]
    },
    {
     "name": "stdout",
     "output_type": "stream",
     "text": [
      "(720, 1280, 3)\n",
      "left offset -1.53161286458 right offset 2.23576731352\n",
      "81727.7510191 m 5848.16328171 m\n"
     ]
    },
    {
     "name": "stderr",
     "output_type": "stream",
     "text": [
      "\r",
      " 31%|██████████████████████▏                                                | 393/1261 [01:54<06:06,  2.37it/s]"
     ]
    },
    {
     "name": "stdout",
     "output_type": "stream",
     "text": [
      "(720, 1280, 3)\n",
      "left offset -1.53123134617 right offset 2.21823934536\n",
      "17765.9987593 m 11046.460331 m\n"
     ]
    },
    {
     "name": "stderr",
     "output_type": "stream",
     "text": [
      "\r",
      " 31%|██████████████████████▏                                                | 394/1261 [01:54<05:59,  2.41it/s]"
     ]
    },
    {
     "name": "stdout",
     "output_type": "stream",
     "text": [
      "(720, 1280, 3)\n",
      "left offset -1.53226251572 right offset 2.22600783569\n",
      "13441.7225747 m 6410.34835457 m\n"
     ]
    },
    {
     "name": "stderr",
     "output_type": "stream",
     "text": [
      "\r",
      " 31%|██████████████████████▏                                                | 395/1261 [01:55<05:56,  2.43it/s]"
     ]
    },
    {
     "name": "stdout",
     "output_type": "stream",
     "text": [
      "(720, 1280, 3)\n",
      "left offset -1.54549439712 right offset 2.18026691558\n",
      "20446.1392857 m 425408.2342 m\n"
     ]
    },
    {
     "name": "stderr",
     "output_type": "stream",
     "text": [
      "\r",
      " 31%|██████████████████████▎                                                | 396/1261 [01:55<06:00,  2.40it/s]"
     ]
    },
    {
     "name": "stdout",
     "output_type": "stream",
     "text": [
      "(720, 1280, 3)\n",
      "left offset -1.55981850294 right offset 2.18271879408\n",
      "154340.784207 m 2011674.16903 m\n"
     ]
    },
    {
     "name": "stderr",
     "output_type": "stream",
     "text": [
      "\r",
      " 31%|██████████████████████▎                                                | 397/1261 [01:56<06:04,  2.37it/s]"
     ]
    },
    {
     "name": "stdout",
     "output_type": "stream",
     "text": [
      "(720, 1280, 3)\n",
      "left offset -1.56468762596 right offset 2.18672568218\n",
      "120625.384368 m 19314.6018223 m\n"
     ]
    },
    {
     "name": "stderr",
     "output_type": "stream",
     "text": [
      "\r",
      " 32%|██████████████████████▍                                                | 398/1261 [01:56<06:10,  2.33it/s]"
     ]
    },
    {
     "name": "stdout",
     "output_type": "stream",
     "text": [
      "(720, 1280, 3)\n",
      "left offset -1.58766036244 right offset 2.19254255364\n",
      "10303.4485422 m 11405.6224125 m\n"
     ]
    },
    {
     "name": "stderr",
     "output_type": "stream",
     "text": [
      "\r",
      " 32%|██████████████████████▍                                                | 399/1261 [01:57<06:12,  2.31it/s]"
     ]
    },
    {
     "name": "stdout",
     "output_type": "stream",
     "text": [
      "(720, 1280, 3)\n",
      "left offset -1.5586120276 right offset 2.15648269728\n",
      "20344.1728107 m 16011.4582521 m\n"
     ]
    },
    {
     "name": "stderr",
     "output_type": "stream",
     "text": [
      "\r",
      " 32%|██████████████████████▌                                                | 400/1261 [01:57<06:13,  2.31it/s]"
     ]
    },
    {
     "name": "stdout",
     "output_type": "stream",
     "text": [
      "(720, 1280, 3)\n",
      "left offset -1.5789326206 right offset 2.12418466455\n",
      "22078.150401 m 8417.27372602 m\n"
     ]
    },
    {
     "name": "stderr",
     "output_type": "stream",
     "text": [
      "\r",
      " 32%|██████████████████████▌                                                | 401/1261 [01:57<06:11,  2.32it/s]"
     ]
    },
    {
     "name": "stdout",
     "output_type": "stream",
     "text": [
      "(720, 1280, 3)\n",
      "left offset -1.5843664689 right offset 2.12167172767\n",
      "154702.314468 m 6682.26536817 m\n"
     ]
    },
    {
     "name": "stderr",
     "output_type": "stream",
     "text": [
      "\r",
      " 32%|██████████████████████▋                                                | 402/1261 [01:58<06:16,  2.28it/s]"
     ]
    },
    {
     "name": "stdout",
     "output_type": "stream",
     "text": [
      "(720, 1280, 3)\n",
      "left offset -1.58845842495 right offset 2.17258643765\n",
      "93170.151007 m 26869.8258598 m\n"
     ]
    },
    {
     "name": "stderr",
     "output_type": "stream",
     "text": [
      "\r",
      " 32%|██████████████████████▋                                                | 403/1261 [01:58<06:18,  2.27it/s]"
     ]
    },
    {
     "name": "stdout",
     "output_type": "stream",
     "text": [
      "(720, 1280, 3)\n",
      "left offset -1.60408396227 right offset 2.14727580121\n",
      "37714.3333433 m 21359.7288771 m\n"
     ]
    },
    {
     "name": "stderr",
     "output_type": "stream",
     "text": [
      "\r",
      " 32%|██████████████████████▋                                                | 404/1261 [01:59<06:05,  2.35it/s]"
     ]
    },
    {
     "name": "stdout",
     "output_type": "stream",
     "text": [
      "(720, 1280, 3)\n",
      "left offset -1.5766626949 right offset 2.21149448527\n",
      "16156.0778437 m 5299.80607746 m\n"
     ]
    },
    {
     "name": "stderr",
     "output_type": "stream",
     "text": [
      "\r",
      " 32%|██████████████████████▊                                                | 405/1261 [01:59<06:08,  2.32it/s]"
     ]
    },
    {
     "name": "stdout",
     "output_type": "stream",
     "text": [
      "(720, 1280, 3)\n",
      "left offset -1.60507561728 right offset 2.1937402158\n",
      "20760.3820701 m 7270.67770872 m\n"
     ]
    },
    {
     "name": "stderr",
     "output_type": "stream",
     "text": [
      "\r",
      " 32%|██████████████████████▊                                                | 406/1261 [02:00<06:05,  2.34it/s]"
     ]
    },
    {
     "name": "stdout",
     "output_type": "stream",
     "text": [
      "(720, 1280, 3)\n",
      "left offset -1.62990296335 right offset 2.17466001789\n",
      "13264.7236675 m 11679.7159608 m\n"
     ]
    },
    {
     "name": "stderr",
     "output_type": "stream",
     "text": [
      "\r",
      " 32%|██████████████████████▉                                                | 407/1261 [02:00<06:06,  2.33it/s]"
     ]
    },
    {
     "name": "stdout",
     "output_type": "stream",
     "text": [
      "(720, 1280, 3)\n",
      "left offset -1.63067847642 right offset 2.18526700701\n",
      "15836.3838456 m 7003.16530215 m\n"
     ]
    },
    {
     "name": "stderr",
     "output_type": "stream",
     "text": [
      "\r",
      " 32%|██████████████████████▉                                                | 408/1261 [02:00<06:01,  2.36it/s]"
     ]
    },
    {
     "name": "stdout",
     "output_type": "stream",
     "text": [
      "(720, 1280, 3)\n",
      "left offset -1.62220027049 right offset 2.17124964359\n",
      "42700.2866498 m 7474.15143757 m\n"
     ]
    },
    {
     "name": "stderr",
     "output_type": "stream",
     "text": [
      "\r",
      " 32%|███████████████████████                                                | 409/1261 [02:01<05:55,  2.40it/s]"
     ]
    },
    {
     "name": "stdout",
     "output_type": "stream",
     "text": [
      "(720, 1280, 3)\n",
      "left offset -1.649980647 right offset 2.12754617744\n",
      "6285.27331597 m 40237.3162358 m\n"
     ]
    },
    {
     "name": "stderr",
     "output_type": "stream",
     "text": [
      "\r",
      " 33%|███████████████████████                                                | 410/1261 [02:01<05:48,  2.44it/s]"
     ]
    },
    {
     "name": "stdout",
     "output_type": "stream",
     "text": [
      "(720, 1280, 3)\n",
      "left offset -1.64504595973 right offset 2.11137432058\n",
      "12346.868434 m 11315.3772755 m\n"
     ]
    },
    {
     "name": "stderr",
     "output_type": "stream",
     "text": [
      "\r",
      " 33%|███████████████████████▏                                               | 411/1261 [02:02<05:46,  2.46it/s]"
     ]
    },
    {
     "name": "stdout",
     "output_type": "stream",
     "text": [
      "(720, 1280, 3)\n",
      "left offset -1.65972730601 right offset 2.1064256441\n",
      "5883.40817875 m 10552.2414629 m\n"
     ]
    },
    {
     "name": "stderr",
     "output_type": "stream",
     "text": [
      "\r",
      " 33%|███████████████████████▏                                               | 412/1261 [02:02<05:46,  2.45it/s]"
     ]
    },
    {
     "name": "stdout",
     "output_type": "stream",
     "text": [
      "(720, 1280, 3)\n",
      "left offset -1.67235186691 right offset 2.08288214979\n",
      "5088.25408535 m 6320.03402712 m\n"
     ]
    },
    {
     "name": "stderr",
     "output_type": "stream",
     "text": [
      "\r",
      " 33%|███████████████████████▎                                               | 413/1261 [02:02<05:38,  2.51it/s]"
     ]
    },
    {
     "name": "stdout",
     "output_type": "stream",
     "text": [
      "(720, 1280, 3)\n",
      "left offset -1.67589964634 right offset 2.09904456067\n",
      "4356.40969668 m 10030.0775801 m\n"
     ]
    },
    {
     "name": "stderr",
     "output_type": "stream",
     "text": [
      "\r",
      " 33%|███████████████████████▎                                               | 414/1261 [02:03<05:38,  2.51it/s]"
     ]
    },
    {
     "name": "stdout",
     "output_type": "stream",
     "text": [
      "(720, 1280, 3)\n",
      "left offset -1.68576365727 right offset 2.1436890261\n",
      "3479.59921074 m 12101.3171829 m\n"
     ]
    },
    {
     "name": "stderr",
     "output_type": "stream",
     "text": [
      "\r",
      " 33%|███████████████████████▎                                               | 415/1261 [02:03<05:19,  2.64it/s]"
     ]
    },
    {
     "name": "stdout",
     "output_type": "stream",
     "text": [
      "(720, 1280, 3)\n",
      "left offset -1.69034162514 right offset 2.12067176452\n",
      "3536.16620916 m 169459.415544 m\n"
     ]
    },
    {
     "name": "stderr",
     "output_type": "stream",
     "text": [
      "\r",
      " 33%|███████████████████████▍                                               | 416/1261 [02:04<05:28,  2.57it/s]"
     ]
    },
    {
     "name": "stdout",
     "output_type": "stream",
     "text": [
      "(720, 1280, 3)\n",
      "left offset -1.69099728102 right offset 2.15264667445\n",
      "3279.2726451 m 9782.60940415 m\n"
     ]
    },
    {
     "name": "stderr",
     "output_type": "stream",
     "text": [
      "\r",
      " 33%|███████████████████████▍                                               | 417/1261 [02:04<05:36,  2.51it/s]"
     ]
    },
    {
     "name": "stdout",
     "output_type": "stream",
     "text": [
      "(720, 1280, 3)\n",
      "left offset -1.6724268497 right offset 2.13798746955\n",
      "8422.01644757 m 14606.3299821 m\n"
     ]
    },
    {
     "name": "stderr",
     "output_type": "stream",
     "text": [
      "\r",
      " 33%|███████████████████████▌                                               | 418/1261 [02:04<05:01,  2.80it/s]"
     ]
    },
    {
     "name": "stdout",
     "output_type": "stream",
     "text": [
      "(720, 1280, 3)\n",
      "left offset -1.67231473456 right offset 2.11759502007\n",
      "5189.3017894 m 23709.4636806 m\n"
     ]
    },
    {
     "name": "stderr",
     "output_type": "stream",
     "text": [
      "\r",
      " 33%|███████████████████████▌                                               | 419/1261 [02:05<04:31,  3.10it/s]"
     ]
    },
    {
     "name": "stdout",
     "output_type": "stream",
     "text": [
      "(720, 1280, 3)\n",
      "left offset -1.67019566531 right offset 2.09123992529\n",
      "6208.96838588 m 9674.3394858 m\n"
     ]
    },
    {
     "name": "stderr",
     "output_type": "stream",
     "text": [
      "\r",
      " 33%|███████████████████████▋                                               | 420/1261 [02:05<04:12,  3.33it/s]"
     ]
    },
    {
     "name": "stdout",
     "output_type": "stream",
     "text": [
      "(720, 1280, 3)\n",
      "left offset -1.67302176009 right offset 2.07703291977\n",
      "7066.95204404 m 6076.08227453 m\n"
     ]
    },
    {
     "name": "stderr",
     "output_type": "stream",
     "text": [
      "\r",
      " 33%|███████████████████████▋                                               | 421/1261 [02:05<03:58,  3.53it/s]"
     ]
    },
    {
     "name": "stdout",
     "output_type": "stream",
     "text": [
      "(720, 1280, 3)\n",
      "left offset -1.65406426122 right offset 2.0811070892\n",
      "11554.6235146 m 8984.76296165 m\n"
     ]
    },
    {
     "name": "stderr",
     "output_type": "stream",
     "text": [
      "\r",
      " 33%|███████████████████████▊                                               | 422/1261 [02:05<03:50,  3.64it/s]"
     ]
    },
    {
     "name": "stdout",
     "output_type": "stream",
     "text": [
      "(720, 1280, 3)\n",
      "left offset -1.67551095984 right offset 2.05063372563\n",
      "4904.40190802 m 3560.04107201 m\n"
     ]
    },
    {
     "name": "stderr",
     "output_type": "stream",
     "text": [
      "\r",
      " 34%|███████████████████████▊                                               | 423/1261 [02:06<03:43,  3.75it/s]"
     ]
    },
    {
     "name": "stdout",
     "output_type": "stream",
     "text": [
      "(720, 1280, 3)\n",
      "left offset -1.67287277369 right offset 2.05663704395\n",
      "7796.82595452 m 8093.79868377 m\n"
     ]
    },
    {
     "name": "stderr",
     "output_type": "stream",
     "text": [
      "\r",
      " 34%|███████████████████████▊                                               | 424/1261 [02:06<03:36,  3.86it/s]"
     ]
    },
    {
     "name": "stdout",
     "output_type": "stream",
     "text": [
      "(720, 1280, 3)\n",
      "left offset -1.67468598142 right offset 2.07489061599\n",
      "9114.01561974 m 16245.6820699 m\n"
     ]
    },
    {
     "name": "stderr",
     "output_type": "stream",
     "text": [
      "\r",
      " 34%|███████████████████████▉                                               | 425/1261 [02:06<03:43,  3.73it/s]"
     ]
    },
    {
     "name": "stdout",
     "output_type": "stream",
     "text": [
      "(720, 1280, 3)\n",
      "left offset -1.67283468348 right offset 2.0291694311\n",
      "235109.848916 m 5699.85977732 m\n"
     ]
    },
    {
     "name": "stderr",
     "output_type": "stream",
     "text": [
      "\r",
      " 34%|███████████████████████▉                                               | 426/1261 [02:06<03:57,  3.51it/s]"
     ]
    },
    {
     "name": "stdout",
     "output_type": "stream",
     "text": [
      "(720, 1280, 3)\n",
      "left offset -1.67246028782 right offset 1.99100121629\n",
      "60494.9518665 m 2626.23120048 m\n"
     ]
    },
    {
     "name": "stderr",
     "output_type": "stream",
     "text": [
      "\r",
      " 34%|████████████████████████                                               | 427/1261 [02:07<04:00,  3.46it/s]"
     ]
    },
    {
     "name": "stdout",
     "output_type": "stream",
     "text": [
      "(720, 1280, 3)\n",
      "left offset -1.66768739203 right offset 2.08349669369\n",
      "9781.90091637 m 27731.60123 m\n"
     ]
    },
    {
     "name": "stderr",
     "output_type": "stream",
     "text": [
      "\r",
      " 34%|████████████████████████                                               | 428/1261 [02:07<03:57,  3.51it/s]"
     ]
    },
    {
     "name": "stdout",
     "output_type": "stream",
     "text": [
      "(720, 1280, 3)\n",
      "left offset -1.69059605153 right offset 2.02883071164\n",
      "14189.6151165 m 5569.152053 m\n"
     ]
    },
    {
     "name": "stderr",
     "output_type": "stream",
     "text": [
      "\r",
      " 34%|████████████████████████▏                                              | 429/1261 [02:07<04:06,  3.38it/s]"
     ]
    },
    {
     "name": "stdout",
     "output_type": "stream",
     "text": [
      "(720, 1280, 3)\n",
      "left offset -1.69610734917 right offset 1.99943045502\n",
      "19717.6890731 m 3247.7294174 m\n"
     ]
    },
    {
     "name": "stderr",
     "output_type": "stream",
     "text": [
      "\r",
      " 34%|████████████████████████▏                                              | 430/1261 [02:08<04:26,  3.12it/s]"
     ]
    },
    {
     "name": "stdout",
     "output_type": "stream",
     "text": [
      "(720, 1280, 3)\n",
      "left offset -1.68823773993 right offset 2.04541817425\n",
      "13000.4281595 m 7822.2671822 m\n"
     ]
    },
    {
     "name": "stderr",
     "output_type": "stream",
     "text": [
      "\r",
      " 34%|████████████████████████▎                                              | 431/1261 [02:08<04:10,  3.32it/s]"
     ]
    },
    {
     "name": "stdout",
     "output_type": "stream",
     "text": [
      "(720, 1280, 3)\n",
      "left offset -1.70590163801 right offset 2.0331428801\n",
      "112356.856513 m 4949.78839725 m\n"
     ]
    },
    {
     "name": "stderr",
     "output_type": "stream",
     "text": [
      "\r",
      " 34%|████████████████████████▎                                              | 432/1261 [02:08<04:10,  3.31it/s]"
     ]
    },
    {
     "name": "stdout",
     "output_type": "stream",
     "text": [
      "(720, 1280, 3)\n",
      "left offset -1.73665818939 right offset 2.05928177618\n",
      "11744.10051 m 11652.0782075 m\n"
     ]
    },
    {
     "name": "stderr",
     "output_type": "stream",
     "text": [
      "\r",
      " 34%|████████████████████████▍                                              | 433/1261 [02:09<04:14,  3.25it/s]"
     ]
    },
    {
     "name": "stdout",
     "output_type": "stream",
     "text": [
      "(720, 1280, 3)\n",
      "left offset -1.73743989069 right offset 2.03373092778\n",
      "14831.4584714 m 3670.91675441 m\n"
     ]
    },
    {
     "name": "stderr",
     "output_type": "stream",
     "text": [
      "\r",
      " 34%|████████████████████████▍                                              | 434/1261 [02:09<04:07,  3.34it/s]"
     ]
    },
    {
     "name": "stdout",
     "output_type": "stream",
     "text": [
      "(720, 1280, 3)\n",
      "left offset -1.74280377819 right offset 2.03108235382\n",
      "18735.9594535 m 4897.95172142 m\n"
     ]
    },
    {
     "name": "stderr",
     "output_type": "stream",
     "text": [
      "\r",
      " 34%|████████████████████████▍                                              | 435/1261 [02:09<04:02,  3.40it/s]"
     ]
    },
    {
     "name": "stdout",
     "output_type": "stream",
     "text": [
      "(720, 1280, 3)\n",
      "left offset -1.73091845547 right offset 2.05469091359\n",
      "72165.4321934 m 8852.92960165 m\n"
     ]
    },
    {
     "name": "stderr",
     "output_type": "stream",
     "text": [
      "\r",
      " 35%|████████████████████████▌                                              | 436/1261 [02:09<03:54,  3.51it/s]"
     ]
    },
    {
     "name": "stdout",
     "output_type": "stream",
     "text": [
      "(720, 1280, 3)\n",
      "left offset -1.73695293722 right offset 2.08146526642\n",
      "28655.3928186 m 48762.1235308 m\n"
     ]
    },
    {
     "name": "stderr",
     "output_type": "stream",
     "text": [
      "\r",
      " 35%|████████████████████████▌                                              | 437/1261 [02:10<03:52,  3.55it/s]"
     ]
    },
    {
     "name": "stdout",
     "output_type": "stream",
     "text": [
      "(720, 1280, 3)\n",
      "left offset -1.72420444586 right offset 2.08001930701\n",
      "17465.4461402 m 20515.5147243 m\n"
     ]
    },
    {
     "name": "stderr",
     "output_type": "stream",
     "text": [
      "\r",
      " 35%|████████████████████████▋                                              | 438/1261 [02:10<03:50,  3.57it/s]"
     ]
    },
    {
     "name": "stdout",
     "output_type": "stream",
     "text": [
      "(720, 1280, 3)\n",
      "left offset -1.75048565558 right offset 2.03287589573\n",
      "15252.7856762 m 5712.18460801 m\n"
     ]
    },
    {
     "name": "stderr",
     "output_type": "stream",
     "text": [
      "\r",
      " 35%|████████████████████████▋                                              | 439/1261 [02:10<03:51,  3.55it/s]"
     ]
    },
    {
     "name": "stdout",
     "output_type": "stream",
     "text": [
      "(720, 1280, 3)\n",
      "left offset -1.75047818974 right offset 2.02499188837\n",
      "16821.0318159 m 4654.07524942 m\n"
     ]
    },
    {
     "name": "stderr",
     "output_type": "stream",
     "text": [
      "\r",
      " 35%|████████████████████████▊                                              | 440/1261 [02:10<03:52,  3.52it/s]"
     ]
    },
    {
     "name": "stdout",
     "output_type": "stream",
     "text": [
      "(720, 1280, 3)\n",
      "left offset -1.75739659792 right offset 2.06462736995\n",
      "9185.33865254 m 19518.3613438 m\n"
     ]
    },
    {
     "name": "stderr",
     "output_type": "stream",
     "text": [
      "\r",
      " 35%|████████████████████████▊                                              | 441/1261 [02:11<04:09,  3.28it/s]"
     ]
    },
    {
     "name": "stdout",
     "output_type": "stream",
     "text": [
      "(720, 1280, 3)\n",
      "left offset -1.75158535416 right offset 2.02204975652\n",
      "30905.1086927 m 4765.00925721 m\n"
     ]
    },
    {
     "name": "stderr",
     "output_type": "stream",
     "text": [
      "\r",
      " 35%|████████████████████████▉                                              | 442/1261 [02:11<04:28,  3.05it/s]"
     ]
    },
    {
     "name": "stdout",
     "output_type": "stream",
     "text": [
      "(720, 1280, 3)\n",
      "left offset -1.78753065965 right offset 2.03647722329\n",
      "16729.752961 m 5162.49905315 m\n"
     ]
    },
    {
     "name": "stderr",
     "output_type": "stream",
     "text": [
      "\r",
      " 35%|████████████████████████▉                                              | 443/1261 [02:12<04:41,  2.90it/s]"
     ]
    },
    {
     "name": "stdout",
     "output_type": "stream",
     "text": [
      "(720, 1280, 3)\n",
      "left offset -1.80193787385 right offset 2.04642963764\n",
      "11178.1688343 m 7730.79161583 m\n"
     ]
    },
    {
     "name": "stderr",
     "output_type": "stream",
     "text": [
      "\r",
      " 35%|████████████████████████▉                                              | 444/1261 [02:12<04:36,  2.95it/s]"
     ]
    },
    {
     "name": "stdout",
     "output_type": "stream",
     "text": [
      "(720, 1280, 3)\n",
      "left offset -1.80808607434 right offset 2.0362975028\n",
      "8819.56526277 m 6291.18352096 m\n"
     ]
    },
    {
     "name": "stderr",
     "output_type": "stream",
     "text": [
      "\r",
      " 35%|█████████████████████████                                              | 445/1261 [02:12<04:23,  3.10it/s]"
     ]
    },
    {
     "name": "stdout",
     "output_type": "stream",
     "text": [
      "(720, 1280, 3)\n",
      "left offset -1.82032346188 right offset 2.03333905726\n",
      "12097.0464625 m 5796.44493225 m\n"
     ]
    },
    {
     "name": "stderr",
     "output_type": "stream",
     "text": [
      "\r",
      " 35%|█████████████████████████                                              | 446/1261 [02:12<04:06,  3.30it/s]"
     ]
    },
    {
     "name": "stdout",
     "output_type": "stream",
     "text": [
      "(720, 1280, 3)\n",
      "left offset -1.79847803981 right offset 2.06956704838\n",
      "26767.8807899 m 61013.1503439 m\n"
     ]
    },
    {
     "name": "stderr",
     "output_type": "stream",
     "text": [
      "\r",
      " 35%|█████████████████████████▏                                             | 447/1261 [02:13<03:54,  3.47it/s]"
     ]
    },
    {
     "name": "stdout",
     "output_type": "stream",
     "text": [
      "(720, 1280, 3)\n",
      "left offset -1.83247134688 right offset 2.09564156056\n",
      "5377.03083153 m 10151.0256843 m\n"
     ]
    },
    {
     "name": "stderr",
     "output_type": "stream",
     "text": [
      "\r",
      " 36%|█████████████████████████▏                                             | 448/1261 [02:13<03:46,  3.59it/s]"
     ]
    },
    {
     "name": "stdout",
     "output_type": "stream",
     "text": [
      "(720, 1280, 3)\n",
      "left offset -1.84871254005 right offset 2.10908306591\n",
      "3435.61032299 m 12674.8335938 m\n"
     ]
    },
    {
     "name": "stderr",
     "output_type": "stream",
     "text": [
      "\r",
      " 36%|█████████████████████████▎                                             | 449/1261 [02:13<03:39,  3.70it/s]"
     ]
    },
    {
     "name": "stdout",
     "output_type": "stream",
     "text": [
      "(720, 1280, 3)\n",
      "left offset -1.83571472491 right offset 2.07654481744\n",
      "5217.17684923 m 34479.9859076 m\n"
     ]
    },
    {
     "name": "stderr",
     "output_type": "stream",
     "text": [
      "\r",
      " 36%|█████████████████████████▎                                             | 450/1261 [02:14<03:36,  3.75it/s]"
     ]
    },
    {
     "name": "stdout",
     "output_type": "stream",
     "text": [
      "(720, 1280, 3)\n",
      "left offset -1.85180322743 right offset 2.0543308121\n",
      "4901.24931433 m 21374.9149052 m\n"
     ]
    },
    {
     "name": "stderr",
     "output_type": "stream",
     "text": [
      "\r",
      " 36%|█████████████████████████▍                                             | 451/1261 [02:14<03:50,  3.52it/s]"
     ]
    },
    {
     "name": "stdout",
     "output_type": "stream",
     "text": [
      "(720, 1280, 3)\n",
      "left offset -1.85584219182 right offset 2.05889415916\n",
      "4368.26339415 m 92752.2612209 m\n"
     ]
    },
    {
     "name": "stderr",
     "output_type": "stream",
     "text": [
      "\r",
      " 36%|█████████████████████████▍                                             | 452/1261 [02:14<04:17,  3.14it/s]"
     ]
    },
    {
     "name": "stdout",
     "output_type": "stream",
     "text": [
      "(720, 1280, 3)\n",
      "left offset -1.85905784454 right offset 2.07915529118\n",
      "3967.17834478 m 20505.0736012 m\n"
     ]
    },
    {
     "name": "stderr",
     "output_type": "stream",
     "text": [
      "\r",
      " 36%|█████████████████████████▌                                             | 453/1261 [02:15<04:24,  3.05it/s]"
     ]
    },
    {
     "name": "stdout",
     "output_type": "stream",
     "text": [
      "(720, 1280, 3)\n",
      "left offset -1.85629186846 right offset 2.07922583046\n",
      "2924.3245468 m 10369.5386697 m\n"
     ]
    },
    {
     "name": "stderr",
     "output_type": "stream",
     "text": [
      "\r",
      " 36%|█████████████████████████▌                                             | 454/1261 [02:15<04:22,  3.07it/s]"
     ]
    },
    {
     "name": "stdout",
     "output_type": "stream",
     "text": [
      "(720, 1280, 3)\n",
      "left offset -1.84166520331 right offset 2.05941320771\n",
      "2940.32872122 m 25671.8444726 m\n"
     ]
    },
    {
     "name": "stderr",
     "output_type": "stream",
     "text": [
      "\r",
      " 36%|█████████████████████████▌                                             | 455/1261 [02:15<04:18,  3.12it/s]"
     ]
    },
    {
     "name": "stdout",
     "output_type": "stream",
     "text": [
      "(720, 1280, 3)\n",
      "left offset -1.82216465759 right offset 2.03654500588\n",
      "3743.72493556 m 20762.0468412 m\n"
     ]
    },
    {
     "name": "stderr",
     "output_type": "stream",
     "text": [
      "\r",
      " 36%|█████████████████████████▋                                             | 456/1261 [02:15<04:09,  3.23it/s]"
     ]
    },
    {
     "name": "stdout",
     "output_type": "stream",
     "text": [
      "(720, 1280, 3)\n",
      "left offset -1.81089652005 right offset 2.06546405322\n",
      "3839.40976026 m 9914.96209659 m\n"
     ]
    },
    {
     "name": "stderr",
     "output_type": "stream",
     "text": [
      "\r",
      " 36%|█████████████████████████▋                                             | 457/1261 [02:16<03:58,  3.37it/s]"
     ]
    },
    {
     "name": "stdout",
     "output_type": "stream",
     "text": [
      "(720, 1280, 3)\n",
      "left offset -1.82596322903 right offset 2.04400543391\n",
      "2808.23963582 m 22596.9738574 m\n"
     ]
    },
    {
     "name": "stderr",
     "output_type": "stream",
     "text": [
      "\r",
      " 36%|█████████████████████████▊                                             | 458/1261 [02:16<03:54,  3.43it/s]"
     ]
    },
    {
     "name": "stdout",
     "output_type": "stream",
     "text": [
      "(720, 1280, 3)\n",
      "left offset -1.79409537318 right offset 2.0693837335\n",
      "3498.88507278 m 7497.73468841 m\n"
     ]
    },
    {
     "name": "stderr",
     "output_type": "stream",
     "text": [
      "\r",
      " 36%|█████████████████████████▊                                             | 459/1261 [02:16<03:53,  3.43it/s]"
     ]
    },
    {
     "name": "stdout",
     "output_type": "stream",
     "text": [
      "(720, 1280, 3)\n",
      "left offset -1.78750847004 right offset 2.06280470854\n",
      "4329.15469287 m 7776.97011254 m\n"
     ]
    },
    {
     "name": "stderr",
     "output_type": "stream",
     "text": [
      "\r",
      " 36%|█████████████████████████▉                                             | 460/1261 [02:17<03:50,  3.47it/s]"
     ]
    },
    {
     "name": "stdout",
     "output_type": "stream",
     "text": [
      "(720, 1280, 3)\n",
      "left offset -1.76401283599 right offset 2.09253596436\n",
      "7450.40183871 m 5652.89014587 m\n"
     ]
    },
    {
     "name": "stderr",
     "output_type": "stream",
     "text": [
      "\r",
      " 37%|█████████████████████████▉                                             | 461/1261 [02:17<03:56,  3.39it/s]"
     ]
    },
    {
     "name": "stdout",
     "output_type": "stream",
     "text": [
      "(720, 1280, 3)\n",
      "left offset -1.7921813296 right offset 2.10178988261\n",
      "3743.51809499 m 4580.07736739 m\n"
     ]
    },
    {
     "name": "stderr",
     "output_type": "stream",
     "text": [
      "\r",
      " 37%|██████████████████████████                                             | 462/1261 [02:17<04:08,  3.21it/s]"
     ]
    },
    {
     "name": "stdout",
     "output_type": "stream",
     "text": [
      "(720, 1280, 3)\n",
      "left offset -1.80013889635 right offset 2.10123399568\n",
      "3045.65424763 m 5568.82757597 m\n"
     ]
    },
    {
     "name": "stderr",
     "output_type": "stream",
     "text": [
      "\r",
      " 37%|██████████████████████████                                             | 463/1261 [02:18<04:18,  3.09it/s]"
     ]
    },
    {
     "name": "stdout",
     "output_type": "stream",
     "text": [
      "(720, 1280, 3)\n",
      "left offset -1.79134908812 right offset 2.03268895474\n",
      "2697.51912757 m 86549.6464505 m\n"
     ]
    },
    {
     "name": "stderr",
     "output_type": "stream",
     "text": [
      "\r",
      " 37%|██████████████████████████▏                                            | 464/1261 [02:18<04:12,  3.15it/s]"
     ]
    },
    {
     "name": "stdout",
     "output_type": "stream",
     "text": [
      "(720, 1280, 3)\n",
      "left offset -1.76795989479 right offset 2.0450072785\n",
      "3949.1289434 m 11812.5655448 m\n"
     ]
    },
    {
     "name": "stderr",
     "output_type": "stream",
     "text": [
      "\r",
      " 37%|██████████████████████████▏                                            | 465/1261 [02:18<04:02,  3.28it/s]"
     ]
    },
    {
     "name": "stdout",
     "output_type": "stream",
     "text": [
      "(720, 1280, 3)\n",
      "left offset -1.7602491752 right offset 2.01376050535\n",
      "5243.91016108 m 54943.7616652 m\n"
     ]
    },
    {
     "name": "stderr",
     "output_type": "stream",
     "text": [
      "\r",
      " 37%|██████████████████████████▏                                            | 466/1261 [02:18<03:59,  3.33it/s]"
     ]
    },
    {
     "name": "stdout",
     "output_type": "stream",
     "text": [
      "(720, 1280, 3)\n",
      "left offset -1.72788450449 right offset 2.00610603619\n",
      "51672.4683967 m 15720.471697 m\n"
     ]
    },
    {
     "name": "stderr",
     "output_type": "stream",
     "text": [
      "\r",
      " 37%|██████████████████████████▎                                            | 467/1261 [02:19<03:51,  3.42it/s]"
     ]
    },
    {
     "name": "stdout",
     "output_type": "stream",
     "text": [
      "(720, 1280, 3)\n",
      "left offset -1.70762634653 right offset 2.00694822952\n",
      "19896.5700517 m 17376.8174402 m\n"
     ]
    },
    {
     "name": "stderr",
     "output_type": "stream",
     "text": [
      "\r",
      " 37%|██████████████████████████▎                                            | 468/1261 [02:19<03:53,  3.40it/s]"
     ]
    },
    {
     "name": "stdout",
     "output_type": "stream",
     "text": [
      "(720, 1280, 3)\n",
      "left offset -1.70110331817 right offset 1.98736200422\n",
      "29051.2939453 m 6469.87195146 m\n"
     ]
    },
    {
     "name": "stderr",
     "output_type": "stream",
     "text": [
      "\r",
      " 37%|██████████████████████████▍                                            | 469/1261 [02:19<03:47,  3.48it/s]"
     ]
    },
    {
     "name": "stdout",
     "output_type": "stream",
     "text": [
      "(720, 1280, 3)\n",
      "left offset -1.73927248584 right offset 1.99448554259\n",
      "9053.96275178 m 10690.3128118 m\n"
     ]
    },
    {
     "name": "stderr",
     "output_type": "stream",
     "text": [
      "\r",
      " 37%|██████████████████████████▍                                            | 470/1261 [02:20<03:49,  3.45it/s]"
     ]
    },
    {
     "name": "stdout",
     "output_type": "stream",
     "text": [
      "(720, 1280, 3)\n",
      "left offset -1.68401276954 right offset 2.0017165276\n",
      "9511.50658262 m 12658.9152008 m\n"
     ]
    },
    {
     "name": "stderr",
     "output_type": "stream",
     "text": [
      "\r",
      " 37%|██████████████████████████▌                                            | 471/1261 [02:20<03:54,  3.36it/s]"
     ]
    },
    {
     "name": "stdout",
     "output_type": "stream",
     "text": [
      "(720, 1280, 3)\n",
      "left offset -1.7049859347 right offset 2.00063015304\n",
      "33821.1166795 m 18365.3599565 m\n"
     ]
    },
    {
     "name": "stderr",
     "output_type": "stream",
     "text": [
      "\r",
      " 37%|██████████████████████████▌                                            | 472/1261 [02:20<03:50,  3.43it/s]"
     ]
    },
    {
     "name": "stdout",
     "output_type": "stream",
     "text": [
      "(720, 1280, 3)\n",
      "left offset -1.69205242326 right offset 1.97636845067\n",
      "21863.3684595 m 11291.6314935 m\n"
     ]
    },
    {
     "name": "stderr",
     "output_type": "stream",
     "text": [
      "\r",
      " 38%|██████████████████████████▋                                            | 473/1261 [02:20<03:46,  3.48it/s]"
     ]
    },
    {
     "name": "stdout",
     "output_type": "stream",
     "text": [
      "(720, 1280, 3)\n",
      "left offset -1.69679612968 right offset 1.97732060812\n",
      "36502.2420947 m 14857.3417675 m\n"
     ]
    },
    {
     "name": "stderr",
     "output_type": "stream",
     "text": [
      "\r",
      " 38%|██████████████████████████▋                                            | 474/1261 [02:21<03:42,  3.53it/s]"
     ]
    },
    {
     "name": "stdout",
     "output_type": "stream",
     "text": [
      "(720, 1280, 3)\n",
      "left offset -1.69479691077 right offset 1.99097305383\n",
      "12639.0002654 m 13396.3315804 m\n"
     ]
    },
    {
     "name": "stderr",
     "output_type": "stream",
     "text": [
      "\r",
      " 38%|██████████████████████████▋                                            | 475/1261 [02:21<03:39,  3.58it/s]"
     ]
    },
    {
     "name": "stdout",
     "output_type": "stream",
     "text": [
      "(720, 1280, 3)\n",
      "left offset -1.67966110535 right offset 1.99676772345\n",
      "10673.8938083 m 16909.2033847 m\n"
     ]
    },
    {
     "name": "stderr",
     "output_type": "stream",
     "text": [
      "\r",
      " 38%|██████████████████████████▊                                            | 476/1261 [02:21<03:34,  3.66it/s]"
     ]
    },
    {
     "name": "stdout",
     "output_type": "stream",
     "text": [
      "(720, 1280, 3)\n",
      "left offset -1.70701683606 right offset 1.99741518215\n",
      "23680.9300108 m 7561.29017952 m\n"
     ]
    },
    {
     "name": "stderr",
     "output_type": "stream",
     "text": [
      "\r",
      " 38%|██████████████████████████▊                                            | 477/1261 [02:22<03:32,  3.68it/s]"
     ]
    },
    {
     "name": "stdout",
     "output_type": "stream",
     "text": [
      "(720, 1280, 3)\n",
      "left offset -1.69911521779 right offset 2.03133234042\n",
      "10061.4626543 m 22014.5749971 m\n"
     ]
    },
    {
     "name": "stderr",
     "output_type": "stream",
     "text": [
      "\r",
      " 38%|██████████████████████████▉                                            | 478/1261 [02:22<03:35,  3.64it/s]"
     ]
    },
    {
     "name": "stdout",
     "output_type": "stream",
     "text": [
      "(720, 1280, 3)\n",
      "left offset -1.70127897759 right offset 2.03797106386\n",
      "9143.71363088 m 21412.1365193 m\n"
     ]
    },
    {
     "name": "stderr",
     "output_type": "stream",
     "text": [
      "\r",
      " 38%|██████████████████████████▉                                            | 479/1261 [02:22<03:34,  3.65it/s]"
     ]
    },
    {
     "name": "stdout",
     "output_type": "stream",
     "text": [
      "(720, 1280, 3)\n",
      "left offset -1.70136102429 right offset 2.0531541047\n",
      "8714.97285862 m 17240.4285714 m\n"
     ]
    },
    {
     "name": "stderr",
     "output_type": "stream",
     "text": [
      "\r",
      " 38%|███████████████████████████                                            | 480/1261 [02:22<03:41,  3.53it/s]"
     ]
    },
    {
     "name": "stdout",
     "output_type": "stream",
     "text": [
      "(720, 1280, 3)\n",
      "left offset -1.72922686876 right offset 2.05578320261\n",
      "67980.7195974 m 21855.0507226 m\n"
     ]
    },
    {
     "name": "stderr",
     "output_type": "stream",
     "text": [
      "\r",
      " 38%|███████████████████████████                                            | 481/1261 [02:23<03:44,  3.47it/s]"
     ]
    },
    {
     "name": "stdout",
     "output_type": "stream",
     "text": [
      "(720, 1280, 3)\n",
      "left offset -1.73886837088 right offset 2.07111232404\n",
      "46473.4122451 m 19141.7585446 m\n"
     ]
    },
    {
     "name": "stderr",
     "output_type": "stream",
     "text": [
      "\r",
      " 38%|███████████████████████████▏                                           | 482/1261 [02:23<03:46,  3.43it/s]"
     ]
    },
    {
     "name": "stdout",
     "output_type": "stream",
     "text": [
      "(720, 1280, 3)\n",
      "left offset -1.74538985265 right offset 2.04538959289\n",
      "19125.8175187 m 7668.50380357 m\n"
     ]
    },
    {
     "name": "stderr",
     "output_type": "stream",
     "text": [
      "\r",
      " 38%|███████████████████████████▏                                           | 483/1261 [02:23<03:41,  3.51it/s]"
     ]
    },
    {
     "name": "stdout",
     "output_type": "stream",
     "text": [
      "(720, 1280, 3)\n",
      "left offset -1.75150206713 right offset 2.05224594343\n",
      "67039.8521907 m 7993.80577697 m\n"
     ]
    },
    {
     "name": "stderr",
     "output_type": "stream",
     "text": [
      "\r",
      " 38%|███████████████████████████▎                                           | 484/1261 [02:24<03:39,  3.54it/s]"
     ]
    },
    {
     "name": "stdout",
     "output_type": "stream",
     "text": [
      "(720, 1280, 3)\n",
      "left offset -1.75215372234 right offset 1.98971055095\n",
      "42548.7706306 m 3087.13030499 m\n"
     ]
    },
    {
     "name": "stderr",
     "output_type": "stream",
     "text": [
      "\r",
      " 38%|███████████████████████████▎                                           | 485/1261 [02:24<03:35,  3.60it/s]"
     ]
    },
    {
     "name": "stdout",
     "output_type": "stream",
     "text": [
      "(720, 1280, 3)\n",
      "left offset -1.727439151 right offset 2.07286759161\n",
      "9107.49176731 m 8333.0812785 m\n"
     ]
    },
    {
     "name": "stderr",
     "output_type": "stream",
     "text": [
      "\r",
      " 39%|███████████████████████████▎                                           | 486/1261 [02:24<03:35,  3.60it/s]"
     ]
    },
    {
     "name": "stdout",
     "output_type": "stream",
     "text": [
      "(720, 1280, 3)\n",
      "left offset -1.74666167913 right offset 2.08821664844\n",
      "66226.8191752 m 16771.1979833 m\n"
     ]
    },
    {
     "name": "stderr",
     "output_type": "stream",
     "text": [
      "\r",
      " 39%|███████████████████████████▍                                           | 487/1261 [02:24<03:35,  3.59it/s]"
     ]
    },
    {
     "name": "stdout",
     "output_type": "stream",
     "text": [
      "(720, 1280, 3)\n",
      "left offset -1.74241840589 right offset 2.0612607966\n",
      "1891072.5621 m 7863.09829886 m\n"
     ]
    },
    {
     "name": "stderr",
     "output_type": "stream",
     "text": [
      "\r",
      " 39%|███████████████████████████▍                                           | 488/1261 [02:25<03:34,  3.60it/s]"
     ]
    },
    {
     "name": "stdout",
     "output_type": "stream",
     "text": [
      "(720, 1280, 3)\n",
      "left offset -1.73640285861 right offset 2.03327427979\n",
      "17922.5138832 m 3537.06292276 m\n"
     ]
    },
    {
     "name": "stderr",
     "output_type": "stream",
     "text": [
      "\r",
      " 39%|███████████████████████████▌                                           | 489/1261 [02:25<03:31,  3.64it/s]"
     ]
    },
    {
     "name": "stdout",
     "output_type": "stream",
     "text": [
      "(720, 1280, 3)\n",
      "left offset -1.72322363942 right offset 2.12720251632\n",
      "25790.0638246 m 6765.22620745 m\n"
     ]
    },
    {
     "name": "stderr",
     "output_type": "stream",
     "text": [
      "\r",
      " 39%|███████████████████████████▌                                           | 490/1261 [02:25<03:32,  3.62it/s]"
     ]
    },
    {
     "name": "stdout",
     "output_type": "stream",
     "text": [
      "(720, 1280, 3)\n",
      "left offset -1.71476982492 right offset 2.05943367777\n",
      "18043.5362458 m 5946.48692243 m\n"
     ]
    },
    {
     "name": "stderr",
     "output_type": "stream",
     "text": [
      "\r",
      " 39%|███████████████████████████▋                                           | 491/1261 [02:26<03:33,  3.61it/s]"
     ]
    },
    {
     "name": "stdout",
     "output_type": "stream",
     "text": [
      "(720, 1280, 3)\n",
      "left offset -1.71946908166 right offset 2.04393227751\n",
      "46611.520528 m 4172.23949176 m\n"
     ]
    },
    {
     "name": "stderr",
     "output_type": "stream",
     "text": [
      "\r",
      " 39%|███████████████████████████▋                                           | 492/1261 [02:26<03:34,  3.59it/s]"
     ]
    },
    {
     "name": "stdout",
     "output_type": "stream",
     "text": [
      "(720, 1280, 3)\n",
      "left offset -1.74702595085 right offset 2.06652464967\n",
      "6584.39511207 m 6342.39151806 m\n"
     ]
    },
    {
     "name": "stderr",
     "output_type": "stream",
     "text": [
      "\r",
      " 39%|███████████████████████████▊                                           | 493/1261 [02:26<03:33,  3.60it/s]"
     ]
    },
    {
     "name": "stdout",
     "output_type": "stream",
     "text": [
      "(720, 1280, 3)\n",
      "left offset -1.75870543607 right offset 2.05822844497\n",
      "5762.83154748 m 3913.18960716 m\n"
     ]
    },
    {
     "name": "stderr",
     "output_type": "stream",
     "text": [
      "\r",
      " 39%|███████████████████████████▊                                           | 494/1261 [02:26<03:34,  3.57it/s]"
     ]
    },
    {
     "name": "stdout",
     "output_type": "stream",
     "text": [
      "(720, 1280, 3)\n",
      "left offset -1.75620334195 right offset 2.05263240403\n",
      "8041.20153948 m 3903.18536231 m\n"
     ]
    },
    {
     "name": "stderr",
     "output_type": "stream",
     "text": [
      "\r",
      " 39%|███████████████████████████▊                                           | 495/1261 [02:27<03:33,  3.59it/s]"
     ]
    },
    {
     "name": "stdout",
     "output_type": "stream",
     "text": [
      "(720, 1280, 3)\n",
      "left offset -1.76373435341 right offset 2.0521291031\n",
      "5067.16536404 m 4481.09623043 m\n"
     ]
    },
    {
     "name": "stderr",
     "output_type": "stream",
     "text": [
      "\r",
      " 39%|███████████████████████████▉                                           | 496/1261 [02:27<03:34,  3.56it/s]"
     ]
    },
    {
     "name": "stdout",
     "output_type": "stream",
     "text": [
      "(720, 1280, 3)\n",
      "left offset -1.75892338987 right offset 2.06737669523\n",
      "4865.3119415 m 6661.55573843 m\n"
     ]
    },
    {
     "name": "stderr",
     "output_type": "stream",
     "text": [
      "\r",
      " 39%|███████████████████████████▉                                           | 497/1261 [02:27<03:31,  3.61it/s]"
     ]
    },
    {
     "name": "stdout",
     "output_type": "stream",
     "text": [
      "(720, 1280, 3)\n",
      "left offset -1.74474333392 right offset 2.07150377352\n",
      "6518.432359 m 7401.18137687 m\n"
     ]
    },
    {
     "name": "stderr",
     "output_type": "stream",
     "text": [
      "\r",
      " 39%|████████████████████████████                                           | 498/1261 [02:27<03:30,  3.62it/s]"
     ]
    },
    {
     "name": "stdout",
     "output_type": "stream",
     "text": [
      "(720, 1280, 3)\n",
      "left offset -1.74109073807 right offset 2.07549103648\n",
      "16943.8345626 m 7018.93249529 m\n"
     ]
    },
    {
     "name": "stderr",
     "output_type": "stream",
     "text": [
      "\r",
      " 40%|████████████████████████████                                           | 499/1261 [02:28<03:29,  3.64it/s]"
     ]
    },
    {
     "name": "stdout",
     "output_type": "stream",
     "text": [
      "(720, 1280, 3)\n",
      "left offset -1.72689257206 right offset 2.06330891029\n",
      "32666.5878363 m 5079.28419605 m\n"
     ]
    },
    {
     "name": "stderr",
     "output_type": "stream",
     "text": [
      "\r",
      " 40%|████████████████████████████▏                                          | 500/1261 [02:28<03:29,  3.63it/s]"
     ]
    },
    {
     "name": "stdout",
     "output_type": "stream",
     "text": [
      "(720, 1280, 3)\n",
      "left offset -1.72606298592 right offset 2.09608032703\n",
      "27047.7447207 m 7626.7460945 m\n"
     ]
    },
    {
     "name": "stderr",
     "output_type": "stream",
     "text": [
      "\r",
      " 40%|████████████████████████████▏                                          | 501/1261 [02:28<03:38,  3.47it/s]"
     ]
    },
    {
     "name": "stdout",
     "output_type": "stream",
     "text": [
      "(720, 1280, 3)\n",
      "left offset -1.77506898464 right offset 2.09084258977\n",
      "4865.71854318 m 4886.63868213 m\n"
     ]
    },
    {
     "name": "stderr",
     "output_type": "stream",
     "text": [
      "\r",
      " 40%|████████████████████████████▎                                          | 502/1261 [02:29<03:50,  3.29it/s]"
     ]
    },
    {
     "name": "stdout",
     "output_type": "stream",
     "text": [
      "(720, 1280, 3)\n",
      "left offset -1.726893863 right offset 2.12943702544\n",
      "28083.6698882 m 28316.8858909 m\n"
     ]
    },
    {
     "name": "stderr",
     "output_type": "stream",
     "text": [
      "\r",
      " 40%|████████████████████████████▎                                          | 503/1261 [02:29<03:48,  3.32it/s]"
     ]
    },
    {
     "name": "stdout",
     "output_type": "stream",
     "text": [
      "(720, 1280, 3)\n",
      "left offset -1.71820472112 right offset 2.14635796284\n",
      "21414.7314781 m 202384.542581 m\n"
     ]
    },
    {
     "name": "stderr",
     "output_type": "stream",
     "text": [
      "\r",
      " 40%|████████████████████████████▍                                          | 504/1261 [02:29<03:43,  3.39it/s]"
     ]
    },
    {
     "name": "stdout",
     "output_type": "stream",
     "text": [
      "(720, 1280, 3)\n",
      "left offset -1.72575456898 right offset 2.13050542678\n",
      "66579.1943144 m 8567.10063564 m\n"
     ]
    },
    {
     "name": "stderr",
     "output_type": "stream",
     "text": [
      "\r",
      " 40%|████████████████████████████▍                                          | 505/1261 [02:30<03:48,  3.30it/s]"
     ]
    },
    {
     "name": "stdout",
     "output_type": "stream",
     "text": [
      "(720, 1280, 3)\n",
      "left offset -1.73429542618 right offset 2.1618901473\n",
      "23175.3549843 m 12631.9101432 m\n"
     ]
    },
    {
     "name": "stderr",
     "output_type": "stream",
     "text": [
      "\r",
      " 40%|████████████████████████████▍                                          | 506/1261 [02:30<03:47,  3.32it/s]"
     ]
    },
    {
     "name": "stdout",
     "output_type": "stream",
     "text": [
      "(720, 1280, 3)\n",
      "left offset -1.751684581 right offset 2.16012130483\n",
      "7791.85680461 m 44101.6468864 m\n"
     ]
    },
    {
     "name": "stderr",
     "output_type": "stream",
     "text": [
      "\r",
      " 40%|████████████████████████████▌                                          | 507/1261 [02:30<03:54,  3.21it/s]"
     ]
    },
    {
     "name": "stdout",
     "output_type": "stream",
     "text": [
      "(720, 1280, 3)\n",
      "left offset -1.73949310531 right offset 2.10900879419\n",
      "14281.8687045 m 7195.36635686 m\n"
     ]
    },
    {
     "name": "stderr",
     "output_type": "stream",
     "text": [
      "\r",
      " 40%|████████████████████████████▌                                          | 508/1261 [02:31<04:01,  3.12it/s]"
     ]
    },
    {
     "name": "stdout",
     "output_type": "stream",
     "text": [
      "(720, 1280, 3)\n",
      "left offset -1.75136793486 right offset 2.14522930114\n",
      "11388.8281062 m 31605.6800672 m\n"
     ]
    },
    {
     "name": "stderr",
     "output_type": "stream",
     "text": [
      "\r",
      " 40%|████████████████████████████▋                                          | 509/1261 [02:31<04:00,  3.13it/s]"
     ]
    },
    {
     "name": "stdout",
     "output_type": "stream",
     "text": [
      "(720, 1280, 3)\n",
      "left offset -1.73133319575 right offset 2.13132093865\n",
      "135402.617702 m 21165.6241932 m\n"
     ]
    },
    {
     "name": "stderr",
     "output_type": "stream",
     "text": [
      "\r",
      " 40%|████████████████████████████▋                                          | 510/1261 [02:31<04:11,  2.99it/s]"
     ]
    },
    {
     "name": "stdout",
     "output_type": "stream",
     "text": [
      "(720, 1280, 3)\n",
      "left offset -1.76259019922 right offset 2.10273692935\n",
      "7275.9665455 m 10169.4788027 m\n"
     ]
    },
    {
     "name": "stderr",
     "output_type": "stream",
     "text": [
      "\r",
      " 41%|████████████████████████████▊                                          | 511/1261 [02:32<04:06,  3.04it/s]"
     ]
    },
    {
     "name": "stdout",
     "output_type": "stream",
     "text": [
      "(720, 1280, 3)\n",
      "left offset -1.7425577092 right offset 2.08904118539\n",
      "15724.1959192 m 8423.15534348 m\n"
     ]
    },
    {
     "name": "stderr",
     "output_type": "stream",
     "text": [
      "\r",
      " 41%|████████████████████████████▊                                          | 512/1261 [02:32<03:55,  3.18it/s]"
     ]
    },
    {
     "name": "stdout",
     "output_type": "stream",
     "text": [
      "(720, 1280, 3)\n",
      "left offset -1.67412240591 right offset 1.98841875091\n",
      "4620.54506381 m 1957.1107797 m\n"
     ]
    },
    {
     "name": "stderr",
     "output_type": "stream",
     "text": [
      "\r",
      " 41%|████████████████████████████▉                                          | 513/1261 [02:32<03:44,  3.32it/s]"
     ]
    },
    {
     "name": "stdout",
     "output_type": "stream",
     "text": [
      "(720, 1280, 3)\n",
      "left offset -1.67054897807 right offset 2.04817033432\n",
      "3574.11976433 m 3011.17779853 m\n"
     ]
    },
    {
     "name": "stderr",
     "output_type": "stream",
     "text": [
      "\r",
      " 41%|████████████████████████████▉                                          | 514/1261 [02:32<03:42,  3.36it/s]"
     ]
    },
    {
     "name": "stdout",
     "output_type": "stream",
     "text": [
      "(720, 1280, 3)\n",
      "left offset -1.67206343385 right offset 2.03471511488\n",
      "3677.47246137 m 2311.83426583 m\n"
     ]
    },
    {
     "name": "stderr",
     "output_type": "stream",
     "text": [
      "\r",
      " 41%|████████████████████████████▉                                          | 515/1261 [02:33<03:31,  3.52it/s]"
     ]
    },
    {
     "name": "stdout",
     "output_type": "stream",
     "text": [
      "(720, 1280, 3)\n",
      "left offset -1.68589872364 right offset 2.02328634636\n",
      "3806.91776952 m 1943.58102223 m\n"
     ]
    },
    {
     "name": "stderr",
     "output_type": "stream",
     "text": [
      "\r",
      " 41%|█████████████████████████████                                          | 516/1261 [02:33<03:26,  3.60it/s]"
     ]
    },
    {
     "name": "stdout",
     "output_type": "stream",
     "text": [
      "(720, 1280, 3)\n",
      "left offset -1.77125482674 right offset 2.07103370899\n",
      "4231.95174061 m 4000.92867929 m\n"
     ]
    },
    {
     "name": "stderr",
     "output_type": "stream",
     "text": [
      "\r",
      " 41%|█████████████████████████████                                          | 517/1261 [02:33<03:24,  3.64it/s]"
     ]
    },
    {
     "name": "stdout",
     "output_type": "stream",
     "text": [
      "(720, 1280, 3)\n",
      "left offset -1.84662076226 right offset 2.0606838873\n",
      "1288.79485837 m 3183.70425692 m\n"
     ]
    },
    {
     "name": "stderr",
     "output_type": "stream",
     "text": [
      "\r",
      " 41%|█████████████████████████████▏                                         | 518/1261 [02:33<03:21,  3.69it/s]"
     ]
    },
    {
     "name": "stdout",
     "output_type": "stream",
     "text": [
      "(720, 1280, 3)\n",
      "left offset -1.67707973608 right offset 2.0677067401\n",
      "3113.07686425 m 4469.01193463 m\n"
     ]
    },
    {
     "name": "stderr",
     "output_type": "stream",
     "text": [
      "\r",
      " 41%|█████████████████████████████▏                                         | 519/1261 [02:34<03:22,  3.66it/s]"
     ]
    },
    {
     "name": "stdout",
     "output_type": "stream",
     "text": [
      "(720, 1280, 3)\n",
      "left offset -1.75802380454 right offset 2.17130392085\n",
      "5238.84539139 m 451945.42385 m\n"
     ]
    },
    {
     "name": "stderr",
     "output_type": "stream",
     "text": [
      "\r",
      " 41%|█████████████████████████████▎                                         | 520/1261 [02:34<03:19,  3.72it/s]"
     ]
    },
    {
     "name": "stdout",
     "output_type": "stream",
     "text": [
      "(720, 1280, 3)\n",
      "left offset -1.75038561199 right offset 2.16037057612\n",
      "4941.89764591 m 119287.352772 m\n"
     ]
    },
    {
     "name": "stderr",
     "output_type": "stream",
     "text": [
      "\r",
      " 41%|█████████████████████████████▎                                         | 521/1261 [02:34<03:16,  3.77it/s]"
     ]
    },
    {
     "name": "stdout",
     "output_type": "stream",
     "text": [
      "(720, 1280, 3)\n",
      "left offset -1.64516194395 right offset 2.20563365368\n",
      "1687.68733233 m 7303.99518781 m\n"
     ]
    },
    {
     "name": "stderr",
     "output_type": "stream",
     "text": [
      "\r",
      " 41%|█████████████████████████████▍                                         | 522/1261 [02:34<03:19,  3.71it/s]"
     ]
    },
    {
     "name": "stdout",
     "output_type": "stream",
     "text": [
      "(720, 1280, 3)\n",
      "left offset -1.63424970393 right offset 2.16729966757\n",
      "1455.47853904 m 42081.8012998 m\n"
     ]
    },
    {
     "name": "stderr",
     "output_type": "stream",
     "text": [
      "\r",
      " 41%|█████████████████████████████▍                                         | 523/1261 [02:35<03:21,  3.65it/s]"
     ]
    },
    {
     "name": "stdout",
     "output_type": "stream",
     "text": [
      "(720, 1280, 3)\n",
      "left offset -1.63541635248 right offset 2.04532323698\n",
      "1316.47693313 m 1768.20966849 m\n"
     ]
    },
    {
     "name": "stderr",
     "output_type": "stream",
     "text": [
      "\r",
      " 42%|█████████████████████████████▌                                         | 524/1261 [02:35<03:22,  3.64it/s]"
     ]
    },
    {
     "name": "stdout",
     "output_type": "stream",
     "text": [
      "(720, 1280, 3)\n",
      "left offset -1.68125480888 right offset 2.14697968541\n",
      "4900.40107391 m 39573.8179993 m\n"
     ]
    },
    {
     "name": "stderr",
     "output_type": "stream",
     "text": [
      "\r",
      " 42%|█████████████████████████████▌                                         | 525/1261 [02:35<03:33,  3.45it/s]"
     ]
    },
    {
     "name": "stdout",
     "output_type": "stream",
     "text": [
      "(720, 1280, 3)\n",
      "left offset -1.74494458841 right offset 2.1747521407\n",
      "5480.40978895 m 13203.0823521 m\n"
     ]
    },
    {
     "name": "stderr",
     "output_type": "stream",
     "text": [
      "\r",
      " 42%|█████████████████████████████▌                                         | 526/1261 [02:36<03:40,  3.34it/s]"
     ]
    },
    {
     "name": "stdout",
     "output_type": "stream",
     "text": [
      "(720, 1280, 3)\n",
      "left offset -1.66406673518 right offset 2.19898861866\n",
      "1598.11415956 m 5241.61675834 m\n"
     ]
    },
    {
     "name": "stderr",
     "output_type": "stream",
     "text": [
      "\r",
      " 42%|█████████████████████████████▋                                         | 527/1261 [02:36<03:38,  3.36it/s]"
     ]
    },
    {
     "name": "stdout",
     "output_type": "stream",
     "text": [
      "(720, 1280, 3)\n",
      "left offset -1.65124009443 right offset 2.20455956454\n",
      "1258.26513431 m 4803.66710422 m\n"
     ]
    },
    {
     "name": "stderr",
     "output_type": "stream",
     "text": [
      "\r",
      " 42%|█████████████████████████████▋                                         | 528/1261 [02:36<03:30,  3.48it/s]"
     ]
    },
    {
     "name": "stdout",
     "output_type": "stream",
     "text": [
      "(720, 1280, 3)\n",
      "left offset -1.65507552021 right offset 2.14453910494\n",
      "1149.2240512 m 16285.386628 m\n"
     ]
    },
    {
     "name": "stderr",
     "output_type": "stream",
     "text": [
      "\r",
      " 42%|█████████████████████████████▊                                         | 529/1261 [02:37<03:25,  3.56it/s]"
     ]
    },
    {
     "name": "stdout",
     "output_type": "stream",
     "text": [
      "(720, 1280, 3)\n",
      "left offset -1.63887342629 right offset 2.12820926752\n",
      "981.25187883 m 16231.5217076 m\n"
     ]
    },
    {
     "name": "stderr",
     "output_type": "stream",
     "text": [
      "\r",
      " 42%|█████████████████████████████▊                                         | 530/1261 [02:37<03:23,  3.60it/s]"
     ]
    },
    {
     "name": "stdout",
     "output_type": "stream",
     "text": [
      "(720, 1280, 3)\n",
      "left offset -1.64475711018 right offset 2.17399772434\n",
      "1079.91836435 m 3395.48613272 m\n"
     ]
    },
    {
     "name": "stderr",
     "output_type": "stream",
     "text": [
      "\r",
      " 42%|█████████████████████████████▉                                         | 531/1261 [02:37<03:24,  3.57it/s]"
     ]
    },
    {
     "name": "stdout",
     "output_type": "stream",
     "text": [
      "(720, 1280, 3)\n",
      "left offset -1.64032562299 right offset 2.2103288663\n",
      "931.085444832 m 1986.88684884 m\n"
     ]
    },
    {
     "name": "stderr",
     "output_type": "stream",
     "text": [
      "\r",
      " 42%|█████████████████████████████▉                                         | 532/1261 [02:37<03:22,  3.60it/s]"
     ]
    },
    {
     "name": "stdout",
     "output_type": "stream",
     "text": [
      "(720, 1280, 3)\n",
      "left offset -1.77356177699 right offset 2.43972165816\n",
      "11715.325643 m 835.003519076 m\n"
     ]
    },
    {
     "name": "stderr",
     "output_type": "stream",
     "text": [
      "\r",
      " 42%|██████████████████████████████                                         | 533/1261 [02:38<03:37,  3.35it/s]"
     ]
    },
    {
     "name": "stdout",
     "output_type": "stream",
     "text": [
      "(720, 1280, 3)\n",
      "left offset -1.83776535672 right offset 2.35814535214\n",
      "1193.46567123 m 1128.02234425 m\n"
     ]
    },
    {
     "name": "stderr",
     "output_type": "stream",
     "text": [
      "\r",
      " 42%|██████████████████████████████                                         | 534/1261 [02:38<03:32,  3.42it/s]"
     ]
    },
    {
     "name": "stdout",
     "output_type": "stream",
     "text": [
      "(720, 1280, 3)\n",
      "left offset -1.82891599938 right offset 2.31899455935\n",
      "1257.80077959 m 1218.47339953 m\n"
     ]
    },
    {
     "name": "stderr",
     "output_type": "stream",
     "text": [
      "\r",
      " 42%|██████████████████████████████                                         | 535/1261 [02:38<03:23,  3.56it/s]"
     ]
    },
    {
     "name": "stdout",
     "output_type": "stream",
     "text": [
      "(720, 1280, 3)\n",
      "left offset -1.82739891746 right offset 2.32452048167\n",
      "1329.43616727 m 1186.64369271 m\n"
     ]
    },
    {
     "name": "stderr",
     "output_type": "stream",
     "text": [
      "\r",
      " 43%|██████████████████████████████▏                                        | 536/1261 [02:38<03:16,  3.68it/s]"
     ]
    },
    {
     "name": "stdout",
     "output_type": "stream",
     "text": [
      "(720, 1280, 3)\n",
      "left offset -1.75006803428 right offset 2.23021602973\n",
      "2893.16298334 m 1633.44651553 m\n"
     ]
    },
    {
     "name": "stderr",
     "output_type": "stream",
     "text": [
      "\r",
      " 43%|██████████████████████████████▏                                        | 537/1261 [02:39<03:17,  3.67it/s]"
     ]
    },
    {
     "name": "stdout",
     "output_type": "stream",
     "text": [
      "(720, 1280, 3)\n",
      "left offset -1.74905883569 right offset 2.21961646216\n",
      "3672.42780825 m 1544.85129037 m\n"
     ]
    },
    {
     "name": "stderr",
     "output_type": "stream",
     "text": [
      "\r",
      " 43%|██████████████████████████████▎                                        | 538/1261 [02:39<03:19,  3.63it/s]"
     ]
    },
    {
     "name": "stdout",
     "output_type": "stream",
     "text": [
      "(720, 1280, 3)\n",
      "left offset -1.73137040665 right offset 2.20591011246\n",
      "3260.5215218 m 1518.33679899 m\n"
     ]
    },
    {
     "name": "stderr",
     "output_type": "stream",
     "text": [
      "\r",
      " 43%|██████████████████████████████▎                                        | 539/1261 [02:39<03:30,  3.43it/s]"
     ]
    },
    {
     "name": "stdout",
     "output_type": "stream",
     "text": [
      "(720, 1280, 3)\n",
      "left offset -1.73913633341 right offset 2.19701401795\n",
      "2573.8639736 m 1736.66572007 m\n"
     ]
    },
    {
     "name": "stderr",
     "output_type": "stream",
     "text": [
      "\r",
      " 43%|██████████████████████████████▍                                        | 540/1261 [02:40<03:28,  3.46it/s]"
     ]
    },
    {
     "name": "stdout",
     "output_type": "stream",
     "text": [
      "(720, 1280, 3)\n",
      "left offset -1.75841105136 right offset 2.15361536543\n",
      "1556.3994568 m 2099.10332184 m\n"
     ]
    },
    {
     "name": "stderr",
     "output_type": "stream",
     "text": [
      "\r",
      " 43%|██████████████████████████████▍                                        | 541/1261 [02:40<03:21,  3.57it/s]"
     ]
    },
    {
     "name": "stdout",
     "output_type": "stream",
     "text": [
      "(720, 1280, 3)\n",
      "left offset -1.74380890438 right offset 2.14348543038\n",
      "1787.88474653 m 1998.02175941 m\n"
     ]
    },
    {
     "name": "stderr",
     "output_type": "stream",
     "text": [
      "\r",
      " 43%|██████████████████████████████▌                                        | 542/1261 [02:40<03:20,  3.59it/s]"
     ]
    },
    {
     "name": "stdout",
     "output_type": "stream",
     "text": [
      "(720, 1280, 3)\n",
      "left offset -1.73902502797 right offset 2.09451724268\n",
      "1544.52067437 m 3055.71917493 m\n"
     ]
    },
    {
     "name": "stderr",
     "output_type": "stream",
     "text": [
      "\r",
      " 43%|██████████████████████████████▌                                        | 543/1261 [02:41<03:34,  3.35it/s]"
     ]
    },
    {
     "name": "stdout",
     "output_type": "stream",
     "text": [
      "(720, 1280, 3)\n",
      "left offset -1.73241269309 right offset 2.10983922577\n",
      "1547.31942858 m 2282.11113568 m\n"
     ]
    },
    {
     "name": "stderr",
     "output_type": "stream",
     "text": [
      "\r",
      " 43%|██████████████████████████████▋                                        | 544/1261 [02:41<03:41,  3.24it/s]"
     ]
    },
    {
     "name": "stdout",
     "output_type": "stream",
     "text": [
      "(720, 1280, 3)\n",
      "left offset -1.72255385705 right offset 2.11021391966\n",
      "1425.07857102 m 2836.46271356 m\n"
     ]
    },
    {
     "name": "stderr",
     "output_type": "stream",
     "text": [
      "\r",
      " 43%|██████████████████████████████▋                                        | 545/1261 [02:41<03:42,  3.22it/s]"
     ]
    },
    {
     "name": "stdout",
     "output_type": "stream",
     "text": [
      "(720, 1280, 3)\n",
      "left offset -1.70923968536 right offset 2.06100964367\n",
      "1452.25926232 m 3902.802382 m\n"
     ]
    },
    {
     "name": "stderr",
     "output_type": "stream",
     "text": [
      "\r",
      " 43%|██████████████████████████████▋                                        | 546/1261 [02:41<03:42,  3.22it/s]"
     ]
    },
    {
     "name": "stdout",
     "output_type": "stream",
     "text": [
      "(720, 1280, 3)\n",
      "left offset -1.70963717593 right offset 2.06171957337\n",
      "1249.20068147 m 2477.9430048 m\n"
     ]
    },
    {
     "name": "stderr",
     "output_type": "stream",
     "text": [
      "\r",
      " 43%|██████████████████████████████▊                                        | 547/1261 [02:42<03:41,  3.22it/s]"
     ]
    },
    {
     "name": "stdout",
     "output_type": "stream",
     "text": [
      "(720, 1280, 3)\n",
      "left offset -1.68698886817 right offset 2.02843992375\n",
      "1617.37816259 m 7274.79718432 m\n"
     ]
    },
    {
     "name": "stderr",
     "output_type": "stream",
     "text": [
      "\r",
      " 43%|██████████████████████████████▊                                        | 548/1261 [02:42<03:31,  3.37it/s]"
     ]
    },
    {
     "name": "stdout",
     "output_type": "stream",
     "text": [
      "(720, 1280, 3)\n",
      "left offset -1.66469995631 right offset 2.06862943655\n",
      "2124.5738273 m 3546.00642309 m\n"
     ]
    },
    {
     "name": "stderr",
     "output_type": "stream",
     "text": [
      "\r",
      " 44%|██████████████████████████████▉                                        | 549/1261 [02:42<03:22,  3.52it/s]"
     ]
    },
    {
     "name": "stdout",
     "output_type": "stream",
     "text": [
      "(720, 1280, 3)\n",
      "left offset -1.67248481232 right offset 2.0487757441\n",
      "2074.680596 m 5717.50530418 m\n"
     ]
    },
    {
     "name": "stderr",
     "output_type": "stream",
     "text": [
      "\r",
      " 44%|██████████████████████████████▉                                        | 550/1261 [02:43<03:15,  3.64it/s]"
     ]
    },
    {
     "name": "stdout",
     "output_type": "stream",
     "text": [
      "(720, 1280, 3)\n",
      "left offset -1.66086395168 right offset 2.07807369155\n",
      "2626.94828073 m 3052.48003794 m\n"
     ]
    },
    {
     "name": "stderr",
     "output_type": "stream",
     "text": [
      "\r",
      " 44%|███████████████████████████████                                        | 551/1261 [02:43<03:26,  3.43it/s]"
     ]
    },
    {
     "name": "stdout",
     "output_type": "stream",
     "text": [
      "(720, 1280, 3)\n",
      "left offset -1.67968259729 right offset 2.09348689155\n",
      "2932.12723834 m 3429.0856493 m\n"
     ]
    },
    {
     "name": "stderr",
     "output_type": "stream",
     "text": [
      "\r",
      " 44%|███████████████████████████████                                        | 552/1261 [02:43<03:35,  3.29it/s]"
     ]
    },
    {
     "name": "stdout",
     "output_type": "stream",
     "text": [
      "(720, 1280, 3)\n",
      "left offset -1.69561772417 right offset 2.07192527626\n",
      "2379.36278327 m 5415.14410508 m\n"
     ]
    },
    {
     "name": "stderr",
     "output_type": "stream",
     "text": [
      "\r",
      " 44%|███████████████████████████████▏                                       | 553/1261 [02:44<03:33,  3.32it/s]"
     ]
    },
    {
     "name": "stdout",
     "output_type": "stream",
     "text": [
      "(720, 1280, 3)\n",
      "left offset -1.69093495232 right offset 2.00700824384\n",
      "3042.14821367 m 6992.28779066 m\n"
     ]
    },
    {
     "name": "stderr",
     "output_type": "stream",
     "text": [
      "\r",
      " 44%|███████████████████████████████▏                                       | 554/1261 [02:44<03:32,  3.32it/s]"
     ]
    },
    {
     "name": "stdout",
     "output_type": "stream",
     "text": [
      "(720, 1280, 3)\n",
      "left offset -1.67325749898 right offset 1.90744466305\n",
      "3104.45733778 m 3370.58243593 m\n"
     ]
    },
    {
     "name": "stderr",
     "output_type": "stream",
     "text": [
      "\r",
      " 44%|███████████████████████████████▏                                       | 555/1261 [02:44<03:28,  3.39it/s]"
     ]
    },
    {
     "name": "stdout",
     "output_type": "stream",
     "text": [
      "(720, 1280, 3)\n",
      "left offset -1.6510443174 right offset 1.89598299869\n",
      "3327.40258597 m 2129.16700121 m\n"
     ]
    },
    {
     "name": "stderr",
     "output_type": "stream",
     "text": [
      "\r",
      " 44%|███████████████████████████████▎                                       | 556/1261 [02:44<03:25,  3.43it/s]"
     ]
    },
    {
     "name": "stdout",
     "output_type": "stream",
     "text": [
      "(720, 1280, 3)\n",
      "left offset -1.61528547081 right offset 1.9592991443\n",
      "37648.3997554 m 2592.47585941 m\n"
     ]
    },
    {
     "name": "stderr",
     "output_type": "stream",
     "text": [
      "\r",
      " 44%|███████████████████████████████▎                                       | 557/1261 [02:45<03:21,  3.50it/s]"
     ]
    },
    {
     "name": "stdout",
     "output_type": "stream",
     "text": [
      "(720, 1280, 3)\n",
      "left offset -1.62849949434 right offset 1.96708732002\n",
      "12616.2309644 m 2306.5830402 m\n"
     ]
    },
    {
     "name": "stderr",
     "output_type": "stream",
     "text": [
      "\r",
      " 44%|███████████████████████████████▍                                       | 558/1261 [02:45<03:19,  3.52it/s]"
     ]
    },
    {
     "name": "stdout",
     "output_type": "stream",
     "text": [
      "(720, 1280, 3)\n",
      "left offset -1.69628787187 right offset 2.04431604871\n",
      "16502.7979517 m 3412.07977687 m\n"
     ]
    },
    {
     "name": "stderr",
     "output_type": "stream",
     "text": [
      "\r",
      " 44%|███████████████████████████████▍                                       | 559/1261 [02:45<03:19,  3.53it/s]"
     ]
    },
    {
     "name": "stdout",
     "output_type": "stream",
     "text": [
      "(720, 1280, 3)\n",
      "left offset -1.74241860197 right offset 2.24380989664\n",
      "46364.5866298 m 10967.2764138 m\n"
     ]
    },
    {
     "name": "stderr",
     "output_type": "stream",
     "text": [
      "\r",
      " 44%|███████████████████████████████▌                                       | 560/1261 [02:45<03:18,  3.54it/s]"
     ]
    },
    {
     "name": "stdout",
     "output_type": "stream",
     "text": [
      "(720, 1280, 3)\n",
      "left offset -1.78089937962 right offset 2.27092580209\n",
      "24688.2727675 m 6033.94990677 m\n"
     ]
    },
    {
     "name": "stderr",
     "output_type": "stream",
     "text": [
      "\r",
      " 44%|███████████████████████████████▌                                       | 561/1261 [02:46<03:16,  3.56it/s]"
     ]
    },
    {
     "name": "stdout",
     "output_type": "stream",
     "text": [
      "(720, 1280, 3)\n",
      "left offset -1.83112557653 right offset 2.27165040387\n",
      "3087.3882579 m 58337.148287 m\n"
     ]
    },
    {
     "name": "stderr",
     "output_type": "stream",
     "text": [
      "\r",
      " 45%|███████████████████████████████▋                                       | 562/1261 [02:46<03:15,  3.58it/s]"
     ]
    },
    {
     "name": "stdout",
     "output_type": "stream",
     "text": [
      "(720, 1280, 3)\n",
      "left offset -1.81565075776 right offset 2.1518673504\n",
      "4052.08406543 m 3110.85544576 m\n"
     ]
    },
    {
     "name": "stderr",
     "output_type": "stream",
     "text": [
      "\r",
      " 45%|███████████████████████████████▋                                       | 563/1261 [02:46<03:14,  3.58it/s]"
     ]
    },
    {
     "name": "stdout",
     "output_type": "stream",
     "text": [
      "(720, 1280, 3)\n",
      "left offset -3.5769007699 right offset 2.14736347396\n",
      "2574.18210795 m 3298.77935855 m\n"
     ]
    },
    {
     "name": "stderr",
     "output_type": "stream",
     "text": [
      "\r",
      " 45%|███████████████████████████████▊                                       | 564/1261 [02:47<03:21,  3.45it/s]"
     ]
    },
    {
     "name": "stdout",
     "output_type": "stream",
     "text": [
      "(720, 1280, 3)\n",
      "left offset -3.61861132396 right offset 2.19823678341\n",
      "5472.49453459 m 10746.8216237 m\n"
     ]
    },
    {
     "name": "stderr",
     "output_type": "stream",
     "text": [
      "\r",
      " 45%|███████████████████████████████▊                                       | 565/1261 [02:47<03:16,  3.55it/s]"
     ]
    },
    {
     "name": "stdout",
     "output_type": "stream",
     "text": [
      "(720, 1280, 3)\n",
      "left offset -1.7451172746 right offset 2.24822207802\n",
      "7731.97263374 m 5260.60726046 m\n"
     ]
    },
    {
     "name": "stderr",
     "output_type": "stream",
     "text": [
      "\r",
      " 45%|███████████████████████████████▊                                       | 566/1261 [02:47<03:11,  3.63it/s]"
     ]
    },
    {
     "name": "stdout",
     "output_type": "stream",
     "text": [
      "(720, 1280, 3)\n",
      "left offset -1.72793071935 right offset 2.20444700202\n",
      "8401.74258327 m 9527.89557098 m\n"
     ]
    },
    {
     "name": "stderr",
     "output_type": "stream",
     "text": [
      "\r",
      " 45%|███████████████████████████████▉                                       | 567/1261 [02:47<03:04,  3.76it/s]"
     ]
    },
    {
     "name": "stdout",
     "output_type": "stream",
     "text": [
      "(720, 1280, 3)\n",
      "left offset -1.71998051356 right offset 2.19680975785\n",
      "8428.9644673 m 27513.3252915 m\n"
     ]
    },
    {
     "name": "stderr",
     "output_type": "stream",
     "text": [
      "\r",
      " 45%|███████████████████████████████▉                                       | 568/1261 [02:48<03:00,  3.84it/s]"
     ]
    },
    {
     "name": "stdout",
     "output_type": "stream",
     "text": [
      "(720, 1280, 3)\n",
      "left offset -1.72401629716 right offset 2.26367767588\n",
      "12237.7468161 m 3678.72223314 m\n"
     ]
    },
    {
     "name": "stderr",
     "output_type": "stream",
     "text": [
      "\r",
      " 45%|████████████████████████████████                                       | 569/1261 [02:48<03:02,  3.80it/s]"
     ]
    },
    {
     "name": "stdout",
     "output_type": "stream",
     "text": [
      "(720, 1280, 3)\n",
      "left offset -1.72450583709 right offset 2.24821933593\n",
      "11735.1361303 m 6912.76720468 m\n"
     ]
    },
    {
     "name": "stderr",
     "output_type": "stream",
     "text": [
      "\r",
      " 45%|████████████████████████████████                                       | 570/1261 [02:48<03:07,  3.69it/s]"
     ]
    },
    {
     "name": "stdout",
     "output_type": "stream",
     "text": [
      "(720, 1280, 3)\n",
      "left offset -1.72025436174 right offset 2.26191525804\n",
      "13157.7035434 m 5203.31788356 m\n"
     ]
    },
    {
     "name": "stderr",
     "output_type": "stream",
     "text": [
      "\r",
      " 45%|████████████████████████████████▏                                      | 571/1261 [02:49<03:10,  3.63it/s]"
     ]
    },
    {
     "name": "stdout",
     "output_type": "stream",
     "text": [
      "(720, 1280, 3)\n",
      "left offset -1.72438924884 right offset 2.27561789635\n",
      "61725.5892742 m 4410.14856149 m\n"
     ]
    },
    {
     "name": "stderr",
     "output_type": "stream",
     "text": [
      "\r",
      " 45%|████████████████████████████████▏                                      | 572/1261 [02:49<03:08,  3.65it/s]"
     ]
    },
    {
     "name": "stdout",
     "output_type": "stream",
     "text": [
      "(720, 1280, 3)\n",
      "left offset -3.67428097616 right offset 2.26822747547\n",
      "3847.38460795 m 3705.17436181 m\n"
     ]
    },
    {
     "name": "stderr",
     "output_type": "stream",
     "text": [
      "\r",
      " 45%|████████████████████████████████▎                                      | 573/1261 [02:49<03:05,  3.70it/s]"
     ]
    },
    {
     "name": "stdout",
     "output_type": "stream",
     "text": [
      "(720, 1280, 3)\n",
      "left offset -3.63944407389 right offset 2.32594555092\n",
      "3494.39756378 m 2563.81944099 m\n"
     ]
    },
    {
     "name": "stderr",
     "output_type": "stream",
     "text": [
      "\r",
      " 46%|████████████████████████████████▎                                      | 574/1261 [02:49<02:59,  3.82it/s]"
     ]
    },
    {
     "name": "stdout",
     "output_type": "stream",
     "text": [
      "(720, 1280, 3)\n",
      "left offset -3.62496422607 right offset 2.33111280964\n",
      "3279.29647256 m 2295.10676799 m\n"
     ]
    },
    {
     "name": "stderr",
     "output_type": "stream",
     "text": [
      "\r",
      " 46%|████████████████████████████████▍                                      | 575/1261 [02:50<03:00,  3.81it/s]"
     ]
    },
    {
     "name": "stdout",
     "output_type": "stream",
     "text": [
      "(720, 1280, 3)\n",
      "left offset -1.68155611821 right offset 2.37851631958\n",
      "14632.381994 m 2239.82562298 m\n"
     ]
    },
    {
     "name": "stderr",
     "output_type": "stream",
     "text": [
      "\r",
      " 46%|████████████████████████████████▍                                      | 576/1261 [02:50<02:57,  3.87it/s]"
     ]
    },
    {
     "name": "stdout",
     "output_type": "stream",
     "text": [
      "(720, 1280, 3)\n",
      "left offset -1.72506706986 right offset 2.41485501035\n",
      "2314.66989915 m 1783.23862254 m\n"
     ]
    },
    {
     "name": "stderr",
     "output_type": "stream",
     "text": [
      "\r",
      " 46%|████████████████████████████████▍                                      | 577/1261 [02:50<02:51,  4.00it/s]"
     ]
    },
    {
     "name": "stdout",
     "output_type": "stream",
     "text": [
      "(720, 1280, 3)\n",
      "left offset -1.68229784746 right offset 2.27619390002\n",
      "1367.62148016 m 3414.86391572 m\n"
     ]
    },
    {
     "name": "stderr",
     "output_type": "stream",
     "text": [
      "\r",
      " 46%|████████████████████████████████▌                                      | 578/1261 [02:50<02:46,  4.10it/s]"
     ]
    },
    {
     "name": "stdout",
     "output_type": "stream",
     "text": [
      "(720, 1280, 3)\n",
      "left offset -1.70069017595 right offset 2.31429771952\n",
      "3563.9151946 m 2324.50758 m\n"
     ]
    },
    {
     "name": "stderr",
     "output_type": "stream",
     "text": [
      "\r",
      " 46%|████████████████████████████████▌                                      | 579/1261 [02:50<02:44,  4.16it/s]"
     ]
    },
    {
     "name": "stdout",
     "output_type": "stream",
     "text": [
      "(720, 1280, 3)\n",
      "left offset -1.69647287502 right offset 2.31329854729\n",
      "3035.05512961 m 2372.97478617 m\n"
     ]
    },
    {
     "name": "stderr",
     "output_type": "stream",
     "text": [
      "\r",
      " 46%|████████████████████████████████▋                                      | 580/1261 [02:51<02:42,  4.18it/s]"
     ]
    },
    {
     "name": "stdout",
     "output_type": "stream",
     "text": [
      "(720, 1280, 3)\n",
      "left offset -3.43429731669 right offset 2.31978102051\n",
      "5354.87918687 m 2287.70042819 m\n"
     ]
    },
    {
     "name": "stderr",
     "output_type": "stream",
     "text": [
      "\r",
      " 46%|████████████████████████████████▋                                      | 581/1261 [02:51<02:43,  4.16it/s]"
     ]
    },
    {
     "name": "stdout",
     "output_type": "stream",
     "text": [
      "(720, 1280, 3)\n",
      "left offset -3.4375121749 right offset 2.27829082018\n",
      "4852.44342387 m 2732.16232315 m\n"
     ]
    },
    {
     "name": "stderr",
     "output_type": "stream",
     "text": [
      "\r",
      " 46%|████████████████████████████████▊                                      | 582/1261 [02:51<02:43,  4.16it/s]"
     ]
    },
    {
     "name": "stdout",
     "output_type": "stream",
     "text": [
      "(720, 1280, 3)\n",
      "left offset -1.6038477693 right offset 2.2585037817\n",
      "1430.62458209 m 2105.74171883 m\n"
     ]
    },
    {
     "name": "stderr",
     "output_type": "stream",
     "text": [
      "\r",
      " 46%|████████████████████████████████▊                                      | 583/1261 [02:51<02:42,  4.18it/s]"
     ]
    },
    {
     "name": "stdout",
     "output_type": "stream",
     "text": [
      "(720, 1280, 3)\n",
      "left offset -3.49054880982 right offset 2.26737435222\n",
      "1889.93771321 m 1597.01976627 m\n"
     ]
    },
    {
     "name": "stderr",
     "output_type": "stream",
     "text": [
      "\r",
      " 46%|████████████████████████████████▉                                      | 584/1261 [02:52<02:42,  4.17it/s]"
     ]
    },
    {
     "name": "stdout",
     "output_type": "stream",
     "text": [
      "(720, 1280, 3)\n",
      "left offset -3.4555340549 right offset 2.23164460164\n",
      "4285.58332901 m 2101.60240257 m\n"
     ]
    },
    {
     "name": "stderr",
     "output_type": "stream",
     "text": [
      "\r",
      " 46%|████████████████████████████████▉                                      | 585/1261 [02:52<02:44,  4.11it/s]"
     ]
    },
    {
     "name": "stdout",
     "output_type": "stream",
     "text": [
      "(720, 1280, 3)\n",
      "left offset -3.41420535203 right offset 2.29252951527\n",
      "2545.61330067 m 1344.45868249 m\n"
     ]
    },
    {
     "name": "stderr",
     "output_type": "stream",
     "text": [
      "\r",
      " 46%|████████████████████████████████▉                                      | 586/1261 [02:52<02:50,  3.95it/s]"
     ]
    },
    {
     "name": "stdout",
     "output_type": "stream",
     "text": [
      "(720, 1280, 3)\n",
      "left offset -3.40486825818 right offset 2.30388561203\n",
      "2864.50841498 m 1442.55585812 m\n"
     ]
    },
    {
     "name": "stderr",
     "output_type": "stream",
     "text": [
      "\r",
      " 47%|█████████████████████████████████                                      | 587/1261 [02:52<02:51,  3.92it/s]"
     ]
    },
    {
     "name": "stdout",
     "output_type": "stream",
     "text": [
      "(720, 1280, 3)\n",
      "left offset -3.38129613514 right offset 2.3569270526\n",
      "2095.56318001 m 1070.4584903 m\n"
     ]
    },
    {
     "name": "stderr",
     "output_type": "stream",
     "text": [
      "\r",
      " 47%|█████████████████████████████████                                      | 588/1261 [02:53<02:59,  3.76it/s]"
     ]
    },
    {
     "name": "stdout",
     "output_type": "stream",
     "text": [
      "(720, 1280, 3)\n",
      "left offset -3.36935041579 right offset 2.36803526264\n",
      "2718.60834267 m 1132.7913975 m\n"
     ]
    },
    {
     "name": "stderr",
     "output_type": "stream",
     "text": [
      "\r",
      " 47%|█████████████████████████████████▏                                     | 589/1261 [02:53<02:53,  3.87it/s]"
     ]
    },
    {
     "name": "stdout",
     "output_type": "stream",
     "text": [
      "(720, 1280, 3)\n",
      "left offset -3.38316838914 right offset 2.30696317779\n",
      "3657.06741137 m 1425.06972544 m\n"
     ]
    },
    {
     "name": "stderr",
     "output_type": "stream",
     "text": [
      "\r",
      " 47%|█████████████████████████████████▏                                     | 590/1261 [02:53<02:51,  3.92it/s]"
     ]
    },
    {
     "name": "stdout",
     "output_type": "stream",
     "text": [
      "(720, 1280, 3)\n",
      "left offset -3.42339411975 right offset 2.23217306913\n",
      "4262.7559036 m 1987.39653706 m\n"
     ]
    },
    {
     "name": "stderr",
     "output_type": "stream",
     "text": [
      "\r",
      " 47%|█████████████████████████████████▎                                     | 591/1261 [02:53<02:46,  4.02it/s]"
     ]
    },
    {
     "name": "stdout",
     "output_type": "stream",
     "text": [
      "(720, 1280, 3)\n",
      "left offset -3.43903674279 right offset 2.20291118644\n",
      "3710.55657677 m 1734.11672978 m\n"
     ]
    },
    {
     "name": "stderr",
     "output_type": "stream",
     "text": [
      "\r",
      " 47%|█████████████████████████████████▎                                     | 592/1261 [02:54<02:47,  3.99it/s]"
     ]
    },
    {
     "name": "stdout",
     "output_type": "stream",
     "text": [
      "(720, 1280, 3)\n",
      "left offset -3.44434396661 right offset 2.17296651671\n",
      "4868.49973377 m 1936.1284313 m\n"
     ]
    },
    {
     "name": "stderr",
     "output_type": "stream",
     "text": [
      "\r",
      " 47%|█████████████████████████████████▍                                     | 593/1261 [02:54<02:44,  4.06it/s]"
     ]
    },
    {
     "name": "stdout",
     "output_type": "stream",
     "text": [
      "(720, 1280, 3)\n",
      "left offset -3.47265450265 right offset 2.17384210574\n",
      "6905.32669091 m 1769.60326514 m\n"
     ]
    },
    {
     "name": "stderr",
     "output_type": "stream",
     "text": [
      "\r",
      " 47%|█████████████████████████████████▍                                     | 594/1261 [02:54<02:42,  4.12it/s]"
     ]
    },
    {
     "name": "stdout",
     "output_type": "stream",
     "text": [
      "(720, 1280, 3)\n",
      "left offset -3.44966776859 right offset 2.20355388601\n",
      "49335.8105327 m 1272.48932036 m\n"
     ]
    },
    {
     "name": "stderr",
     "output_type": "stream",
     "text": [
      "\r",
      " 47%|█████████████████████████████████▌                                     | 595/1261 [02:54<02:41,  4.12it/s]"
     ]
    },
    {
     "name": "stdout",
     "output_type": "stream",
     "text": [
      "(720, 1280, 3)\n",
      "left offset -1.69296883453 right offset 2.22331401452\n",
      "1299.6642787 m 1297.81167845 m\n"
     ]
    },
    {
     "name": "stderr",
     "output_type": "stream",
     "text": [
      "\r",
      " 47%|█████████████████████████████████▌                                     | 596/1261 [02:55<02:41,  4.13it/s]"
     ]
    },
    {
     "name": "stdout",
     "output_type": "stream",
     "text": [
      "(720, 1280, 3)\n",
      "left offset -1.74017596991 right offset 2.2054687808\n",
      "1766.24409696 m 1304.61593441 m\n"
     ]
    },
    {
     "name": "stderr",
     "output_type": "stream",
     "text": [
      "\r",
      " 47%|█████████████████████████████████▌                                     | 597/1261 [02:55<02:38,  4.19it/s]"
     ]
    },
    {
     "name": "stdout",
     "output_type": "stream",
     "text": [
      "(720, 1280, 3)\n",
      "left offset -1.78746319833 right offset 2.22651509749\n",
      "2381.27730593 m 1268.96028955 m\n"
     ]
    },
    {
     "name": "stderr",
     "output_type": "stream",
     "text": [
      "\r",
      " 47%|█████████████████████████████████▋                                     | 598/1261 [02:55<02:39,  4.17it/s]"
     ]
    },
    {
     "name": "stdout",
     "output_type": "stream",
     "text": [
      "(720, 1280, 3)\n",
      "left offset -1.74954080186 right offset 2.22290013255\n",
      "1333.76956571 m 1239.74056023 m\n"
     ]
    },
    {
     "name": "stderr",
     "output_type": "stream",
     "text": [
      "\r",
      " 48%|█████████████████████████████████▋                                     | 599/1261 [02:55<02:39,  4.16it/s]"
     ]
    },
    {
     "name": "stdout",
     "output_type": "stream",
     "text": [
      "(720, 1280, 3)\n",
      "left offset -1.76374072616 right offset 2.27366878432\n",
      "1393.25933576 m 1105.42758458 m\n"
     ]
    },
    {
     "name": "stderr",
     "output_type": "stream",
     "text": [
      "\r",
      " 48%|█████████████████████████████████▊                                     | 600/1261 [02:56<02:38,  4.16it/s]"
     ]
    },
    {
     "name": "stdout",
     "output_type": "stream",
     "text": [
      "(720, 1280, 3)\n",
      "left offset -1.77870738568 right offset 2.27475381077\n",
      "1432.81236798 m 1260.41137365 m\n"
     ]
    },
    {
     "name": "stderr",
     "output_type": "stream",
     "text": [
      "\r",
      " 48%|█████████████████████████████████▊                                     | 601/1261 [02:56<02:37,  4.18it/s]"
     ]
    },
    {
     "name": "stdout",
     "output_type": "stream",
     "text": [
      "(720, 1280, 3)\n",
      "left offset -1.77793571835 right offset 2.31186652476\n",
      "1213.73568875 m 1182.88247867 m\n"
     ]
    },
    {
     "name": "stderr",
     "output_type": "stream",
     "text": [
      "\r",
      " 48%|█████████████████████████████████▉                                     | 602/1261 [02:56<02:36,  4.20it/s]"
     ]
    },
    {
     "name": "stdout",
     "output_type": "stream",
     "text": [
      "(720, 1280, 3)\n",
      "left offset -1.80538170274 right offset 2.26951243932\n",
      "1277.65265102 m 1182.35951776 m\n"
     ]
    },
    {
     "name": "stderr",
     "output_type": "stream",
     "text": [
      "\r",
      " 48%|█████████████████████████████████▉                                     | 603/1261 [02:56<02:36,  4.20it/s]"
     ]
    },
    {
     "name": "stdout",
     "output_type": "stream",
     "text": [
      "(720, 1280, 3)\n",
      "left offset -1.81252685509 right offset 2.304890606\n",
      "1150.3877018 m 1041.63949973 m\n"
     ]
    },
    {
     "name": "stderr",
     "output_type": "stream",
     "text": [
      "\r",
      " 48%|██████████████████████████████████                                     | 604/1261 [02:57<02:37,  4.18it/s]"
     ]
    },
    {
     "name": "stdout",
     "output_type": "stream",
     "text": [
      "(720, 1280, 3)\n",
      "left offset -3.64581933812 right offset 2.23233322687\n",
      "29639.8713434 m 1042.29066235 m\n"
     ]
    },
    {
     "name": "stderr",
     "output_type": "stream",
     "text": [
      "\r",
      " 48%|██████████████████████████████████                                     | 605/1261 [02:57<02:35,  4.21it/s]"
     ]
    },
    {
     "name": "stdout",
     "output_type": "stream",
     "text": [
      "(720, 1280, 3)\n",
      "left offset -3.66549705832 right offset 2.23286334396\n",
      "2836.54790244 m 860.227544049 m\n"
     ]
    },
    {
     "name": "stderr",
     "output_type": "stream",
     "text": [
      "\r",
      " 48%|██████████████████████████████████                                     | 606/1261 [02:57<02:35,  4.21it/s]"
     ]
    },
    {
     "name": "stdout",
     "output_type": "stream",
     "text": [
      "(720, 1280, 3)\n",
      "left offset -1.79206626696 right offset 2.19870535045\n",
      "623.317468877 m 792.134901693 m\n"
     ]
    },
    {
     "name": "stderr",
     "output_type": "stream",
     "text": [
      "\r",
      " 48%|██████████████████████████████████▏                                    | 607/1261 [02:57<02:36,  4.18it/s]"
     ]
    },
    {
     "name": "stdout",
     "output_type": "stream",
     "text": [
      "(720, 1280, 3)\n",
      "left offset -1.77558833402 right offset 2.17169317492\n",
      "432.708550047 m 877.526214584 m\n"
     ]
    },
    {
     "name": "stderr",
     "output_type": "stream",
     "text": [
      "\r",
      " 48%|██████████████████████████████████▏                                    | 608/1261 [02:58<02:38,  4.11it/s]"
     ]
    },
    {
     "name": "stdout",
     "output_type": "stream",
     "text": [
      "(720, 1280, 3)\n",
      "left offset -3.71912242361 right offset 2.15455074987\n",
      "2250.6088628 m 898.44989581 m\n"
     ]
    },
    {
     "name": "stderr",
     "output_type": "stream",
     "text": [
      "\r",
      " 48%|██████████████████████████████████▎                                    | 609/1261 [02:58<02:38,  4.13it/s]"
     ]
    },
    {
     "name": "stdout",
     "output_type": "stream",
     "text": [
      "(720, 1280, 3)\n",
      "left offset -3.79576806371 right offset 2.11365157889\n",
      "1219.71100823 m 997.699094038 m\n"
     ]
    },
    {
     "name": "stderr",
     "output_type": "stream",
     "text": [
      "\r",
      " 48%|██████████████████████████████████▎                                    | 610/1261 [02:58<02:37,  4.15it/s]"
     ]
    },
    {
     "name": "stdout",
     "output_type": "stream",
     "text": [
      "(720, 1280, 3)\n",
      "left offset -1.88762052891 right offset 2.10135813958\n",
      "664.721599128 m 965.434845258 m\n"
     ]
    },
    {
     "name": "stderr",
     "output_type": "stream",
     "text": [
      "\r",
      " 48%|██████████████████████████████████▍                                    | 611/1261 [02:58<02:37,  4.13it/s]"
     ]
    },
    {
     "name": "stdout",
     "output_type": "stream",
     "text": [
      "(720, 1280, 3)\n",
      "left offset -1.85842029891 right offset 2.08206621052\n",
      "504.813924164 m 936.847667918 m\n"
     ]
    },
    {
     "name": "stderr",
     "output_type": "stream",
     "text": [
      "\r",
      " 49%|██████████████████████████████████▍                                    | 612/1261 [02:59<02:45,  3.92it/s]"
     ]
    },
    {
     "name": "stdout",
     "output_type": "stream",
     "text": [
      "(720, 1280, 3)\n",
      "left offset -1.89192435232 right offset 2.09072614948\n",
      "562.493207681 m 884.4094545 m\n"
     ]
    },
    {
     "name": "stderr",
     "output_type": "stream",
     "text": [
      "\r",
      " 49%|██████████████████████████████████▌                                    | 613/1261 [02:59<02:44,  3.95it/s]"
     ]
    },
    {
     "name": "stdout",
     "output_type": "stream",
     "text": [
      "(720, 1280, 3)\n",
      "left offset -1.91096916142 right offset 2.12573581938\n",
      "538.21659939 m 779.09747393 m\n"
     ]
    },
    {
     "name": "stderr",
     "output_type": "stream",
     "text": [
      "\r",
      " 49%|██████████████████████████████████▌                                    | 614/1261 [02:59<02:40,  4.04it/s]"
     ]
    },
    {
     "name": "stdout",
     "output_type": "stream",
     "text": [
      "(720, 1280, 3)\n",
      "left offset -1.91826642929 right offset 2.09433964513\n",
      "582.354615807 m 855.574937185 m\n"
     ]
    },
    {
     "name": "stderr",
     "output_type": "stream",
     "text": [
      "\r",
      " 49%|██████████████████████████████████▋                                    | 615/1261 [02:59<02:48,  3.84it/s]"
     ]
    },
    {
     "name": "stdout",
     "output_type": "stream",
     "text": [
      "(720, 1280, 3)\n",
      "left offset -1.94354944782 right offset 2.02191276617\n",
      "546.909442843 m 875.148833175 m\n"
     ]
    },
    {
     "name": "stderr",
     "output_type": "stream",
     "text": [
      "\r",
      " 49%|██████████████████████████████████▋                                    | 616/1261 [03:00<02:55,  3.67it/s]"
     ]
    },
    {
     "name": "stdout",
     "output_type": "stream",
     "text": [
      "(720, 1280, 3)\n",
      "left offset -1.93360078682 right offset 2.07666900524\n",
      "529.423147366 m 702.993456563 m\n"
     ]
    },
    {
     "name": "stderr",
     "output_type": "stream",
     "text": [
      "\r",
      " 49%|██████████████████████████████████▋                                    | 617/1261 [03:00<02:48,  3.82it/s]"
     ]
    },
    {
     "name": "stdout",
     "output_type": "stream",
     "text": [
      "(720, 1280, 3)\n",
      "left offset -1.92256215226 right offset 1.99065354415\n",
      "531.160134565 m 878.258850625 m\n"
     ]
    },
    {
     "name": "stderr",
     "output_type": "stream",
     "text": [
      "\r",
      " 49%|██████████████████████████████████▊                                    | 618/1261 [03:00<02:43,  3.93it/s]"
     ]
    },
    {
     "name": "stdout",
     "output_type": "stream",
     "text": [
      "(720, 1280, 3)\n",
      "left offset -1.89910886561 right offset 2.03136804338\n",
      "452.037816077 m 690.814890096 m\n"
     ]
    },
    {
     "name": "stderr",
     "output_type": "stream",
     "text": [
      "\r",
      " 49%|██████████████████████████████████▊                                    | 619/1261 [03:00<02:37,  4.06it/s]"
     ]
    },
    {
     "name": "stdout",
     "output_type": "stream",
     "text": [
      "(720, 1280, 3)\n",
      "left offset -1.93787678158 right offset 2.02982375411\n",
      "528.854371022 m 717.730467338 m\n"
     ]
    },
    {
     "name": "stderr",
     "output_type": "stream",
     "text": [
      "\r",
      " 49%|██████████████████████████████████▉                                    | 620/1261 [03:01<02:38,  4.06it/s]"
     ]
    },
    {
     "name": "stdout",
     "output_type": "stream",
     "text": [
      "(720, 1280, 3)\n",
      "left offset -1.94066477385 right offset 1.99765744281\n",
      "538.340553962 m 755.050251354 m\n"
     ]
    },
    {
     "name": "stderr",
     "output_type": "stream",
     "text": [
      "\r",
      " 49%|██████████████████████████████████▉                                    | 621/1261 [03:01<02:37,  4.07it/s]"
     ]
    },
    {
     "name": "stdout",
     "output_type": "stream",
     "text": [
      "(720, 1280, 3)\n",
      "left offset -1.91717754567 right offset 2.01820464458\n",
      "522.844975817 m 801.765676831 m\n"
     ]
    },
    {
     "name": "stderr",
     "output_type": "stream",
     "text": [
      "\r",
      " 49%|███████████████████████████████████                                    | 622/1261 [03:01<02:36,  4.07it/s]"
     ]
    },
    {
     "name": "stdout",
     "output_type": "stream",
     "text": [
      "(720, 1280, 3)\n",
      "left offset -1.90278296237 right offset 2.01779799407\n",
      "531.294508936 m 862.363422836 m\n"
     ]
    },
    {
     "name": "stderr",
     "output_type": "stream",
     "text": [
      "\r",
      " 49%|███████████████████████████████████                                    | 623/1261 [03:01<02:40,  3.98it/s]"
     ]
    },
    {
     "name": "stdout",
     "output_type": "stream",
     "text": [
      "(720, 1280, 3)\n",
      "left offset -1.90346652555 right offset 2.02121913162\n",
      "714.641523675 m 862.939556654 m\n"
     ]
    },
    {
     "name": "stderr",
     "output_type": "stream",
     "text": [
      "\r",
      " 49%|███████████████████████████████████▏                                   | 624/1261 [03:02<02:45,  3.86it/s]"
     ]
    },
    {
     "name": "stdout",
     "output_type": "stream",
     "text": [
      "(720, 1280, 3)\n",
      "left offset -1.83455536325 right offset 2.00571283297\n",
      "503.019267042 m 725.931696777 m\n"
     ]
    },
    {
     "name": "stderr",
     "output_type": "stream",
     "text": [
      "\r",
      " 50%|███████████████████████████████████▏                                   | 625/1261 [03:02<02:47,  3.80it/s]"
     ]
    },
    {
     "name": "stdout",
     "output_type": "stream",
     "text": [
      "(720, 1280, 3)\n",
      "left offset -1.81504796227 right offset 2.00955032562\n",
      "481.61964839 m 749.338908397 m\n"
     ]
    },
    {
     "name": "stderr",
     "output_type": "stream",
     "text": [
      "\r",
      " 50%|███████████████████████████████████▏                                   | 626/1261 [03:02<03:14,  3.27it/s]"
     ]
    },
    {
     "name": "stdout",
     "output_type": "stream",
     "text": [
      "(720, 1280, 3)\n",
      "left offset -1.80750838432 right offset 2.06333774676\n",
      "446.994457364 m 666.819909813 m\n"
     ]
    },
    {
     "name": "stderr",
     "output_type": "stream",
     "text": [
      "\r",
      " 50%|███████████████████████████████████▎                                   | 627/1261 [03:03<03:17,  3.22it/s]"
     ]
    },
    {
     "name": "stdout",
     "output_type": "stream",
     "text": [
      "(720, 1280, 3)\n",
      "left offset -1.80295281707 right offset 2.07263555844\n",
      "538.681974453 m 636.499031304 m\n"
     ]
    },
    {
     "name": "stderr",
     "output_type": "stream",
     "text": [
      "\r",
      " 50%|███████████████████████████████████▎                                   | 628/1261 [03:03<03:16,  3.22it/s]"
     ]
    },
    {
     "name": "stdout",
     "output_type": "stream",
     "text": [
      "(720, 1280, 3)\n",
      "left offset -1.79348180429 right offset 2.11571243981\n",
      "491.691901522 m 670.834058181 m\n"
     ]
    },
    {
     "name": "stderr",
     "output_type": "stream",
     "text": [
      "\r",
      " 50%|███████████████████████████████████▍                                   | 629/1261 [03:03<03:15,  3.24it/s]"
     ]
    },
    {
     "name": "stdout",
     "output_type": "stream",
     "text": [
      "(720, 1280, 3)\n",
      "left offset -1.81851196148 right offset 2.11915492137\n",
      "557.436225027 m 869.30450892 m\n"
     ]
    },
    {
     "name": "stderr",
     "output_type": "stream",
     "text": [
      "\r",
      " 50%|███████████████████████████████████▍                                   | 630/1261 [03:04<03:07,  3.36it/s]"
     ]
    },
    {
     "name": "stdout",
     "output_type": "stream",
     "text": [
      "(720, 1280, 3)\n",
      "left offset -1.8657601461 right offset 2.11317139018\n",
      "830.623758314 m 1078.10999484 m\n"
     ]
    },
    {
     "name": "stderr",
     "output_type": "stream",
     "text": [
      "\r",
      " 50%|███████████████████████████████████▌                                   | 631/1261 [03:04<03:02,  3.45it/s]"
     ]
    },
    {
     "name": "stdout",
     "output_type": "stream",
     "text": [
      "(720, 1280, 3)\n",
      "left offset -1.97353130099 right offset 2.08966532336\n",
      "3613.97061294 m 1340.13761879 m\n"
     ]
    },
    {
     "name": "stderr",
     "output_type": "stream",
     "text": [
      "\r",
      " 50%|███████████████████████████████████▌                                   | 632/1261 [03:04<02:59,  3.51it/s]"
     ]
    },
    {
     "name": "stdout",
     "output_type": "stream",
     "text": [
      "(720, 1280, 3)\n",
      "left offset -1.97840230063 right offset 2.0903224757\n",
      "3806.89280772 m 1302.09235869 m\n"
     ]
    },
    {
     "name": "stderr",
     "output_type": "stream",
     "text": [
      "\r",
      " 50%|███████████████████████████████████▋                                   | 633/1261 [03:04<02:56,  3.56it/s]"
     ]
    },
    {
     "name": "stdout",
     "output_type": "stream",
     "text": [
      "(720, 1280, 3)\n",
      "left offset -1.95223734101 right offset 2.10249308947\n",
      "2499.16568606 m 1061.37800221 m\n"
     ]
    },
    {
     "name": "stderr",
     "output_type": "stream",
     "text": [
      "\r",
      " 50%|███████████████████████████████████▋                                   | 634/1261 [03:05<02:55,  3.57it/s]"
     ]
    },
    {
     "name": "stdout",
     "output_type": "stream",
     "text": [
      "(720, 1280, 3)\n",
      "left offset -1.89403234257 right offset 2.08922974631\n",
      "1692.07871779 m 861.02079732 m\n"
     ]
    },
    {
     "name": "stderr",
     "output_type": "stream",
     "text": [
      "\r",
      " 50%|███████████████████████████████████▊                                   | 635/1261 [03:05<02:53,  3.61it/s]"
     ]
    },
    {
     "name": "stdout",
     "output_type": "stream",
     "text": [
      "(720, 1280, 3)\n",
      "left offset -1.81236234743 right offset 2.09084743485\n",
      "770.034424781 m 691.566525692 m\n"
     ]
    },
    {
     "name": "stderr",
     "output_type": "stream",
     "text": [
      "\r",
      " 50%|███████████████████████████████████▊                                   | 636/1261 [03:05<02:52,  3.62it/s]"
     ]
    },
    {
     "name": "stdout",
     "output_type": "stream",
     "text": [
      "(720, 1280, 3)\n",
      "left offset -1.81259289688 right offset 2.06570025109\n",
      "1483.61587678 m 612.229189282 m\n"
     ]
    },
    {
     "name": "stderr",
     "output_type": "stream",
     "text": [
      "\r",
      " 51%|███████████████████████████████████▊                                   | 637/1261 [03:05<02:50,  3.66it/s]"
     ]
    },
    {
     "name": "stdout",
     "output_type": "stream",
     "text": [
      "(720, 1280, 3)\n",
      "left offset -1.74335250021 right offset 2.06006340951\n",
      "982.704688365 m 634.478634234 m\n"
     ]
    },
    {
     "name": "stderr",
     "output_type": "stream",
     "text": [
      "\r",
      " 51%|███████████████████████████████████▉                                   | 638/1261 [03:06<02:48,  3.70it/s]"
     ]
    },
    {
     "name": "stdout",
     "output_type": "stream",
     "text": [
      "(720, 1280, 3)\n",
      "left offset -1.73715334396 right offset 2.06114488557\n",
      "857.401052067 m 727.533142254 m\n"
     ]
    },
    {
     "name": "stderr",
     "output_type": "stream",
     "text": [
      "\r",
      " 51%|███████████████████████████████████▉                                   | 639/1261 [03:06<02:47,  3.72it/s]"
     ]
    },
    {
     "name": "stdout",
     "output_type": "stream",
     "text": [
      "(720, 1280, 3)\n",
      "left offset -1.71845843597 right offset 2.07301745296\n",
      "933.994764255 m 908.443121014 m\n"
     ]
    },
    {
     "name": "stderr",
     "output_type": "stream",
     "text": [
      "\r",
      " 51%|████████████████████████████████████                                   | 640/1261 [03:06<03:01,  3.42it/s]"
     ]
    },
    {
     "name": "stdout",
     "output_type": "stream",
     "text": [
      "(720, 1280, 3)\n",
      "left offset -1.77933760296 right offset 2.07419943927\n",
      "1781.83795492 m 1181.31987863 m\n"
     ]
    },
    {
     "name": "stderr",
     "output_type": "stream",
     "text": [
      "\r",
      " 51%|████████████████████████████████████                                   | 641/1261 [03:07<03:03,  3.37it/s]"
     ]
    },
    {
     "name": "stdout",
     "output_type": "stream",
     "text": [
      "(720, 1280, 3)\n",
      "left offset -1.76520208664 right offset 2.07453832975\n",
      "1733.25534346 m 1253.82580495 m\n"
     ]
    },
    {
     "name": "stderr",
     "output_type": "stream",
     "text": [
      "\r",
      " 51%|████████████████████████████████████▏                                  | 642/1261 [03:07<02:59,  3.45it/s]"
     ]
    },
    {
     "name": "stdout",
     "output_type": "stream",
     "text": [
      "(720, 1280, 3)\n",
      "left offset -1.74096781462 right offset 2.08394120989\n",
      "1512.08030087 m 1213.36905885 m\n"
     ]
    },
    {
     "name": "stderr",
     "output_type": "stream",
     "text": [
      "\r",
      " 51%|████████████████████████████████████▏                                  | 643/1261 [03:07<02:54,  3.53it/s]"
     ]
    },
    {
     "name": "stdout",
     "output_type": "stream",
     "text": [
      "(720, 1280, 3)\n",
      "left offset -1.7197456803 right offset 2.10317181374\n",
      "1514.23093588 m 1054.72185424 m\n"
     ]
    },
    {
     "name": "stderr",
     "output_type": "stream",
     "text": [
      "\r",
      " 51%|████████████████████████████████████▎                                  | 644/1261 [03:07<02:51,  3.60it/s]"
     ]
    },
    {
     "name": "stdout",
     "output_type": "stream",
     "text": [
      "(720, 1280, 3)\n",
      "left offset -1.68938908475 right offset 2.10425755184\n",
      "1222.38262377 m 1029.42333987 m\n"
     ]
    },
    {
     "name": "stderr",
     "output_type": "stream",
     "text": [
      "\r",
      " 51%|████████████████████████████████████▎                                  | 645/1261 [03:08<02:51,  3.60it/s]"
     ]
    },
    {
     "name": "stdout",
     "output_type": "stream",
     "text": [
      "(720, 1280, 3)\n",
      "left offset -1.70531739416 right offset 2.10498153532\n",
      "2460.53964431 m 948.112209838 m\n"
     ]
    },
    {
     "name": "stderr",
     "output_type": "stream",
     "text": [
      "\r",
      " 51%|████████████████████████████████████▎                                  | 646/1261 [03:08<02:52,  3.57it/s]"
     ]
    },
    {
     "name": "stdout",
     "output_type": "stream",
     "text": [
      "(720, 1280, 3)\n",
      "left offset -1.6715726996 right offset 2.10272186528\n",
      "1242.35158533 m 990.729326721 m\n"
     ]
    },
    {
     "name": "stderr",
     "output_type": "stream",
     "text": [
      "\r",
      " 51%|████████████████████████████████████▍                                  | 647/1261 [03:08<02:52,  3.55it/s]"
     ]
    },
    {
     "name": "stdout",
     "output_type": "stream",
     "text": [
      "(720, 1280, 3)\n",
      "left offset -1.6100281968 right offset 2.09469254584\n",
      "711.703859577 m 1049.35550653 m\n"
     ]
    },
    {
     "name": "stderr",
     "output_type": "stream",
     "text": [
      "\r",
      " 51%|████████████████████████████████████▍                                  | 648/1261 [03:09<02:50,  3.60it/s]"
     ]
    },
    {
     "name": "stdout",
     "output_type": "stream",
     "text": [
      "(720, 1280, 3)\n",
      "left offset -1.64380831171 right offset 2.11260001263\n",
      "1108.73271385 m 976.581945867 m\n"
     ]
    },
    {
     "name": "stderr",
     "output_type": "stream",
     "text": [
      "\r",
      " 51%|████████████████████████████████████▌                                  | 649/1261 [03:09<02:44,  3.73it/s]"
     ]
    },
    {
     "name": "stdout",
     "output_type": "stream",
     "text": [
      "(720, 1280, 3)\n",
      "left offset -1.60598637605 right offset 2.12682912991\n",
      "742.969727809 m 1009.03846534 m\n"
     ]
    },
    {
     "name": "stderr",
     "output_type": "stream",
     "text": [
      "\r",
      " 52%|████████████████████████████████████▌                                  | 650/1261 [03:09<02:48,  3.63it/s]"
     ]
    },
    {
     "name": "stdout",
     "output_type": "stream",
     "text": [
      "(720, 1280, 3)\n",
      "left offset -1.5901873729 right offset 2.11534637694\n",
      "691.711045281 m 1037.26724403 m\n"
     ]
    },
    {
     "name": "stderr",
     "output_type": "stream",
     "text": [
      "\r",
      " 52%|████████████████████████████████████▋                                  | 651/1261 [03:09<02:50,  3.58it/s]"
     ]
    },
    {
     "name": "stdout",
     "output_type": "stream",
     "text": [
      "(720, 1280, 3)\n",
      "left offset -1.60881351602 right offset 2.12038902606\n",
      "877.53414763 m 1032.62866087 m\n"
     ]
    },
    {
     "name": "stderr",
     "output_type": "stream",
     "text": [
      "\r",
      " 52%|████████████████████████████████████▋                                  | 652/1261 [03:10<02:48,  3.62it/s]"
     ]
    },
    {
     "name": "stdout",
     "output_type": "stream",
     "text": [
      "(720, 1280, 3)\n",
      "left offset -1.59837835592 right offset 2.1335642982\n",
      "856.405630185 m 962.068968684 m\n"
     ]
    },
    {
     "name": "stderr",
     "output_type": "stream",
     "text": [
      "\r",
      " 52%|████████████████████████████████████▊                                  | 653/1261 [03:10<02:45,  3.67it/s]"
     ]
    },
    {
     "name": "stdout",
     "output_type": "stream",
     "text": [
      "(720, 1280, 3)\n",
      "left offset -1.56557527311 right offset 2.13613667133\n",
      "695.223847858 m 981.680795089 m\n"
     ]
    },
    {
     "name": "stderr",
     "output_type": "stream",
     "text": [
      "\r",
      " 52%|████████████████████████████████████▊                                  | 654/1261 [03:10<02:45,  3.67it/s]"
     ]
    },
    {
     "name": "stdout",
     "output_type": "stream",
     "text": [
      "(720, 1280, 3)\n",
      "left offset -1.59448742554 right offset 2.14676981212\n",
      "1224.48836643 m 963.162321986 m\n"
     ]
    },
    {
     "name": "stderr",
     "output_type": "stream",
     "text": [
      "\r",
      " 52%|████████████████████████████████████▉                                  | 655/1261 [03:10<02:43,  3.71it/s]"
     ]
    },
    {
     "name": "stdout",
     "output_type": "stream",
     "text": [
      "(720, 1280, 3)\n",
      "left offset -1.54018538189 right offset 2.14849337831\n",
      "654.84455729 m 964.602174341 m\n"
     ]
    },
    {
     "name": "stderr",
     "output_type": "stream",
     "text": [
      "\r",
      " 52%|████████████████████████████████████▉                                  | 656/1261 [03:11<02:42,  3.73it/s]"
     ]
    },
    {
     "name": "stdout",
     "output_type": "stream",
     "text": [
      "(720, 1280, 3)\n",
      "left offset -1.54020607538 right offset 2.13612789164\n",
      "730.465329895 m 999.372546674 m\n"
     ]
    },
    {
     "name": "stderr",
     "output_type": "stream",
     "text": [
      "\r",
      " 52%|████████████████████████████████████▉                                  | 657/1261 [03:11<02:41,  3.75it/s]"
     ]
    },
    {
     "name": "stdout",
     "output_type": "stream",
     "text": [
      "(720, 1280, 3)\n",
      "left offset -1.52995246016 right offset 2.15022694078\n",
      "601.701239891 m 936.618093359 m\n"
     ]
    },
    {
     "name": "stderr",
     "output_type": "stream",
     "text": [
      "\r",
      " 52%|█████████████████████████████████████                                  | 658/1261 [03:11<02:40,  3.77it/s]"
     ]
    },
    {
     "name": "stdout",
     "output_type": "stream",
     "text": [
      "(720, 1280, 3)\n",
      "left offset -1.55318028718 right offset 2.15800753908\n",
      "746.785423663 m 962.631739808 m\n"
     ]
    },
    {
     "name": "stderr",
     "output_type": "stream",
     "text": [
      "\r",
      " 52%|█████████████████████████████████████                                  | 659/1261 [03:11<02:41,  3.74it/s]"
     ]
    },
    {
     "name": "stdout",
     "output_type": "stream",
     "text": [
      "(720, 1280, 3)\n",
      "left offset -1.57667343797 right offset 2.15045245485\n",
      "933.778663632 m 957.864707138 m\n"
     ]
    },
    {
     "name": "stderr",
     "output_type": "stream",
     "text": [
      "\r",
      " 52%|█████████████████████████████████████▏                                 | 660/1261 [03:12<02:43,  3.68it/s]"
     ]
    },
    {
     "name": "stdout",
     "output_type": "stream",
     "text": [
      "(720, 1280, 3)\n",
      "left offset -1.57818289499 right offset 2.1451904531\n",
      "909.004077612 m 1014.94204321 m\n"
     ]
    },
    {
     "name": "stderr",
     "output_type": "stream",
     "text": [
      "\r",
      " 52%|█████████████████████████████████████▏                                 | 661/1261 [03:12<02:41,  3.71it/s]"
     ]
    },
    {
     "name": "stdout",
     "output_type": "stream",
     "text": [
      "(720, 1280, 3)\n",
      "left offset -1.57676258953 right offset 2.14791600001\n",
      "839.116057799 m 1063.27080114 m\n"
     ]
    },
    {
     "name": "stderr",
     "output_type": "stream",
     "text": [
      "\r",
      " 52%|█████████████████████████████████████▎                                 | 662/1261 [03:12<02:40,  3.74it/s]"
     ]
    },
    {
     "name": "stdout",
     "output_type": "stream",
     "text": [
      "(720, 1280, 3)\n",
      "left offset -1.57734051821 right offset 2.14007250129\n",
      "831.878728457 m 1108.70359101 m\n"
     ]
    },
    {
     "name": "stderr",
     "output_type": "stream",
     "text": [
      "\r",
      " 53%|█████████████████████████████████████▎                                 | 663/1261 [03:13<02:38,  3.78it/s]"
     ]
    },
    {
     "name": "stdout",
     "output_type": "stream",
     "text": [
      "(720, 1280, 3)\n",
      "left offset -1.59422059209 right offset 2.15257866364\n",
      "937.285244722 m 1126.21533592 m\n"
     ]
    },
    {
     "name": "stderr",
     "output_type": "stream",
     "text": [
      "\r",
      " 53%|█████████████████████████████████████▍                                 | 664/1261 [03:13<02:37,  3.80it/s]"
     ]
    },
    {
     "name": "stdout",
     "output_type": "stream",
     "text": [
      "(720, 1280, 3)\n",
      "left offset -1.57283055095 right offset 2.15730038866\n",
      "806.3729438 m 1078.28668561 m\n"
     ]
    },
    {
     "name": "stderr",
     "output_type": "stream",
     "text": [
      "\r",
      " 53%|█████████████████████████████████████▍                                 | 665/1261 [03:13<02:36,  3.82it/s]"
     ]
    },
    {
     "name": "stdout",
     "output_type": "stream",
     "text": [
      "(720, 1280, 3)\n",
      "left offset -1.57407674186 right offset 2.20434039175\n",
      "797.071143978 m 923.933056643 m\n"
     ]
    },
    {
     "name": "stderr",
     "output_type": "stream",
     "text": [
      "\r",
      " 53%|█████████████████████████████████████▍                                 | 666/1261 [03:13<02:35,  3.82it/s]"
     ]
    },
    {
     "name": "stdout",
     "output_type": "stream",
     "text": [
      "(720, 1280, 3)\n",
      "left offset -1.5726968214 right offset 2.23941207019\n",
      "813.914128902 m 868.55872599 m\n"
     ]
    },
    {
     "name": "stderr",
     "output_type": "stream",
     "text": [
      "\r",
      " 53%|█████████████████████████████████████▌                                 | 667/1261 [03:14<02:36,  3.81it/s]"
     ]
    },
    {
     "name": "stdout",
     "output_type": "stream",
     "text": [
      "(720, 1280, 3)\n",
      "left offset -1.56837760674 right offset 2.22532990243\n",
      "788.321686257 m 932.933086887 m\n"
     ]
    },
    {
     "name": "stderr",
     "output_type": "stream",
     "text": [
      "\r",
      " 53%|█████████████████████████████████████▌                                 | 668/1261 [03:14<02:35,  3.82it/s]"
     ]
    },
    {
     "name": "stdout",
     "output_type": "stream",
     "text": [
      "(720, 1280, 3)\n",
      "left offset -1.57622580412 right offset 2.23033536414\n",
      "853.586510211 m 967.980822781 m\n"
     ]
    },
    {
     "name": "stderr",
     "output_type": "stream",
     "text": [
      "\r",
      " 53%|█████████████████████████████████████▋                                 | 669/1261 [03:14<02:33,  3.85it/s]"
     ]
    },
    {
     "name": "stdout",
     "output_type": "stream",
     "text": [
      "(720, 1280, 3)\n",
      "left offset -1.57371387917 right offset 2.21587171609\n",
      "857.514498612 m 1007.36060757 m\n"
     ]
    },
    {
     "name": "stderr",
     "output_type": "stream",
     "text": [
      "\r",
      " 53%|█████████████████████████████████████▋                                 | 670/1261 [03:14<02:33,  3.85it/s]"
     ]
    },
    {
     "name": "stdout",
     "output_type": "stream",
     "text": [
      "(720, 1280, 3)\n",
      "left offset -1.61736297388 right offset 2.21333685548\n",
      "1246.47081421 m 1048.9585893 m\n"
     ]
    },
    {
     "name": "stderr",
     "output_type": "stream",
     "text": [
      "\r",
      " 53%|█████████████████████████████████████▊                                 | 671/1261 [03:15<02:34,  3.81it/s]"
     ]
    },
    {
     "name": "stdout",
     "output_type": "stream",
     "text": [
      "(720, 1280, 3)\n",
      "left offset -1.58275934937 right offset 2.22215050038\n",
      "947.176940584 m 963.248028756 m\n"
     ]
    },
    {
     "name": "stderr",
     "output_type": "stream",
     "text": [
      "\r",
      " 53%|█████████████████████████████████████▊                                 | 672/1261 [03:15<02:35,  3.78it/s]"
     ]
    },
    {
     "name": "stdout",
     "output_type": "stream",
     "text": [
      "(720, 1280, 3)\n",
      "left offset -1.58958624384 right offset 2.22154205252\n",
      "1044.63457197 m 961.732521325 m\n"
     ]
    },
    {
     "name": "stderr",
     "output_type": "stream",
     "text": [
      "\r",
      " 53%|█████████████████████████████████████▉                                 | 673/1261 [03:15<02:34,  3.81it/s]"
     ]
    },
    {
     "name": "stdout",
     "output_type": "stream",
     "text": [
      "(720, 1280, 3)\n",
      "left offset -1.58756443686 right offset 2.21034045046\n",
      "1086.35825136 m 971.611761289 m\n"
     ]
    },
    {
     "name": "stderr",
     "output_type": "stream",
     "text": [
      "\r",
      " 53%|█████████████████████████████████████▉                                 | 674/1261 [03:15<02:33,  3.82it/s]"
     ]
    },
    {
     "name": "stdout",
     "output_type": "stream",
     "text": [
      "(720, 1280, 3)\n",
      "left offset -1.60043227682 right offset 2.20486093544\n",
      "1462.03355425 m 955.597019004 m\n"
     ]
    },
    {
     "name": "stderr",
     "output_type": "stream",
     "text": [
      "\r",
      " 54%|██████████████████████████████████████                                 | 675/1261 [03:16<02:34,  3.79it/s]"
     ]
    },
    {
     "name": "stdout",
     "output_type": "stream",
     "text": [
      "(720, 1280, 3)\n",
      "left offset -1.60133934953 right offset 2.21036278915\n",
      "1641.33000318 m 909.71625098 m\n"
     ]
    },
    {
     "name": "stderr",
     "output_type": "stream",
     "text": [
      "\r",
      " 54%|██████████████████████████████████████                                 | 676/1261 [03:16<02:34,  3.78it/s]"
     ]
    },
    {
     "name": "stdout",
     "output_type": "stream",
     "text": [
      "(720, 1280, 3)\n",
      "left offset -1.57292123932 right offset 2.21741096516\n",
      "1190.32841151 m 902.475330921 m\n"
     ]
    },
    {
     "name": "stderr",
     "output_type": "stream",
     "text": [
      "\r",
      " 54%|██████████████████████████████████████                                 | 677/1261 [03:16<02:33,  3.80it/s]"
     ]
    },
    {
     "name": "stdout",
     "output_type": "stream",
     "text": [
      "(720, 1280, 3)\n",
      "left offset -1.56677488283 right offset 2.22892951311\n",
      "1106.12133583 m 926.85905583 m\n"
     ]
    },
    {
     "name": "stderr",
     "output_type": "stream",
     "text": [
      "\r",
      " 54%|██████████████████████████████████████▏                                | 678/1261 [03:16<02:33,  3.81it/s]"
     ]
    },
    {
     "name": "stdout",
     "output_type": "stream",
     "text": [
      "(720, 1280, 3)\n",
      "left offset -1.56587230657 right offset 2.27922942949\n",
      "1322.60215604 m 820.453757137 m\n"
     ]
    },
    {
     "name": "stderr",
     "output_type": "stream",
     "text": [
      "\r",
      " 54%|██████████████████████████████████████▏                                | 679/1261 [03:17<02:34,  3.77it/s]"
     ]
    },
    {
     "name": "stdout",
     "output_type": "stream",
     "text": [
      "(720, 1280, 3)\n",
      "left offset -1.56308643312 right offset 2.28587299947\n",
      "1322.93561308 m 809.953907131 m\n"
     ]
    },
    {
     "name": "stderr",
     "output_type": "stream",
     "text": [
      "\r",
      " 54%|██████████████████████████████████████▎                                | 680/1261 [03:17<02:34,  3.77it/s]"
     ]
    },
    {
     "name": "stdout",
     "output_type": "stream",
     "text": [
      "(720, 1280, 3)\n",
      "left offset -1.56797147843 right offset 2.24907191688\n",
      "1531.27687812 m 838.351004723 m\n"
     ]
    },
    {
     "name": "stderr",
     "output_type": "stream",
     "text": [
      "\r",
      " 54%|██████████████████████████████████████▎                                | 681/1261 [03:17<02:33,  3.77it/s]"
     ]
    },
    {
     "name": "stdout",
     "output_type": "stream",
     "text": [
      "(720, 1280, 3)\n",
      "left offset -1.54974339254 right offset 2.24805654024\n",
      "1073.56703774 m 857.379123108 m\n"
     ]
    },
    {
     "name": "stderr",
     "output_type": "stream",
     "text": [
      "\r",
      " 54%|██████████████████████████████████████▍                                | 682/1261 [03:18<02:32,  3.79it/s]"
     ]
    },
    {
     "name": "stdout",
     "output_type": "stream",
     "text": [
      "(720, 1280, 3)\n",
      "left offset -1.54436345942 right offset 2.22916316288\n",
      "1128.24741976 m 895.919164471 m\n"
     ]
    },
    {
     "name": "stderr",
     "output_type": "stream",
     "text": [
      "\r",
      " 54%|██████████████████████████████████████▍                                | 683/1261 [03:18<02:33,  3.77it/s]"
     ]
    },
    {
     "name": "stdout",
     "output_type": "stream",
     "text": [
      "(720, 1280, 3)\n",
      "left offset -1.55663980182 right offset 2.23621517813\n",
      "1401.64783128 m 887.229591805 m\n"
     ]
    },
    {
     "name": "stderr",
     "output_type": "stream",
     "text": [
      "\r",
      " 54%|██████████████████████████████████████▌                                | 684/1261 [03:18<02:31,  3.81it/s]"
     ]
    },
    {
     "name": "stdout",
     "output_type": "stream",
     "text": [
      "(720, 1280, 3)\n",
      "left offset -1.53954843716 right offset 2.23163848959\n",
      "1129.38387207 m 885.098414863 m\n"
     ]
    },
    {
     "name": "stderr",
     "output_type": "stream",
     "text": [
      "\r",
      " 54%|██████████████████████████████████████▌                                | 685/1261 [03:18<02:31,  3.81it/s]"
     ]
    },
    {
     "name": "stdout",
     "output_type": "stream",
     "text": [
      "(720, 1280, 3)\n",
      "left offset -1.50319003366 right offset 2.21801827598\n",
      "797.050914051 m 857.257581867 m\n"
     ]
    },
    {
     "name": "stderr",
     "output_type": "stream",
     "text": [
      "\r",
      " 54%|██████████████████████████████████████▌                                | 686/1261 [03:19<02:29,  3.84it/s]"
     ]
    },
    {
     "name": "stdout",
     "output_type": "stream",
     "text": [
      "(720, 1280, 3)\n",
      "left offset -1.51708631295 right offset 2.21248313726\n",
      "859.337311737 m 856.708078805 m\n"
     ]
    },
    {
     "name": "stderr",
     "output_type": "stream",
     "text": [
      "\r",
      " 54%|██████████████████████████████████████▋                                | 687/1261 [03:19<02:30,  3.82it/s]"
     ]
    },
    {
     "name": "stdout",
     "output_type": "stream",
     "text": [
      "(720, 1280, 3)\n",
      "left offset -1.52188241617 right offset 2.2178935432\n",
      "911.629529353 m 860.690422486 m\n"
     ]
    },
    {
     "name": "stderr",
     "output_type": "stream",
     "text": [
      "\r",
      " 55%|██████████████████████████████████████▋                                | 688/1261 [03:19<02:33,  3.74it/s]"
     ]
    },
    {
     "name": "stdout",
     "output_type": "stream",
     "text": [
      "(720, 1280, 3)\n",
      "left offset -1.51853953429 right offset 2.20486789079\n",
      "812.086266047 m 975.200785478 m\n"
     ]
    },
    {
     "name": "stderr",
     "output_type": "stream",
     "text": [
      "\r",
      " 55%|██████████████████████████████████████▊                                | 689/1261 [03:19<02:40,  3.56it/s]"
     ]
    },
    {
     "name": "stdout",
     "output_type": "stream",
     "text": [
      "(720, 1280, 3)\n",
      "left offset -1.52216141737 right offset 2.22640564211\n",
      "879.146886494 m 909.920058481 m\n"
     ]
    },
    {
     "name": "stderr",
     "output_type": "stream",
     "text": [
      "\r",
      " 55%|██████████████████████████████████████▊                                | 690/1261 [03:20<02:37,  3.62it/s]"
     ]
    },
    {
     "name": "stdout",
     "output_type": "stream",
     "text": [
      "(720, 1280, 3)\n",
      "left offset -1.53952811562 right offset 2.24023945904\n",
      "1134.16736726 m 886.847648827 m\n"
     ]
    },
    {
     "name": "stderr",
     "output_type": "stream",
     "text": [
      "\r",
      " 55%|██████████████████████████████████████▉                                | 691/1261 [03:20<02:36,  3.64it/s]"
     ]
    },
    {
     "name": "stdout",
     "output_type": "stream",
     "text": [
      "(720, 1280, 3)\n",
      "left offset -1.51683645441 right offset 2.26799077036\n",
      "847.527674268 m 805.180525345 m\n"
     ]
    },
    {
     "name": "stderr",
     "output_type": "stream",
     "text": [
      "\r",
      " 55%|██████████████████████████████████████▉                                | 692/1261 [03:20<02:33,  3.72it/s]"
     ]
    },
    {
     "name": "stdout",
     "output_type": "stream",
     "text": [
      "(720, 1280, 3)\n",
      "left offset -1.48281853199 right offset 2.23737917231\n",
      "657.181343497 m 829.179343123 m\n"
     ]
    },
    {
     "name": "stderr",
     "output_type": "stream",
     "text": [
      "\r",
      " 55%|███████████████████████████████████████                                | 693/1261 [03:20<02:31,  3.75it/s]"
     ]
    },
    {
     "name": "stdout",
     "output_type": "stream",
     "text": [
      "(720, 1280, 3)\n",
      "left offset -1.48765348566 right offset 2.22760462346\n",
      "655.328506076 m 844.854866158 m\n"
     ]
    },
    {
     "name": "stderr",
     "output_type": "stream",
     "text": [
      "\r",
      " 55%|███████████████████████████████████████                                | 694/1261 [03:21<02:29,  3.80it/s]"
     ]
    },
    {
     "name": "stdout",
     "output_type": "stream",
     "text": [
      "(720, 1280, 3)\n",
      "left offset -1.49442194854 right offset 2.22328999761\n",
      "691.431532548 m 841.167096437 m\n"
     ]
    },
    {
     "name": "stderr",
     "output_type": "stream",
     "text": [
      "\r",
      " 55%|███████████████████████████████████████▏                               | 695/1261 [03:21<02:31,  3.75it/s]"
     ]
    },
    {
     "name": "stdout",
     "output_type": "stream",
     "text": [
      "(720, 1280, 3)\n",
      "left offset -1.50716402395 right offset 2.22848287697\n",
      "659.538863232 m 834.77829824 m\n"
     ]
    },
    {
     "name": "stderr",
     "output_type": "stream",
     "text": [
      "\r",
      " 55%|███████████████████████████████████████▏                               | 696/1261 [03:21<02:30,  3.75it/s]"
     ]
    },
    {
     "name": "stdout",
     "output_type": "stream",
     "text": [
      "(720, 1280, 3)\n",
      "left offset -1.50347626404 right offset 2.20595356572\n",
      "578.544047562 m 828.085429198 m\n"
     ]
    },
    {
     "name": "stderr",
     "output_type": "stream",
     "text": [
      "\r",
      " 55%|███████████████████████████████████████▏                               | 697/1261 [03:22<02:29,  3.78it/s]"
     ]
    },
    {
     "name": "stdout",
     "output_type": "stream",
     "text": [
      "(720, 1280, 3)\n",
      "left offset -1.50168007655 right offset 2.21153006815\n",
      "573.399049531 m 787.154109984 m\n"
     ]
    },
    {
     "name": "stderr",
     "output_type": "stream",
     "text": [
      "\r",
      " 55%|███████████████████████████████████████▎                               | 698/1261 [03:22<02:29,  3.76it/s]"
     ]
    },
    {
     "name": "stdout",
     "output_type": "stream",
     "text": [
      "(720, 1280, 3)\n",
      "left offset -1.5033168308 right offset 2.19157424163\n",
      "559.964557547 m 818.715423417 m\n"
     ]
    },
    {
     "name": "stderr",
     "output_type": "stream",
     "text": [
      "\r",
      " 55%|███████████████████████████████████████▎                               | 699/1261 [03:22<02:29,  3.77it/s]"
     ]
    },
    {
     "name": "stdout",
     "output_type": "stream",
     "text": [
      "(720, 1280, 3)\n",
      "left offset -1.50002533695 right offset 2.18279540603\n",
      "574.23209154 m 800.711033587 m\n"
     ]
    },
    {
     "name": "stderr",
     "output_type": "stream",
     "text": [
      "\r",
      " 56%|███████████████████████████████████████▍                               | 700/1261 [03:22<02:28,  3.77it/s]"
     ]
    },
    {
     "name": "stdout",
     "output_type": "stream",
     "text": [
      "(720, 1280, 3)\n",
      "left offset -1.51413223857 right offset 2.19788022916\n",
      "630.169667963 m 736.607201961 m\n"
     ]
    },
    {
     "name": "stderr",
     "output_type": "stream",
     "text": [
      "\r",
      " 56%|███████████████████████████████████████▍                               | 701/1261 [03:23<02:30,  3.73it/s]"
     ]
    },
    {
     "name": "stdout",
     "output_type": "stream",
     "text": [
      "(720, 1280, 3)\n",
      "left offset -1.55065870625 right offset 2.22406324146\n",
      "883.451466957 m 727.223454448 m\n"
     ]
    },
    {
     "name": "stderr",
     "output_type": "stream",
     "text": [
      "\r",
      " 56%|███████████████████████████████████████▌                               | 702/1261 [03:23<02:28,  3.76it/s]"
     ]
    },
    {
     "name": "stdout",
     "output_type": "stream",
     "text": [
      "(720, 1280, 3)\n",
      "left offset -1.55218315644 right offset 2.22914895197\n",
      "862.740230367 m 744.858916955 m\n"
     ]
    },
    {
     "name": "stderr",
     "output_type": "stream",
     "text": [
      "\r",
      " 56%|███████████████████████████████████████▌                               | 703/1261 [03:23<02:33,  3.63it/s]"
     ]
    },
    {
     "name": "stdout",
     "output_type": "stream",
     "text": [
      "(720, 1280, 3)\n",
      "left offset -1.53286276018 right offset 2.28328376004\n",
      "639.013294457 m 670.82128128 m\n"
     ]
    },
    {
     "name": "stderr",
     "output_type": "stream",
     "text": [
      "\r",
      " 56%|███████████████████████████████████████▋                               | 704/1261 [03:23<02:30,  3.71it/s]"
     ]
    },
    {
     "name": "stdout",
     "output_type": "stream",
     "text": [
      "(720, 1280, 3)\n",
      "left offset -1.5503374002 right offset 2.24057679923\n",
      "726.126461226 m 704.210412156 m\n"
     ]
    },
    {
     "name": "stderr",
     "output_type": "stream",
     "text": [
      "\r",
      " 56%|███████████████████████████████████████▋                               | 705/1261 [03:24<02:27,  3.78it/s]"
     ]
    },
    {
     "name": "stdout",
     "output_type": "stream",
     "text": [
      "(720, 1280, 3)\n",
      "left offset -1.57321694621 right offset 2.24909704662\n",
      "1021.12751702 m 691.398649274 m\n"
     ]
    },
    {
     "name": "stderr",
     "output_type": "stream",
     "text": [
      "\r",
      " 56%|███████████████████████████████████████▊                               | 706/1261 [03:24<02:27,  3.77it/s]"
     ]
    },
    {
     "name": "stdout",
     "output_type": "stream",
     "text": [
      "(720, 1280, 3)\n",
      "left offset -1.58233831357 right offset 2.2277072412\n",
      "1145.32223912 m 722.028886056 m\n"
     ]
    },
    {
     "name": "stderr",
     "output_type": "stream",
     "text": [
      "\r",
      " 56%|███████████████████████████████████████▊                               | 707/1261 [03:24<02:32,  3.63it/s]"
     ]
    },
    {
     "name": "stdout",
     "output_type": "stream",
     "text": [
      "(720, 1280, 3)\n",
      "left offset -1.57588040025 right offset 2.21205252133\n",
      "892.569489112 m 749.958998245 m\n"
     ]
    },
    {
     "name": "stderr",
     "output_type": "stream",
     "text": [
      "\r",
      " 56%|███████████████████████████████████████▊                               | 708/1261 [03:25<02:36,  3.54it/s]"
     ]
    },
    {
     "name": "stdout",
     "output_type": "stream",
     "text": [
      "(720, 1280, 3)\n",
      "left offset -1.53925028663 right offset 2.1933649168\n",
      "661.690493562 m 734.610002218 m\n"
     ]
    },
    {
     "name": "stderr",
     "output_type": "stream",
     "text": [
      "\r",
      " 56%|███████████████████████████████████████▉                               | 709/1261 [03:25<02:35,  3.54it/s]"
     ]
    },
    {
     "name": "stdout",
     "output_type": "stream",
     "text": [
      "(720, 1280, 3)\n",
      "left offset -1.54486317237 right offset 2.17631626428\n",
      "629.010021287 m 765.65514967 m\n"
     ]
    },
    {
     "name": "stderr",
     "output_type": "stream",
     "text": [
      "\r",
      " 56%|███████████████████████████████████████▉                               | 710/1261 [03:25<02:32,  3.61it/s]"
     ]
    },
    {
     "name": "stdout",
     "output_type": "stream",
     "text": [
      "(720, 1280, 3)\n",
      "left offset -1.54670096228 right offset 2.16163353109\n",
      "709.423565978 m 791.312222396 m\n"
     ]
    },
    {
     "name": "stderr",
     "output_type": "stream",
     "text": [
      "\r",
      " 56%|████████████████████████████████████████                               | 711/1261 [03:25<02:34,  3.56it/s]"
     ]
    },
    {
     "name": "stdout",
     "output_type": "stream",
     "text": [
      "(720, 1280, 3)\n",
      "left offset -1.55283478297 right offset 2.16558102622\n",
      "698.637691428 m 785.498880548 m\n"
     ]
    },
    {
     "name": "stderr",
     "output_type": "stream",
     "text": [
      "\r",
      " 56%|████████████████████████████████████████                               | 712/1261 [03:26<02:36,  3.50it/s]"
     ]
    },
    {
     "name": "stdout",
     "output_type": "stream",
     "text": [
      "(720, 1280, 3)\n",
      "left offset -1.56362534217 right offset 2.15127992153\n",
      "801.131433277 m 848.357851345 m\n"
     ]
    },
    {
     "name": "stderr",
     "output_type": "stream",
     "text": [
      "\r",
      " 57%|████████████████████████████████████████▏                              | 713/1261 [03:26<02:38,  3.46it/s]"
     ]
    },
    {
     "name": "stdout",
     "output_type": "stream",
     "text": [
      "(720, 1280, 3)\n",
      "left offset -1.56003912163 right offset 2.166439207\n",
      "821.318387098 m 782.603922445 m\n"
     ]
    },
    {
     "name": "stderr",
     "output_type": "stream",
     "text": [
      "\r",
      " 57%|████████████████████████████████████████▏                              | 714/1261 [03:26<02:41,  3.39it/s]"
     ]
    },
    {
     "name": "stdout",
     "output_type": "stream",
     "text": [
      "(720, 1280, 3)\n",
      "left offset -1.5514204971 right offset 2.18692125016\n",
      "818.566790362 m 726.443374808 m\n"
     ]
    },
    {
     "name": "stderr",
     "output_type": "stream",
     "text": [
      "\r",
      " 57%|████████████████████████████████████████▎                              | 715/1261 [03:27<02:41,  3.38it/s]"
     ]
    },
    {
     "name": "stdout",
     "output_type": "stream",
     "text": [
      "(720, 1280, 3)\n",
      "left offset -1.54685686545 right offset 2.20973762247\n",
      "779.046191593 m 712.684304688 m\n"
     ]
    },
    {
     "name": "stderr",
     "output_type": "stream",
     "text": [
      "\r",
      " 57%|████████████████████████████████████████▎                              | 716/1261 [03:27<02:41,  3.37it/s]"
     ]
    },
    {
     "name": "stdout",
     "output_type": "stream",
     "text": [
      "(720, 1280, 3)\n",
      "left offset -1.54537601989 right offset 2.20760940324\n",
      "770.137683767 m 745.705865006 m\n"
     ]
    },
    {
     "name": "stderr",
     "output_type": "stream",
     "text": [
      "\r",
      " 57%|████████████████████████████████████████▎                              | 717/1261 [03:27<02:41,  3.37it/s]"
     ]
    },
    {
     "name": "stdout",
     "output_type": "stream",
     "text": [
      "(720, 1280, 3)\n",
      "left offset -1.54140875867 right offset 2.20124099762\n",
      "689.589453584 m 799.664732578 m\n"
     ]
    },
    {
     "name": "stderr",
     "output_type": "stream",
     "text": [
      "\r",
      " 57%|████████████████████████████████████████▍                              | 718/1261 [03:27<02:40,  3.39it/s]"
     ]
    },
    {
     "name": "stdout",
     "output_type": "stream",
     "text": [
      "(720, 1280, 3)\n",
      "left offset -1.53947079473 right offset 2.17898853178\n",
      "754.86288463 m 835.439926842 m\n"
     ]
    },
    {
     "name": "stderr",
     "output_type": "stream",
     "text": [
      "\r",
      " 57%|████████████████████████████████████████▍                              | 719/1261 [03:28<02:38,  3.43it/s]"
     ]
    },
    {
     "name": "stdout",
     "output_type": "stream",
     "text": [
      "(720, 1280, 3)\n",
      "left offset -1.55096200994 right offset 2.16022861541\n",
      "892.841172427 m 897.861349149 m\n"
     ]
    },
    {
     "name": "stderr",
     "output_type": "stream",
     "text": [
      "\r",
      " 57%|████████████████████████████████████████▌                              | 720/1261 [03:28<02:39,  3.40it/s]"
     ]
    },
    {
     "name": "stdout",
     "output_type": "stream",
     "text": [
      "(720, 1280, 3)\n",
      "left offset -1.52507712788 right offset 2.18144610981\n",
      "664.339120246 m 869.492756245 m\n"
     ]
    },
    {
     "name": "stderr",
     "output_type": "stream",
     "text": [
      "\r",
      " 57%|████████████████████████████████████████▌                              | 721/1261 [03:28<02:37,  3.43it/s]"
     ]
    },
    {
     "name": "stdout",
     "output_type": "stream",
     "text": [
      "(720, 1280, 3)\n",
      "left offset -1.5190332436 right offset 2.17383206579\n",
      "645.430615405 m 921.485784012 m\n"
     ]
    },
    {
     "name": "stderr",
     "output_type": "stream",
     "text": [
      "\r",
      " 57%|████████████████████████████████████████▋                              | 722/1261 [03:29<02:35,  3.46it/s]"
     ]
    },
    {
     "name": "stdout",
     "output_type": "stream",
     "text": [
      "(720, 1280, 3)\n",
      "left offset -1.50447692883 right offset 2.1828365495\n",
      "614.632241254 m 908.427513921 m\n"
     ]
    },
    {
     "name": "stderr",
     "output_type": "stream",
     "text": [
      "\r",
      " 57%|████████████████████████████████████████▋                              | 723/1261 [03:29<02:33,  3.51it/s]"
     ]
    },
    {
     "name": "stdout",
     "output_type": "stream",
     "text": [
      "(720, 1280, 3)\n",
      "left offset -1.50277561395 right offset 2.17190080867\n",
      "624.71371625 m 946.392123235 m\n"
     ]
    },
    {
     "name": "stderr",
     "output_type": "stream",
     "text": [
      "\r",
      " 57%|████████████████████████████████████████▊                              | 724/1261 [03:29<02:33,  3.50it/s]"
     ]
    },
    {
     "name": "stdout",
     "output_type": "stream",
     "text": [
      "(720, 1280, 3)\n",
      "left offset -1.5128951536 right offset 2.18497088428\n",
      "660.094498846 m 1002.51983423 m\n"
     ]
    },
    {
     "name": "stderr",
     "output_type": "stream",
     "text": [
      "\r",
      " 57%|████████████████████████████████████████▊                              | 725/1261 [03:30<02:35,  3.45it/s]"
     ]
    },
    {
     "name": "stdout",
     "output_type": "stream",
     "text": [
      "(720, 1280, 3)\n",
      "left offset -1.51860420667 right offset 2.17964138955\n",
      "737.346383105 m 1002.75604166 m\n"
     ]
    },
    {
     "name": "stderr",
     "output_type": "stream",
     "text": [
      "\r",
      " 58%|████████████████████████████████████████▉                              | 726/1261 [03:30<02:31,  3.54it/s]"
     ]
    },
    {
     "name": "stdout",
     "output_type": "stream",
     "text": [
      "(720, 1280, 3)\n",
      "left offset -1.50878735655 right offset 2.19539347786\n",
      "668.239946044 m 966.078029983 m\n"
     ]
    },
    {
     "name": "stderr",
     "output_type": "stream",
     "text": [
      "\r",
      " 58%|████████████████████████████████████████▉                              | 727/1261 [03:30<02:29,  3.58it/s]"
     ]
    },
    {
     "name": "stdout",
     "output_type": "stream",
     "text": [
      "(720, 1280, 3)\n",
      "left offset -1.50819526443 right offset 2.21565524018\n",
      "714.406806874 m 923.637962764 m\n"
     ]
    },
    {
     "name": "stderr",
     "output_type": "stream",
     "text": [
      "\r",
      " 58%|████████████████████████████████████████▉                              | 728/1261 [03:30<02:28,  3.59it/s]"
     ]
    },
    {
     "name": "stdout",
     "output_type": "stream",
     "text": [
      "(720, 1280, 3)\n",
      "left offset -1.49992493911 right offset 2.22100853255\n",
      "688.413433614 m 898.981478178 m\n"
     ]
    },
    {
     "name": "stderr",
     "output_type": "stream",
     "text": [
      "\r",
      " 58%|█████████████████████████████████████████                              | 729/1261 [03:31<02:29,  3.56it/s]"
     ]
    },
    {
     "name": "stdout",
     "output_type": "stream",
     "text": [
      "(720, 1280, 3)\n",
      "left offset -1.52045765402 right offset 2.23864324334\n",
      "1028.45990682 m 885.901095142 m\n"
     ]
    },
    {
     "name": "stderr",
     "output_type": "stream",
     "text": [
      "\r",
      " 58%|█████████████████████████████████████████                              | 730/1261 [03:31<02:31,  3.51it/s]"
     ]
    },
    {
     "name": "stdout",
     "output_type": "stream",
     "text": [
      "(720, 1280, 3)\n",
      "left offset -1.48103685601 right offset 2.23906891851\n",
      "658.614749819 m 864.928817782 m\n"
     ]
    },
    {
     "name": "stderr",
     "output_type": "stream",
     "text": [
      "\r",
      " 58%|█████████████████████████████████████████▏                             | 731/1261 [03:31<02:27,  3.59it/s]"
     ]
    },
    {
     "name": "stdout",
     "output_type": "stream",
     "text": [
      "(720, 1280, 3)\n",
      "left offset -1.4903760875 right offset 2.23479629351\n",
      "816.468024897 m 816.808382283 m\n"
     ]
    },
    {
     "name": "stderr",
     "output_type": "stream",
     "text": [
      "\r",
      " 58%|█████████████████████████████████████████▏                             | 732/1261 [03:31<02:25,  3.64it/s]"
     ]
    },
    {
     "name": "stdout",
     "output_type": "stream",
     "text": [
      "(720, 1280, 3)\n",
      "left offset -1.47821807975 right offset 2.23227283937\n",
      "724.046019593 m 776.115667879 m\n"
     ]
    },
    {
     "name": "stderr",
     "output_type": "stream",
     "text": [
      "\r",
      " 58%|█████████████████████████████████████████▎                             | 733/1261 [03:32<02:23,  3.69it/s]"
     ]
    },
    {
     "name": "stdout",
     "output_type": "stream",
     "text": [
      "(720, 1280, 3)\n",
      "left offset -1.47583708565 right offset 2.23644385032\n",
      "688.359709589 m 766.86652803 m\n"
     ]
    },
    {
     "name": "stderr",
     "output_type": "stream",
     "text": [
      "\r",
      " 58%|█████████████████████████████████████████▎                             | 734/1261 [03:32<02:23,  3.67it/s]"
     ]
    },
    {
     "name": "stdout",
     "output_type": "stream",
     "text": [
      "(720, 1280, 3)\n",
      "left offset -1.47818784562 right offset 2.22680047029\n",
      "711.507773088 m 798.120503873 m\n"
     ]
    },
    {
     "name": "stderr",
     "output_type": "stream",
     "text": [
      "\r",
      " 58%|█████████████████████████████████████████▍                             | 735/1261 [03:32<02:23,  3.67it/s]"
     ]
    },
    {
     "name": "stdout",
     "output_type": "stream",
     "text": [
      "(720, 1280, 3)\n",
      "left offset -1.45446966974 right offset 2.21665013381\n",
      "606.870177785 m 824.600472508 m\n"
     ]
    },
    {
     "name": "stderr",
     "output_type": "stream",
     "text": [
      "\r",
      " 58%|█████████████████████████████████████████▍                             | 736/1261 [03:33<02:23,  3.66it/s]"
     ]
    },
    {
     "name": "stdout",
     "output_type": "stream",
     "text": [
      "(720, 1280, 3)\n",
      "left offset -1.44091928129 right offset 2.22337848805\n",
      "563.771855381 m 829.160856449 m\n"
     ]
    },
    {
     "name": "stderr",
     "output_type": "stream",
     "text": [
      "\r",
      " 58%|█████████████████████████████████████████▍                             | 737/1261 [03:33<02:21,  3.70it/s]"
     ]
    },
    {
     "name": "stdout",
     "output_type": "stream",
     "text": [
      "(720, 1280, 3)\n",
      "left offset -1.48113862012 right offset 2.22616854535\n",
      "909.1057073 m 809.703072741 m\n"
     ]
    },
    {
     "name": "stderr",
     "output_type": "stream",
     "text": [
      "\r",
      " 59%|█████████████████████████████████████████▌                             | 738/1261 [03:33<02:21,  3.70it/s]"
     ]
    },
    {
     "name": "stdout",
     "output_type": "stream",
     "text": [
      "(720, 1280, 3)\n",
      "left offset -1.44011531177 right offset 2.24101927486\n",
      "608.247429316 m 828.371014758 m\n"
     ]
    },
    {
     "name": "stderr",
     "output_type": "stream",
     "text": [
      "\r",
      " 59%|█████████████████████████████████████████▌                             | 739/1261 [03:33<02:20,  3.71it/s]"
     ]
    },
    {
     "name": "stdout",
     "output_type": "stream",
     "text": [
      "(720, 1280, 3)\n",
      "left offset -1.44483179049 right offset 2.26290448417\n",
      "684.274987246 m 775.608241984 m\n"
     ]
    },
    {
     "name": "stderr",
     "output_type": "stream",
     "text": [
      "\r",
      " 59%|█████████████████████████████████████████▋                             | 740/1261 [03:34<02:23,  3.63it/s]"
     ]
    },
    {
     "name": "stdout",
     "output_type": "stream",
     "text": [
      "(720, 1280, 3)\n",
      "left offset -1.45737704206 right offset 2.26204367962\n",
      "826.927494828 m 775.861858883 m\n"
     ]
    },
    {
     "name": "stderr",
     "output_type": "stream",
     "text": [
      "\r",
      " 59%|█████████████████████████████████████████▋                             | 741/1261 [03:34<02:19,  3.72it/s]"
     ]
    },
    {
     "name": "stdout",
     "output_type": "stream",
     "text": [
      "(720, 1280, 3)\n",
      "left offset -1.4484897031 right offset 2.25153922639\n",
      "842.111243042 m 778.477727955 m\n"
     ]
    },
    {
     "name": "stderr",
     "output_type": "stream",
     "text": [
      "\r",
      " 59%|█████████████████████████████████████████▊                             | 742/1261 [03:34<02:20,  3.70it/s]"
     ]
    },
    {
     "name": "stdout",
     "output_type": "stream",
     "text": [
      "(720, 1280, 3)\n",
      "left offset -1.43239815348 right offset 2.24029021447\n",
      "809.685308785 m 796.209906936 m\n"
     ]
    },
    {
     "name": "stderr",
     "output_type": "stream",
     "text": [
      "\r",
      " 59%|█████████████████████████████████████████▊                             | 743/1261 [03:34<02:18,  3.73it/s]"
     ]
    },
    {
     "name": "stdout",
     "output_type": "stream",
     "text": [
      "(720, 1280, 3)\n",
      "left offset -1.41922080509 right offset 2.23751064428\n",
      "715.442223962 m 784.386474899 m\n"
     ]
    },
    {
     "name": "stderr",
     "output_type": "stream",
     "text": [
      "\r",
      " 59%|█████████████████████████████████████████▉                             | 744/1261 [03:35<02:19,  3.71it/s]"
     ]
    },
    {
     "name": "stdout",
     "output_type": "stream",
     "text": [
      "(720, 1280, 3)\n",
      "left offset -1.41127998827 right offset 2.24008179293\n",
      "751.434875625 m 819.466621643 m\n"
     ]
    },
    {
     "name": "stderr",
     "output_type": "stream",
     "text": [
      "\r",
      " 59%|█████████████████████████████████████████▉                             | 745/1261 [03:35<02:18,  3.72it/s]"
     ]
    },
    {
     "name": "stdout",
     "output_type": "stream",
     "text": [
      "(720, 1280, 3)\n",
      "left offset -1.40928325925 right offset 2.23796887767\n",
      "782.787005666 m 862.668454206 m\n"
     ]
    },
    {
     "name": "stderr",
     "output_type": "stream",
     "text": [
      "\r",
      " 59%|██████████████████████████████████████████                             | 746/1261 [03:35<02:16,  3.76it/s]"
     ]
    },
    {
     "name": "stdout",
     "output_type": "stream",
     "text": [
      "(720, 1280, 3)\n",
      "left offset -1.40808117057 right offset 2.23591226043\n",
      "838.028873924 m 912.360250259 m\n"
     ]
    },
    {
     "name": "stderr",
     "output_type": "stream",
     "text": [
      "\r",
      " 59%|██████████████████████████████████████████                             | 747/1261 [03:35<02:16,  3.77it/s]"
     ]
    },
    {
     "name": "stdout",
     "output_type": "stream",
     "text": [
      "(720, 1280, 3)\n",
      "left offset -1.41168999635 right offset 2.24700390577\n",
      "929.090617833 m 941.562804867 m\n"
     ]
    },
    {
     "name": "stderr",
     "output_type": "stream",
     "text": [
      "\r",
      " 59%|██████████████████████████████████████████                             | 748/1261 [03:36<02:16,  3.76it/s]"
     ]
    },
    {
     "name": "stdout",
     "output_type": "stream",
     "text": [
      "(720, 1280, 3)\n",
      "left offset -1.40493069675 right offset 2.25482667345\n",
      "918.655926907 m 975.687649937 m\n"
     ]
    },
    {
     "name": "stderr",
     "output_type": "stream",
     "text": [
      "\r",
      " 59%|██████████████████████████████████████████▏                            | 749/1261 [03:36<02:16,  3.75it/s]"
     ]
    },
    {
     "name": "stdout",
     "output_type": "stream",
     "text": [
      "(720, 1280, 3)\n",
      "left offset -1.39342791742 right offset 2.24886442276\n",
      "848.530440196 m 1010.12135058 m\n"
     ]
    },
    {
     "name": "stderr",
     "output_type": "stream",
     "text": [
      "\r",
      " 59%|██████████████████████████████████████████▏                            | 750/1261 [03:36<02:16,  3.75it/s]"
     ]
    },
    {
     "name": "stdout",
     "output_type": "stream",
     "text": [
      "(720, 1280, 3)\n",
      "left offset -1.40716762671 right offset 2.25179120901\n",
      "1151.55440644 m 997.397918567 m\n"
     ]
    },
    {
     "name": "stderr",
     "output_type": "stream",
     "text": [
      "\r",
      " 60%|██████████████████████████████████████████▎                            | 751/1261 [03:37<02:15,  3.75it/s]"
     ]
    },
    {
     "name": "stdout",
     "output_type": "stream",
     "text": [
      "(720, 1280, 3)\n",
      "left offset -1.39937761282 right offset 2.25779697612\n",
      "1138.47437751 m 1054.6339714 m\n"
     ]
    },
    {
     "name": "stderr",
     "output_type": "stream",
     "text": [
      "\r",
      " 60%|██████████████████████████████████████████▎                            | 752/1261 [03:37<02:14,  3.77it/s]"
     ]
    },
    {
     "name": "stdout",
     "output_type": "stream",
     "text": [
      "(720, 1280, 3)\n",
      "left offset -1.37779970403 right offset 2.23829910553\n",
      "961.991853553 m 1118.66207266 m\n"
     ]
    },
    {
     "name": "stderr",
     "output_type": "stream",
     "text": [
      "\r",
      " 60%|██████████████████████████████████████████▍                            | 753/1261 [03:37<02:13,  3.82it/s]"
     ]
    },
    {
     "name": "stdout",
     "output_type": "stream",
     "text": [
      "(720, 1280, 3)\n",
      "left offset -1.38394432107 right offset 2.27207354863\n",
      "1523.18748729 m 1008.76416957 m\n"
     ]
    },
    {
     "name": "stderr",
     "output_type": "stream",
     "text": [
      "\r",
      " 60%|██████████████████████████████████████████▍                            | 754/1261 [03:37<02:13,  3.81it/s]"
     ]
    },
    {
     "name": "stdout",
     "output_type": "stream",
     "text": [
      "(720, 1280, 3)\n",
      "left offset -1.3559933649 right offset 2.27591754261\n",
      "1026.84409128 m 1014.2775864 m\n"
     ]
    },
    {
     "name": "stderr",
     "output_type": "stream",
     "text": [
      "\r",
      " 60%|██████████████████████████████████████████▌                            | 755/1261 [03:38<02:14,  3.76it/s]"
     ]
    },
    {
     "name": "stdout",
     "output_type": "stream",
     "text": [
      "(720, 1280, 3)\n",
      "left offset -1.35414308458 right offset 2.28215644078\n",
      "1179.5674795 m 1118.74868073 m\n"
     ]
    },
    {
     "name": "stderr",
     "output_type": "stream",
     "text": [
      "\r",
      " 60%|██████████████████████████████████████████▌                            | 756/1261 [03:38<02:13,  3.78it/s]"
     ]
    },
    {
     "name": "stdout",
     "output_type": "stream",
     "text": [
      "(720, 1280, 3)\n",
      "left offset -1.28511980303 right offset 2.29100500439\n",
      "653.334075671 m 1180.02149901 m\n"
     ]
    },
    {
     "name": "stderr",
     "output_type": "stream",
     "text": [
      "\r",
      " 60%|██████████████████████████████████████████▌                            | 757/1261 [03:38<02:14,  3.75it/s]"
     ]
    },
    {
     "name": "stdout",
     "output_type": "stream",
     "text": [
      "(720, 1280, 3)\n",
      "left offset -1.3431467737 right offset 2.30012826959\n",
      "1257.87307038 m 1193.11647827 m\n"
     ]
    },
    {
     "name": "stderr",
     "output_type": "stream",
     "text": [
      "\r",
      " 60%|██████████████████████████████████████████▋                            | 758/1261 [03:38<02:14,  3.73it/s]"
     ]
    },
    {
     "name": "stdout",
     "output_type": "stream",
     "text": [
      "(720, 1280, 3)\n",
      "left offset -1.299062727 right offset 2.31185951962\n",
      "826.252619092 m 1215.32409364 m\n"
     ]
    },
    {
     "name": "stderr",
     "output_type": "stream",
     "text": [
      "\r",
      " 60%|██████████████████████████████████████████▋                            | 759/1261 [03:39<02:13,  3.75it/s]"
     ]
    },
    {
     "name": "stdout",
     "output_type": "stream",
     "text": [
      "(720, 1280, 3)\n",
      "left offset -1.26616602591 right offset 2.31854192295\n",
      "627.473488626 m 1258.21835931 m\n"
     ]
    },
    {
     "name": "stderr",
     "output_type": "stream",
     "text": [
      "\r",
      " 60%|██████████████████████████████████████████▊                            | 760/1261 [03:39<02:13,  3.74it/s]"
     ]
    },
    {
     "name": "stdout",
     "output_type": "stream",
     "text": [
      "(720, 1280, 3)\n",
      "left offset -1.2876418335 right offset 2.32170265534\n",
      "805.193559226 m 1265.36883867 m\n"
     ]
    },
    {
     "name": "stderr",
     "output_type": "stream",
     "text": [
      "\r",
      " 60%|██████████████████████████████████████████▊                            | 761/1261 [03:39<02:13,  3.74it/s]"
     ]
    },
    {
     "name": "stdout",
     "output_type": "stream",
     "text": [
      "(720, 1280, 3)\n",
      "left offset -1.31201859021 right offset 2.33774493934\n",
      "1161.84915431 m 1310.16187251 m\n"
     ]
    },
    {
     "name": "stderr",
     "output_type": "stream",
     "text": [
      "\r",
      " 60%|██████████████████████████████████████████▉                            | 762/1261 [03:39<02:12,  3.76it/s]"
     ]
    },
    {
     "name": "stdout",
     "output_type": "stream",
     "text": [
      "(720, 1280, 3)\n",
      "left offset -1.2835217408 right offset 2.32000612071\n",
      "721.609663593 m 1328.09350416 m\n"
     ]
    },
    {
     "name": "stderr",
     "output_type": "stream",
     "text": [
      "\r",
      " 61%|██████████████████████████████████████████▉                            | 763/1261 [03:40<02:12,  3.75it/s]"
     ]
    },
    {
     "name": "stdout",
     "output_type": "stream",
     "text": [
      "(720, 1280, 3)\n",
      "left offset -1.28216823369 right offset 2.32698417125\n",
      "754.39506061 m 1430.71329188 m\n"
     ]
    },
    {
     "name": "stderr",
     "output_type": "stream",
     "text": [
      "\r",
      " 61%|███████████████████████████████████████████                            | 764/1261 [03:40<02:12,  3.74it/s]"
     ]
    },
    {
     "name": "stdout",
     "output_type": "stream",
     "text": [
      "(720, 1280, 3)\n",
      "left offset -1.30523394617 right offset 2.33649033477\n",
      "998.018452735 m 1410.01986515 m\n"
     ]
    },
    {
     "name": "stderr",
     "output_type": "stream",
     "text": [
      "\r",
      " 61%|███████████████████████████████████████████                            | 765/1261 [03:40<02:11,  3.77it/s]"
     ]
    },
    {
     "name": "stdout",
     "output_type": "stream",
     "text": [
      "(720, 1280, 3)\n",
      "left offset -1.27435134057 right offset 2.38007994648\n",
      "694.373697004 m 1185.64282909 m\n"
     ]
    },
    {
     "name": "stderr",
     "output_type": "stream",
     "text": [
      "\r",
      " 61%|███████████████████████████████████████████▏                           | 766/1261 [03:41<02:11,  3.78it/s]"
     ]
    },
    {
     "name": "stdout",
     "output_type": "stream",
     "text": [
      "(720, 1280, 3)\n",
      "left offset -1.2659787346 right offset 2.3841907687\n",
      "661.779607835 m 1204.22773094 m\n"
     ]
    },
    {
     "name": "stderr",
     "output_type": "stream",
     "text": [
      "\r",
      " 61%|███████████████████████████████████████████▏                           | 767/1261 [03:41<02:10,  3.78it/s]"
     ]
    },
    {
     "name": "stdout",
     "output_type": "stream",
     "text": [
      "(720, 1280, 3)\n",
      "left offset -1.26819067225 right offset 2.3790666184\n",
      "682.551776816 m 1167.75796301 m\n"
     ]
    },
    {
     "name": "stderr",
     "output_type": "stream",
     "text": [
      "\r",
      " 61%|███████████████████████████████████████████▏                           | 768/1261 [03:41<02:12,  3.73it/s]"
     ]
    },
    {
     "name": "stdout",
     "output_type": "stream",
     "text": [
      "(720, 1280, 3)\n",
      "left offset -1.2953178119 right offset 2.4104846235\n",
      "912.353077016 m 1017.65315603 m\n"
     ]
    },
    {
     "name": "stderr",
     "output_type": "stream",
     "text": [
      "\r",
      " 61%|███████████████████████████████████████████▎                           | 769/1261 [03:41<02:12,  3.72it/s]"
     ]
    },
    {
     "name": "stdout",
     "output_type": "stream",
     "text": [
      "(720, 1280, 3)\n",
      "left offset -1.2459480537 right offset 2.39068085347\n",
      "579.595623506 m 1125.4459045 m\n"
     ]
    },
    {
     "name": "stderr",
     "output_type": "stream",
     "text": [
      "\r",
      " 61%|███████████████████████████████████████████▎                           | 770/1261 [03:42<02:13,  3.69it/s]"
     ]
    },
    {
     "name": "stdout",
     "output_type": "stream",
     "text": [
      "(720, 1280, 3)\n",
      "left offset -1.26331487773 right offset 2.40804840244\n",
      "686.960867279 m 1107.72699761 m\n"
     ]
    },
    {
     "name": "stderr",
     "output_type": "stream",
     "text": [
      "\r",
      " 61%|███████████████████████████████████████████▍                           | 771/1261 [03:42<02:20,  3.50it/s]"
     ]
    },
    {
     "name": "stdout",
     "output_type": "stream",
     "text": [
      "(720, 1280, 3)\n",
      "left offset -1.26108999222 right offset 2.41485133527\n",
      "643.171547053 m 1177.76069963 m\n"
     ]
    },
    {
     "name": "stderr",
     "output_type": "stream",
     "text": [
      "\r",
      " 61%|███████████████████████████████████████████▍                           | 772/1261 [03:42<02:20,  3.49it/s]"
     ]
    },
    {
     "name": "stdout",
     "output_type": "stream",
     "text": [
      "(720, 1280, 3)\n",
      "left offset -1.27560182188 right offset 2.41680047522\n",
      "722.082736643 m 1210.62183321 m\n"
     ]
    },
    {
     "name": "stderr",
     "output_type": "stream",
     "text": [
      "\r",
      " 61%|███████████████████████████████████████████▌                           | 773/1261 [03:42<02:18,  3.53it/s]"
     ]
    },
    {
     "name": "stdout",
     "output_type": "stream",
     "text": [
      "(720, 1280, 3)\n",
      "left offset -1.29568654426 right offset 2.42564712518\n",
      "825.166435529 m 1226.73502437 m\n"
     ]
    },
    {
     "name": "stderr",
     "output_type": "stream",
     "text": [
      "\r",
      " 61%|███████████████████████████████████████████▌                           | 774/1261 [03:43<02:16,  3.57it/s]"
     ]
    },
    {
     "name": "stdout",
     "output_type": "stream",
     "text": [
      "(720, 1280, 3)\n",
      "left offset -1.30509472836 right offset 2.42101358372\n",
      "913.966946874 m 1212.47224091 m\n"
     ]
    },
    {
     "name": "stderr",
     "output_type": "stream",
     "text": [
      "\r",
      " 61%|███████████████████████████████████████████▋                           | 775/1261 [03:43<02:14,  3.60it/s]"
     ]
    },
    {
     "name": "stdout",
     "output_type": "stream",
     "text": [
      "(720, 1280, 3)\n",
      "left offset -1.33986669411 right offset 2.40894258281\n",
      "1558.39416482 m 1247.57255894 m\n"
     ]
    },
    {
     "name": "stderr",
     "output_type": "stream",
     "text": [
      "\r",
      " 62%|███████████████████████████████████████████▋                           | 776/1261 [03:43<02:13,  3.63it/s]"
     ]
    },
    {
     "name": "stdout",
     "output_type": "stream",
     "text": [
      "(720, 1280, 3)\n",
      "left offset -1.29117232376 right offset 2.422061729\n",
      "804.280800913 m 1202.72311437 m\n"
     ]
    },
    {
     "name": "stderr",
     "output_type": "stream",
     "text": [
      "\r",
      " 62%|███████████████████████████████████████████▋                           | 777/1261 [03:44<02:11,  3.67it/s]"
     ]
    },
    {
     "name": "stdout",
     "output_type": "stream",
     "text": [
      "(720, 1280, 3)\n",
      "left offset -1.27743167376 right offset 2.41847002504\n",
      "723.81404959 m 1140.24294258 m\n"
     ]
    },
    {
     "name": "stderr",
     "output_type": "stream",
     "text": [
      "\r",
      " 62%|███████████████████████████████████████████▊                           | 778/1261 [03:44<02:11,  3.69it/s]"
     ]
    },
    {
     "name": "stdout",
     "output_type": "stream",
     "text": [
      "(720, 1280, 3)\n",
      "left offset -1.3266771776 right offset 2.44735853971\n",
      "1485.85731769 m 1051.26081969 m\n"
     ]
    },
    {
     "name": "stderr",
     "output_type": "stream",
     "text": [
      "\r",
      " 62%|███████████████████████████████████████████▊                           | 779/1261 [03:44<02:10,  3.69it/s]"
     ]
    },
    {
     "name": "stdout",
     "output_type": "stream",
     "text": [
      "(720, 1280, 3)\n",
      "left offset -1.2771319903 right offset 2.44124301421\n",
      "794.072704642 m 1098.43225295 m\n"
     ]
    },
    {
     "name": "stderr",
     "output_type": "stream",
     "text": [
      "\r",
      " 62%|███████████████████████████████████████████▉                           | 780/1261 [03:44<02:10,  3.67it/s]"
     ]
    },
    {
     "name": "stdout",
     "output_type": "stream",
     "text": [
      "(720, 1280, 3)\n",
      "left offset -1.31900277606 right offset 2.44317234486\n",
      "1101.98127571 m 1175.54098028 m\n"
     ]
    },
    {
     "name": "stderr",
     "output_type": "stream",
     "text": [
      "\r",
      " 62%|███████████████████████████████████████████▉                           | 781/1261 [03:45<02:12,  3.62it/s]"
     ]
    },
    {
     "name": "stdout",
     "output_type": "stream",
     "text": [
      "(720, 1280, 3)\n",
      "left offset -1.34132404044 right offset 2.44643546616\n",
      "1428.78390363 m 1253.24818073 m\n"
     ]
    },
    {
     "name": "stderr",
     "output_type": "stream",
     "text": [
      "\r",
      " 62%|████████████████████████████████████████████                           | 782/1261 [03:45<02:11,  3.64it/s]"
     ]
    },
    {
     "name": "stdout",
     "output_type": "stream",
     "text": [
      "(720, 1280, 3)\n",
      "left offset -1.34570099955 right offset 2.42840938124\n",
      "1577.05500072 m 1298.47782414 m\n"
     ]
    },
    {
     "name": "stderr",
     "output_type": "stream",
     "text": [
      "\r",
      " 62%|████████████████████████████████████████████                           | 783/1261 [03:45<02:09,  3.68it/s]"
     ]
    },
    {
     "name": "stdout",
     "output_type": "stream",
     "text": [
      "(720, 1280, 3)\n",
      "left offset -1.30097261492 right offset 2.42424976295\n",
      "1018.37926712 m 1396.6286615 m\n"
     ]
    },
    {
     "name": "stderr",
     "output_type": "stream",
     "text": [
      "\r",
      " 62%|████████████████████████████████████████████▏                          | 784/1261 [03:45<02:08,  3.71it/s]"
     ]
    },
    {
     "name": "stdout",
     "output_type": "stream",
     "text": [
      "(720, 1280, 3)\n",
      "left offset -1.36073155056 right offset 2.42052592846\n",
      "2290.33439351 m 1486.35126311 m\n"
     ]
    },
    {
     "name": "stderr",
     "output_type": "stream",
     "text": [
      "\r",
      " 62%|████████████████████████████████████████████▏                          | 785/1261 [03:46<02:08,  3.70it/s]"
     ]
    },
    {
     "name": "stdout",
     "output_type": "stream",
     "text": [
      "(720, 1280, 3)\n",
      "left offset -1.32543769077 right offset 2.43126136782\n",
      "1320.92418622 m 1363.02284393 m\n"
     ]
    },
    {
     "name": "stderr",
     "output_type": "stream",
     "text": [
      "\r",
      " 62%|████████████████████████████████████████████▎                          | 786/1261 [03:46<02:07,  3.72it/s]"
     ]
    },
    {
     "name": "stdout",
     "output_type": "stream",
     "text": [
      "(720, 1280, 3)\n",
      "left offset -1.30650533642 right offset 2.42632073308\n",
      "1120.91487208 m 1409.41203895 m\n"
     ]
    },
    {
     "name": "stderr",
     "output_type": "stream",
     "text": [
      "\r",
      " 62%|████████████████████████████████████████████▎                          | 787/1261 [03:46<02:07,  3.71it/s]"
     ]
    },
    {
     "name": "stdout",
     "output_type": "stream",
     "text": [
      "(720, 1280, 3)\n",
      "left offset -1.2990695256 right offset 2.42714357393\n",
      "1150.26600162 m 1329.31044538 m\n"
     ]
    },
    {
     "name": "stderr",
     "output_type": "stream",
     "text": [
      "\r",
      " 62%|████████████████████████████████████████████▎                          | 788/1261 [03:47<02:15,  3.49it/s]"
     ]
    },
    {
     "name": "stdout",
     "output_type": "stream",
     "text": [
      "(720, 1280, 3)\n",
      "left offset -1.29361154065 right offset 2.44867041935\n",
      "1078.62462346 m 1207.65860738 m\n"
     ]
    },
    {
     "name": "stderr",
     "output_type": "stream",
     "text": [
      "\r",
      " 63%|████████████████████████████████████████████▍                          | 789/1261 [03:47<02:16,  3.45it/s]"
     ]
    },
    {
     "name": "stdout",
     "output_type": "stream",
     "text": [
      "(720, 1280, 3)\n",
      "left offset -1.31372544476 right offset 2.42584525183\n",
      "1525.84112972 m 1253.16630829 m\n"
     ]
    },
    {
     "name": "stderr",
     "output_type": "stream",
     "text": [
      "\r",
      " 63%|████████████████████████████████████████████▍                          | 790/1261 [03:47<02:16,  3.44it/s]"
     ]
    },
    {
     "name": "stdout",
     "output_type": "stream",
     "text": [
      "(720, 1280, 3)\n",
      "left offset -1.28421438714 right offset 2.4419726569\n",
      "1125.69736256 m 1246.1537518 m\n"
     ]
    },
    {
     "name": "stderr",
     "output_type": "stream",
     "text": [
      "\r",
      " 63%|████████████████████████████████████████████▌                          | 791/1261 [03:47<02:17,  3.43it/s]"
     ]
    },
    {
     "name": "stdout",
     "output_type": "stream",
     "text": [
      "(720, 1280, 3)\n",
      "left offset -1.28226616152 right offset 2.45241774043\n",
      "1035.49597046 m 1239.79040171 m\n"
     ]
    },
    {
     "name": "stderr",
     "output_type": "stream",
     "text": [
      "\r",
      " 63%|████████████████████████████████████████████▌                          | 792/1261 [03:48<02:14,  3.49it/s]"
     ]
    },
    {
     "name": "stdout",
     "output_type": "stream",
     "text": [
      "(720, 1280, 3)\n",
      "left offset -1.31897175216 right offset 2.45236247287\n",
      "1887.36555924 m 1174.30877955 m\n"
     ]
    },
    {
     "name": "stderr",
     "output_type": "stream",
     "text": [
      "\r",
      " 63%|████████████████████████████████████████████▋                          | 793/1261 [03:48<02:15,  3.46it/s]"
     ]
    },
    {
     "name": "stdout",
     "output_type": "stream",
     "text": [
      "(720, 1280, 3)\n",
      "left offset -1.30474277648 right offset 2.44993096432\n",
      "1503.00922697 m 1152.80394917 m\n"
     ]
    },
    {
     "name": "stderr",
     "output_type": "stream",
     "text": [
      "\r",
      " 63%|████████████████████████████████████████████▋                          | 794/1261 [03:48<02:15,  3.45it/s]"
     ]
    },
    {
     "name": "stdout",
     "output_type": "stream",
     "text": [
      "(720, 1280, 3)\n",
      "left offset -1.30268407943 right offset 2.45253291852\n",
      "1624.14328675 m 1046.03972816 m\n"
     ]
    },
    {
     "name": "stderr",
     "output_type": "stream",
     "text": [
      "\r",
      " 63%|████████████████████████████████████████████▊                          | 795/1261 [03:49<02:13,  3.49it/s]"
     ]
    },
    {
     "name": "stdout",
     "output_type": "stream",
     "text": [
      "(720, 1280, 3)\n",
      "left offset -1.28505352815 right offset 2.44081482238\n",
      "1510.55814572 m 1008.15936517 m\n"
     ]
    },
    {
     "name": "stderr",
     "output_type": "stream",
     "text": [
      "\r",
      " 63%|████████████████████████████████████████████▊                          | 796/1261 [03:49<02:10,  3.56it/s]"
     ]
    },
    {
     "name": "stdout",
     "output_type": "stream",
     "text": [
      "(720, 1280, 3)\n",
      "left offset -1.28976222372 right offset 2.44812892832\n",
      "1453.74861771 m 1011.68688604 m\n"
     ]
    },
    {
     "name": "stderr",
     "output_type": "stream",
     "text": [
      "\r",
      " 63%|████████████████████████████████████████████▊                          | 797/1261 [03:49<02:09,  3.59it/s]"
     ]
    },
    {
     "name": "stdout",
     "output_type": "stream",
     "text": [
      "(720, 1280, 3)\n",
      "left offset -1.28670569517 right offset 2.46866230083\n",
      "1693.93625684 m 973.767952419 m\n"
     ]
    },
    {
     "name": "stderr",
     "output_type": "stream",
     "text": [
      "\r",
      " 63%|████████████████████████████████████████████▉                          | 798/1261 [03:49<02:08,  3.60it/s]"
     ]
    },
    {
     "name": "stdout",
     "output_type": "stream",
     "text": [
      "(720, 1280, 3)\n",
      "left offset -1.29476068765 right offset 2.49742320459\n",
      "1810.26849687 m 996.571648897 m\n"
     ]
    },
    {
     "name": "stderr",
     "output_type": "stream",
     "text": [
      "\r",
      " 63%|████████████████████████████████████████████▉                          | 799/1261 [03:50<02:06,  3.64it/s]"
     ]
    },
    {
     "name": "stdout",
     "output_type": "stream",
     "text": [
      "(720, 1280, 3)\n",
      "left offset -1.25049142491 right offset 2.51273942806\n",
      "986.61237691 m 1040.13334123 m\n"
     ]
    },
    {
     "name": "stderr",
     "output_type": "stream",
     "text": [
      "\r",
      " 63%|█████████████████████████████████████████████                          | 800/1261 [03:50<02:05,  3.67it/s]"
     ]
    },
    {
     "name": "stdout",
     "output_type": "stream",
     "text": [
      "(720, 1280, 3)\n",
      "left offset -1.25301525335 right offset 2.52315244203\n",
      "1014.68535019 m 996.559716134 m\n"
     ]
    },
    {
     "name": "stderr",
     "output_type": "stream",
     "text": [
      "\r",
      " 64%|█████████████████████████████████████████████                          | 801/1261 [03:50<02:04,  3.70it/s]"
     ]
    },
    {
     "name": "stdout",
     "output_type": "stream",
     "text": [
      "(720, 1280, 3)\n",
      "left offset -1.25556162937 right offset 2.50466213424\n",
      "1030.09317537 m 1046.74999195 m\n"
     ]
    },
    {
     "name": "stderr",
     "output_type": "stream",
     "text": [
      "\r",
      " 64%|█████████████████████████████████████████████▏                         | 802/1261 [03:51<02:04,  3.68it/s]"
     ]
    },
    {
     "name": "stdout",
     "output_type": "stream",
     "text": [
      "(720, 1280, 3)\n",
      "left offset -1.30319753866 right offset 2.48411587759\n",
      "1808.69217944 m 1076.58488179 m\n"
     ]
    },
    {
     "name": "stderr",
     "output_type": "stream",
     "text": [
      "\r",
      " 64%|█████████████████████████████████████████████▏                         | 803/1261 [03:51<02:05,  3.65it/s]"
     ]
    },
    {
     "name": "stdout",
     "output_type": "stream",
     "text": [
      "(720, 1280, 3)\n",
      "left offset -1.2627313983 right offset 2.51940418794\n",
      "1041.74838801 m 865.563830092 m\n"
     ]
    },
    {
     "name": "stderr",
     "output_type": "stream",
     "text": [
      "\r",
      " 64%|█████████████████████████████████████████████▎                         | 804/1261 [03:51<02:06,  3.61it/s]"
     ]
    },
    {
     "name": "stdout",
     "output_type": "stream",
     "text": [
      "(720, 1280, 3)\n",
      "left offset -1.29375369767 right offset 2.49599553144\n",
      "1850.09718316 m 800.26446357 m\n"
     ]
    },
    {
     "name": "stderr",
     "output_type": "stream",
     "text": [
      "\r",
      " 64%|█████████████████████████████████████████████▎                         | 805/1261 [03:51<02:08,  3.54it/s]"
     ]
    },
    {
     "name": "stdout",
     "output_type": "stream",
     "text": [
      "(720, 1280, 3)\n",
      "left offset -1.2832496463 right offset 2.46833130314\n",
      "1423.69986272 m 815.986808986 m\n"
     ]
    },
    {
     "name": "stderr",
     "output_type": "stream",
     "text": [
      "\r",
      " 64%|█████████████████████████████████████████████▍                         | 806/1261 [03:52<02:10,  3.48it/s]"
     ]
    },
    {
     "name": "stdout",
     "output_type": "stream",
     "text": [
      "(720, 1280, 3)\n",
      "left offset -1.24587730853 right offset 2.45558056158\n",
      "825.892652817 m 820.24610626 m\n"
     ]
    },
    {
     "name": "stderr",
     "output_type": "stream",
     "text": [
      "\r",
      " 64%|█████████████████████████████████████████████▍                         | 807/1261 [03:52<02:12,  3.41it/s]"
     ]
    },
    {
     "name": "stdout",
     "output_type": "stream",
     "text": [
      "(720, 1280, 3)\n",
      "left offset -1.24705155357 right offset 2.44305471635\n",
      "782.375134473 m 791.387263995 m\n"
     ]
    },
    {
     "name": "stderr",
     "output_type": "stream",
     "text": [
      "\r",
      " 64%|█████████████████████████████████████████████▍                         | 808/1261 [03:52<02:11,  3.45it/s]"
     ]
    },
    {
     "name": "stdout",
     "output_type": "stream",
     "text": [
      "(720, 1280, 3)\n",
      "left offset -1.25107870652 right offset 2.45917150875\n",
      "754.663850225 m 826.568262765 m\n"
     ]
    },
    {
     "name": "stderr",
     "output_type": "stream",
     "text": [
      "\r",
      " 64%|█████████████████████████████████████████████▌                         | 809/1261 [03:53<02:10,  3.46it/s]"
     ]
    },
    {
     "name": "stdout",
     "output_type": "stream",
     "text": [
      "(720, 1280, 3)\n",
      "left offset -1.28569696234 right offset 2.46719562464\n",
      "1062.95040946 m 865.786053737 m\n"
     ]
    },
    {
     "name": "stderr",
     "output_type": "stream",
     "text": [
      "\r",
      " 64%|█████████████████████████████████████████████▌                         | 810/1261 [03:53<02:07,  3.54it/s]"
     ]
    },
    {
     "name": "stdout",
     "output_type": "stream",
     "text": [
      "(720, 1280, 3)\n",
      "left offset -1.29927864021 right offset 2.53496331369\n",
      "1065.57994811 m 790.95135175 m\n"
     ]
    },
    {
     "name": "stderr",
     "output_type": "stream",
     "text": [
      "\r",
      " 64%|█████████████████████████████████████████████▋                         | 811/1261 [03:53<02:04,  3.60it/s]"
     ]
    },
    {
     "name": "stdout",
     "output_type": "stream",
     "text": [
      "(720, 1280, 3)\n",
      "left offset -1.29168646892 right offset 2.55754199158\n",
      "858.151223045 m 815.465725933 m\n"
     ]
    },
    {
     "name": "stderr",
     "output_type": "stream",
     "text": [
      "\r",
      " 64%|█████████████████████████████████████████████▋                         | 812/1261 [03:53<02:03,  3.62it/s]"
     ]
    },
    {
     "name": "stdout",
     "output_type": "stream",
     "text": [
      "(720, 1280, 3)\n",
      "left offset -1.3152033935 right offset 2.5421938991\n",
      "937.932886368 m 823.146501109 m\n"
     ]
    },
    {
     "name": "stderr",
     "output_type": "stream",
     "text": [
      "\r",
      " 64%|█████████████████████████████████████████████▊                         | 813/1261 [03:54<02:02,  3.66it/s]"
     ]
    },
    {
     "name": "stdout",
     "output_type": "stream",
     "text": [
      "(720, 1280, 3)\n",
      "left offset -1.34609541664 right offset 2.51651348268\n",
      "1172.81274121 m 842.227015695 m\n"
     ]
    },
    {
     "name": "stderr",
     "output_type": "stream",
     "text": [
      "\r",
      " 65%|█████████████████████████████████████████████▊                         | 814/1261 [03:54<02:03,  3.61it/s]"
     ]
    },
    {
     "name": "stdout",
     "output_type": "stream",
     "text": [
      "(720, 1280, 3)\n",
      "left offset -1.33740414165 right offset 2.48211704097\n",
      "868.751050314 m 846.778879648 m\n"
     ]
    },
    {
     "name": "stderr",
     "output_type": "stream",
     "text": [
      "\r",
      " 65%|█████████████████████████████████████████████▉                         | 815/1261 [03:54<02:06,  3.53it/s]"
     ]
    },
    {
     "name": "stdout",
     "output_type": "stream",
     "text": [
      "(720, 1280, 3)\n",
      "left offset -1.3386766652 right offset 2.45584722523\n",
      "803.645473495 m 781.386802507 m\n"
     ]
    },
    {
     "name": "stderr",
     "output_type": "stream",
     "text": [
      "\r",
      " 65%|█████████████████████████████████████████████▉                         | 816/1261 [03:54<02:04,  3.58it/s]"
     ]
    },
    {
     "name": "stdout",
     "output_type": "stream",
     "text": [
      "(720, 1280, 3)\n",
      "left offset -1.34755553363 right offset 2.42861734743\n",
      "762.82973414 m 719.400761339 m\n"
     ]
    },
    {
     "name": "stderr",
     "output_type": "stream",
     "text": [
      "\r",
      " 65%|██████████████████████████████████████████████                         | 817/1261 [03:55<02:02,  3.61it/s]"
     ]
    },
    {
     "name": "stdout",
     "output_type": "stream",
     "text": [
      "(720, 1280, 3)\n",
      "left offset -1.35934194065 right offset 2.39729552127\n",
      "760.988968197 m 727.642222496 m\n"
     ]
    },
    {
     "name": "stderr",
     "output_type": "stream",
     "text": [
      "\r",
      " 65%|██████████████████████████████████████████████                         | 818/1261 [03:55<02:01,  3.63it/s]"
     ]
    },
    {
     "name": "stdout",
     "output_type": "stream",
     "text": [
      "(720, 1280, 3)\n",
      "left offset -1.39227567116 right offset 2.37952857072\n",
      "1083.24452672 m 779.83775318 m\n"
     ]
    },
    {
     "name": "stderr",
     "output_type": "stream",
     "text": [
      "\r",
      " 65%|██████████████████████████████████████████████                         | 819/1261 [03:55<02:00,  3.68it/s]"
     ]
    },
    {
     "name": "stdout",
     "output_type": "stream",
     "text": [
      "(720, 1280, 3)\n",
      "left offset -1.38503689172 right offset 2.37076199624\n",
      "868.549581826 m 766.123587723 m\n"
     ]
    },
    {
     "name": "stderr",
     "output_type": "stream",
     "text": [
      "\r",
      " 65%|██████████████████████████████████████████████▏                        | 820/1261 [03:56<01:59,  3.69it/s]"
     ]
    },
    {
     "name": "stdout",
     "output_type": "stream",
     "text": [
      "(720, 1280, 3)\n",
      "left offset -1.3951198038 right offset 2.35595604235\n",
      "845.86566504 m 809.857512687 m\n"
     ]
    },
    {
     "name": "stderr",
     "output_type": "stream",
     "text": [
      "\r",
      " 65%|██████████████████████████████████████████████▏                        | 821/1261 [03:56<01:58,  3.71it/s]"
     ]
    },
    {
     "name": "stdout",
     "output_type": "stream",
     "text": [
      "(720, 1280, 3)\n",
      "left offset -1.43189533945 right offset 2.35109078932\n",
      "1110.57173351 m 861.808895162 m\n"
     ]
    },
    {
     "name": "stderr",
     "output_type": "stream",
     "text": [
      "\r",
      " 65%|██████████████████████████████████████████████▎                        | 822/1261 [03:56<01:58,  3.71it/s]"
     ]
    },
    {
     "name": "stdout",
     "output_type": "stream",
     "text": [
      "(720, 1280, 3)\n",
      "left offset -1.4391941297 right offset 2.31811381227\n",
      "1131.73569724 m 924.102444278 m\n"
     ]
    },
    {
     "name": "stderr",
     "output_type": "stream",
     "text": [
      "\r",
      " 65%|██████████████████████████████████████████████▎                        | 823/1261 [03:56<01:57,  3.74it/s]"
     ]
    },
    {
     "name": "stdout",
     "output_type": "stream",
     "text": [
      "(720, 1280, 3)\n",
      "left offset -1.41892805576 right offset 2.3231870266\n",
      "847.003850709 m 877.204663506 m\n"
     ]
    },
    {
     "name": "stderr",
     "output_type": "stream",
     "text": [
      "\r",
      " 65%|██████████████████████████████████████████████▍                        | 824/1261 [03:57<01:57,  3.73it/s]"
     ]
    },
    {
     "name": "stdout",
     "output_type": "stream",
     "text": [
      "(720, 1280, 3)\n",
      "left offset -1.42580484669 right offset 2.27928313665\n",
      "812.053630446 m 912.203859851 m\n"
     ]
    },
    {
     "name": "stderr",
     "output_type": "stream",
     "text": [
      "\r",
      " 65%|██████████████████████████████████████████████▍                        | 825/1261 [03:57<01:59,  3.65it/s]"
     ]
    },
    {
     "name": "stdout",
     "output_type": "stream",
     "text": [
      "(720, 1280, 3)\n",
      "left offset -1.45448702174 right offset 2.27462851125\n",
      "1122.92899312 m 867.303090869 m\n"
     ]
    },
    {
     "name": "stderr",
     "output_type": "stream",
     "text": [
      "\r",
      " 66%|██████████████████████████████████████████████▌                        | 826/1261 [03:57<01:57,  3.69it/s]"
     ]
    },
    {
     "name": "stdout",
     "output_type": "stream",
     "text": [
      "(720, 1280, 3)\n",
      "left offset -1.43764575896 right offset 2.25188585115\n",
      "825.204145639 m 846.144367998 m\n"
     ]
    },
    {
     "name": "stderr",
     "output_type": "stream",
     "text": [
      "\r",
      " 66%|██████████████████████████████████████████████▌                        | 827/1261 [03:57<01:57,  3.70it/s]"
     ]
    },
    {
     "name": "stdout",
     "output_type": "stream",
     "text": [
      "(720, 1280, 3)\n",
      "left offset -1.44361472468 right offset 2.24914565535\n",
      "849.356513871 m 848.876728364 m\n"
     ]
    },
    {
     "name": "stderr",
     "output_type": "stream",
     "text": [
      "\r",
      " 66%|██████████████████████████████████████████████▌                        | 828/1261 [03:58<01:55,  3.74it/s]"
     ]
    },
    {
     "name": "stdout",
     "output_type": "stream",
     "text": [
      "(720, 1280, 3)\n",
      "left offset -1.4369897962 right offset 2.23628898696\n",
      "770.739708326 m 856.558249801 m\n"
     ]
    },
    {
     "name": "stderr",
     "output_type": "stream",
     "text": [
      "\r",
      " 66%|██████████████████████████████████████████████▋                        | 829/1261 [03:58<01:54,  3.76it/s]"
     ]
    },
    {
     "name": "stdout",
     "output_type": "stream",
     "text": [
      "(720, 1280, 3)\n",
      "left offset -1.43729608716 right offset 2.21628050986\n",
      "740.445337807 m 882.538257445 m\n"
     ]
    },
    {
     "name": "stderr",
     "output_type": "stream",
     "text": [
      "\r",
      " 66%|██████████████████████████████████████████████▋                        | 830/1261 [03:58<01:56,  3.71it/s]"
     ]
    },
    {
     "name": "stdout",
     "output_type": "stream",
     "text": [
      "(720, 1280, 3)\n",
      "left offset -1.43780115136 right offset 2.20612558445\n",
      "740.895950605 m 916.195197511 m\n"
     ]
    },
    {
     "name": "stderr",
     "output_type": "stream",
     "text": [
      "\r",
      " 66%|██████████████████████████████████████████████▊                        | 831/1261 [03:58<01:54,  3.74it/s]"
     ]
    },
    {
     "name": "stdout",
     "output_type": "stream",
     "text": [
      "(720, 1280, 3)\n",
      "left offset -1.45013289893 right offset 2.20367449542\n",
      "778.914941118 m 914.428229601 m\n"
     ]
    },
    {
     "name": "stderr",
     "output_type": "stream",
     "text": [
      "\r",
      " 66%|██████████████████████████████████████████████▊                        | 832/1261 [03:59<01:54,  3.74it/s]"
     ]
    },
    {
     "name": "stdout",
     "output_type": "stream",
     "text": [
      "(720, 1280, 3)\n",
      "left offset -1.45644150791 right offset 2.18763968613\n",
      "800.008521682 m 940.948873905 m\n"
     ]
    },
    {
     "name": "stderr",
     "output_type": "stream",
     "text": [
      "\r",
      " 66%|██████████████████████████████████████████████▉                        | 833/1261 [03:59<01:55,  3.72it/s]"
     ]
    },
    {
     "name": "stdout",
     "output_type": "stream",
     "text": [
      "(720, 1280, 3)\n",
      "left offset -1.47330553752 right offset 2.17877977657\n",
      "808.637970708 m 1010.60476025 m\n"
     ]
    },
    {
     "name": "stderr",
     "output_type": "stream",
     "text": [
      "\r",
      " 66%|██████████████████████████████████████████████▉                        | 834/1261 [03:59<01:54,  3.73it/s]"
     ]
    },
    {
     "name": "stdout",
     "output_type": "stream",
     "text": [
      "(720, 1280, 3)\n",
      "left offset -1.47263512581 right offset 2.17348344571\n",
      "680.551708044 m 1033.4825037 m\n"
     ]
    },
    {
     "name": "stderr",
     "output_type": "stream",
     "text": [
      "\r",
      " 66%|███████████████████████████████████████████████                        | 835/1261 [04:00<01:53,  3.76it/s]"
     ]
    },
    {
     "name": "stdout",
     "output_type": "stream",
     "text": [
      "(720, 1280, 3)\n",
      "left offset -1.49425531303 right offset 2.15685512899\n",
      "745.928550653 m 1109.67345537 m\n"
     ]
    },
    {
     "name": "stderr",
     "output_type": "stream",
     "text": [
      "\r",
      " 66%|███████████████████████████████████████████████                        | 836/1261 [04:00<01:53,  3.73it/s]"
     ]
    },
    {
     "name": "stdout",
     "output_type": "stream",
     "text": [
      "(720, 1280, 3)\n",
      "left offset -1.52122530254 right offset 2.16685833435\n",
      "841.417929331 m 1154.19182854 m\n"
     ]
    },
    {
     "name": "stderr",
     "output_type": "stream",
     "text": [
      "\r",
      " 66%|███████████████████████████████████████████████▏                       | 837/1261 [04:00<01:53,  3.74it/s]"
     ]
    },
    {
     "name": "stdout",
     "output_type": "stream",
     "text": [
      "(720, 1280, 3)\n",
      "left offset -1.52120506776 right offset 2.13979847682\n",
      "736.449043733 m 1172.06840572 m\n"
     ]
    },
    {
     "name": "stderr",
     "output_type": "stream",
     "text": [
      "\r",
      " 66%|███████████████████████████████████████████████▏                       | 838/1261 [04:00<01:53,  3.73it/s]"
     ]
    },
    {
     "name": "stdout",
     "output_type": "stream",
     "text": [
      "(720, 1280, 3)\n",
      "left offset -1.52991775259 right offset 2.14839000845\n",
      "712.483329563 m 1086.41024273 m\n"
     ]
    },
    {
     "name": "stderr",
     "output_type": "stream",
     "text": [
      "\r",
      " 67%|███████████████████████████████████████████████▏                       | 839/1261 [04:01<01:53,  3.71it/s]"
     ]
    },
    {
     "name": "stdout",
     "output_type": "stream",
     "text": [
      "(720, 1280, 3)\n",
      "left offset -1.56799911752 right offset 2.14196239983\n",
      "876.950487718 m 1058.47086215 m\n"
     ]
    },
    {
     "name": "stderr",
     "output_type": "stream",
     "text": [
      "\r",
      " 67%|███████████████████████████████████████████████▎                       | 840/1261 [04:01<01:52,  3.75it/s]"
     ]
    },
    {
     "name": "stdout",
     "output_type": "stream",
     "text": [
      "(720, 1280, 3)\n",
      "left offset -1.55204173535 right offset 2.14217276504\n",
      "689.524855211 m 1074.44157124 m\n"
     ]
    },
    {
     "name": "stderr",
     "output_type": "stream",
     "text": [
      "\r",
      " 67%|███████████████████████████████████████████████▎                       | 841/1261 [04:01<01:51,  3.78it/s]"
     ]
    },
    {
     "name": "stdout",
     "output_type": "stream",
     "text": [
      "(720, 1280, 3)\n",
      "left offset -1.5696771103 right offset 2.14164709243\n",
      "682.522072526 m 1160.97224223 m\n"
     ]
    },
    {
     "name": "stderr",
     "output_type": "stream",
     "text": [
      "\r",
      " 67%|███████████████████████████████████████████████▍                       | 842/1261 [04:01<01:50,  3.77it/s]"
     ]
    },
    {
     "name": "stdout",
     "output_type": "stream",
     "text": [
      "(720, 1280, 3)\n",
      "left offset -1.5947429821 right offset 2.12639330888\n",
      "735.544771679 m 1207.10952119 m\n"
     ]
    },
    {
     "name": "stderr",
     "output_type": "stream",
     "text": [
      "\r",
      " 67%|███████████████████████████████████████████████▍                       | 843/1261 [04:02<01:51,  3.77it/s]"
     ]
    },
    {
     "name": "stdout",
     "output_type": "stream",
     "text": [
      "(720, 1280, 3)\n",
      "left offset -1.61901995715 right offset 2.13395589712\n",
      "750.643170366 m 1210.77969452 m\n"
     ]
    },
    {
     "name": "stderr",
     "output_type": "stream",
     "text": [
      "\r",
      " 67%|███████████████████████████████████████████████▌                       | 844/1261 [04:02<01:50,  3.76it/s]"
     ]
    },
    {
     "name": "stdout",
     "output_type": "stream",
     "text": [
      "(720, 1280, 3)\n",
      "left offset -1.6336816291 right offset 2.12800268104\n",
      "733.826276988 m 1179.48216252 m\n"
     ]
    },
    {
     "name": "stderr",
     "output_type": "stream",
     "text": [
      "\r",
      " 67%|███████████████████████████████████████████████▌                       | 845/1261 [04:02<01:49,  3.79it/s]"
     ]
    },
    {
     "name": "stdout",
     "output_type": "stream",
     "text": [
      "(720, 1280, 3)\n",
      "left offset -1.63876466158 right offset 2.12908532352\n",
      "706.905129629 m 1127.27173358 m\n"
     ]
    },
    {
     "name": "stderr",
     "output_type": "stream",
     "text": [
      "\r",
      " 67%|███████████████████████████████████████████████▋                       | 846/1261 [04:02<01:49,  3.80it/s]"
     ]
    },
    {
     "name": "stdout",
     "output_type": "stream",
     "text": [
      "(720, 1280, 3)\n",
      "left offset -1.64486258224 right offset 2.1133312791\n",
      "666.808108257 m 1195.95677265 m\n"
     ]
    },
    {
     "name": "stderr",
     "output_type": "stream",
     "text": [
      "\r",
      " 67%|███████████████████████████████████████████████▋                       | 847/1261 [04:03<01:50,  3.76it/s]"
     ]
    },
    {
     "name": "stdout",
     "output_type": "stream",
     "text": [
      "(720, 1280, 3)\n",
      "left offset -1.695017708 right offset 2.11532046326\n",
      "1019.39791158 m 1264.07124866 m\n"
     ]
    },
    {
     "name": "stderr",
     "output_type": "stream",
     "text": [
      "\r",
      " 67%|███████████████████████████████████████████████▋                       | 848/1261 [04:03<01:49,  3.76it/s]"
     ]
    },
    {
     "name": "stdout",
     "output_type": "stream",
     "text": [
      "(720, 1280, 3)\n",
      "left offset -1.71669697696 right offset 2.14309214935\n",
      "1172.82987828 m 1118.02788586 m\n"
     ]
    },
    {
     "name": "stderr",
     "output_type": "stream",
     "text": [
      "\r",
      " 67%|███████████████████████████████████████████████▊                       | 849/1261 [04:03<01:49,  3.77it/s]"
     ]
    },
    {
     "name": "stdout",
     "output_type": "stream",
     "text": [
      "(720, 1280, 3)\n",
      "left offset -1.70987741442 right offset 2.116816635\n",
      "941.319301108 m 1239.48787635 m\n"
     ]
    },
    {
     "name": "stderr",
     "output_type": "stream",
     "text": [
      "\r",
      " 67%|███████████████████████████████████████████████▊                       | 850/1261 [04:04<01:49,  3.75it/s]"
     ]
    },
    {
     "name": "stdout",
     "output_type": "stream",
     "text": [
      "(720, 1280, 3)\n",
      "left offset -1.69971919193 right offset 2.12021908763\n",
      "880.784334411 m 1237.49450724 m\n"
     ]
    },
    {
     "name": "stderr",
     "output_type": "stream",
     "text": [
      "\r",
      " 67%|███████████████████████████████████████████████▉                       | 851/1261 [04:04<01:49,  3.74it/s]"
     ]
    },
    {
     "name": "stdout",
     "output_type": "stream",
     "text": [
      "(720, 1280, 3)\n",
      "left offset -1.70710342207 right offset 2.12643324958\n",
      "971.94887368 m 1313.32049351 m\n"
     ]
    },
    {
     "name": "stderr",
     "output_type": "stream",
     "text": [
      "\r",
      " 68%|███████████████████████████████████████████████▉                       | 852/1261 [04:04<01:49,  3.74it/s]"
     ]
    },
    {
     "name": "stdout",
     "output_type": "stream",
     "text": [
      "(720, 1280, 3)\n",
      "left offset -1.70989332534 right offset 2.13502237495\n",
      "949.872604187 m 1148.21483238 m\n"
     ]
    },
    {
     "name": "stderr",
     "output_type": "stream",
     "text": [
      "\r",
      " 68%|████████████████████████████████████████████████                       | 853/1261 [04:04<01:48,  3.75it/s]"
     ]
    },
    {
     "name": "stdout",
     "output_type": "stream",
     "text": [
      "(720, 1280, 3)\n",
      "left offset -1.71084024607 right offset 2.1324820322\n",
      "958.542728254 m 1276.79780384 m\n"
     ]
    },
    {
     "name": "stderr",
     "output_type": "stream",
     "text": [
      "\r",
      " 68%|████████████████████████████████████████████████                       | 854/1261 [04:05<01:49,  3.73it/s]"
     ]
    },
    {
     "name": "stdout",
     "output_type": "stream",
     "text": [
      "(720, 1280, 3)\n",
      "left offset -1.72043952799 right offset 2.13092909285\n",
      "1017.35590906 m 1300.75319023 m\n"
     ]
    },
    {
     "name": "stderr",
     "output_type": "stream",
     "text": [
      "\r",
      " 68%|████████████████████████████████████████████████▏                      | 855/1261 [04:05<01:49,  3.72it/s]"
     ]
    },
    {
     "name": "stdout",
     "output_type": "stream",
     "text": [
      "(720, 1280, 3)\n",
      "left offset -1.72587409564 right offset 2.15579030939\n",
      "1197.97158743 m 1204.40555177 m\n"
     ]
    },
    {
     "name": "stderr",
     "output_type": "stream",
     "text": [
      "\r",
      " 68%|████████████████████████████████████████████████▏                      | 856/1261 [04:05<01:47,  3.76it/s]"
     ]
    },
    {
     "name": "stdout",
     "output_type": "stream",
     "text": [
      "(720, 1280, 3)\n",
      "left offset -1.72557173661 right offset 2.15011305606\n",
      "1193.72396378 m 1179.08876783 m\n"
     ]
    },
    {
     "name": "stderr",
     "output_type": "stream",
     "text": [
      "\r",
      " 68%|████████████████████████████████████████████████▎                      | 857/1261 [04:05<01:46,  3.78it/s]"
     ]
    },
    {
     "name": "stdout",
     "output_type": "stream",
     "text": [
      "(720, 1280, 3)\n",
      "left offset -1.72471096907 right offset 2.13019114285\n",
      "1143.84323139 m 1197.59455596 m\n"
     ]
    },
    {
     "name": "stderr",
     "output_type": "stream",
     "text": [
      "\r",
      " 68%|████████████████████████████████████████████████▎                      | 858/1261 [04:06<01:47,  3.76it/s]"
     ]
    },
    {
     "name": "stdout",
     "output_type": "stream",
     "text": [
      "(720, 1280, 3)\n",
      "left offset -1.72336842586 right offset 2.10996359976\n",
      "1183.92126679 m 1257.01708587 m\n"
     ]
    },
    {
     "name": "stderr",
     "output_type": "stream",
     "text": [
      "\r",
      " 68%|████████████████████████████████████████████████▎                      | 859/1261 [04:06<01:47,  3.75it/s]"
     ]
    },
    {
     "name": "stdout",
     "output_type": "stream",
     "text": [
      "(720, 1280, 3)\n",
      "left offset -1.72771823275 right offset 2.08771528647\n",
      "1316.10463238 m 1312.83247701 m\n"
     ]
    },
    {
     "name": "stderr",
     "output_type": "stream",
     "text": [
      "\r",
      " 68%|████████████████████████████████████████████████▍                      | 860/1261 [04:06<01:48,  3.71it/s]"
     ]
    },
    {
     "name": "stdout",
     "output_type": "stream",
     "text": [
      "(720, 1280, 3)\n",
      "left offset -1.71674381912 right offset 2.10574586804\n",
      "1366.54439739 m 1164.85105038 m\n"
     ]
    },
    {
     "name": "stderr",
     "output_type": "stream",
     "text": [
      "\r",
      " 68%|████████████████████████████████████████████████▍                      | 861/1261 [04:07<01:48,  3.70it/s]"
     ]
    },
    {
     "name": "stdout",
     "output_type": "stream",
     "text": [
      "(720, 1280, 3)\n",
      "left offset -1.71323463144 right offset 2.08919648874\n",
      "1303.24898519 m 1311.52104209 m\n"
     ]
    },
    {
     "name": "stderr",
     "output_type": "stream",
     "text": [
      "\r",
      " 68%|████████████████████████████████████████████████▌                      | 862/1261 [04:07<01:48,  3.67it/s]"
     ]
    },
    {
     "name": "stdout",
     "output_type": "stream",
     "text": [
      "(720, 1280, 3)\n",
      "left offset -1.69136186393 right offset 2.08194928398\n",
      "1033.40054076 m 1356.12745051 m\n"
     ]
    },
    {
     "name": "stderr",
     "output_type": "stream",
     "text": [
      "\r",
      " 68%|████████████████████████████████████████████████▌                      | 863/1261 [04:07<01:47,  3.71it/s]"
     ]
    },
    {
     "name": "stdout",
     "output_type": "stream",
     "text": [
      "(720, 1280, 3)\n",
      "left offset -1.68343749386 right offset 2.09316714175\n",
      "1050.30131954 m 1385.92458405 m\n"
     ]
    },
    {
     "name": "stderr",
     "output_type": "stream",
     "text": [
      "\r",
      " 69%|████████████████████████████████████████████████▋                      | 864/1261 [04:07<01:46,  3.71it/s]"
     ]
    },
    {
     "name": "stdout",
     "output_type": "stream",
     "text": [
      "(720, 1280, 3)\n",
      "left offset -1.74020301285 right offset 2.08685767408\n",
      "2322.56648121 m 1628.4433422 m\n"
     ]
    },
    {
     "name": "stderr",
     "output_type": "stream",
     "text": [
      "\r",
      " 69%|████████████████████████████████████████████████▋                      | 865/1261 [04:08<01:46,  3.73it/s]"
     ]
    },
    {
     "name": "stdout",
     "output_type": "stream",
     "text": [
      "(720, 1280, 3)\n",
      "left offset -1.72699860946 right offset 2.09884254464\n",
      "1886.80905392 m 1475.28884159 m\n"
     ]
    },
    {
     "name": "stderr",
     "output_type": "stream",
     "text": [
      "\r",
      " 69%|████████████████████████████████████████████████▊                      | 866/1261 [04:08<01:46,  3.70it/s]"
     ]
    },
    {
     "name": "stdout",
     "output_type": "stream",
     "text": [
      "(720, 1280, 3)\n",
      "left offset -1.70245505981 right offset 2.09846835647\n",
      "1157.22382577 m 1612.2715267 m\n"
     ]
    },
    {
     "name": "stderr",
     "output_type": "stream",
     "text": [
      "\r",
      " 69%|████████████████████████████████████████████████▊                      | 867/1261 [04:08<01:46,  3.71it/s]"
     ]
    },
    {
     "name": "stdout",
     "output_type": "stream",
     "text": [
      "(720, 1280, 3)\n",
      "left offset -1.71934469439 right offset 2.09642176014\n",
      "1376.89442644 m 1548.44313621 m\n"
     ]
    },
    {
     "name": "stderr",
     "output_type": "stream",
     "text": [
      "\r",
      " 69%|████████████████████████████████████████████████▊                      | 868/1261 [04:08<01:46,  3.70it/s]"
     ]
    },
    {
     "name": "stdout",
     "output_type": "stream",
     "text": [
      "(720, 1280, 3)\n",
      "left offset -1.70030380877 right offset 2.08827031844\n",
      "1162.2646437 m 1476.52613416 m\n"
     ]
    },
    {
     "name": "stderr",
     "output_type": "stream",
     "text": [
      "\r",
      " 69%|████████████████████████████████████████████████▉                      | 869/1261 [04:09<01:45,  3.72it/s]"
     ]
    },
    {
     "name": "stdout",
     "output_type": "stream",
     "text": [
      "(720, 1280, 3)\n",
      "left offset -1.70966926007 right offset 2.06909713715\n",
      "1277.77044966 m 1524.67882531 m\n"
     ]
    },
    {
     "name": "stderr",
     "output_type": "stream",
     "text": [
      "\r",
      " 69%|████████████████████████████████████████████████▉                      | 870/1261 [04:09<01:48,  3.61it/s]"
     ]
    },
    {
     "name": "stdout",
     "output_type": "stream",
     "text": [
      "(720, 1280, 3)\n",
      "left offset -1.72898805118 right offset 2.05158584596\n",
      "1723.4442983 m 1682.51544589 m\n"
     ]
    },
    {
     "name": "stderr",
     "output_type": "stream",
     "text": [
      "\r",
      " 69%|█████████████████████████████████████████████████                      | 871/1261 [04:09<01:52,  3.48it/s]"
     ]
    },
    {
     "name": "stdout",
     "output_type": "stream",
     "text": [
      "(720, 1280, 3)\n",
      "left offset -1.71911492132 right offset 2.0736033179\n",
      "1399.031963 m 1755.202076 m\n"
     ]
    },
    {
     "name": "stderr",
     "output_type": "stream",
     "text": [
      "\r",
      " 69%|█████████████████████████████████████████████████                      | 872/1261 [04:10<01:51,  3.49it/s]"
     ]
    },
    {
     "name": "stdout",
     "output_type": "stream",
     "text": [
      "(720, 1280, 3)\n",
      "left offset -1.7064041742 right offset 2.0582029401\n",
      "1194.06677715 m 1937.38398443 m\n"
     ]
    },
    {
     "name": "stderr",
     "output_type": "stream",
     "text": [
      "\r",
      " 69%|█████████████████████████████████████████████████▏                     | 873/1261 [04:10<01:49,  3.56it/s]"
     ]
    },
    {
     "name": "stdout",
     "output_type": "stream",
     "text": [
      "(720, 1280, 3)\n",
      "left offset -1.69726049031 right offset 2.08284779783\n",
      "1173.71116197 m 1836.62930123 m\n"
     ]
    },
    {
     "name": "stderr",
     "output_type": "stream",
     "text": [
      "\r",
      " 69%|█████████████████████████████████████████████████▏                     | 874/1261 [04:10<01:48,  3.55it/s]"
     ]
    },
    {
     "name": "stdout",
     "output_type": "stream",
     "text": [
      "(720, 1280, 3)\n",
      "left offset -1.71527590513 right offset 2.08475019038\n",
      "1284.59643042 m 1912.4385198 m\n"
     ]
    },
    {
     "name": "stderr",
     "output_type": "stream",
     "text": [
      "\r",
      " 69%|█████████████████████████████████████████████████▎                     | 875/1261 [04:10<01:49,  3.53it/s]"
     ]
    },
    {
     "name": "stdout",
     "output_type": "stream",
     "text": [
      "(720, 1280, 3)\n",
      "left offset -1.69555853425 right offset 2.07553275593\n",
      "1034.97684794 m 2112.02786286 m\n"
     ]
    },
    {
     "name": "stderr",
     "output_type": "stream",
     "text": [
      "\r",
      " 69%|█████████████████████████████████████████████████▎                     | 876/1261 [04:11<01:50,  3.47it/s]"
     ]
    },
    {
     "name": "stdout",
     "output_type": "stream",
     "text": [
      "(720, 1280, 3)\n",
      "left offset -1.69984142595 right offset 2.08896150706\n",
      "1146.29291868 m 2186.66452934 m\n"
     ]
    },
    {
     "name": "stderr",
     "output_type": "stream",
     "text": [
      "\r",
      " 70%|█████████████████████████████████████████████████▍                     | 877/1261 [04:11<01:50,  3.46it/s]"
     ]
    },
    {
     "name": "stdout",
     "output_type": "stream",
     "text": [
      "(720, 1280, 3)\n",
      "left offset -1.75758254322 right offset 2.10574830408\n",
      "1953.84202842 m 2191.43210381 m\n"
     ]
    },
    {
     "name": "stderr",
     "output_type": "stream",
     "text": [
      "\r",
      " 70%|█████████████████████████████████████████████████▍                     | 878/1261 [04:11<01:52,  3.41it/s]"
     ]
    },
    {
     "name": "stdout",
     "output_type": "stream",
     "text": [
      "(720, 1280, 3)\n",
      "left offset -1.73752680663 right offset 2.09948077065\n",
      "1458.52065106 m 2260.67369365 m\n"
     ]
    },
    {
     "name": "stderr",
     "output_type": "stream",
     "text": [
      "\r",
      " 70%|█████████████████████████████████████████████████▍                     | 879/1261 [04:12<01:49,  3.48it/s]"
     ]
    },
    {
     "name": "stdout",
     "output_type": "stream",
     "text": [
      "(720, 1280, 3)\n",
      "left offset -1.69084032443 right offset 2.12232014388\n",
      "905.712670841 m 1921.65665916 m\n"
     ]
    },
    {
     "name": "stderr",
     "output_type": "stream",
     "text": [
      "\r",
      " 70%|█████████████████████████████████████████████████▌                     | 880/1261 [04:12<01:47,  3.54it/s]"
     ]
    },
    {
     "name": "stdout",
     "output_type": "stream",
     "text": [
      "(720, 1280, 3)\n",
      "left offset -1.72327361865 right offset 2.10791880264\n",
      "1210.35765866 m 2028.85227881 m\n"
     ]
    },
    {
     "name": "stderr",
     "output_type": "stream",
     "text": [
      "\r",
      " 70%|█████████████████████████████████████████████████▌                     | 881/1261 [04:12<01:46,  3.57it/s]"
     ]
    },
    {
     "name": "stdout",
     "output_type": "stream",
     "text": [
      "(720, 1280, 3)\n",
      "left offset -1.75068840618 right offset 2.1136553278\n",
      "1527.78785422 m 2129.75754033 m\n"
     ]
    },
    {
     "name": "stderr",
     "output_type": "stream",
     "text": [
      "\r",
      " 70%|█████████████████████████████████████████████████▋                     | 882/1261 [04:12<01:45,  3.60it/s]"
     ]
    },
    {
     "name": "stdout",
     "output_type": "stream",
     "text": [
      "(720, 1280, 3)\n",
      "left offset -1.79256322437 right offset 2.11953339124\n",
      "3007.74501388 m 1966.47895043 m\n"
     ]
    },
    {
     "name": "stderr",
     "output_type": "stream",
     "text": [
      "\r",
      " 70%|█████████████████████████████████████████████████▋                     | 883/1261 [04:13<01:44,  3.63it/s]"
     ]
    },
    {
     "name": "stdout",
     "output_type": "stream",
     "text": [
      "(720, 1280, 3)\n",
      "left offset -1.80239053493 right offset 2.12658984329\n",
      "4863.43817114 m 1909.7328376 m\n"
     ]
    },
    {
     "name": "stderr",
     "output_type": "stream",
     "text": [
      "\r",
      " 70%|█████████████████████████████████████████████████▊                     | 884/1261 [04:13<01:43,  3.65it/s]"
     ]
    },
    {
     "name": "stdout",
     "output_type": "stream",
     "text": [
      "(720, 1280, 3)\n",
      "left offset -1.75954567096 right offset 2.16637779222\n",
      "1995.08925354 m 1517.29341017 m\n"
     ]
    },
    {
     "name": "stderr",
     "output_type": "stream",
     "text": [
      "\r",
      " 70%|█████████████████████████████████████████████████▊                     | 885/1261 [04:13<01:41,  3.69it/s]"
     ]
    },
    {
     "name": "stdout",
     "output_type": "stream",
     "text": [
      "(720, 1280, 3)\n",
      "left offset -1.71937837089 right offset 2.12493350293\n",
      "1396.84910126 m 1521.24061487 m\n"
     ]
    },
    {
     "name": "stderr",
     "output_type": "stream",
     "text": [
      "\r",
      " 70%|█████████████████████████████████████████████████▉                     | 886/1261 [04:13<01:40,  3.72it/s]"
     ]
    },
    {
     "name": "stdout",
     "output_type": "stream",
     "text": [
      "(720, 1280, 3)\n",
      "left offset -1.70660483938 right offset 2.13573594455\n",
      "1294.13632967 m 1518.51994207 m\n"
     ]
    },
    {
     "name": "stderr",
     "output_type": "stream",
     "text": [
      "\r",
      " 70%|█████████████████████████████████████████████████▉                     | 887/1261 [04:14<01:42,  3.65it/s]"
     ]
    },
    {
     "name": "stdout",
     "output_type": "stream",
     "text": [
      "(720, 1280, 3)\n",
      "left offset -1.74514680768 right offset 2.15659474259\n",
      "2313.65957595 m 1210.74002142 m\n"
     ]
    },
    {
     "name": "stderr",
     "output_type": "stream",
     "text": [
      "\r",
      " 70%|█████████████████████████████████████████████████▉                     | 888/1261 [04:14<01:43,  3.62it/s]"
     ]
    },
    {
     "name": "stdout",
     "output_type": "stream",
     "text": [
      "(720, 1280, 3)\n",
      "left offset -1.7400920344 right offset 2.17787588044\n",
      "2500.70605381 m 1135.57749878 m\n"
     ]
    },
    {
     "name": "stderr",
     "output_type": "stream",
     "text": [
      "\r",
      " 70%|██████████████████████████████████████████████████                     | 889/1261 [04:14<01:41,  3.65it/s]"
     ]
    },
    {
     "name": "stdout",
     "output_type": "stream",
     "text": [
      "(720, 1280, 3)\n",
      "left offset -1.70702473293 right offset 2.16714092429\n",
      "1391.24338981 m 1265.51006593 m\n"
     ]
    },
    {
     "name": "stderr",
     "output_type": "stream",
     "text": [
      "\r",
      " 71%|██████████████████████████████████████████████████                     | 890/1261 [04:15<01:40,  3.68it/s]"
     ]
    },
    {
     "name": "stdout",
     "output_type": "stream",
     "text": [
      "(720, 1280, 3)\n",
      "left offset -1.69548233292 right offset 2.17276171102\n",
      "1628.61881688 m 1328.56367484 m\n"
     ]
    },
    {
     "name": "stderr",
     "output_type": "stream",
     "text": [
      "\r",
      " 71%|██████████████████████████████████████████████████▏                    | 891/1261 [04:15<01:40,  3.68it/s]"
     ]
    },
    {
     "name": "stdout",
     "output_type": "stream",
     "text": [
      "(720, 1280, 3)\n",
      "left offset -1.69502672152 right offset 2.19289892715\n",
      "1479.12077084 m 1289.48527741 m\n"
     ]
    },
    {
     "name": "stderr",
     "output_type": "stream",
     "text": [
      "\r",
      " 71%|██████████████████████████████████████████████████▏                    | 892/1261 [04:15<01:41,  3.65it/s]"
     ]
    },
    {
     "name": "stdout",
     "output_type": "stream",
     "text": [
      "(720, 1280, 3)\n",
      "left offset -1.70952508655 right offset 2.22424963815\n",
      "2192.10795154 m 1145.39451547 m\n"
     ]
    },
    {
     "name": "stderr",
     "output_type": "stream",
     "text": [
      "\r",
      " 71%|██████████████████████████████████████████████████▎                    | 893/1261 [04:15<01:40,  3.67it/s]"
     ]
    },
    {
     "name": "stdout",
     "output_type": "stream",
     "text": [
      "(720, 1280, 3)\n",
      "left offset -1.70641631937 right offset 2.18742762344\n",
      "2367.35415786 m 1303.79088343 m\n"
     ]
    },
    {
     "name": "stderr",
     "output_type": "stream",
     "text": [
      "\r",
      " 71%|██████████████████████████████████████████████████▎                    | 894/1261 [04:16<01:39,  3.68it/s]"
     ]
    },
    {
     "name": "stdout",
     "output_type": "stream",
     "text": [
      "(720, 1280, 3)\n",
      "left offset -1.64273359686 right offset 2.21143982968\n",
      "1159.12107024 m 1141.76747089 m\n"
     ]
    },
    {
     "name": "stderr",
     "output_type": "stream",
     "text": [
      "\r",
      " 71%|██████████████████████████████████████████████████▍                    | 895/1261 [04:16<01:39,  3.68it/s]"
     ]
    },
    {
     "name": "stdout",
     "output_type": "stream",
     "text": [
      "(720, 1280, 3)\n",
      "left offset -1.66724684447 right offset 2.20587845432\n",
      "2113.79984154 m 1109.66306027 m\n"
     ]
    },
    {
     "name": "stderr",
     "output_type": "stream",
     "text": [
      "\r",
      " 71%|██████████████████████████████████████████████████▍                    | 896/1261 [04:16<01:37,  3.73it/s]"
     ]
    },
    {
     "name": "stdout",
     "output_type": "stream",
     "text": [
      "(720, 1280, 3)\n",
      "left offset -1.65294631683 right offset 2.20097314568\n",
      "1712.13574281 m 1184.55494398 m\n"
     ]
    },
    {
     "name": "stderr",
     "output_type": "stream",
     "text": [
      "\r",
      " 71%|██████████████████████████████████████████████████▌                    | 897/1261 [04:16<01:37,  3.73it/s]"
     ]
    },
    {
     "name": "stdout",
     "output_type": "stream",
     "text": [
      "(720, 1280, 3)\n",
      "left offset -1.60786731466 right offset 2.21231963268\n",
      "1174.38485102 m 1090.74334261 m\n"
     ]
    },
    {
     "name": "stderr",
     "output_type": "stream",
     "text": [
      "\r",
      " 71%|██████████████████████████████████████████████████▌                    | 898/1261 [04:17<01:38,  3.70it/s]"
     ]
    },
    {
     "name": "stdout",
     "output_type": "stream",
     "text": [
      "(720, 1280, 3)\n",
      "left offset -1.58924898236 right offset 2.19822183197\n",
      "1065.47813417 m 1152.91154065 m\n"
     ]
    },
    {
     "name": "stderr",
     "output_type": "stream",
     "text": [
      "\r",
      " 71%|██████████████████████████████████████████████████▌                    | 899/1261 [04:17<01:37,  3.70it/s]"
     ]
    },
    {
     "name": "stdout",
     "output_type": "stream",
     "text": [
      "(720, 1280, 3)\n",
      "left offset -1.60516973307 right offset 2.1767681683\n",
      "1168.32933993 m 1161.01973714 m\n"
     ]
    },
    {
     "name": "stderr",
     "output_type": "stream",
     "text": [
      "\r",
      " 71%|██████████████████████████████████████████████████▋                    | 900/1261 [04:17<01:36,  3.73it/s]"
     ]
    },
    {
     "name": "stdout",
     "output_type": "stream",
     "text": [
      "(720, 1280, 3)\n",
      "left offset -1.60717554911 right offset 2.19395695996\n",
      "1240.0212232 m 1030.95750857 m\n"
     ]
    },
    {
     "name": "stderr",
     "output_type": "stream",
     "text": [
      "\r",
      " 71%|██████████████████████████████████████████████████▋                    | 901/1261 [04:18<01:36,  3.72it/s]"
     ]
    },
    {
     "name": "stdout",
     "output_type": "stream",
     "text": [
      "(720, 1280, 3)\n",
      "left offset -1.60856544292 right offset 2.187251282\n",
      "1371.8345437 m 1096.78461085 m\n"
     ]
    },
    {
     "name": "stderr",
     "output_type": "stream",
     "text": [
      "\r",
      " 72%|██████████████████████████████████████████████████▊                    | 902/1261 [04:18<01:36,  3.72it/s]"
     ]
    },
    {
     "name": "stdout",
     "output_type": "stream",
     "text": [
      "(720, 1280, 3)\n",
      "left offset -1.66978480166 right offset 2.1755682263\n",
      "4167.69505962 m 1132.25312366 m\n"
     ]
    },
    {
     "name": "stderr",
     "output_type": "stream",
     "text": [
      "\r",
      " 72%|██████████████████████████████████████████████████▊                    | 903/1261 [04:18<01:36,  3.71it/s]"
     ]
    },
    {
     "name": "stdout",
     "output_type": "stream",
     "text": [
      "(720, 1280, 3)\n",
      "left offset -1.59955234484 right offset 2.18787025064\n",
      "1186.93642951 m 1158.69225721 m\n"
     ]
    },
    {
     "name": "stderr",
     "output_type": "stream",
     "text": [
      "\r",
      " 72%|██████████████████████████████████████████████████▉                    | 904/1261 [04:18<01:36,  3.70it/s]"
     ]
    },
    {
     "name": "stdout",
     "output_type": "stream",
     "text": [
      "(720, 1280, 3)\n",
      "left offset -1.60299460702 right offset 2.19405015952\n",
      "1141.06348822 m 1150.13187422 m\n"
     ]
    },
    {
     "name": "stderr",
     "output_type": "stream",
     "text": [
      "\r",
      " 72%|██████████████████████████████████████████████████▉                    | 905/1261 [04:19<01:35,  3.72it/s]"
     ]
    },
    {
     "name": "stdout",
     "output_type": "stream",
     "text": [
      "(720, 1280, 3)\n",
      "left offset -1.5954487003 right offset 2.16326505936\n",
      "1117.12895798 m 1177.9706861 m\n"
     ]
    },
    {
     "name": "stderr",
     "output_type": "stream",
     "text": [
      "\r",
      " 72%|███████████████████████████████████████████████████                    | 906/1261 [04:19<01:36,  3.68it/s]"
     ]
    },
    {
     "name": "stdout",
     "output_type": "stream",
     "text": [
      "(720, 1280, 3)\n",
      "left offset -1.60530367781 right offset 2.17436572191\n",
      "1163.12134966 m 1186.79891188 m\n"
     ]
    },
    {
     "name": "stderr",
     "output_type": "stream",
     "text": [
      "\r",
      " 72%|███████████████████████████████████████████████████                    | 907/1261 [04:19<01:35,  3.69it/s]"
     ]
    },
    {
     "name": "stdout",
     "output_type": "stream",
     "text": [
      "(720, 1280, 3)\n",
      "left offset -1.62727624582 right offset 2.12739820204\n",
      "1701.69518982 m 1289.48224391 m\n"
     ]
    },
    {
     "name": "stderr",
     "output_type": "stream",
     "text": [
      "\r",
      " 72%|███████████████████████████████████████████████████                    | 908/1261 [04:19<01:35,  3.69it/s]"
     ]
    },
    {
     "name": "stdout",
     "output_type": "stream",
     "text": [
      "(720, 1280, 3)\n",
      "left offset -1.60709823893 right offset 2.12757437757\n",
      "1126.52237161 m 1269.23938875 m\n"
     ]
    },
    {
     "name": "stderr",
     "output_type": "stream",
     "text": [
      "\r",
      " 72%|███████████████████████████████████████████████████▏                   | 909/1261 [04:20<01:35,  3.70it/s]"
     ]
    },
    {
     "name": "stdout",
     "output_type": "stream",
     "text": [
      "(720, 1280, 3)\n",
      "left offset -1.59892948913 right offset 2.11680911407\n",
      "1037.70314533 m 1214.28224859 m\n"
     ]
    },
    {
     "name": "stderr",
     "output_type": "stream",
     "text": [
      "\r",
      " 72%|███████████████████████████████████████████████████▏                   | 910/1261 [04:20<01:34,  3.70it/s]"
     ]
    },
    {
     "name": "stdout",
     "output_type": "stream",
     "text": [
      "(720, 1280, 3)\n",
      "left offset -1.61102126674 right offset 2.12429936668\n",
      "1234.5285878 m 1223.34671369 m\n"
     ]
    },
    {
     "name": "stderr",
     "output_type": "stream",
     "text": [
      "\r",
      " 72%|███████████████████████████████████████████████████▎                   | 911/1261 [04:20<01:33,  3.72it/s]"
     ]
    },
    {
     "name": "stdout",
     "output_type": "stream",
     "text": [
      "(720, 1280, 3)\n",
      "left offset -1.63740257247 right offset 2.136201651\n",
      "1393.0830397 m 1290.2867462 m\n"
     ]
    },
    {
     "name": "stderr",
     "output_type": "stream",
     "text": [
      "\r",
      " 72%|███████████████████████████████████████████████████▎                   | 912/1261 [04:20<01:33,  3.73it/s]"
     ]
    },
    {
     "name": "stdout",
     "output_type": "stream",
     "text": [
      "(720, 1280, 3)\n",
      "left offset -1.59691248419 right offset 2.12158895547\n",
      "920.892017032 m 1222.2951008 m\n"
     ]
    },
    {
     "name": "stderr",
     "output_type": "stream",
     "text": [
      "\r",
      " 72%|███████████████████████████████████████████████████▍                   | 913/1261 [04:21<01:34,  3.70it/s]"
     ]
    },
    {
     "name": "stdout",
     "output_type": "stream",
     "text": [
      "(720, 1280, 3)\n",
      "left offset -1.6385062474 right offset 2.12596323281\n",
      "1249.02200819 m 1227.97224213 m\n"
     ]
    },
    {
     "name": "stderr",
     "output_type": "stream",
     "text": [
      "\r",
      " 72%|███████████████████████████████████████████████████▍                   | 914/1261 [04:21<01:35,  3.65it/s]"
     ]
    },
    {
     "name": "stdout",
     "output_type": "stream",
     "text": [
      "(720, 1280, 3)\n",
      "left offset -1.5975791832 right offset 2.11284248525\n",
      "780.306141824 m 1332.57268902 m\n"
     ]
    },
    {
     "name": "stderr",
     "output_type": "stream",
     "text": [
      "\r",
      " 73%|███████████████████████████████████████████████████▌                   | 915/1261 [04:21<01:34,  3.68it/s]"
     ]
    },
    {
     "name": "stdout",
     "output_type": "stream",
     "text": [
      "(720, 1280, 3)\n",
      "left offset -1.64613895234 right offset 2.12779966715\n",
      "1152.00895955 m 1226.02016478 m\n"
     ]
    },
    {
     "name": "stderr",
     "output_type": "stream",
     "text": [
      "\r",
      " 73%|███████████████████████████████████████████████████▌                   | 916/1261 [04:22<01:33,  3.70it/s]"
     ]
    },
    {
     "name": "stdout",
     "output_type": "stream",
     "text": [
      "(720, 1280, 3)\n",
      "left offset -1.65822984364 right offset 2.12291714312\n",
      "1104.72141173 m 1308.3811032 m\n"
     ]
    },
    {
     "name": "stderr",
     "output_type": "stream",
     "text": [
      "\r",
      " 73%|███████████████████████████████████████████████████▋                   | 917/1261 [04:22<01:34,  3.66it/s]"
     ]
    },
    {
     "name": "stdout",
     "output_type": "stream",
     "text": [
      "(720, 1280, 3)\n",
      "left offset -1.64447267802 right offset 2.12728962268\n",
      "894.736740919 m 1260.47297022 m\n"
     ]
    },
    {
     "name": "stderr",
     "output_type": "stream",
     "text": [
      "\r",
      " 73%|███████████████████████████████████████████████████▋                   | 918/1261 [04:22<01:34,  3.65it/s]"
     ]
    },
    {
     "name": "stdout",
     "output_type": "stream",
     "text": [
      "(720, 1280, 3)\n",
      "left offset -1.64448283138 right offset 2.114712124\n",
      "855.452311058 m 1388.18990699 m\n"
     ]
    },
    {
     "name": "stderr",
     "output_type": "stream",
     "text": [
      "\r",
      " 73%|███████████████████████████████████████████████████▋                   | 919/1261 [04:22<01:32,  3.70it/s]"
     ]
    },
    {
     "name": "stdout",
     "output_type": "stream",
     "text": [
      "(720, 1280, 3)\n",
      "left offset -1.65525262534 right offset 2.11790984377\n",
      "899.852508931 m 1270.55166588 m\n"
     ]
    },
    {
     "name": "stderr",
     "output_type": "stream",
     "text": [
      "\r",
      " 73%|███████████████████████████████████████████████████▊                   | 920/1261 [04:23<01:32,  3.68it/s]"
     ]
    },
    {
     "name": "stdout",
     "output_type": "stream",
     "text": [
      "(720, 1280, 3)\n",
      "left offset -1.63955385178 right offset 2.13242726653\n",
      "774.240944042 m 1180.46448789 m\n"
     ]
    },
    {
     "name": "stderr",
     "output_type": "stream",
     "text": [
      "\r",
      " 73%|███████████████████████████████████████████████████▊                   | 921/1261 [04:23<01:32,  3.69it/s]"
     ]
    },
    {
     "name": "stdout",
     "output_type": "stream",
     "text": [
      "(720, 1280, 3)\n",
      "left offset -1.66731472919 right offset 2.12607050569\n",
      "858.886056803 m 1205.9470547 m\n"
     ]
    },
    {
     "name": "stderr",
     "output_type": "stream",
     "text": [
      "\r",
      " 73%|███████████████████████████████████████████████████▉                   | 922/1261 [04:23<01:31,  3.69it/s]"
     ]
    },
    {
     "name": "stdout",
     "output_type": "stream",
     "text": [
      "(720, 1280, 3)\n",
      "left offset -1.71107731145 right offset 2.14391588876\n",
      "1182.99430202 m 1137.08367474 m\n"
     ]
    },
    {
     "name": "stderr",
     "output_type": "stream",
     "text": [
      "\r",
      " 73%|███████████████████████████████████████████████████▉                   | 923/1261 [04:23<01:31,  3.71it/s]"
     ]
    },
    {
     "name": "stdout",
     "output_type": "stream",
     "text": [
      "(720, 1280, 3)\n",
      "left offset -1.6702190232 right offset 2.1475055239\n",
      "885.487211428 m 1127.52653537 m\n"
     ]
    },
    {
     "name": "stderr",
     "output_type": "stream",
     "text": [
      "\r",
      " 73%|████████████████████████████████████████████████████                   | 924/1261 [04:24<01:30,  3.74it/s]"
     ]
    },
    {
     "name": "stdout",
     "output_type": "stream",
     "text": [
      "(720, 1280, 3)\n",
      "left offset -1.67747909522 right offset 2.14134020486\n",
      "922.762684467 m 1001.4959699 m\n"
     ]
    },
    {
     "name": "stderr",
     "output_type": "stream",
     "text": [
      "\r",
      " 73%|████████████████████████████████████████████████████                   | 925/1261 [04:24<01:29,  3.75it/s]"
     ]
    },
    {
     "name": "stdout",
     "output_type": "stream",
     "text": [
      "(720, 1280, 3)\n",
      "left offset -1.68154014042 right offset 2.14174627523\n",
      "847.419105767 m 959.166887917 m\n"
     ]
    },
    {
     "name": "stderr",
     "output_type": "stream",
     "text": [
      "\r",
      " 73%|████████████████████████████████████████████████████▏                  | 926/1261 [04:24<01:30,  3.71it/s]"
     ]
    },
    {
     "name": "stdout",
     "output_type": "stream",
     "text": [
      "(720, 1280, 3)\n",
      "left offset -1.71544765486 right offset 2.14963225067\n",
      "1366.87176937 m 988.359033158 m\n"
     ]
    },
    {
     "name": "stderr",
     "output_type": "stream",
     "text": [
      "\r",
      " 74%|████████████████████████████████████████████████████▏                  | 927/1261 [04:25<01:30,  3.70it/s]"
     ]
    },
    {
     "name": "stdout",
     "output_type": "stream",
     "text": [
      "(720, 1280, 3)\n",
      "left offset -1.70971223589 right offset 2.14798686429\n",
      "1187.08921516 m 1036.94049031 m\n"
     ]
    },
    {
     "name": "stderr",
     "output_type": "stream",
     "text": [
      "\r",
      " 74%|████████████████████████████████████████████████████▎                  | 928/1261 [04:25<01:30,  3.69it/s]"
     ]
    },
    {
     "name": "stdout",
     "output_type": "stream",
     "text": [
      "(720, 1280, 3)\n",
      "left offset -1.71679431328 right offset 2.17487880497\n",
      "1295.94345336 m 1006.73764431 m\n"
     ]
    },
    {
     "name": "stderr",
     "output_type": "stream",
     "text": [
      "\r",
      " 74%|████████████████████████████████████████████████████▎                  | 929/1261 [04:25<01:29,  3.71it/s]"
     ]
    },
    {
     "name": "stdout",
     "output_type": "stream",
     "text": [
      "(720, 1280, 3)\n",
      "left offset -1.73402190835 right offset 2.15302623452\n",
      "1613.09168078 m 1053.10317667 m\n"
     ]
    },
    {
     "name": "stderr",
     "output_type": "stream",
     "text": [
      "\r",
      " 74%|████████████████████████████████████████████████████▎                  | 930/1261 [04:25<01:29,  3.69it/s]"
     ]
    },
    {
     "name": "stdout",
     "output_type": "stream",
     "text": [
      "(720, 1280, 3)\n",
      "left offset -1.72047826905 right offset 2.15843370971\n",
      "1469.63296435 m 986.856125834 m\n"
     ]
    },
    {
     "name": "stderr",
     "output_type": "stream",
     "text": [
      "\r",
      " 74%|████████████████████████████████████████████████████▍                  | 931/1261 [04:26<01:29,  3.71it/s]"
     ]
    },
    {
     "name": "stdout",
     "output_type": "stream",
     "text": [
      "(720, 1280, 3)\n",
      "left offset -1.71434313829 right offset 2.15164166128\n",
      "1569.97133697 m 1053.69992527 m\n"
     ]
    },
    {
     "name": "stderr",
     "output_type": "stream",
     "text": [
      "\r",
      " 74%|████████████████████████████████████████████████████▍                  | 932/1261 [04:26<01:28,  3.71it/s]"
     ]
    },
    {
     "name": "stdout",
     "output_type": "stream",
     "text": [
      "(720, 1280, 3)\n",
      "left offset -1.70290342002 right offset 2.15336708976\n",
      "1578.22631011 m 991.315702531 m\n"
     ]
    },
    {
     "name": "stderr",
     "output_type": "stream",
     "text": [
      "\r",
      " 74%|████████████████████████████████████████████████████▌                  | 933/1261 [04:26<01:28,  3.71it/s]"
     ]
    },
    {
     "name": "stdout",
     "output_type": "stream",
     "text": [
      "(720, 1280, 3)\n",
      "left offset -1.66883436455 right offset 2.16140225849\n",
      "1118.37090629 m 1024.94716895 m\n"
     ]
    },
    {
     "name": "stderr",
     "output_type": "stream",
     "text": [
      "\r",
      " 74%|████████████████████████████████████████████████████▌                  | 934/1261 [04:26<01:28,  3.70it/s]"
     ]
    },
    {
     "name": "stdout",
     "output_type": "stream",
     "text": [
      "(720, 1280, 3)\n",
      "left offset -1.64379933667 right offset 2.14410277215\n",
      "866.879193236 m 1029.65495281 m\n"
     ]
    },
    {
     "name": "stderr",
     "output_type": "stream",
     "text": [
      "\r",
      " 74%|████████████████████████████████████████████████████▋                  | 935/1261 [04:27<01:33,  3.48it/s]"
     ]
    },
    {
     "name": "stdout",
     "output_type": "stream",
     "text": [
      "(720, 1280, 3)\n",
      "left offset -1.67540117423 right offset 2.14428341467\n",
      "1885.33732393 m 1047.72478892 m\n"
     ]
    },
    {
     "name": "stderr",
     "output_type": "stream",
     "text": [
      "\r",
      " 74%|████████████████████████████████████████████████████▋                  | 936/1261 [04:27<01:34,  3.44it/s]"
     ]
    },
    {
     "name": "stdout",
     "output_type": "stream",
     "text": [
      "(720, 1280, 3)\n",
      "left offset -1.62614806314 right offset 2.14346631526\n",
      "864.607592638 m 1074.53665594 m\n"
     ]
    },
    {
     "name": "stderr",
     "output_type": "stream",
     "text": [
      "\r",
      " 74%|████████████████████████████████████████████████████▊                  | 937/1261 [04:27<01:33,  3.47it/s]"
     ]
    },
    {
     "name": "stdout",
     "output_type": "stream",
     "text": [
      "(720, 1280, 3)\n",
      "left offset -1.67424653869 right offset 2.1379262345\n",
      "1968.22585108 m 1077.71872842 m\n"
     ]
    },
    {
     "name": "stderr",
     "output_type": "stream",
     "text": [
      "\r",
      " 74%|████████████████████████████████████████████████████▊                  | 938/1261 [04:28<01:32,  3.48it/s]"
     ]
    },
    {
     "name": "stdout",
     "output_type": "stream",
     "text": [
      "(720, 1280, 3)\n",
      "left offset -1.61218427899 right offset 2.11833576327\n",
      "919.58074785 m 1149.2467607 m\n"
     ]
    },
    {
     "name": "stderr",
     "output_type": "stream",
     "text": [
      "\r",
      " 74%|████████████████████████████████████████████████████▊                  | 939/1261 [04:28<01:31,  3.52it/s]"
     ]
    },
    {
     "name": "stdout",
     "output_type": "stream",
     "text": [
      "(720, 1280, 3)\n",
      "left offset -1.63177895879 right offset 2.07281529681\n",
      "1120.02595487 m 1275.39707001 m\n"
     ]
    },
    {
     "name": "stderr",
     "output_type": "stream",
     "text": [
      "\r",
      " 75%|████████████████████████████████████████████████████▉                  | 940/1261 [04:28<01:31,  3.50it/s]"
     ]
    },
    {
     "name": "stdout",
     "output_type": "stream",
     "text": [
      "(720, 1280, 3)\n",
      "left offset -1.63461602863 right offset 2.02228085426\n",
      "1047.37627211 m 1497.05474441 m\n"
     ]
    },
    {
     "name": "stderr",
     "output_type": "stream",
     "text": [
      "\r",
      " 75%|████████████████████████████████████████████████████▉                  | 941/1261 [04:28<01:32,  3.46it/s]"
     ]
    },
    {
     "name": "stdout",
     "output_type": "stream",
     "text": [
      "(720, 1280, 3)\n",
      "left offset -1.62491108587 right offset 2.05500005022\n",
      "991.748173472 m 1419.81461833 m\n"
     ]
    },
    {
     "name": "stderr",
     "output_type": "stream",
     "text": [
      "\r",
      " 75%|█████████████████████████████████████████████████████                  | 942/1261 [04:29<01:31,  3.47it/s]"
     ]
    },
    {
     "name": "stdout",
     "output_type": "stream",
     "text": [
      "(720, 1280, 3)\n",
      "left offset -1.6413688838 right offset 2.04387031703\n",
      "1214.92217755 m 1420.97479205 m\n"
     ]
    },
    {
     "name": "stderr",
     "output_type": "stream",
     "text": [
      "\r",
      " 75%|█████████████████████████████████████████████████████                  | 943/1261 [04:29<01:30,  3.51it/s]"
     ]
    },
    {
     "name": "stdout",
     "output_type": "stream",
     "text": [
      "(720, 1280, 3)\n",
      "left offset -1.64432550061 right offset 2.04391413532\n",
      "983.711617722 m 1684.6620425 m\n"
     ]
    },
    {
     "name": "stderr",
     "output_type": "stream",
     "text": [
      "\r",
      " 75%|█████████████████████████████████████████████████████▏                 | 944/1261 [04:29<01:29,  3.55it/s]"
     ]
    },
    {
     "name": "stdout",
     "output_type": "stream",
     "text": [
      "(720, 1280, 3)\n",
      "left offset -1.70215946127 right offset 2.05113838599\n",
      "2079.42214739 m 1528.63787887 m\n"
     ]
    },
    {
     "name": "stderr",
     "output_type": "stream",
     "text": [
      "\r",
      " 75%|█████████████████████████████████████████████████████▏                 | 945/1261 [04:30<01:27,  3.60it/s]"
     ]
    },
    {
     "name": "stdout",
     "output_type": "stream",
     "text": [
      "(720, 1280, 3)\n",
      "left offset -1.69662268336 right offset 2.07285859723\n",
      "1726.2298422 m 1499.44405997 m\n"
     ]
    },
    {
     "name": "stderr",
     "output_type": "stream",
     "text": [
      "\r",
      " 75%|█████████████████████████████████████████████████████▎                 | 946/1261 [04:30<01:27,  3.60it/s]"
     ]
    },
    {
     "name": "stdout",
     "output_type": "stream",
     "text": [
      "(720, 1280, 3)\n",
      "left offset -1.70036647127 right offset 2.08330962921\n",
      "2156.11048837 m 1648.94914694 m\n"
     ]
    },
    {
     "name": "stderr",
     "output_type": "stream",
     "text": [
      "\r",
      " 75%|█████████████████████████████████████████████████████▎                 | 947/1261 [04:30<01:27,  3.61it/s]"
     ]
    },
    {
     "name": "stdout",
     "output_type": "stream",
     "text": [
      "(720, 1280, 3)\n",
      "left offset -1.77701690892 right offset 2.09133812571\n",
      "15851.2197382 m 1509.26803337 m\n"
     ]
    },
    {
     "name": "stderr",
     "output_type": "stream",
     "text": [
      "\r",
      " 75%|█████████████████████████████████████████████████████▍                 | 948/1261 [04:30<01:26,  3.63it/s]"
     ]
    },
    {
     "name": "stdout",
     "output_type": "stream",
     "text": [
      "(720, 1280, 3)\n",
      "left offset -1.63032973702 right offset 2.11286369723\n",
      "850.923398893 m 1581.2767128 m\n"
     ]
    },
    {
     "name": "stderr",
     "output_type": "stream",
     "text": [
      "\r",
      " 75%|█████████████████████████████████████████████████████▍                 | 949/1261 [04:31<01:27,  3.58it/s]"
     ]
    },
    {
     "name": "stdout",
     "output_type": "stream",
     "text": [
      "(720, 1280, 3)\n",
      "left offset -1.63556229132 right offset 2.11897713048\n",
      "885.790266952 m 1511.1251039 m\n"
     ]
    },
    {
     "name": "stderr",
     "output_type": "stream",
     "text": [
      "\r",
      " 75%|█████████████████████████████████████████████████████▍                 | 950/1261 [04:31<01:28,  3.52it/s]"
     ]
    },
    {
     "name": "stdout",
     "output_type": "stream",
     "text": [
      "(720, 1280, 3)\n",
      "left offset -1.68681163772 right offset 2.12622891663\n",
      "1537.69216468 m 1509.57760857 m\n"
     ]
    },
    {
     "name": "stderr",
     "output_type": "stream",
     "text": [
      "\r",
      " 75%|█████████████████████████████████████████████████████▌                 | 951/1261 [04:31<01:27,  3.52it/s]"
     ]
    },
    {
     "name": "stdout",
     "output_type": "stream",
     "text": [
      "(720, 1280, 3)\n",
      "left offset -1.68755271942 right offset 2.12578576122\n",
      "1413.61986877 m 1771.57403689 m\n"
     ]
    },
    {
     "name": "stderr",
     "output_type": "stream",
     "text": [
      "\r",
      " 75%|█████████████████████████████████████████████████████▌                 | 952/1261 [04:32<01:35,  3.25it/s]"
     ]
    },
    {
     "name": "stdout",
     "output_type": "stream",
     "text": [
      "(720, 1280, 3)\n",
      "left offset -1.70375907982 right offset 2.11228942243\n",
      "2091.48827286 m 1689.68879199 m\n"
     ]
    },
    {
     "name": "stderr",
     "output_type": "stream",
     "text": [
      "\r",
      " 76%|█████████████████████████████████████████████████████▋                 | 953/1261 [04:32<01:35,  3.23it/s]"
     ]
    },
    {
     "name": "stdout",
     "output_type": "stream",
     "text": [
      "(720, 1280, 3)\n",
      "left offset -1.69883809252 right offset 2.16832767871\n",
      "2368.11274403 m 1449.4407814 m\n"
     ]
    },
    {
     "name": "stderr",
     "output_type": "stream",
     "text": [
      "\r",
      " 76%|█████████████████████████████████████████████████████▋                 | 954/1261 [04:32<01:34,  3.26it/s]"
     ]
    },
    {
     "name": "stdout",
     "output_type": "stream",
     "text": [
      "(720, 1280, 3)\n",
      "left offset -1.85280658616 right offset 2.14218264513\n",
      "936.07582311 m 1676.4066427 m\n"
     ]
    },
    {
     "name": "stderr",
     "output_type": "stream",
     "text": [
      "\r",
      " 76%|█████████████████████████████████████████████████████▊                 | 955/1261 [04:33<01:32,  3.32it/s]"
     ]
    },
    {
     "name": "stdout",
     "output_type": "stream",
     "text": [
      "(720, 1280, 3)\n",
      "left offset -1.84950955688 right offset 2.12472732179\n",
      "877.140771027 m 1972.14726959 m\n"
     ]
    },
    {
     "name": "stderr",
     "output_type": "stream",
     "text": [
      "\r",
      " 76%|█████████████████████████████████████████████████████▊                 | 956/1261 [04:33<01:31,  3.33it/s]"
     ]
    },
    {
     "name": "stdout",
     "output_type": "stream",
     "text": [
      "(720, 1280, 3)\n",
      "left offset -1.8423919171 right offset 2.15581449664\n",
      "893.007854879 m 1840.72544835 m\n"
     ]
    },
    {
     "name": "stderr",
     "output_type": "stream",
     "text": [
      "\r",
      " 76%|█████████████████████████████████████████████████████▉                 | 957/1261 [04:33<01:32,  3.28it/s]"
     ]
    },
    {
     "name": "stdout",
     "output_type": "stream",
     "text": [
      "(720, 1280, 3)\n",
      "left offset -1.82019379573 right offset 2.19062835985\n",
      "822.500079733 m 1533.41232072 m\n"
     ]
    },
    {
     "name": "stderr",
     "output_type": "stream",
     "text": [
      "\r",
      " 76%|█████████████████████████████████████████████████████▉                 | 958/1261 [04:33<01:33,  3.25it/s]"
     ]
    },
    {
     "name": "stdout",
     "output_type": "stream",
     "text": [
      "(720, 1280, 3)\n",
      "left offset -1.82625746935 right offset 2.17937445368\n",
      "833.871204859 m 1860.01988526 m\n"
     ]
    },
    {
     "name": "stderr",
     "output_type": "stream",
     "text": [
      "\r",
      " 76%|█████████████████████████████████████████████████████▉                 | 959/1261 [04:34<01:33,  3.22it/s]"
     ]
    },
    {
     "name": "stdout",
     "output_type": "stream",
     "text": [
      "(720, 1280, 3)\n",
      "left offset -1.8483891689 right offset 2.21125817724\n",
      "842.118770032 m 1501.14504776 m\n"
     ]
    },
    {
     "name": "stderr",
     "output_type": "stream",
     "text": [
      "\r",
      " 76%|██████████████████████████████████████████████████████                 | 960/1261 [04:34<01:32,  3.25it/s]"
     ]
    },
    {
     "name": "stdout",
     "output_type": "stream",
     "text": [
      "(720, 1280, 3)\n",
      "left offset -1.66535048809 right offset 2.22053995029\n",
      "3517.26407631 m 1430.63050089 m\n"
     ]
    },
    {
     "name": "stderr",
     "output_type": "stream",
     "text": [
      "\r",
      " 76%|██████████████████████████████████████████████████████                 | 961/1261 [04:34<01:30,  3.33it/s]"
     ]
    },
    {
     "name": "stdout",
     "output_type": "stream",
     "text": [
      "(720, 1280, 3)\n",
      "left offset -1.81555765975 right offset 2.24237181372\n",
      "968.797252475 m 1473.29320271 m\n"
     ]
    },
    {
     "name": "stderr",
     "output_type": "stream",
     "text": [
      "\r",
      " 76%|██████████████████████████████████████████████████████▏                | 962/1261 [04:35<01:28,  3.38it/s]"
     ]
    },
    {
     "name": "stdout",
     "output_type": "stream",
     "text": [
      "(720, 1280, 3)\n",
      "left offset -1.73680665074 right offset 2.23875097528\n",
      "990.949251609 m 1612.10404321 m\n"
     ]
    },
    {
     "name": "stderr",
     "output_type": "stream",
     "text": [
      "\r",
      " 76%|██████████████████████████████████████████████████████▏                | 963/1261 [04:35<01:26,  3.46it/s]"
     ]
    },
    {
     "name": "stdout",
     "output_type": "stream",
     "text": [
      "(720, 1280, 3)\n",
      "left offset -1.78276743658 right offset 2.27281900512\n",
      "837.965617549 m 1632.84300808 m\n"
     ]
    },
    {
     "name": "stderr",
     "output_type": "stream",
     "text": [
      "\r",
      " 76%|██████████████████████████████████████████████████████▎                | 964/1261 [04:35<01:24,  3.50it/s]"
     ]
    },
    {
     "name": "stdout",
     "output_type": "stream",
     "text": [
      "(720, 1280, 3)\n",
      "left offset -1.78488009735 right offset 2.26621070287\n",
      "767.202558645 m 1665.05241778 m\n"
     ]
    },
    {
     "name": "stderr",
     "output_type": "stream",
     "text": [
      "\r",
      " 77%|██████████████████████████████████████████████████████▎                | 965/1261 [04:36<01:25,  3.47it/s]"
     ]
    },
    {
     "name": "stdout",
     "output_type": "stream",
     "text": [
      "(720, 1280, 3)\n",
      "left offset -1.72968109481 right offset 2.2811576137\n",
      "829.245067843 m 1480.64405099 m\n"
     ]
    },
    {
     "name": "stderr",
     "output_type": "stream",
     "text": [
      "\r",
      " 77%|██████████████████████████████████████████████████████▍                | 966/1261 [04:36<01:24,  3.48it/s]"
     ]
    },
    {
     "name": "stdout",
     "output_type": "stream",
     "text": [
      "(720, 1280, 3)\n",
      "left offset -1.77584780776 right offset 2.26598427048\n",
      "774.941594032 m 1708.18306341 m\n"
     ]
    },
    {
     "name": "stderr",
     "output_type": "stream",
     "text": [
      "\r",
      " 77%|██████████████████████████████████████████████████████▍                | 967/1261 [04:36<01:23,  3.51it/s]"
     ]
    },
    {
     "name": "stdout",
     "output_type": "stream",
     "text": [
      "(720, 1280, 3)\n",
      "left offset -1.63612470295 right offset 2.27774379461\n",
      "925.307568253 m 1559.83655569 m\n"
     ]
    },
    {
     "name": "stderr",
     "output_type": "stream",
     "text": [
      "\r",
      " 77%|██████████████████████████████████████████████████████▌                | 968/1261 [04:36<01:23,  3.52it/s]"
     ]
    },
    {
     "name": "stdout",
     "output_type": "stream",
     "text": [
      "(720, 1280, 3)\n",
      "left offset -1.64055827143 right offset 2.29200615959\n",
      "893.039883302 m 1626.53051547 m\n"
     ]
    },
    {
     "name": "stderr",
     "output_type": "stream",
     "text": [
      "\r",
      " 77%|██████████████████████████████████████████████████████▌                | 969/1261 [04:37<01:24,  3.47it/s]"
     ]
    },
    {
     "name": "stdout",
     "output_type": "stream",
     "text": [
      "(720, 1280, 3)\n",
      "left offset -1.6631607257 right offset 2.29024576895\n",
      "797.8655372 m 1765.44595664 m\n"
     ]
    },
    {
     "name": "stderr",
     "output_type": "stream",
     "text": [
      "\r",
      " 77%|██████████████████████████████████████████████████████▌                | 970/1261 [04:37<01:24,  3.44it/s]"
     ]
    },
    {
     "name": "stdout",
     "output_type": "stream",
     "text": [
      "(720, 1280, 3)\n",
      "left offset -1.6357104151 right offset 2.31752476555\n",
      "827.739761488 m 1531.05312782 m\n"
     ]
    },
    {
     "name": "stderr",
     "output_type": "stream",
     "text": [
      "\r",
      " 77%|██████████████████████████████████████████████████████▋                | 971/1261 [04:37<01:24,  3.44it/s]"
     ]
    },
    {
     "name": "stdout",
     "output_type": "stream",
     "text": [
      "(720, 1280, 3)\n",
      "left offset -1.68568950922 right offset 2.31703838837\n",
      "838.623423379 m 1539.15482763 m\n"
     ]
    },
    {
     "name": "stderr",
     "output_type": "stream",
     "text": [
      "\r",
      " 77%|██████████████████████████████████████████████████████▋                | 972/1261 [04:38<01:23,  3.46it/s]"
     ]
    },
    {
     "name": "stdout",
     "output_type": "stream",
     "text": [
      "(720, 1280, 3)\n",
      "left offset -1.67061186339 right offset 2.30722939599\n",
      "970.038110031 m 1620.92294567 m\n"
     ]
    },
    {
     "name": "stderr",
     "output_type": "stream",
     "text": [
      "\r",
      " 77%|██████████████████████████████████████████████████████▊                | 973/1261 [04:38<01:21,  3.52it/s]"
     ]
    },
    {
     "name": "stdout",
     "output_type": "stream",
     "text": [
      "(720, 1280, 3)\n",
      "left offset -1.66306772448 right offset 2.31923960761\n",
      "877.151108751 m 1501.64192734 m\n"
     ]
    },
    {
     "name": "stderr",
     "output_type": "stream",
     "text": [
      "\r",
      " 77%|██████████████████████████████████████████████████████▊                | 974/1261 [04:38<01:21,  3.50it/s]"
     ]
    },
    {
     "name": "stdout",
     "output_type": "stream",
     "text": [
      "(720, 1280, 3)\n",
      "left offset -1.65209948498 right offset 2.32829324031\n",
      "918.538796214 m 1411.94163565 m\n"
     ]
    },
    {
     "name": "stderr",
     "output_type": "stream",
     "text": [
      "\r",
      " 77%|██████████████████████████████████████████████████████▉                | 975/1261 [04:38<01:26,  3.31it/s]"
     ]
    },
    {
     "name": "stdout",
     "output_type": "stream",
     "text": [
      "(720, 1280, 3)\n",
      "left offset -1.63064691989 right offset 2.34601451354\n",
      "808.994656093 m 1244.01787645 m\n"
     ]
    },
    {
     "name": "stderr",
     "output_type": "stream",
     "text": [
      "\r",
      " 77%|██████████████████████████████████████████████████████▉                | 976/1261 [04:39<01:26,  3.29it/s]"
     ]
    },
    {
     "name": "stdout",
     "output_type": "stream",
     "text": [
      "(720, 1280, 3)\n",
      "left offset -1.61083545301 right offset 2.37980050555\n",
      "847.265076421 m 1136.98082456 m\n"
     ]
    },
    {
     "name": "stderr",
     "output_type": "stream",
     "text": [
      "\r",
      " 77%|███████████████████████████████████████████████████████                | 977/1261 [04:39<01:26,  3.29it/s]"
     ]
    },
    {
     "name": "stdout",
     "output_type": "stream",
     "text": [
      "(720, 1280, 3)\n",
      "left offset -1.57836524097 right offset 2.49073588729\n",
      "979.518292662 m 762.30873768 m\n"
     ]
    },
    {
     "name": "stderr",
     "output_type": "stream",
     "text": [
      "\r",
      " 78%|███████████████████████████████████████████████████████                | 978/1261 [04:39<01:26,  3.28it/s]"
     ]
    },
    {
     "name": "stdout",
     "output_type": "stream",
     "text": [
      "(720, 1280, 3)\n",
      "left offset -1.5779489068 right offset 2.3792122036\n",
      "951.720509508 m 971.962878792 m\n"
     ]
    },
    {
     "name": "stderr",
     "output_type": "stream",
     "text": [
      "\r",
      " 78%|███████████████████████████████████████████████████████                | 979/1261 [04:40<01:26,  3.28it/s]"
     ]
    },
    {
     "name": "stdout",
     "output_type": "stream",
     "text": [
      "(720, 1280, 3)\n",
      "left offset -1.56774984846 right offset 2.39941093314\n",
      "1027.46202002 m 842.730992966 m\n"
     ]
    },
    {
     "name": "stderr",
     "output_type": "stream",
     "text": [
      "\r",
      " 78%|███████████████████████████████████████████████████████▏               | 980/1261 [04:40<01:24,  3.32it/s]"
     ]
    },
    {
     "name": "stdout",
     "output_type": "stream",
     "text": [
      "(720, 1280, 3)\n",
      "left offset -1.57616374723 right offset 2.39430451815\n",
      "996.837354272 m 829.620027729 m\n"
     ]
    },
    {
     "name": "stderr",
     "output_type": "stream",
     "text": [
      "\r",
      " 78%|███████████████████████████████████████████████████████▏               | 981/1261 [04:40<01:22,  3.40it/s]"
     ]
    },
    {
     "name": "stdout",
     "output_type": "stream",
     "text": [
      "(720, 1280, 3)\n",
      "left offset -1.57347185397 right offset 2.39382326732\n",
      "976.488925861 m 821.671336011 m\n"
     ]
    },
    {
     "name": "stderr",
     "output_type": "stream",
     "text": [
      "\r",
      " 78%|███████████████████████████████████████████████████████▎               | 982/1261 [04:41<01:21,  3.42it/s]"
     ]
    },
    {
     "name": "stdout",
     "output_type": "stream",
     "text": [
      "(720, 1280, 3)\n",
      "left offset -1.59983012819 right offset 2.3686581358\n",
      "906.8060754 m 834.544738599 m\n"
     ]
    },
    {
     "name": "stderr",
     "output_type": "stream",
     "text": [
      "\r",
      " 78%|███████████████████████████████████████████████████████▎               | 983/1261 [04:41<01:20,  3.46it/s]"
     ]
    },
    {
     "name": "stdout",
     "output_type": "stream",
     "text": [
      "(720, 1280, 3)\n",
      "left offset -1.6003051404 right offset 2.34655031587\n",
      "1039.71531575 m 942.067153522 m\n"
     ]
    },
    {
     "name": "stderr",
     "output_type": "stream",
     "text": [
      "\r",
      " 78%|███████████████████████████████████████████████████████▍               | 984/1261 [04:41<01:19,  3.48it/s]"
     ]
    },
    {
     "name": "stdout",
     "output_type": "stream",
     "text": [
      "(720, 1280, 3)\n",
      "left offset -1.58931066963 right offset 2.34381455317\n",
      "881.203351101 m 921.807372506 m\n"
     ]
    },
    {
     "name": "stderr",
     "output_type": "stream",
     "text": [
      "\r",
      " 78%|███████████████████████████████████████████████████████▍               | 985/1261 [04:41<01:18,  3.50it/s]"
     ]
    },
    {
     "name": "stdout",
     "output_type": "stream",
     "text": [
      "(720, 1280, 3)\n",
      "left offset -1.57888267217 right offset 2.35302459482\n",
      "1377.45376831 m 901.558370025 m\n"
     ]
    },
    {
     "name": "stderr",
     "output_type": "stream",
     "text": [
      "\r",
      " 78%|███████████████████████████████████████████████████████▌               | 986/1261 [04:42<01:18,  3.52it/s]"
     ]
    },
    {
     "name": "stdout",
     "output_type": "stream",
     "text": [
      "(720, 1280, 3)\n",
      "left offset -1.59770967373 right offset 2.33389366429\n",
      "1915.80760818 m 955.226957908 m\n"
     ]
    },
    {
     "name": "stderr",
     "output_type": "stream",
     "text": [
      "\r",
      " 78%|███████████████████████████████████████████████████████▌               | 987/1261 [04:42<01:18,  3.51it/s]"
     ]
    },
    {
     "name": "stdout",
     "output_type": "stream",
     "text": [
      "(720, 1280, 3)\n",
      "left offset -1.63211625136 right offset 2.34397661566\n",
      "1161.05379772 m 889.964215286 m\n"
     ]
    },
    {
     "name": "stderr",
     "output_type": "stream",
     "text": [
      "\r",
      " 78%|███████████████████████████████████████████████████████▋               | 988/1261 [04:42<01:19,  3.45it/s]"
     ]
    },
    {
     "name": "stdout",
     "output_type": "stream",
     "text": [
      "(720, 1280, 3)\n",
      "left offset -1.62311159874 right offset 2.35687225326\n",
      "1230.12562098 m 810.484194595 m\n"
     ]
    },
    {
     "name": "stderr",
     "output_type": "stream",
     "text": [
      "\r",
      " 78%|███████████████████████████████████████████████████████▋               | 989/1261 [04:43<01:17,  3.49it/s]"
     ]
    },
    {
     "name": "stdout",
     "output_type": "stream",
     "text": [
      "(720, 1280, 3)\n",
      "left offset -1.62744765819 right offset 2.33310499359\n",
      "1294.81545284 m 865.908563599 m\n"
     ]
    },
    {
     "name": "stderr",
     "output_type": "stream",
     "text": [
      "\r",
      " 79%|███████████████████████████████████████████████████████▋               | 990/1261 [04:43<01:17,  3.50it/s]"
     ]
    },
    {
     "name": "stdout",
     "output_type": "stream",
     "text": [
      "(720, 1280, 3)\n",
      "left offset -1.48876256298 right offset 2.27624353953\n",
      "1286.86305476 m 924.309767223 m\n"
     ]
    },
    {
     "name": "stderr",
     "output_type": "stream",
     "text": [
      "\r",
      " 79%|███████████████████████████████████████████████████████▊               | 991/1261 [04:43<01:16,  3.51it/s]"
     ]
    },
    {
     "name": "stdout",
     "output_type": "stream",
     "text": [
      "(720, 1280, 3)\n",
      "left offset -1.51052756303 right offset 2.36320607603\n",
      "1360.3861896 m 678.783474382 m\n"
     ]
    },
    {
     "name": "stderr",
     "output_type": "stream",
     "text": [
      "\r",
      " 79%|███████████████████████████████████████████████████████▊               | 992/1261 [04:43<01:16,  3.53it/s]"
     ]
    },
    {
     "name": "stdout",
     "output_type": "stream",
     "text": [
      "(720, 1280, 3)\n",
      "left offset -1.5338104863 right offset 2.25024140219\n",
      "1583.64383697 m 1015.38829096 m\n"
     ]
    },
    {
     "name": "stderr",
     "output_type": "stream",
     "text": [
      "\r",
      " 79%|███████████████████████████████████████████████████████▉               | 993/1261 [04:44<01:16,  3.52it/s]"
     ]
    },
    {
     "name": "stdout",
     "output_type": "stream",
     "text": [
      "(720, 1280, 3)\n",
      "left offset -1.52060232616 right offset 2.21201765363\n",
      "1459.9331394 m 1192.18075714 m\n"
     ]
    },
    {
     "name": "stderr",
     "output_type": "stream",
     "text": [
      "\r",
      " 79%|███████████████████████████████████████████████████████▉               | 994/1261 [04:44<01:16,  3.51it/s]"
     ]
    },
    {
     "name": "stdout",
     "output_type": "stream",
     "text": [
      "(720, 1280, 3)\n",
      "left offset -1.53461361352 right offset 2.22791744536\n",
      "1431.90344408 m 943.570452611 m\n"
     ]
    },
    {
     "name": "stderr",
     "output_type": "stream",
     "text": [
      "\r",
      " 79%|████████████████████████████████████████████████████████               | 995/1261 [04:44<01:20,  3.31it/s]"
     ]
    },
    {
     "name": "stdout",
     "output_type": "stream",
     "text": [
      "(720, 1280, 3)\n",
      "left offset -1.58928730855 right offset 2.20467664364\n",
      "4669.35361314 m 948.735212843 m\n"
     ]
    },
    {
     "name": "stderr",
     "output_type": "stream",
     "text": [
      "\r",
      " 79%|████████████████████████████████████████████████████████               | 996/1261 [04:45<01:21,  3.24it/s]"
     ]
    },
    {
     "name": "stdout",
     "output_type": "stream",
     "text": [
      "(720, 1280, 3)\n",
      "left offset -1.55924272223 right offset 2.18313829987\n",
      "1693.86470631 m 1253.53718345 m\n"
     ]
    },
    {
     "name": "stderr",
     "output_type": "stream",
     "text": [
      "\r",
      " 79%|████████████████████████████████████████████████████████▏              | 997/1261 [04:45<01:20,  3.29it/s]"
     ]
    },
    {
     "name": "stdout",
     "output_type": "stream",
     "text": [
      "(720, 1280, 3)\n",
      "left offset -1.58701964065 right offset 2.17730189614\n",
      "1628.64033482 m 1013.37452416 m\n"
     ]
    },
    {
     "name": "stderr",
     "output_type": "stream",
     "text": [
      "\r",
      " 79%|████████████████████████████████████████████████████████▏              | 998/1261 [04:45<01:19,  3.30it/s]"
     ]
    },
    {
     "name": "stdout",
     "output_type": "stream",
     "text": [
      "(720, 1280, 3)\n",
      "left offset -1.59908374108 right offset 2.19083451003\n",
      "1326.26734522 m 1281.98939643 m\n"
     ]
    },
    {
     "name": "stderr",
     "output_type": "stream",
     "text": [
      "\r",
      " 79%|████████████████████████████████████████████████████████▏              | 999/1261 [04:45<01:19,  3.32it/s]"
     ]
    },
    {
     "name": "stdout",
     "output_type": "stream",
     "text": [
      "(720, 1280, 3)\n",
      "left offset -1.63652019801 right offset 2.20589871995\n",
      "1556.2007156 m 1015.56657542 m\n"
     ]
    },
    {
     "name": "stderr",
     "output_type": "stream",
     "text": [
      "\r",
      " 79%|███████████████████████████████████████████████████████▌              | 1000/1261 [04:46<01:17,  3.35it/s]"
     ]
    },
    {
     "name": "stdout",
     "output_type": "stream",
     "text": [
      "(720, 1280, 3)\n",
      "left offset -1.68617793919 right offset 2.12984381187\n",
      "2764.38042711 m 1151.09560939 m\n"
     ]
    },
    {
     "name": "stderr",
     "output_type": "stream",
     "text": [
      "\r",
      " 79%|███████████████████████████████████████████████████████▌              | 1001/1261 [04:46<01:16,  3.40it/s]"
     ]
    },
    {
     "name": "stdout",
     "output_type": "stream",
     "text": [
      "(720, 1280, 3)\n",
      "left offset -1.75376008351 right offset 2.0933871205\n",
      "5833.59815232 m 2050.14238874 m\n"
     ]
    },
    {
     "name": "stderr",
     "output_type": "stream",
     "text": [
      "\r",
      " 79%|███████████████████████████████████████████████████████▌              | 1002/1261 [04:46<01:15,  3.45it/s]"
     ]
    },
    {
     "name": "stdout",
     "output_type": "stream",
     "text": [
      "(720, 1280, 3)\n",
      "left offset -1.79681857696 right offset 2.12544501505\n",
      "22877.8315097 m 2290.14547227 m\n"
     ]
    },
    {
     "name": "stderr",
     "output_type": "stream",
     "text": [
      "\r",
      " 80%|███████████████████████████████████████████████████████▋              | 1003/1261 [04:47<01:15,  3.40it/s]"
     ]
    },
    {
     "name": "stdout",
     "output_type": "stream",
     "text": [
      "(720, 1280, 3)\n",
      "left offset -1.81630800881 right offset 2.36903504485\n",
      "5578.86424385 m 757.328092978 m\n"
     ]
    },
    {
     "name": "stderr",
     "output_type": "stream",
     "text": [
      "\r",
      " 80%|███████████████████████████████████████████████████████▋              | 1004/1261 [04:47<01:16,  3.37it/s]"
     ]
    },
    {
     "name": "stdout",
     "output_type": "stream",
     "text": [
      "(720, 1280, 3)\n",
      "left offset -1.8237564657 right offset 2.1979271596\n",
      "6306.00298204 m 1927.50689099 m\n"
     ]
    },
    {
     "name": "stderr",
     "output_type": "stream",
     "text": [
      "\r",
      " 80%|███████████████████████████████████████████████████████▊              | 1005/1261 [04:47<01:15,  3.37it/s]"
     ]
    },
    {
     "name": "stdout",
     "output_type": "stream",
     "text": [
      "(720, 1280, 3)\n",
      "left offset -1.77014744112 right offset 2.22635581871\n",
      "18323.8882391 m 1069.88894532 m\n"
     ]
    },
    {
     "name": "stderr",
     "output_type": "stream",
     "text": [
      "\r",
      " 80%|███████████████████████████████████████████████████████▊              | 1006/1261 [04:48<01:16,  3.35it/s]"
     ]
    },
    {
     "name": "stdout",
     "output_type": "stream",
     "text": [
      "(720, 1280, 3)\n",
      "left offset -1.77659712401 right offset 2.20993629132\n",
      "5596.37983801 m 1275.53478 m\n"
     ]
    },
    {
     "name": "stderr",
     "output_type": "stream",
     "text": [
      "\r",
      " 80%|███████████████████████████████████████████████████████▉              | 1007/1261 [04:48<01:16,  3.34it/s]"
     ]
    },
    {
     "name": "stdout",
     "output_type": "stream",
     "text": [
      "(720, 1280, 3)\n",
      "left offset -1.74162364305 right offset 2.17006159351\n",
      "2946.57298079 m 1158.37072392 m\n"
     ]
    },
    {
     "name": "stderr",
     "output_type": "stream",
     "text": [
      "\r",
      " 80%|███████████████████████████████████████████████████████▉              | 1008/1261 [04:48<01:16,  3.33it/s]"
     ]
    },
    {
     "name": "stdout",
     "output_type": "stream",
     "text": [
      "(720, 1280, 3)\n",
      "left offset -1.74808744484 right offset 2.18160274511\n",
      "2522.71641327 m 1086.2081334 m\n"
     ]
    },
    {
     "name": "stderr",
     "output_type": "stream",
     "text": [
      "\r",
      " 80%|████████████████████████████████████████████████████████              | 1009/1261 [04:48<01:14,  3.38it/s]"
     ]
    },
    {
     "name": "stdout",
     "output_type": "stream",
     "text": [
      "(720, 1280, 3)\n",
      "left offset -1.76599885659 right offset 2.17703294291\n",
      "1460.90850161 m 1108.77018653 m\n"
     ]
    },
    {
     "name": "stderr",
     "output_type": "stream",
     "text": [
      "\r",
      " 80%|████████████████████████████████████████████████████████              | 1010/1261 [04:49<01:13,  3.43it/s]"
     ]
    },
    {
     "name": "stdout",
     "output_type": "stream",
     "text": [
      "(720, 1280, 3)\n",
      "left offset -1.78048744358 right offset 2.12042875348\n",
      "2028.2875144 m 1257.60185329 m\n"
     ]
    },
    {
     "name": "stderr",
     "output_type": "stream",
     "text": [
      "\r",
      " 80%|████████████████████████████████████████████████████████              | 1011/1261 [04:49<01:12,  3.45it/s]"
     ]
    },
    {
     "name": "stdout",
     "output_type": "stream",
     "text": [
      "(720, 1280, 3)\n",
      "left offset -1.79370551088 right offset 2.133116072\n",
      "1491.51965047 m 1464.97085251 m\n"
     ]
    },
    {
     "name": "stderr",
     "output_type": "stream",
     "text": [
      "\r",
      " 80%|████████████████████████████████████████████████████████▏             | 1012/1261 [04:49<01:11,  3.47it/s]"
     ]
    },
    {
     "name": "stdout",
     "output_type": "stream",
     "text": [
      "(720, 1280, 3)\n",
      "left offset -1.8552121172 right offset 2.12357113199\n",
      "10461.8205224 m 1452.84041778 m\n"
     ]
    },
    {
     "name": "stderr",
     "output_type": "stream",
     "text": [
      "\r",
      " 80%|████████████████████████████████████████████████████████▏             | 1013/1261 [04:50<01:12,  3.44it/s]"
     ]
    },
    {
     "name": "stdout",
     "output_type": "stream",
     "text": [
      "(720, 1280, 3)\n",
      "left offset -1.85206152535 right offset 2.11355674052\n",
      "59472.9733173 m 1507.00697694 m\n"
     ]
    },
    {
     "name": "stderr",
     "output_type": "stream",
     "text": [
      "\r",
      " 80%|████████████████████████████████████████████████████████▎             | 1014/1261 [04:50<01:13,  3.36it/s]"
     ]
    },
    {
     "name": "stdout",
     "output_type": "stream",
     "text": [
      "(720, 1280, 3)\n",
      "left offset -1.82775084311 right offset 2.05041602193\n",
      "1771.18448983 m 1877.64143897 m\n"
     ]
    },
    {
     "name": "stderr",
     "output_type": "stream",
     "text": [
      "\r",
      " 80%|████████████████████████████████████████████████████████▎             | 1015/1261 [04:50<01:12,  3.40it/s]"
     ]
    },
    {
     "name": "stdout",
     "output_type": "stream",
     "text": [
      "(720, 1280, 3)\n",
      "left offset -1.82659459243 right offset 2.10242560999\n",
      "1704.800275 m 1545.89101735 m\n"
     ]
    },
    {
     "name": "stderr",
     "output_type": "stream",
     "text": [
      "\r",
      " 81%|████████████████████████████████████████████████████████▍             | 1016/1261 [04:50<01:11,  3.41it/s]"
     ]
    },
    {
     "name": "stdout",
     "output_type": "stream",
     "text": [
      "(720, 1280, 3)\n",
      "left offset -1.80129304455 right offset 2.11729678474\n",
      "1253.08893354 m 1360.26918101 m\n"
     ]
    },
    {
     "name": "stderr",
     "output_type": "stream",
     "text": [
      "\r",
      " 81%|████████████████████████████████████████████████████████▍             | 1017/1261 [04:51<01:11,  3.40it/s]"
     ]
    },
    {
     "name": "stdout",
     "output_type": "stream",
     "text": [
      "(720, 1280, 3)\n",
      "left offset -1.82830564055 right offset 2.09337909675\n",
      "1085.71775969 m 1446.07025703 m\n"
     ]
    },
    {
     "name": "stderr",
     "output_type": "stream",
     "text": [
      "\r",
      " 81%|████████████████████████████████████████████████████████▌             | 1018/1261 [04:51<01:11,  3.42it/s]"
     ]
    },
    {
     "name": "stdout",
     "output_type": "stream",
     "text": [
      "(720, 1280, 3)\n",
      "left offset -1.82355085098 right offset 2.07033913962\n",
      "1166.49592446 m 1730.23565874 m\n"
     ]
    },
    {
     "name": "stderr",
     "output_type": "stream",
     "text": [
      "\r",
      " 81%|████████████████████████████████████████████████████████▌             | 1019/1261 [04:51<01:12,  3.33it/s]"
     ]
    },
    {
     "name": "stdout",
     "output_type": "stream",
     "text": [
      "(720, 1280, 3)\n",
      "left offset -1.81399523561 right offset 2.0999615019\n",
      "1023.99641385 m 1658.90665061 m\n"
     ]
    },
    {
     "name": "stderr",
     "output_type": "stream",
     "text": [
      "\r",
      " 81%|████████████████████████████████████████████████████████▌             | 1020/1261 [04:52<01:13,  3.27it/s]"
     ]
    },
    {
     "name": "stdout",
     "output_type": "stream",
     "text": [
      "(720, 1280, 3)\n",
      "left offset -1.79998399858 right offset 2.12322362735\n",
      "1037.57135109 m 1244.97610041 m\n"
     ]
    },
    {
     "name": "stderr",
     "output_type": "stream",
     "text": [
      "\r",
      " 81%|████████████████████████████████████████████████████████▋             | 1021/1261 [04:52<01:12,  3.30it/s]"
     ]
    },
    {
     "name": "stdout",
     "output_type": "stream",
     "text": [
      "(720, 1280, 3)\n",
      "left offset -1.84612013171 right offset 2.1330305187\n",
      "1653.07993157 m 1249.94678646 m\n"
     ]
    },
    {
     "name": "stderr",
     "output_type": "stream",
     "text": [
      "\r",
      " 81%|████████████████████████████████████████████████████████▋             | 1022/1261 [04:52<01:13,  3.26it/s]"
     ]
    },
    {
     "name": "stdout",
     "output_type": "stream",
     "text": [
      "(720, 1280, 3)\n",
      "left offset -1.88108260471 right offset 2.11838484544\n",
      "1763.06236342 m 1428.73260868 m\n"
     ]
    },
    {
     "name": "stderr",
     "output_type": "stream",
     "text": [
      "\r",
      " 81%|████████████████████████████████████████████████████████▊             | 1023/1261 [04:53<01:12,  3.29it/s]"
     ]
    },
    {
     "name": "stdout",
     "output_type": "stream",
     "text": [
      "(720, 1280, 3)\n",
      "left offset -1.87622936321 right offset 2.13060953728\n",
      "1040.80450043 m 1408.81972239 m\n"
     ]
    },
    {
     "name": "stderr",
     "output_type": "stream",
     "text": [
      "\r",
      " 81%|████████████████████████████████████████████████████████▊             | 1024/1261 [04:53<01:12,  3.27it/s]"
     ]
    },
    {
     "name": "stdout",
     "output_type": "stream",
     "text": [
      "(720, 1280, 3)\n",
      "left offset -1.89694098229 right offset 2.15878158306\n",
      "1088.9219889 m 1392.16764652 m\n"
     ]
    },
    {
     "name": "stderr",
     "output_type": "stream",
     "text": [
      "\r",
      " 81%|████████████████████████████████████████████████████████▉             | 1025/1261 [04:53<01:13,  3.22it/s]"
     ]
    },
    {
     "name": "stdout",
     "output_type": "stream",
     "text": [
      "(720, 1280, 3)\n",
      "left offset -1.88220502288 right offset 2.18245460174\n",
      "857.137054043 m 1015.72614187 m\n"
     ]
    },
    {
     "name": "stderr",
     "output_type": "stream",
     "text": [
      "\r",
      " 81%|████████████████████████████████████████████████████████▉             | 1026/1261 [04:54<01:13,  3.18it/s]"
     ]
    },
    {
     "name": "stdout",
     "output_type": "stream",
     "text": [
      "(720, 1280, 3)\n",
      "left offset -1.87714764265 right offset 2.18552161988\n",
      "684.717846923 m 890.26142107 m\n"
     ]
    },
    {
     "name": "stderr",
     "output_type": "stream",
     "text": [
      "\r",
      " 81%|█████████████████████████████████████████████████████████             | 1027/1261 [04:54<01:14,  3.16it/s]"
     ]
    },
    {
     "name": "stdout",
     "output_type": "stream",
     "text": [
      "(720, 1280, 3)\n",
      "left offset -1.87916863297 right offset 2.1584781979\n",
      "732.922882109 m 860.408161529 m\n"
     ]
    },
    {
     "name": "stderr",
     "output_type": "stream",
     "text": [
      "\r",
      " 82%|█████████████████████████████████████████████████████████             | 1028/1261 [04:54<01:12,  3.21it/s]"
     ]
    },
    {
     "name": "stdout",
     "output_type": "stream",
     "text": [
      "(720, 1280, 3)\n",
      "left offset -1.87761555798 right offset 2.1367730929\n",
      "784.850143421 m 843.300096424 m\n"
     ]
    },
    {
     "name": "stderr",
     "output_type": "stream",
     "text": [
      "\r",
      " 82%|█████████████████████████████████████████████████████████             | 1029/1261 [04:54<01:11,  3.27it/s]"
     ]
    },
    {
     "name": "stdout",
     "output_type": "stream",
     "text": [
      "(720, 1280, 3)\n",
      "left offset -1.88693570395 right offset 2.15304776276\n",
      "738.067951382 m 878.44425095 m\n"
     ]
    },
    {
     "name": "stderr",
     "output_type": "stream",
     "text": [
      "\r",
      " 82%|█████████████████████████████████████████████████████████▏            | 1030/1261 [04:55<01:10,  3.27it/s]"
     ]
    },
    {
     "name": "stdout",
     "output_type": "stream",
     "text": [
      "(720, 1280, 3)\n",
      "left offset -1.89318853178 right offset 2.11899898486\n",
      "730.61319005 m 845.182097631 m\n"
     ]
    },
    {
     "name": "stderr",
     "output_type": "stream",
     "text": [
      "\r",
      " 82%|█████████████████████████████████████████████████████████▏            | 1031/1261 [04:55<01:09,  3.30it/s]"
     ]
    },
    {
     "name": "stdout",
     "output_type": "stream",
     "text": [
      "(720, 1280, 3)\n",
      "left offset -1.90466076675 right offset 2.1046014447\n",
      "692.193698325 m 882.408865568 m\n"
     ]
    },
    {
     "name": "stderr",
     "output_type": "stream",
     "text": [
      "\r",
      " 82%|█████████████████████████████████████████████████████████▎            | 1032/1261 [04:55<01:10,  3.26it/s]"
     ]
    },
    {
     "name": "stdout",
     "output_type": "stream",
     "text": [
      "(720, 1280, 3)\n",
      "left offset -1.9240218874 right offset 2.12110295564\n",
      "881.026635317 m 951.972773782 m\n"
     ]
    },
    {
     "name": "stderr",
     "output_type": "stream",
     "text": [
      "\r",
      " 82%|█████████████████████████████████████████████████████████▎            | 1033/1261 [04:56<01:10,  3.25it/s]"
     ]
    },
    {
     "name": "stdout",
     "output_type": "stream",
     "text": [
      "(720, 1280, 3)\n",
      "left offset -1.90905483276 right offset 2.10522723836\n",
      "819.505111606 m 927.949863212 m\n"
     ]
    },
    {
     "name": "stderr",
     "output_type": "stream",
     "text": [
      "\r",
      " 82%|█████████████████████████████████████████████████████████▍            | 1034/1261 [04:56<01:09,  3.29it/s]"
     ]
    },
    {
     "name": "stdout",
     "output_type": "stream",
     "text": [
      "(720, 1280, 3)\n",
      "left offset -1.90103693497 right offset 2.08942899366\n",
      "898.566646289 m 924.109485268 m\n"
     ]
    },
    {
     "name": "stderr",
     "output_type": "stream",
     "text": [
      "\r",
      " 82%|█████████████████████████████████████████████████████████▍            | 1035/1261 [04:56<01:08,  3.28it/s]"
     ]
    },
    {
     "name": "stdout",
     "output_type": "stream",
     "text": [
      "(720, 1280, 3)\n",
      "left offset -1.89476451788 right offset 2.06662776432\n",
      "797.156857007 m 870.641284478 m\n"
     ]
    },
    {
     "name": "stderr",
     "output_type": "stream",
     "text": [
      "\r",
      " 82%|█████████████████████████████████████████████████████████▌            | 1036/1261 [04:57<01:08,  3.29it/s]"
     ]
    },
    {
     "name": "stdout",
     "output_type": "stream",
     "text": [
      "(720, 1280, 3)\n",
      "left offset -1.87314928827 right offset 2.00757108017\n",
      "708.40045212 m 991.223330431 m\n"
     ]
    },
    {
     "name": "stderr",
     "output_type": "stream",
     "text": [
      "\r",
      " 82%|█████████████████████████████████████████████████████████▌            | 1037/1261 [04:57<01:08,  3.28it/s]"
     ]
    },
    {
     "name": "stdout",
     "output_type": "stream",
     "text": [
      "(720, 1280, 3)\n",
      "left offset -1.90373917874 right offset 1.96259713336\n",
      "1361.35078853 m 1160.5151963 m\n"
     ]
    },
    {
     "name": "stderr",
     "output_type": "stream",
     "text": [
      "\r",
      " 82%|█████████████████████████████████████████████████████████▌            | 1038/1261 [04:57<01:08,  3.24it/s]"
     ]
    },
    {
     "name": "stdout",
     "output_type": "stream",
     "text": [
      "(720, 1280, 3)\n",
      "left offset -3.04151093739 right offset 2.00141363008\n",
      "225.947561359 m 974.292733589 m\n"
     ]
    },
    {
     "name": "stderr",
     "output_type": "stream",
     "text": [
      "\r",
      " 82%|█████████████████████████████████████████████████████████▋            | 1039/1261 [04:58<01:07,  3.28it/s]"
     ]
    },
    {
     "name": "stdout",
     "output_type": "stream",
     "text": [
      "(720, 1280, 3)\n",
      "left offset -3.10541978689 right offset 2.01103238884\n",
      "219.755617642 m 1072.00515015 m\n"
     ]
    },
    {
     "name": "stderr",
     "output_type": "stream",
     "text": [
      "\r",
      " 82%|█████████████████████████████████████████████████████████▋            | 1040/1261 [04:58<01:05,  3.36it/s]"
     ]
    },
    {
     "name": "stdout",
     "output_type": "stream",
     "text": [
      "(720, 1280, 3)\n",
      "left offset -3.64048882796 right offset 1.98612702508\n",
      "438.965625866 m 1240.25022077 m\n"
     ]
    },
    {
     "name": "stderr",
     "output_type": "stream",
     "text": [
      "\r",
      " 83%|█████████████████████████████████████████████████████████▊            | 1041/1261 [04:58<01:04,  3.40it/s]"
     ]
    },
    {
     "name": "stdout",
     "output_type": "stream",
     "text": [
      "(720, 1280, 3)\n",
      "left offset -3.86710268034 right offset 1.96148379028\n",
      "533.198032611 m 1187.13407003 m\n"
     ]
    },
    {
     "name": "stderr",
     "output_type": "stream",
     "text": [
      "\r",
      " 83%|█████████████████████████████████████████████████████████▊            | 1042/1261 [04:58<01:03,  3.45it/s]"
     ]
    },
    {
     "name": "stdout",
     "output_type": "stream",
     "text": [
      "(720, 1280, 3)\n",
      "left offset -4.00491646367 right offset 1.96073617193\n",
      "613.36023834 m 1355.24004619 m\n"
     ]
    },
    {
     "name": "stderr",
     "output_type": "stream",
     "text": [
      "\r",
      " 83%|█████████████████████████████████████████████████████████▉            | 1043/1261 [04:59<01:03,  3.45it/s]"
     ]
    },
    {
     "name": "stdout",
     "output_type": "stream",
     "text": [
      "(720, 1280, 3)\n",
      "left offset -3.82966931543 right offset 1.96974968492\n",
      "357.8361575 m 1351.81179729 m\n"
     ]
    },
    {
     "name": "stderr",
     "output_type": "stream",
     "text": [
      "\r",
      " 83%|█████████████████████████████████████████████████████████▉            | 1044/1261 [04:59<01:02,  3.48it/s]"
     ]
    },
    {
     "name": "stdout",
     "output_type": "stream",
     "text": [
      "(720, 1280, 3)\n",
      "left offset -1.85708433076 right offset 1.97904267172\n",
      "549.721258372 m 1946.16010793 m\n"
     ]
    },
    {
     "name": "stderr",
     "output_type": "stream",
     "text": [
      "\r",
      " 83%|██████████████████████████████████████████████████████████            | 1045/1261 [04:59<01:01,  3.51it/s]"
     ]
    },
    {
     "name": "stdout",
     "output_type": "stream",
     "text": [
      "(720, 1280, 3)\n",
      "left offset -1.87290053871 right offset 1.95715308541\n",
      "544.024753113 m 1370.06048087 m\n"
     ]
    },
    {
     "name": "stderr",
     "output_type": "stream",
     "text": [
      "\r",
      " 83%|██████████████████████████████████████████████████████████            | 1046/1261 [05:00<01:00,  3.54it/s]"
     ]
    },
    {
     "name": "stdout",
     "output_type": "stream",
     "text": [
      "(720, 1280, 3)\n",
      "left offset -1.83815052031 right offset 1.97840359127\n",
      "518.923912151 m 1366.15456619 m\n"
     ]
    },
    {
     "name": "stderr",
     "output_type": "stream",
     "text": [
      "\r",
      " 83%|██████████████████████████████████████████████████████████            | 1047/1261 [05:00<01:00,  3.53it/s]"
     ]
    },
    {
     "name": "stdout",
     "output_type": "stream",
     "text": [
      "(720, 1280, 3)\n",
      "left offset -1.93025315014 right offset 1.88797281626\n",
      "660.31836786 m 2768.81172067 m\n"
     ]
    },
    {
     "name": "stderr",
     "output_type": "stream",
     "text": [
      "\r",
      " 83%|██████████████████████████████████████████████████████████▏           | 1048/1261 [05:00<01:00,  3.53it/s]"
     ]
    },
    {
     "name": "stdout",
     "output_type": "stream",
     "text": [
      "(720, 1280, 3)\n",
      "left offset -1.92436086118 right offset 1.94484548455\n",
      "636.800551929 m 2374.29461805 m\n"
     ]
    },
    {
     "name": "stderr",
     "output_type": "stream",
     "text": [
      "\r",
      " 83%|██████████████████████████████████████████████████████████▏           | 1049/1261 [05:00<01:02,  3.39it/s]"
     ]
    },
    {
     "name": "stdout",
     "output_type": "stream",
     "text": [
      "(720, 1280, 3)\n",
      "left offset -1.98445836957 right offset 1.96459741339\n",
      "742.523892423 m 2652.92845115 m\n"
     ]
    },
    {
     "name": "stderr",
     "output_type": "stream",
     "text": [
      "\r",
      " 83%|██████████████████████████████████████████████████████████▎           | 1050/1261 [05:01<01:06,  3.16it/s]"
     ]
    },
    {
     "name": "stdout",
     "output_type": "stream",
     "text": [
      "(720, 1280, 3)\n",
      "left offset -2.01379640432 right offset 2.01601824224\n",
      "1067.08837734 m 1679.53069772 m\n"
     ]
    },
    {
     "name": "stderr",
     "output_type": "stream",
     "text": [
      "\r",
      " 83%|██████████████████████████████████████████████████████████▎           | 1051/1261 [05:01<01:07,  3.13it/s]"
     ]
    },
    {
     "name": "stdout",
     "output_type": "stream",
     "text": [
      "(720, 1280, 3)\n",
      "left offset -1.99696188226 right offset 2.01502707503\n",
      "872.660820638 m 1891.50744758 m\n"
     ]
    },
    {
     "name": "stderr",
     "output_type": "stream",
     "text": [
      "\r",
      " 83%|██████████████████████████████████████████████████████████▍           | 1052/1261 [05:01<01:04,  3.25it/s]"
     ]
    },
    {
     "name": "stdout",
     "output_type": "stream",
     "text": [
      "(720, 1280, 3)\n",
      "left offset -2.04764926036 right offset 2.05848045815\n",
      "1930.7272404 m 1681.36237357 m\n"
     ]
    },
    {
     "name": "stderr",
     "output_type": "stream",
     "text": [
      "\r",
      " 84%|██████████████████████████████████████████████████████████▍           | 1053/1261 [05:02<01:03,  3.30it/s]"
     ]
    },
    {
     "name": "stdout",
     "output_type": "stream",
     "text": [
      "(720, 1280, 3)\n",
      "left offset -1.98632547116 right offset 2.08166581209\n",
      "1377.49266253 m 1209.18560913 m\n"
     ]
    },
    {
     "name": "stderr",
     "output_type": "stream",
     "text": [
      "\r",
      " 84%|██████████████████████████████████████████████████████████▌           | 1054/1261 [05:02<01:01,  3.36it/s]"
     ]
    },
    {
     "name": "stdout",
     "output_type": "stream",
     "text": [
      "(720, 1280, 3)\n",
      "left offset -1.95152182067 right offset 2.08955846927\n",
      "1369.53513099 m 1079.02496823 m\n"
     ]
    },
    {
     "name": "stderr",
     "output_type": "stream",
     "text": [
      "\r",
      " 84%|██████████████████████████████████████████████████████████▌           | 1055/1261 [05:02<01:01,  3.37it/s]"
     ]
    },
    {
     "name": "stdout",
     "output_type": "stream",
     "text": [
      "(720, 1280, 3)\n",
      "left offset -1.96349594218 right offset 2.07088805472\n",
      "3563.1148971 m 1074.08725908 m\n"
     ]
    },
    {
     "name": "stderr",
     "output_type": "stream",
     "text": [
      "\r",
      " 84%|██████████████████████████████████████████████████████████▌           | 1056/1261 [05:03<01:02,  3.28it/s]"
     ]
    },
    {
     "name": "stdout",
     "output_type": "stream",
     "text": [
      "(720, 1280, 3)\n",
      "left offset -1.87238544062 right offset 2.06414473464\n",
      "982.725084998 m 996.462851271 m\n"
     ]
    },
    {
     "name": "stderr",
     "output_type": "stream",
     "text": [
      "\r",
      " 84%|██████████████████████████████████████████████████████████▋           | 1057/1261 [05:03<01:02,  3.28it/s]"
     ]
    },
    {
     "name": "stdout",
     "output_type": "stream",
     "text": [
      "(720, 1280, 3)\n",
      "left offset -1.87567010171 right offset 2.0787401371\n",
      "2393.74148411 m 947.189531902 m\n"
     ]
    },
    {
     "name": "stderr",
     "output_type": "stream",
     "text": [
      "\r",
      " 84%|██████████████████████████████████████████████████████████▋           | 1058/1261 [05:03<01:00,  3.33it/s]"
     ]
    },
    {
     "name": "stdout",
     "output_type": "stream",
     "text": [
      "(720, 1280, 3)\n",
      "left offset -1.81636471758 right offset 2.07866789049\n",
      "1852.21358212 m 848.875286752 m\n"
     ]
    },
    {
     "name": "stderr",
     "output_type": "stream",
     "text": [
      "\r",
      " 84%|██████████████████████████████████████████████████████████▊           | 1059/1261 [05:03<01:00,  3.34it/s]"
     ]
    },
    {
     "name": "stdout",
     "output_type": "stream",
     "text": [
      "(720, 1280, 3)\n",
      "left offset -1.76916310418 right offset 2.09802913327\n",
      "1246.06334137 m 786.025790379 m\n"
     ]
    },
    {
     "name": "stderr",
     "output_type": "stream",
     "text": [
      "\r",
      " 84%|██████████████████████████████████████████████████████████▊           | 1060/1261 [05:04<01:01,  3.28it/s]"
     ]
    },
    {
     "name": "stdout",
     "output_type": "stream",
     "text": [
      "(720, 1280, 3)\n",
      "left offset -1.73256269382 right offset 2.0819967953\n",
      "1145.89962199 m 723.99810128 m\n"
     ]
    },
    {
     "name": "stderr",
     "output_type": "stream",
     "text": [
      "\r",
      " 84%|██████████████████████████████████████████████████████████▉           | 1061/1261 [05:04<01:01,  3.26it/s]"
     ]
    },
    {
     "name": "stdout",
     "output_type": "stream",
     "text": [
      "(720, 1280, 3)\n",
      "left offset -1.70246936143 right offset 2.08613778113\n",
      "1161.16542685 m 747.348661966 m\n"
     ]
    },
    {
     "name": "stderr",
     "output_type": "stream",
     "text": [
      "\r",
      " 84%|██████████████████████████████████████████████████████████▉           | 1062/1261 [05:04<01:00,  3.27it/s]"
     ]
    },
    {
     "name": "stdout",
     "output_type": "stream",
     "text": [
      "(720, 1280, 3)\n",
      "left offset -1.71084586595 right offset 2.10449696302\n",
      "1514.20702779 m 932.84134856 m\n"
     ]
    },
    {
     "name": "stderr",
     "output_type": "stream",
     "text": [
      "\r",
      " 84%|███████████████████████████████████████████████████████████           | 1063/1261 [05:05<00:59,  3.35it/s]"
     ]
    },
    {
     "name": "stdout",
     "output_type": "stream",
     "text": [
      "(720, 1280, 3)\n",
      "left offset -1.71705170071 right offset 2.10196339776\n",
      "1797.18627796 m 1098.98892485 m\n"
     ]
    },
    {
     "name": "stderr",
     "output_type": "stream",
     "text": [
      "\r",
      " 84%|███████████████████████████████████████████████████████████           | 1064/1261 [05:05<00:57,  3.41it/s]"
     ]
    },
    {
     "name": "stdout",
     "output_type": "stream",
     "text": [
      "(720, 1280, 3)\n",
      "left offset -1.76776133589 right offset 2.08992658801\n",
      "6469.56396491 m 1445.94580896 m\n"
     ]
    },
    {
     "name": "stderr",
     "output_type": "stream",
     "text": [
      "\r",
      " 84%|███████████████████████████████████████████████████████████           | 1065/1261 [05:05<01:00,  3.26it/s]"
     ]
    },
    {
     "name": "stdout",
     "output_type": "stream",
     "text": [
      "(720, 1280, 3)\n",
      "left offset -1.74431151608 right offset 2.09482405038\n",
      "2611.97021028 m 1704.86039968 m\n"
     ]
    },
    {
     "name": "stderr",
     "output_type": "stream",
     "text": [
      "\r",
      " 85%|███████████████████████████████████████████████████████████▏          | 1066/1261 [05:06<00:59,  3.26it/s]"
     ]
    },
    {
     "name": "stdout",
     "output_type": "stream",
     "text": [
      "(720, 1280, 3)\n",
      "left offset -1.73520903986 right offset 2.10472511532\n",
      "2891.77469224 m 1614.48587375 m\n"
     ]
    },
    {
     "name": "stderr",
     "output_type": "stream",
     "text": [
      "\r",
      " 85%|███████████████████████████████████████████████████████████▏          | 1067/1261 [05:06<01:00,  3.23it/s]"
     ]
    },
    {
     "name": "stdout",
     "output_type": "stream",
     "text": [
      "(720, 1280, 3)\n",
      "left offset -1.69181061244 right offset 2.11306871281\n",
      "1378.93736694 m 1554.50752938 m\n"
     ]
    },
    {
     "name": "stderr",
     "output_type": "stream",
     "text": [
      "\r",
      " 85%|███████████████████████████████████████████████████████████▎          | 1068/1261 [05:06<00:58,  3.28it/s]"
     ]
    },
    {
     "name": "stdout",
     "output_type": "stream",
     "text": [
      "(720, 1280, 3)\n",
      "left offset -1.70340592753 right offset 2.11159105547\n",
      "1770.70412593 m 1464.62119126 m\n"
     ]
    },
    {
     "name": "stderr",
     "output_type": "stream",
     "text": [
      "\r",
      " 85%|███████████████████████████████████████████████████████████▎          | 1069/1261 [05:06<00:57,  3.33it/s]"
     ]
    },
    {
     "name": "stdout",
     "output_type": "stream",
     "text": [
      "(720, 1280, 3)\n",
      "left offset -1.68296884378 right offset 2.13033857153\n",
      "1757.51126915 m 1315.90697512 m\n"
     ]
    },
    {
     "name": "stderr",
     "output_type": "stream",
     "text": [
      "\r",
      " 85%|███████████████████████████████████████████████████████████▍          | 1070/1261 [05:07<00:56,  3.36it/s]"
     ]
    },
    {
     "name": "stdout",
     "output_type": "stream",
     "text": [
      "(720, 1280, 3)\n",
      "left offset -1.68197395954 right offset 2.10939338572\n",
      "1321.76351348 m 1559.15145694 m\n"
     ]
    },
    {
     "name": "stderr",
     "output_type": "stream",
     "text": [
      "\r",
      " 85%|███████████████████████████████████████████████████████████▍          | 1071/1261 [05:07<00:56,  3.35it/s]"
     ]
    },
    {
     "name": "stdout",
     "output_type": "stream",
     "text": [
      "(720, 1280, 3)\n",
      "left offset -1.66766856022 right offset 2.09345300959\n",
      "1645.58113673 m 1454.96646771 m\n"
     ]
    },
    {
     "name": "stderr",
     "output_type": "stream",
     "text": [
      "\r",
      " 85%|███████████████████████████████████████████████████████████▌          | 1072/1261 [05:07<00:55,  3.40it/s]"
     ]
    },
    {
     "name": "stdout",
     "output_type": "stream",
     "text": [
      "(720, 1280, 3)\n",
      "left offset -1.6830212418 right offset 2.10613518973\n",
      "3220.30177501 m 1559.38207112 m\n"
     ]
    },
    {
     "name": "stderr",
     "output_type": "stream",
     "text": [
      "\r",
      " 85%|███████████████████████████████████████████████████████████▌          | 1073/1261 [05:08<00:54,  3.46it/s]"
     ]
    },
    {
     "name": "stdout",
     "output_type": "stream",
     "text": [
      "(720, 1280, 3)\n",
      "left offset -1.64823967378 right offset 2.10658064342\n",
      "1496.54759455 m 1580.00386406 m\n"
     ]
    },
    {
     "name": "stderr",
     "output_type": "stream",
     "text": [
      "\r",
      " 85%|███████████████████████████████████████████████████████████▌          | 1074/1261 [05:08<00:53,  3.49it/s]"
     ]
    },
    {
     "name": "stdout",
     "output_type": "stream",
     "text": [
      "(720, 1280, 3)\n",
      "left offset -1.61775743329 right offset 2.09503868411\n",
      "1076.80890111 m 1771.10960801 m\n"
     ]
    },
    {
     "name": "stderr",
     "output_type": "stream",
     "text": [
      "\r",
      " 85%|███████████████████████████████████████████████████████████▋          | 1075/1261 [05:08<00:53,  3.50it/s]"
     ]
    },
    {
     "name": "stdout",
     "output_type": "stream",
     "text": [
      "(720, 1280, 3)\n",
      "left offset -1.60897659091 right offset 2.10198692687\n",
      "1104.45039206 m 1827.46338294 m\n"
     ]
    },
    {
     "name": "stderr",
     "output_type": "stream",
     "text": [
      "\r",
      " 85%|███████████████████████████████████████████████████████████▋          | 1076/1261 [05:09<00:53,  3.43it/s]"
     ]
    },
    {
     "name": "stdout",
     "output_type": "stream",
     "text": [
      "(720, 1280, 3)\n",
      "left offset -1.66876345944 right offset 2.125200762\n",
      "2272.28077711 m 1370.64939168 m\n"
     ]
    },
    {
     "name": "stderr",
     "output_type": "stream",
     "text": [
      "\r",
      " 85%|███████████████████████████████████████████████████████████▊          | 1077/1261 [05:09<00:53,  3.47it/s]"
     ]
    },
    {
     "name": "stdout",
     "output_type": "stream",
     "text": [
      "(720, 1280, 3)\n",
      "left offset -1.5561814268 right offset 2.13998166363\n",
      "932.951422681 m 1337.88385748 m\n"
     ]
    },
    {
     "name": "stderr",
     "output_type": "stream",
     "text": [
      "\r",
      " 85%|███████████████████████████████████████████████████████████▊          | 1078/1261 [05:09<00:52,  3.52it/s]"
     ]
    },
    {
     "name": "stdout",
     "output_type": "stream",
     "text": [
      "(720, 1280, 3)\n",
      "left offset -1.5954346543 right offset 2.14998279906\n",
      "1330.24023854 m 1384.77988283 m\n"
     ]
    },
    {
     "name": "stderr",
     "output_type": "stream",
     "text": [
      "\r",
      " 86%|███████████████████████████████████████████████████████████▉          | 1079/1261 [05:09<00:51,  3.52it/s]"
     ]
    },
    {
     "name": "stdout",
     "output_type": "stream",
     "text": [
      "(720, 1280, 3)\n",
      "left offset -1.55111224647 right offset 2.15876544575\n",
      "937.115257488 m 1461.6469947 m\n"
     ]
    },
    {
     "name": "stderr",
     "output_type": "stream",
     "text": [
      "\r",
      " 86%|███████████████████████████████████████████████████████████▉          | 1080/1261 [05:10<00:50,  3.55it/s]"
     ]
    },
    {
     "name": "stdout",
     "output_type": "stream",
     "text": [
      "(720, 1280, 3)\n",
      "left offset -1.61701434373 right offset 2.16652323398\n",
      "2504.82398705 m 1799.79587371 m\n"
     ]
    },
    {
     "name": "stderr",
     "output_type": "stream",
     "text": [
      "\r",
      " 86%|████████████████████████████████████████████████████████████          | 1081/1261 [05:10<00:50,  3.56it/s]"
     ]
    },
    {
     "name": "stdout",
     "output_type": "stream",
     "text": [
      "(720, 1280, 3)\n",
      "left offset -1.59176839106 right offset 2.17173645958\n",
      "1790.33458465 m 1652.85612962 m\n"
     ]
    },
    {
     "name": "stderr",
     "output_type": "stream",
     "text": [
      "\r",
      " 86%|████████████████████████████████████████████████████████████          | 1082/1261 [05:10<00:52,  3.40it/s]"
     ]
    },
    {
     "name": "stdout",
     "output_type": "stream",
     "text": [
      "(720, 1280, 3)\n",
      "left offset -1.61375868816 right offset 2.15870375561\n",
      "2038.03031173 m 1744.65796984 m\n"
     ]
    },
    {
     "name": "stderr",
     "output_type": "stream",
     "text": [
      "\r",
      " 86%|████████████████████████████████████████████████████████████          | 1083/1261 [05:11<00:53,  3.33it/s]"
     ]
    },
    {
     "name": "stdout",
     "output_type": "stream",
     "text": [
      "(720, 1280, 3)\n",
      "left offset -1.61670527394 right offset 2.17436055427\n",
      "2320.42136247 m 1715.96629115 m\n"
     ]
    },
    {
     "name": "stderr",
     "output_type": "stream",
     "text": [
      "\r",
      " 86%|████████████████████████████████████████████████████████████▏         | 1084/1261 [05:11<00:52,  3.37it/s]"
     ]
    },
    {
     "name": "stdout",
     "output_type": "stream",
     "text": [
      "(720, 1280, 3)\n",
      "left offset -1.61304929129 right offset 2.21510378156\n",
      "2209.76628104 m 1409.50857361 m\n"
     ]
    },
    {
     "name": "stderr",
     "output_type": "stream",
     "text": [
      "\r",
      " 86%|████████████████████████████████████████████████████████████▏         | 1085/1261 [05:11<00:51,  3.41it/s]"
     ]
    },
    {
     "name": "stdout",
     "output_type": "stream",
     "text": [
      "(720, 1280, 3)\n",
      "left offset -1.65784367729 right offset 2.21021604875\n",
      "4024.41309377 m 1632.8398264 m\n"
     ]
    },
    {
     "name": "stderr",
     "output_type": "stream",
     "text": [
      "\r",
      " 86%|████████████████████████████████████████████████████████████▎         | 1086/1261 [05:11<00:52,  3.36it/s]"
     ]
    },
    {
     "name": "stdout",
     "output_type": "stream",
     "text": [
      "(720, 1280, 3)\n",
      "left offset -1.61200252689 right offset 2.27390648216\n",
      "1800.1478936 m 1107.37200665 m\n"
     ]
    },
    {
     "name": "stderr",
     "output_type": "stream",
     "text": [
      "\r",
      " 86%|████████████████████████████████████████████████████████████▎         | 1087/1261 [05:12<00:52,  3.34it/s]"
     ]
    },
    {
     "name": "stdout",
     "output_type": "stream",
     "text": [
      "(720, 1280, 3)\n",
      "left offset -3.98791422143 right offset 2.15117655288\n",
      "1191.09105818 m 2322.87966531 m\n"
     ]
    },
    {
     "name": "stderr",
     "output_type": "stream",
     "text": [
      "\r",
      " 86%|████████████████████████████████████████████████████████████▍         | 1088/1261 [05:12<00:52,  3.30it/s]"
     ]
    },
    {
     "name": "stdout",
     "output_type": "stream",
     "text": [
      "(720, 1280, 3)\n",
      "left offset -3.88332973586 right offset 2.17272678538\n",
      "1122.37509707 m 1935.97447081 m\n"
     ]
    },
    {
     "name": "stderr",
     "output_type": "stream",
     "text": [
      "\r",
      " 86%|████████████████████████████████████████████████████████████▍         | 1089/1261 [05:12<00:52,  3.30it/s]"
     ]
    },
    {
     "name": "stdout",
     "output_type": "stream",
     "text": [
      "(720, 1280, 3)\n",
      "left offset -4.02834892776 right offset 2.18453983375\n",
      "1080.21517428 m 1731.05938522 m\n"
     ]
    },
    {
     "name": "stderr",
     "output_type": "stream",
     "text": [
      "\r",
      " 86%|████████████████████████████████████████████████████████████▌         | 1090/1261 [05:13<00:51,  3.34it/s]"
     ]
    },
    {
     "name": "stdout",
     "output_type": "stream",
     "text": [
      "(720, 1280, 3)\n",
      "left offset -1.55640337226 right offset 2.18622659528\n",
      "1621.61014065 m 1904.77132333 m\n"
     ]
    },
    {
     "name": "stderr",
     "output_type": "stream",
     "text": [
      "\r",
      " 87%|████████████████████████████████████████████████████████████▌         | 1091/1261 [05:13<00:50,  3.38it/s]"
     ]
    },
    {
     "name": "stdout",
     "output_type": "stream",
     "text": [
      "(720, 1280, 3)\n",
      "left offset -1.53422448276 right offset 2.19404016621\n",
      "1306.2418228 m 1854.72683192 m\n"
     ]
    },
    {
     "name": "stderr",
     "output_type": "stream",
     "text": [
      "\r",
      " 87%|████████████████████████████████████████████████████████████▌         | 1092/1261 [05:13<00:49,  3.41it/s]"
     ]
    },
    {
     "name": "stdout",
     "output_type": "stream",
     "text": [
      "(720, 1280, 3)\n",
      "left offset -1.5422647671 right offset 2.20021608121\n",
      "1506.14209726 m 1851.63915382 m\n"
     ]
    },
    {
     "name": "stderr",
     "output_type": "stream",
     "text": [
      "\r",
      " 87%|████████████████████████████████████████████████████████████▋         | 1093/1261 [05:14<00:48,  3.45it/s]"
     ]
    },
    {
     "name": "stdout",
     "output_type": "stream",
     "text": [
      "(720, 1280, 3)\n",
      "left offset -1.60623536359 right offset 2.21482771166\n",
      "4287.48074674 m 1814.59608717 m\n"
     ]
    },
    {
     "name": "stderr",
     "output_type": "stream",
     "text": [
      "\r",
      " 87%|████████████████████████████████████████████████████████████▋         | 1094/1261 [05:14<00:47,  3.48it/s]"
     ]
    },
    {
     "name": "stdout",
     "output_type": "stream",
     "text": [
      "(720, 1280, 3)\n",
      "left offset -1.54788728524 right offset 2.17568424462\n",
      "1663.07960576 m 1767.78653015 m\n"
     ]
    },
    {
     "name": "stderr",
     "output_type": "stream",
     "text": [
      "\r",
      " 87%|████████████████████████████████████████████████████████████▊         | 1095/1261 [05:14<00:47,  3.50it/s]"
     ]
    },
    {
     "name": "stdout",
     "output_type": "stream",
     "text": [
      "(720, 1280, 3)\n",
      "left offset -1.54501802016 right offset 2.20497785003\n",
      "1866.34534406 m 1507.92217773 m\n"
     ]
    },
    {
     "name": "stderr",
     "output_type": "stream",
     "text": [
      "\r",
      " 87%|████████████████████████████████████████████████████████████▊         | 1096/1261 [05:14<00:47,  3.49it/s]"
     ]
    },
    {
     "name": "stdout",
     "output_type": "stream",
     "text": [
      "(720, 1280, 3)\n",
      "left offset -1.55455854787 right offset 2.22088987939\n",
      "2306.72124501 m 1363.28357265 m\n"
     ]
    },
    {
     "name": "stderr",
     "output_type": "stream",
     "text": [
      "\r",
      " 87%|████████████████████████████████████████████████████████████▉         | 1097/1261 [05:15<00:47,  3.49it/s]"
     ]
    },
    {
     "name": "stdout",
     "output_type": "stream",
     "text": [
      "(720, 1280, 3)\n",
      "left offset -1.55172684011 right offset 2.21814597275\n",
      "2055.51667491 m 1399.46814532 m\n"
     ]
    },
    {
     "name": "stderr",
     "output_type": "stream",
     "text": [
      "\r",
      " 87%|████████████████████████████████████████████████████████████▉         | 1098/1261 [05:15<00:46,  3.50it/s]"
     ]
    },
    {
     "name": "stdout",
     "output_type": "stream",
     "text": [
      "(720, 1280, 3)\n",
      "left offset -1.54447993444 right offset 2.24767250186\n",
      "1944.90484951 m 1259.08697706 m\n"
     ]
    },
    {
     "name": "stderr",
     "output_type": "stream",
     "text": [
      "\r",
      " 87%|█████████████████████████████████████████████████████████████         | 1099/1261 [05:15<00:46,  3.49it/s]"
     ]
    },
    {
     "name": "stdout",
     "output_type": "stream",
     "text": [
      "(720, 1280, 3)\n",
      "left offset -1.53849250611 right offset 2.24499705333\n",
      "2370.24066175 m 1254.76981331 m\n"
     ]
    },
    {
     "name": "stderr",
     "output_type": "stream",
     "text": [
      "\r",
      " 87%|█████████████████████████████████████████████████████████████         | 1100/1261 [05:15<00:45,  3.51it/s]"
     ]
    },
    {
     "name": "stdout",
     "output_type": "stream",
     "text": [
      "(720, 1280, 3)\n",
      "left offset -1.48884438278 right offset 2.26316412827\n",
      "1575.24693974 m 1151.18262858 m\n"
     ]
    },
    {
     "name": "stderr",
     "output_type": "stream",
     "text": [
      "\r",
      " 87%|█████████████████████████████████████████████████████████████         | 1101/1261 [05:16<00:45,  3.52it/s]"
     ]
    },
    {
     "name": "stdout",
     "output_type": "stream",
     "text": [
      "(720, 1280, 3)\n",
      "left offset -1.51528913434 right offset 2.27051431711\n",
      "2172.52623498 m 1491.03409678 m\n"
     ]
    },
    {
     "name": "stderr",
     "output_type": "stream",
     "text": [
      "\r",
      " 87%|█████████████████████████████████████████████████████████████▏        | 1102/1261 [05:16<00:47,  3.38it/s]"
     ]
    },
    {
     "name": "stdout",
     "output_type": "stream",
     "text": [
      "(720, 1280, 3)\n",
      "left offset -1.49223223879 right offset 2.27752067026\n",
      "2032.5748825 m 1416.71611028 m\n"
     ]
    },
    {
     "name": "stderr",
     "output_type": "stream",
     "text": [
      "\r",
      " 87%|█████████████████████████████████████████████████████████████▏        | 1103/1261 [05:16<00:48,  3.23it/s]"
     ]
    },
    {
     "name": "stdout",
     "output_type": "stream",
     "text": [
      "(720, 1280, 3)\n",
      "left offset -1.47977542563 right offset 2.2809483873\n",
      "1897.7173848 m 1472.12495611 m\n"
     ]
    },
    {
     "name": "stderr",
     "output_type": "stream",
     "text": [
      "\r",
      " 88%|█████████████████████████████████████████████████████████████▎        | 1104/1261 [05:17<00:48,  3.22it/s]"
     ]
    },
    {
     "name": "stdout",
     "output_type": "stream",
     "text": [
      "(720, 1280, 3)\n",
      "left offset -1.52861009138 right offset 2.30966418211\n",
      "3674.53468515 m 1360.65559041 m\n"
     ]
    },
    {
     "name": "stderr",
     "output_type": "stream",
     "text": [
      "\r",
      " 88%|█████████████████████████████████████████████████████████████▎        | 1105/1261 [05:17<00:47,  3.30it/s]"
     ]
    },
    {
     "name": "stdout",
     "output_type": "stream",
     "text": [
      "(720, 1280, 3)\n",
      "left offset -1.47734773549 right offset 2.37640569189\n",
      "2002.95798746 m 991.653898905 m\n"
     ]
    },
    {
     "name": "stderr",
     "output_type": "stream",
     "text": [
      "\r",
      " 88%|█████████████████████████████████████████████████████████████▍        | 1106/1261 [05:17<00:46,  3.37it/s]"
     ]
    },
    {
     "name": "stdout",
     "output_type": "stream",
     "text": [
      "(720, 1280, 3)\n",
      "left offset -1.45728808204 right offset 2.38137371183\n",
      "1532.60096448 m 1113.02667759 m\n"
     ]
    },
    {
     "name": "stderr",
     "output_type": "stream",
     "text": [
      "\r",
      " 88%|█████████████████████████████████████████████████████████████▍        | 1107/1261 [05:18<00:45,  3.41it/s]"
     ]
    },
    {
     "name": "stdout",
     "output_type": "stream",
     "text": [
      "(720, 1280, 3)\n",
      "left offset -1.47484895531 right offset 2.40871304812\n",
      "1641.87826677 m 912.39221211 m\n"
     ]
    },
    {
     "name": "stderr",
     "output_type": "stream",
     "text": [
      "\r",
      " 88%|█████████████████████████████████████████████████████████████▌        | 1108/1261 [05:18<00:44,  3.46it/s]"
     ]
    },
    {
     "name": "stdout",
     "output_type": "stream",
     "text": [
      "(720, 1280, 3)\n",
      "left offset -1.47816560593 right offset 2.38512194316\n",
      "1843.53041754 m 1005.12779227 m\n"
     ]
    },
    {
     "name": "stderr",
     "output_type": "stream",
     "text": [
      "\r",
      " 88%|█████████████████████████████████████████████████████████████▌        | 1109/1261 [05:18<00:43,  3.49it/s]"
     ]
    },
    {
     "name": "stdout",
     "output_type": "stream",
     "text": [
      "(720, 1280, 3)\n",
      "left offset -1.4884172497 right offset 2.41241952132\n",
      "2064.42919325 m 832.389062915 m\n"
     ]
    },
    {
     "name": "stderr",
     "output_type": "stream",
     "text": [
      "\r",
      " 88%|█████████████████████████████████████████████████████████████▌        | 1110/1261 [05:18<00:43,  3.50it/s]"
     ]
    },
    {
     "name": "stdout",
     "output_type": "stream",
     "text": [
      "(720, 1280, 3)\n",
      "left offset -1.51609808303 right offset 2.28864374629\n",
      "2978.38349922 m 1145.52561515 m\n"
     ]
    },
    {
     "name": "stderr",
     "output_type": "stream",
     "text": [
      "\r",
      " 88%|█████████████████████████████████████████████████████████████▋        | 1111/1261 [05:19<00:42,  3.56it/s]"
     ]
    },
    {
     "name": "stdout",
     "output_type": "stream",
     "text": [
      "(720, 1280, 3)\n",
      "left offset -1.52232132277 right offset 2.26903484452\n",
      "2861.193379 m 1218.71153472 m\n"
     ]
    },
    {
     "name": "stderr",
     "output_type": "stream",
     "text": [
      "\r",
      " 88%|█████████████████████████████████████████████████████████████▋        | 1112/1261 [05:19<00:41,  3.56it/s]"
     ]
    },
    {
     "name": "stdout",
     "output_type": "stream",
     "text": [
      "(720, 1280, 3)\n",
      "left offset -1.48237655215 right offset 2.25775118623\n",
      "1683.76966646 m 1161.1629881 m\n"
     ]
    },
    {
     "name": "stderr",
     "output_type": "stream",
     "text": [
      "\r",
      " 88%|█████████████████████████████████████████████████████████████▊        | 1113/1261 [05:19<00:42,  3.50it/s]"
     ]
    },
    {
     "name": "stdout",
     "output_type": "stream",
     "text": [
      "(720, 1280, 3)\n",
      "left offset -1.50224333033 right offset 2.25840350407\n",
      "2139.59722355 m 1159.12957813 m\n"
     ]
    },
    {
     "name": "stderr",
     "output_type": "stream",
     "text": [
      "\r",
      " 88%|█████████████████████████████████████████████████████████████▊        | 1114/1261 [05:20<00:41,  3.53it/s]"
     ]
    },
    {
     "name": "stdout",
     "output_type": "stream",
     "text": [
      "(720, 1280, 3)\n",
      "left offset -1.51305515354 right offset 2.23945222823\n",
      "2276.60798762 m 1239.79079749 m\n"
     ]
    },
    {
     "name": "stderr",
     "output_type": "stream",
     "text": [
      "\r",
      " 88%|█████████████████████████████████████████████████████████████▉        | 1115/1261 [05:20<00:41,  3.55it/s]"
     ]
    },
    {
     "name": "stdout",
     "output_type": "stream",
     "text": [
      "(720, 1280, 3)\n",
      "left offset -1.49289269691 right offset 2.21804470292\n",
      "2002.77751346 m 1105.62617797 m\n"
     ]
    },
    {
     "name": "stderr",
     "output_type": "stream",
     "text": [
      "\r",
      " 89%|█████████████████████████████████████████████████████████████▉        | 1116/1261 [05:20<00:40,  3.57it/s]"
     ]
    },
    {
     "name": "stdout",
     "output_type": "stream",
     "text": [
      "(720, 1280, 3)\n",
      "left offset -1.43804026425 right offset 2.18824994275\n",
      "1106.66678355 m 1080.32505252 m\n"
     ]
    },
    {
     "name": "stderr",
     "output_type": "stream",
     "text": [
      "\r",
      " 89%|██████████████████████████████████████████████████████████████        | 1117/1261 [05:20<00:40,  3.56it/s]"
     ]
    },
    {
     "name": "stdout",
     "output_type": "stream",
     "text": [
      "(720, 1280, 3)\n",
      "left offset -1.43792086323 right offset 2.13712837614\n",
      "1052.51546744 m 1224.89891434 m\n"
     ]
    },
    {
     "name": "stderr",
     "output_type": "stream",
     "text": [
      "\r",
      " 89%|██████████████████████████████████████████████████████████████        | 1118/1261 [05:21<00:40,  3.56it/s]"
     ]
    },
    {
     "name": "stdout",
     "output_type": "stream",
     "text": [
      "(720, 1280, 3)\n",
      "left offset -1.51785147924 right offset 2.10723403678\n",
      "2118.23532918 m 1460.4152472 m\n"
     ]
    },
    {
     "name": "stderr",
     "output_type": "stream",
     "text": [
      "\r",
      " 89%|██████████████████████████████████████████████████████████████        | 1119/1261 [05:21<00:39,  3.59it/s]"
     ]
    },
    {
     "name": "stdout",
     "output_type": "stream",
     "text": [
      "(720, 1280, 3)\n",
      "left offset -1.44637075274 right offset 2.15375679676\n",
      "1115.23901649 m 1332.63670498 m\n"
     ]
    },
    {
     "name": "stderr",
     "output_type": "stream",
     "text": [
      "\r",
      " 89%|██████████████████████████████████████████████████████████████▏       | 1120/1261 [05:21<00:38,  3.62it/s]"
     ]
    },
    {
     "name": "stdout",
     "output_type": "stream",
     "text": [
      "(720, 1280, 3)\n",
      "left offset -1.44773381249 right offset 2.18635585173\n",
      "1086.51817406 m 1255.82432471 m\n"
     ]
    },
    {
     "name": "stderr",
     "output_type": "stream",
     "text": [
      "\r",
      " 89%|██████████████████████████████████████████████████████████████▏       | 1121/1261 [05:22<00:38,  3.60it/s]"
     ]
    },
    {
     "name": "stdout",
     "output_type": "stream",
     "text": [
      "(720, 1280, 3)\n",
      "left offset -1.47512792596 right offset 2.19216910051\n",
      "1231.4159414 m 1335.42542817 m\n"
     ]
    },
    {
     "name": "stderr",
     "output_type": "stream",
     "text": [
      "\r",
      " 89%|██████████████████████████████████████████████████████████████▎       | 1122/1261 [05:22<00:38,  3.61it/s]"
     ]
    },
    {
     "name": "stdout",
     "output_type": "stream",
     "text": [
      "(720, 1280, 3)\n",
      "left offset -1.46844519238 right offset 2.22073461135\n",
      "1160.35833308 m 1330.10230375 m\n"
     ]
    },
    {
     "name": "stderr",
     "output_type": "stream",
     "text": [
      "\r",
      " 89%|██████████████████████████████████████████████████████████████▎       | 1123/1261 [05:22<00:38,  3.62it/s]"
     ]
    },
    {
     "name": "stdout",
     "output_type": "stream",
     "text": [
      "(720, 1280, 3)\n",
      "left offset -1.48206369179 right offset 2.17387609927\n",
      "1225.14617409 m 1683.93631058 m\n"
     ]
    },
    {
     "name": "stderr",
     "output_type": "stream",
     "text": [
      "\r",
      " 89%|██████████████████████████████████████████████████████████████▍       | 1124/1261 [05:22<00:37,  3.64it/s]"
     ]
    },
    {
     "name": "stdout",
     "output_type": "stream",
     "text": [
      "(720, 1280, 3)\n",
      "left offset -1.48475251849 right offset 2.1898831549\n",
      "1276.05241444 m 1954.01331528 m\n"
     ]
    },
    {
     "name": "stderr",
     "output_type": "stream",
     "text": [
      "\r",
      " 89%|██████████████████████████████████████████████████████████████▍       | 1125/1261 [05:23<00:37,  3.60it/s]"
     ]
    },
    {
     "name": "stdout",
     "output_type": "stream",
     "text": [
      "(720, 1280, 3)\n",
      "left offset -1.48345023105 right offset 2.18751675112\n",
      "1066.25564684 m 2279.58641997 m\n"
     ]
    },
    {
     "name": "stderr",
     "output_type": "stream",
     "text": [
      "\r",
      " 89%|██████████████████████████████████████████████████████████████▌       | 1126/1261 [05:23<00:37,  3.57it/s]"
     ]
    },
    {
     "name": "stdout",
     "output_type": "stream",
     "text": [
      "(720, 1280, 3)\n",
      "left offset -1.51075568803 right offset 2.18045909035\n",
      "1372.4827707 m 2067.20133136 m\n"
     ]
    },
    {
     "name": "stderr",
     "output_type": "stream",
     "text": [
      "\r",
      " 89%|██████████████████████████████████████████████████████████████▌       | 1127/1261 [05:23<00:37,  3.59it/s]"
     ]
    },
    {
     "name": "stdout",
     "output_type": "stream",
     "text": [
      "(720, 1280, 3)\n",
      "left offset -1.49259852528 right offset 2.16114174528\n",
      "1089.32414023 m 2461.19650464 m\n"
     ]
    },
    {
     "name": "stderr",
     "output_type": "stream",
     "text": [
      "\r",
      " 89%|██████████████████████████████████████████████████████████████▌       | 1128/1261 [05:23<00:37,  3.58it/s]"
     ]
    },
    {
     "name": "stdout",
     "output_type": "stream",
     "text": [
      "(720, 1280, 3)\n",
      "left offset -1.4980302105 right offset 2.19552811685\n",
      "1041.5600943 m 1579.27387289 m\n"
     ]
    },
    {
     "name": "stderr",
     "output_type": "stream",
     "text": [
      "\r",
      " 90%|██████████████████████████████████████████████████████████████▋       | 1129/1261 [05:24<00:36,  3.59it/s]"
     ]
    },
    {
     "name": "stdout",
     "output_type": "stream",
     "text": [
      "(720, 1280, 3)\n",
      "left offset -1.51283876307 right offset 2.22935399082\n",
      "1175.42758072 m 1359.35805473 m\n"
     ]
    },
    {
     "name": "stderr",
     "output_type": "stream",
     "text": [
      "\r",
      " 90%|██████████████████████████████████████████████████████████████▋       | 1130/1261 [05:24<00:36,  3.58it/s]"
     ]
    },
    {
     "name": "stdout",
     "output_type": "stream",
     "text": [
      "(720, 1280, 3)\n",
      "left offset -1.52235936627 right offset 2.23538385553\n",
      "1135.80313704 m 1285.85559376 m\n"
     ]
    },
    {
     "name": "stderr",
     "output_type": "stream",
     "text": [
      "\r",
      " 90%|██████████████████████████████████████████████████████████████▊       | 1131/1261 [05:24<00:35,  3.63it/s]"
     ]
    },
    {
     "name": "stdout",
     "output_type": "stream",
     "text": [
      "(720, 1280, 3)\n",
      "left offset -1.52425798842 right offset 2.19895054816\n",
      "1101.62476991 m 1319.51771882 m\n"
     ]
    },
    {
     "name": "stderr",
     "output_type": "stream",
     "text": [
      "\r",
      " 90%|██████████████████████████████████████████████████████████████▊       | 1132/1261 [05:25<00:35,  3.61it/s]"
     ]
    },
    {
     "name": "stdout",
     "output_type": "stream",
     "text": [
      "(720, 1280, 3)\n",
      "left offset -1.54863399516 right offset 2.19904236676\n",
      "1406.78637477 m 1519.49304664 m\n"
     ]
    },
    {
     "name": "stderr",
     "output_type": "stream",
     "text": [
      "\r",
      " 90%|██████████████████████████████████████████████████████████████▉       | 1133/1261 [05:25<00:35,  3.60it/s]"
     ]
    },
    {
     "name": "stdout",
     "output_type": "stream",
     "text": [
      "(720, 1280, 3)\n",
      "left offset -1.55016769429 right offset 2.18316300872\n",
      "1280.8731503 m 1555.10952649 m\n"
     ]
    },
    {
     "name": "stderr",
     "output_type": "stream",
     "text": [
      "\r",
      " 90%|██████████████████████████████████████████████████████████████▉       | 1134/1261 [05:25<00:35,  3.61it/s]"
     ]
    },
    {
     "name": "stdout",
     "output_type": "stream",
     "text": [
      "(720, 1280, 3)\n",
      "left offset -1.56469002568 right offset 2.17681444823\n",
      "1354.07747919 m 1520.65104336 m\n"
     ]
    },
    {
     "name": "stderr",
     "output_type": "stream",
     "text": [
      "\r",
      " 90%|███████████████████████████████████████████████████████████████       | 1135/1261 [05:25<00:34,  3.63it/s]"
     ]
    },
    {
     "name": "stdout",
     "output_type": "stream",
     "text": [
      "(720, 1280, 3)\n",
      "left offset -1.5620151777 right offset 2.19263581478\n",
      "1267.54357071 m 1433.75661171 m\n"
     ]
    },
    {
     "name": "stderr",
     "output_type": "stream",
     "text": [
      "\r",
      " 90%|███████████████████████████████████████████████████████████████       | 1136/1261 [05:26<00:34,  3.65it/s]"
     ]
    },
    {
     "name": "stdout",
     "output_type": "stream",
     "text": [
      "(720, 1280, 3)\n",
      "left offset -1.59309227047 right offset 2.20750419455\n",
      "3272.54072828 m 1183.4663916 m\n"
     ]
    },
    {
     "name": "stderr",
     "output_type": "stream",
     "text": [
      "\r",
      " 90%|███████████████████████████████████████████████████████████████       | 1137/1261 [05:26<00:34,  3.62it/s]"
     ]
    },
    {
     "name": "stdout",
     "output_type": "stream",
     "text": [
      "(720, 1280, 3)\n",
      "left offset -1.55149049831 right offset 2.19997001958\n",
      "1450.9610886 m 1244.59685875 m\n"
     ]
    },
    {
     "name": "stderr",
     "output_type": "stream",
     "text": [
      "\r",
      " 90%|███████████████████████████████████████████████████████████████▏      | 1138/1261 [05:26<00:33,  3.65it/s]"
     ]
    },
    {
     "name": "stdout",
     "output_type": "stream",
     "text": [
      "(720, 1280, 3)\n",
      "left offset -1.55484389372 right offset 2.21906628086\n",
      "1365.7454251 m 1183.32477316 m\n"
     ]
    },
    {
     "name": "stderr",
     "output_type": "stream",
     "text": [
      "\r",
      " 90%|███████████████████████████████████████████████████████████████▏      | 1139/1261 [05:27<00:33,  3.60it/s]"
     ]
    },
    {
     "name": "stdout",
     "output_type": "stream",
     "text": [
      "(720, 1280, 3)\n",
      "left offset -1.55716858699 right offset 2.24504526191\n",
      "1685.90376044 m 1075.31275997 m\n"
     ]
    },
    {
     "name": "stderr",
     "output_type": "stream",
     "text": [
      "\r",
      " 90%|███████████████████████████████████████████████████████████████▎      | 1140/1261 [05:27<00:33,  3.61it/s]"
     ]
    },
    {
     "name": "stdout",
     "output_type": "stream",
     "text": [
      "(720, 1280, 3)\n",
      "left offset -1.54954416866 right offset 2.23778728403\n",
      "1347.54890412 m 1207.86901749 m\n"
     ]
    },
    {
     "name": "stderr",
     "output_type": "stream",
     "text": [
      "\r",
      " 90%|███████████████████████████████████████████████████████████████▎      | 1141/1261 [05:27<00:32,  3.64it/s]"
     ]
    },
    {
     "name": "stdout",
     "output_type": "stream",
     "text": [
      "(720, 1280, 3)\n",
      "left offset -1.54330100246 right offset 2.21576778233\n",
      "1289.00876357 m 1241.56597479 m\n"
     ]
    },
    {
     "name": "stderr",
     "output_type": "stream",
     "text": [
      "\r",
      " 91%|███████████████████████████████████████████████████████████████▍      | 1142/1261 [05:27<00:32,  3.66it/s]"
     ]
    },
    {
     "name": "stdout",
     "output_type": "stream",
     "text": [
      "(720, 1280, 3)\n",
      "left offset -1.58632678404 right offset 2.21028724641\n",
      "2361.27757219 m 1227.74948024 m\n"
     ]
    },
    {
     "name": "stderr",
     "output_type": "stream",
     "text": [
      "\r",
      " 91%|███████████████████████████████████████████████████████████████▍      | 1143/1261 [05:28<00:32,  3.67it/s]"
     ]
    },
    {
     "name": "stdout",
     "output_type": "stream",
     "text": [
      "(720, 1280, 3)\n",
      "left offset -1.56126052634 right offset 2.21835606049\n",
      "2196.65175603 m 1157.13337758 m\n"
     ]
    },
    {
     "name": "stderr",
     "output_type": "stream",
     "text": [
      "\r",
      " 91%|███████████████████████████████████████████████████████████████▌      | 1144/1261 [05:28<00:32,  3.62it/s]"
     ]
    },
    {
     "name": "stdout",
     "output_type": "stream",
     "text": [
      "(720, 1280, 3)\n",
      "left offset -1.66917708582 right offset 2.20796653656\n",
      "2406.91937162 m 1117.63347182 m\n"
     ]
    },
    {
     "name": "stderr",
     "output_type": "stream",
     "text": [
      "\r",
      " 91%|███████████████████████████████████████████████████████████████▌      | 1145/1261 [05:28<00:32,  3.58it/s]"
     ]
    },
    {
     "name": "stdout",
     "output_type": "stream",
     "text": [
      "(720, 1280, 3)\n",
      "left offset -1.50910425449 right offset 2.21066158099\n",
      "1115.82635762 m 1205.48048665 m\n"
     ]
    },
    {
     "name": "stderr",
     "output_type": "stream",
     "text": [
      "\r",
      " 91%|███████████████████████████████████████████████████████████████▌      | 1146/1261 [05:28<00:32,  3.58it/s]"
     ]
    },
    {
     "name": "stdout",
     "output_type": "stream",
     "text": [
      "(720, 1280, 3)\n",
      "left offset -1.63247290971 right offset 2.20716603834\n",
      "6568.49813347 m 1129.17098194 m\n"
     ]
    },
    {
     "name": "stderr",
     "output_type": "stream",
     "text": [
      "\r",
      " 91%|███████████████████████████████████████████████████████████████▋      | 1147/1261 [05:29<00:31,  3.59it/s]"
     ]
    },
    {
     "name": "stdout",
     "output_type": "stream",
     "text": [
      "(720, 1280, 3)\n",
      "left offset -1.50249145017 right offset 2.19536691814\n",
      "1038.13619149 m 1116.8368812 m\n"
     ]
    },
    {
     "name": "stderr",
     "output_type": "stream",
     "text": [
      "\r",
      " 91%|███████████████████████████████████████████████████████████████▋      | 1148/1261 [05:29<00:31,  3.62it/s]"
     ]
    },
    {
     "name": "stdout",
     "output_type": "stream",
     "text": [
      "(720, 1280, 3)\n",
      "left offset -1.50787378889 right offset 2.2164663628\n",
      "1043.89317706 m 1172.53036111 m\n"
     ]
    },
    {
     "name": "stderr",
     "output_type": "stream",
     "text": [
      "\r",
      " 91%|███████████████████████████████████████████████████████████████▊      | 1149/1261 [05:29<00:30,  3.63it/s]"
     ]
    },
    {
     "name": "stdout",
     "output_type": "stream",
     "text": [
      "(720, 1280, 3)\n",
      "left offset -1.63470693643 right offset 2.21206849105\n",
      "3545.39829787 m 1107.59436201 m\n"
     ]
    },
    {
     "name": "stderr",
     "output_type": "stream",
     "text": [
      "\r",
      " 91%|███████████████████████████████████████████████████████████████▊      | 1150/1261 [05:30<00:30,  3.63it/s]"
     ]
    },
    {
     "name": "stdout",
     "output_type": "stream",
     "text": [
      "(720, 1280, 3)\n",
      "left offset -1.72801963056 right offset 2.21938923009\n",
      "864.588768233 m 1070.9959823 m\n"
     ]
    },
    {
     "name": "stderr",
     "output_type": "stream",
     "text": [
      "\r",
      " 91%|███████████████████████████████████████████████████████████████▉      | 1151/1261 [05:30<00:30,  3.65it/s]"
     ]
    },
    {
     "name": "stdout",
     "output_type": "stream",
     "text": [
      "(720, 1280, 3)\n",
      "left offset -1.6270430064 right offset 2.18289202796\n",
      "6637.08923784 m 1127.92594065 m\n"
     ]
    },
    {
     "name": "stderr",
     "output_type": "stream",
     "text": [
      "\r",
      " 91%|███████████████████████████████████████████████████████████████▉      | 1152/1261 [05:30<00:29,  3.69it/s]"
     ]
    },
    {
     "name": "stdout",
     "output_type": "stream",
     "text": [
      "(720, 1280, 3)\n",
      "left offset -1.4974026797 right offset 2.19691553063\n",
      "961.552389583 m 1058.76454076 m\n"
     ]
    },
    {
     "name": "stderr",
     "output_type": "stream",
     "text": [
      "\r",
      " 91%|████████████████████████████████████████████████████████████████      | 1153/1261 [05:30<00:29,  3.67it/s]"
     ]
    },
    {
     "name": "stdout",
     "output_type": "stream",
     "text": [
      "(720, 1280, 3)\n",
      "left offset -1.54438361027 right offset 2.21668721042\n",
      "1581.37082401 m 1101.04909402 m\n"
     ]
    },
    {
     "name": "stderr",
     "output_type": "stream",
     "text": [
      "\r",
      " 92%|████████████████████████████████████████████████████████████████      | 1154/1261 [05:31<00:29,  3.66it/s]"
     ]
    },
    {
     "name": "stdout",
     "output_type": "stream",
     "text": [
      "(720, 1280, 3)\n",
      "left offset -1.54787080409 right offset 2.20321831873\n",
      "1270.94741061 m 1090.84999185 m\n"
     ]
    },
    {
     "name": "stderr",
     "output_type": "stream",
     "text": [
      "\r",
      " 92%|████████████████████████████████████████████████████████████████      | 1155/1261 [05:31<00:28,  3.69it/s]"
     ]
    },
    {
     "name": "stdout",
     "output_type": "stream",
     "text": [
      "(720, 1280, 3)\n",
      "left offset -1.53493772615 right offset 2.17415014763\n",
      "1191.85416926 m 1257.91537272 m\n"
     ]
    },
    {
     "name": "stderr",
     "output_type": "stream",
     "text": [
      "\r",
      " 92%|████████████████████████████████████████████████████████████████▏     | 1156/1261 [05:31<00:28,  3.69it/s]"
     ]
    },
    {
     "name": "stdout",
     "output_type": "stream",
     "text": [
      "(720, 1280, 3)\n",
      "left offset -1.51073122232 right offset 2.19771951359\n",
      "855.088172587 m 1277.78865125 m\n"
     ]
    },
    {
     "name": "stderr",
     "output_type": "stream",
     "text": [
      "\r",
      " 92%|████████████████████████████████████████████████████████████████▏     | 1157/1261 [05:31<00:28,  3.70it/s]"
     ]
    },
    {
     "name": "stdout",
     "output_type": "stream",
     "text": [
      "(720, 1280, 3)\n",
      "left offset -1.53104107547 right offset 2.18250445274\n",
      "801.435489214 m 1307.95015472 m\n"
     ]
    },
    {
     "name": "stderr",
     "output_type": "stream",
     "text": [
      "\r",
      " 92%|████████████████████████████████████████████████████████████████▎     | 1158/1261 [05:32<00:27,  3.70it/s]"
     ]
    },
    {
     "name": "stdout",
     "output_type": "stream",
     "text": [
      "(720, 1280, 3)\n",
      "left offset -1.53318901245 right offset 2.18629694678\n",
      "808.227907376 m 1290.07842462 m\n"
     ]
    },
    {
     "name": "stderr",
     "output_type": "stream",
     "text": [
      "\r",
      " 92%|████████████████████████████████████████████████████████████████▎     | 1159/1261 [05:32<00:27,  3.74it/s]"
     ]
    },
    {
     "name": "stdout",
     "output_type": "stream",
     "text": [
      "(720, 1280, 3)\n",
      "left offset -1.53062530443 right offset 2.18283736122\n",
      "789.207976843 m 1317.81175718 m\n"
     ]
    },
    {
     "name": "stderr",
     "output_type": "stream",
     "text": [
      "\r",
      " 92%|████████████████████████████████████████████████████████████████▍     | 1160/1261 [05:32<00:28,  3.55it/s]"
     ]
    },
    {
     "name": "stdout",
     "output_type": "stream",
     "text": [
      "(720, 1280, 3)\n",
      "left offset -1.60706769334 right offset 2.16227759629\n",
      "1287.53052972 m 1155.33815555 m\n"
     ]
    },
    {
     "name": "stderr",
     "output_type": "stream",
     "text": [
      "\r",
      " 92%|████████████████████████████████████████████████████████████████▍     | 1161/1261 [05:33<00:29,  3.43it/s]"
     ]
    },
    {
     "name": "stdout",
     "output_type": "stream",
     "text": [
      "(720, 1280, 3)\n",
      "left offset -1.61079620286 right offset 2.14073417056\n",
      "1250.19523857 m 1350.21842061 m\n"
     ]
    },
    {
     "name": "stderr",
     "output_type": "stream",
     "text": [
      "\r",
      " 92%|████████████████████████████████████████████████████████████████▌     | 1162/1261 [05:33<00:28,  3.49it/s]"
     ]
    },
    {
     "name": "stdout",
     "output_type": "stream",
     "text": [
      "(720, 1280, 3)\n",
      "left offset -1.57302523173 right offset 2.14031027312\n",
      "943.170952004 m 1191.34689362 m\n"
     ]
    },
    {
     "name": "stderr",
     "output_type": "stream",
     "text": [
      "\r",
      " 92%|████████████████████████████████████████████████████████████████▌     | 1163/1261 [05:33<00:27,  3.53it/s]"
     ]
    },
    {
     "name": "stdout",
     "output_type": "stream",
     "text": [
      "(720, 1280, 3)\n",
      "left offset -1.59190031234 right offset 2.11022988463\n",
      "1021.02950805 m 1244.18036942 m\n"
     ]
    },
    {
     "name": "stderr",
     "output_type": "stream",
     "text": [
      "\r",
      " 92%|████████████████████████████████████████████████████████████████▌     | 1164/1261 [05:33<00:27,  3.59it/s]"
     ]
    },
    {
     "name": "stdout",
     "output_type": "stream",
     "text": [
      "(720, 1280, 3)\n",
      "left offset -1.62451510451 right offset 2.1426510783\n",
      "1240.56596185 m 1274.89713022 m\n"
     ]
    },
    {
     "name": "stderr",
     "output_type": "stream",
     "text": [
      "\r",
      " 92%|████████████████████████████████████████████████████████████████▋     | 1165/1261 [05:34<00:26,  3.63it/s]"
     ]
    },
    {
     "name": "stdout",
     "output_type": "stream",
     "text": [
      "(720, 1280, 3)\n",
      "left offset -1.61876410109 right offset 2.12001158674\n",
      "1162.16199572 m 1422.74060288 m\n"
     ]
    },
    {
     "name": "stderr",
     "output_type": "stream",
     "text": [
      "\r",
      " 92%|████████████████████████████████████████████████████████████████▋     | 1166/1261 [05:34<00:26,  3.59it/s]"
     ]
    },
    {
     "name": "stdout",
     "output_type": "stream",
     "text": [
      "(720, 1280, 3)\n",
      "left offset -1.64024316328 right offset 2.11284474052\n",
      "1406.04820458 m 1558.27063917 m\n"
     ]
    },
    {
     "name": "stderr",
     "output_type": "stream",
     "text": [
      "\r",
      " 93%|████████████████████████████████████████████████████████████████▊     | 1167/1261 [05:34<00:26,  3.53it/s]"
     ]
    },
    {
     "name": "stdout",
     "output_type": "stream",
     "text": [
      "(720, 1280, 3)\n",
      "left offset -1.63808254988 right offset 2.10081240582\n",
      "1340.27832947 m 1730.87918362 m\n"
     ]
    },
    {
     "name": "stderr",
     "output_type": "stream",
     "text": [
      "\r",
      " 93%|████████████████████████████████████████████████████████████████▊     | 1168/1261 [05:35<00:27,  3.41it/s]"
     ]
    },
    {
     "name": "stdout",
     "output_type": "stream",
     "text": [
      "(720, 1280, 3)\n",
      "left offset -1.62572865663 right offset 2.11709152328\n",
      "1186.29614553 m 1440.0856461 m\n"
     ]
    },
    {
     "name": "stderr",
     "output_type": "stream",
     "text": [
      "\r",
      " 93%|████████████████████████████████████████████████████████████████▉     | 1169/1261 [05:35<00:27,  3.37it/s]"
     ]
    },
    {
     "name": "stdout",
     "output_type": "stream",
     "text": [
      "(720, 1280, 3)\n",
      "left offset -1.62915244993 right offset 2.12845085993\n",
      "1297.43790733 m 1524.67805888 m\n"
     ]
    },
    {
     "name": "stderr",
     "output_type": "stream",
     "text": [
      "\r",
      " 93%|████████████████████████████████████████████████████████████████▉     | 1170/1261 [05:35<00:26,  3.42it/s]"
     ]
    },
    {
     "name": "stdout",
     "output_type": "stream",
     "text": [
      "(720, 1280, 3)\n",
      "left offset -1.64795229097 right offset 2.13710414616\n",
      "1686.96818485 m 1321.63139561 m\n"
     ]
    },
    {
     "name": "stderr",
     "output_type": "stream",
     "text": [
      "\r",
      " 93%|█████████████████████████████████████████████████████████████████     | 1171/1261 [05:35<00:26,  3.43it/s]"
     ]
    },
    {
     "name": "stdout",
     "output_type": "stream",
     "text": [
      "(720, 1280, 3)\n",
      "left offset -1.64485926941 right offset 2.14305437332\n",
      "1919.92981674 m 1305.8786229 m\n"
     ]
    },
    {
     "name": "stderr",
     "output_type": "stream",
     "text": [
      "\r",
      " 93%|█████████████████████████████████████████████████████████████████     | 1172/1261 [05:36<00:25,  3.43it/s]"
     ]
    },
    {
     "name": "stdout",
     "output_type": "stream",
     "text": [
      "(720, 1280, 3)\n",
      "left offset -1.63532335421 right offset 2.12986007987\n",
      "1721.89328714 m 1469.90920294 m\n"
     ]
    },
    {
     "name": "stderr",
     "output_type": "stream",
     "text": [
      "\r",
      " 93%|█████████████████████████████████████████████████████████████████     | 1173/1261 [05:36<00:25,  3.44it/s]"
     ]
    },
    {
     "name": "stdout",
     "output_type": "stream",
     "text": [
      "(720, 1280, 3)\n",
      "left offset -1.61137920184 right offset 2.09790263183\n",
      "1533.83924825 m 1441.05924889 m\n"
     ]
    },
    {
     "name": "stderr",
     "output_type": "stream",
     "text": [
      "\r",
      " 93%|█████████████████████████████████████████████████████████████████▏    | 1174/1261 [05:36<00:24,  3.49it/s]"
     ]
    },
    {
     "name": "stdout",
     "output_type": "stream",
     "text": [
      "(720, 1280, 3)\n",
      "left offset -1.60610878223 right offset 2.11829916911\n",
      "1547.68420719 m 1381.16146042 m\n"
     ]
    },
    {
     "name": "stderr",
     "output_type": "stream",
     "text": [
      "\r",
      " 93%|█████████████████████████████████████████████████████████████████▏    | 1175/1261 [05:37<00:24,  3.53it/s]"
     ]
    },
    {
     "name": "stdout",
     "output_type": "stream",
     "text": [
      "(720, 1280, 3)\n",
      "left offset -1.6148293379 right offset 2.11141929526\n",
      "2081.67876197 m 1604.3890185 m\n"
     ]
    },
    {
     "name": "stderr",
     "output_type": "stream",
     "text": [
      "\r",
      " 93%|█████████████████████████████████████████████████████████████████▎    | 1176/1261 [05:37<00:23,  3.57it/s]"
     ]
    },
    {
     "name": "stdout",
     "output_type": "stream",
     "text": [
      "(720, 1280, 3)\n",
      "left offset -1.55585933549 right offset 2.10442374092\n",
      "1291.71672585 m 1608.32872679 m\n"
     ]
    },
    {
     "name": "stderr",
     "output_type": "stream",
     "text": [
      "\r",
      " 93%|█████████████████████████████████████████████████████████████████▎    | 1177/1261 [05:37<00:23,  3.62it/s]"
     ]
    },
    {
     "name": "stdout",
     "output_type": "stream",
     "text": [
      "(720, 1280, 3)\n",
      "left offset -1.5768210917 right offset 2.15166813004\n",
      "1928.14604709 m 1451.33453975 m\n"
     ]
    },
    {
     "name": "stderr",
     "output_type": "stream",
     "text": [
      "\r",
      " 93%|█████████████████████████████████████████████████████████████████▍    | 1178/1261 [05:37<00:23,  3.59it/s]"
     ]
    },
    {
     "name": "stdout",
     "output_type": "stream",
     "text": [
      "(720, 1280, 3)\n",
      "left offset -1.59760017768 right offset 2.12859089992\n",
      "2893.10559615 m 1732.49799814 m\n"
     ]
    },
    {
     "name": "stderr",
     "output_type": "stream",
     "text": [
      "\r",
      " 93%|█████████████████████████████████████████████████████████████████▍    | 1179/1261 [05:38<00:22,  3.58it/s]"
     ]
    },
    {
     "name": "stdout",
     "output_type": "stream",
     "text": [
      "(720, 1280, 3)\n",
      "left offset -1.52017825742 right offset 2.15297303932\n",
      "1225.75129877 m 1622.52081819 m\n"
     ]
    },
    {
     "name": "stderr",
     "output_type": "stream",
     "text": [
      "\r",
      " 94%|█████████████████████████████████████████████████████████████████▌    | 1180/1261 [05:38<00:22,  3.61it/s]"
     ]
    },
    {
     "name": "stdout",
     "output_type": "stream",
     "text": [
      "(720, 1280, 3)\n",
      "left offset -1.53920105711 right offset 2.16267938415\n",
      "1699.07015354 m 1910.04667526 m\n"
     ]
    },
    {
     "name": "stderr",
     "output_type": "stream",
     "text": [
      "\r",
      " 94%|█████████████████████████████████████████████████████████████████▌    | 1181/1261 [05:38<00:21,  3.65it/s]"
     ]
    },
    {
     "name": "stdout",
     "output_type": "stream",
     "text": [
      "(720, 1280, 3)\n",
      "left offset -1.50469993058 right offset 2.19100571139\n",
      "1252.68161485 m 1546.2812841 m\n"
     ]
    },
    {
     "name": "stderr",
     "output_type": "stream",
     "text": [
      "\r",
      " 94%|█████████████████████████████████████████████████████████████████▌    | 1182/1261 [05:39<00:22,  3.59it/s]"
     ]
    },
    {
     "name": "stdout",
     "output_type": "stream",
     "text": [
      "(720, 1280, 3)\n",
      "left offset -1.5245098998 right offset 2.19540979688\n",
      "1864.98929724 m 1639.17888881 m\n"
     ]
    },
    {
     "name": "stderr",
     "output_type": "stream",
     "text": [
      "\r",
      " 94%|█████████████████████████████████████████████████████████████████▋    | 1183/1261 [05:39<00:22,  3.43it/s]"
     ]
    },
    {
     "name": "stdout",
     "output_type": "stream",
     "text": [
      "(720, 1280, 3)\n",
      "left offset -1.47136616828 right offset 2.2022873265\n",
      "1158.75667713 m 1637.46481358 m\n"
     ]
    },
    {
     "name": "stderr",
     "output_type": "stream",
     "text": [
      "\r",
      " 94%|█████████████████████████████████████████████████████████████████▋    | 1184/1261 [05:39<00:22,  3.38it/s]"
     ]
    },
    {
     "name": "stdout",
     "output_type": "stream",
     "text": [
      "(720, 1280, 3)\n",
      "left offset -1.46530098727 right offset 2.20004719142\n",
      "1104.13714461 m 1397.10323323 m\n"
     ]
    },
    {
     "name": "stderr",
     "output_type": "stream",
     "text": [
      "\r",
      " 94%|█████████████████████████████████████████████████████████████████▊    | 1185/1261 [05:39<00:22,  3.36it/s]"
     ]
    },
    {
     "name": "stdout",
     "output_type": "stream",
     "text": [
      "(720, 1280, 3)\n",
      "left offset -1.4643873918 right offset 2.19160248312\n",
      "1270.96123349 m 1624.28829627 m\n"
     ]
    },
    {
     "name": "stderr",
     "output_type": "stream",
     "text": [
      "\r",
      " 94%|█████████████████████████████████████████████████████████████████▊    | 1186/1261 [05:40<00:22,  3.35it/s]"
     ]
    },
    {
     "name": "stdout",
     "output_type": "stream",
     "text": [
      "(720, 1280, 3)\n",
      "left offset -1.43956400716 right offset 2.25149695878\n",
      "995.977921101 m 1299.39130699 m\n"
     ]
    },
    {
     "name": "stderr",
     "output_type": "stream",
     "text": [
      "\r",
      " 94%|█████████████████████████████████████████████████████████████████▉    | 1187/1261 [05:40<00:22,  3.36it/s]"
     ]
    },
    {
     "name": "stdout",
     "output_type": "stream",
     "text": [
      "(720, 1280, 3)\n",
      "left offset -1.47639067661 right offset 2.25056893849\n",
      "1577.957869 m 1242.86577903 m\n"
     ]
    },
    {
     "name": "stderr",
     "output_type": "stream",
     "text": [
      "\r",
      " 94%|█████████████████████████████████████████████████████████████████▉    | 1188/1261 [05:40<00:21,  3.34it/s]"
     ]
    },
    {
     "name": "stdout",
     "output_type": "stream",
     "text": [
      "(720, 1280, 3)\n",
      "left offset -1.48900813702 right offset 2.25496006834\n",
      "1709.02315826 m 1396.32221477 m\n"
     ]
    },
    {
     "name": "stderr",
     "output_type": "stream",
     "text": [
      "\r",
      " 94%|██████████████████████████████████████████████████████████████████    | 1189/1261 [05:41<00:21,  3.37it/s]"
     ]
    },
    {
     "name": "stdout",
     "output_type": "stream",
     "text": [
      "(720, 1280, 3)\n",
      "left offset -1.46339842041 right offset 2.25135180878\n",
      "1293.34606393 m 1312.59510551 m\n"
     ]
    },
    {
     "name": "stderr",
     "output_type": "stream",
     "text": [
      "\r",
      " 94%|██████████████████████████████████████████████████████████████████    | 1190/1261 [05:41<00:20,  3.42it/s]"
     ]
    },
    {
     "name": "stdout",
     "output_type": "stream",
     "text": [
      "(720, 1280, 3)\n",
      "left offset -1.43586658716 right offset 2.2540204802\n",
      "953.049499203 m 1258.23144177 m\n"
     ]
    },
    {
     "name": "stderr",
     "output_type": "stream",
     "text": [
      "\r",
      " 94%|██████████████████████████████████████████████████████████████████    | 1191/1261 [05:41<00:20,  3.48it/s]"
     ]
    },
    {
     "name": "stdout",
     "output_type": "stream",
     "text": [
      "(720, 1280, 3)\n",
      "left offset -1.467640772 right offset 2.25050124486\n",
      "1296.65226044 m 1168.80840891 m\n"
     ]
    },
    {
     "name": "stderr",
     "output_type": "stream",
     "text": [
      "\r",
      " 95%|██████████████████████████████████████████████████████████████████▏   | 1192/1261 [05:41<00:19,  3.55it/s]"
     ]
    },
    {
     "name": "stdout",
     "output_type": "stream",
     "text": [
      "(720, 1280, 3)\n",
      "left offset -1.42802073191 right offset 2.26327159772\n",
      "885.961074012 m 1045.90495984 m\n"
     ]
    },
    {
     "name": "stderr",
     "output_type": "stream",
     "text": [
      "\r",
      " 95%|██████████████████████████████████████████████████████████████████▏   | 1193/1261 [05:42<00:19,  3.48it/s]"
     ]
    },
    {
     "name": "stdout",
     "output_type": "stream",
     "text": [
      "(720, 1280, 3)\n",
      "left offset -1.47323712819 right offset 2.25898744015\n",
      "1579.2547504 m 1144.093291 m\n"
     ]
    },
    {
     "name": "stderr",
     "output_type": "stream",
     "text": [
      "\r",
      " 95%|██████████████████████████████████████████████████████████████████▎   | 1194/1261 [05:42<00:19,  3.40it/s]"
     ]
    },
    {
     "name": "stdout",
     "output_type": "stream",
     "text": [
      "(720, 1280, 3)\n",
      "left offset -1.48649277704 right offset 2.2676585067\n",
      "2031.51369973 m 1002.6408687 m\n"
     ]
    },
    {
     "name": "stderr",
     "output_type": "stream",
     "text": [
      "\r",
      " 95%|██████████████████████████████████████████████████████████████████▎   | 1195/1261 [05:42<00:19,  3.45it/s]"
     ]
    },
    {
     "name": "stdout",
     "output_type": "stream",
     "text": [
      "(720, 1280, 3)\n",
      "left offset -1.41060568133 right offset 2.24544880823\n",
      "818.547763046 m 983.844751016 m\n"
     ]
    },
    {
     "name": "stderr",
     "output_type": "stream",
     "text": [
      "\r",
      " 95%|██████████████████████████████████████████████████████████████████▍   | 1196/1261 [05:43<00:18,  3.45it/s]"
     ]
    },
    {
     "name": "stdout",
     "output_type": "stream",
     "text": [
      "(720, 1280, 3)\n",
      "left offset -1.42495193415 right offset 2.25375622492\n",
      "833.062787238 m 1025.35541581 m\n"
     ]
    },
    {
     "name": "stderr",
     "output_type": "stream",
     "text": [
      "\r",
      " 95%|██████████████████████████████████████████████████████████████████▍   | 1197/1261 [05:43<00:18,  3.38it/s]"
     ]
    },
    {
     "name": "stdout",
     "output_type": "stream",
     "text": [
      "(720, 1280, 3)\n",
      "left offset -1.41183079869 right offset 2.27736902785\n",
      "845.524451689 m 1029.12349824 m\n"
     ]
    },
    {
     "name": "stderr",
     "output_type": "stream",
     "text": [
      "\r",
      " 95%|██████████████████████████████████████████████████████████████████▌   | 1198/1261 [05:43<00:18,  3.46it/s]"
     ]
    },
    {
     "name": "stdout",
     "output_type": "stream",
     "text": [
      "(720, 1280, 3)\n",
      "left offset -1.45693686935 right offset 2.27343040661\n",
      "1194.79983868 m 1321.09442251 m\n"
     ]
    },
    {
     "name": "stderr",
     "output_type": "stream",
     "text": [
      "\r",
      " 95%|██████████████████████████████████████████████████████████████████▌   | 1199/1261 [05:43<00:17,  3.54it/s]"
     ]
    },
    {
     "name": "stdout",
     "output_type": "stream",
     "text": [
      "(720, 1280, 3)\n",
      "left offset -1.45301620554 right offset 2.29234987471\n",
      "1165.74404512 m 1477.29850619 m\n"
     ]
    },
    {
     "name": "stderr",
     "output_type": "stream",
     "text": [
      "\r",
      " 95%|██████████████████████████████████████████████████████████████████▌   | 1200/1261 [05:44<00:17,  3.58it/s]"
     ]
    },
    {
     "name": "stdout",
     "output_type": "stream",
     "text": [
      "(720, 1280, 3)\n",
      "left offset -1.45268802068 right offset 2.34562864202\n",
      "1057.41441544 m 1054.27806286 m\n"
     ]
    },
    {
     "name": "stderr",
     "output_type": "stream",
     "text": [
      "\r",
      " 95%|██████████████████████████████████████████████████████████████████▋   | 1201/1261 [05:44<00:16,  3.59it/s]"
     ]
    },
    {
     "name": "stdout",
     "output_type": "stream",
     "text": [
      "(720, 1280, 3)\n",
      "left offset -1.45211098534 right offset 2.36076258302\n",
      "1046.26981937 m 1062.45612633 m\n"
     ]
    },
    {
     "name": "stderr",
     "output_type": "stream",
     "text": [
      "\r",
      " 95%|██████████████████████████████████████████████████████████████████▋   | 1202/1261 [05:44<00:16,  3.60it/s]"
     ]
    },
    {
     "name": "stdout",
     "output_type": "stream",
     "text": [
      "(720, 1280, 3)\n",
      "left offset -1.44765628178 right offset 2.36850116578\n",
      "1040.46862785 m 959.512435267 m\n"
     ]
    },
    {
     "name": "stderr",
     "output_type": "stream",
     "text": [
      "\r",
      " 95%|██████████████████████████████████████████████████████████████████▊   | 1203/1261 [05:45<00:16,  3.56it/s]"
     ]
    },
    {
     "name": "stdout",
     "output_type": "stream",
     "text": [
      "(720, 1280, 3)\n",
      "left offset -1.42989563176 right offset 2.32622904499\n",
      "895.895314881 m 1137.9452766 m\n"
     ]
    },
    {
     "name": "stderr",
     "output_type": "stream",
     "text": [
      "\r",
      " 95%|██████████████████████████████████████████████████████████████████▊   | 1204/1261 [05:45<00:16,  3.50it/s]"
     ]
    },
    {
     "name": "stdout",
     "output_type": "stream",
     "text": [
      "(720, 1280, 3)\n",
      "left offset -1.42579465993 right offset 2.30714477435\n",
      "941.578354827 m 1298.773334 m\n"
     ]
    },
    {
     "name": "stderr",
     "output_type": "stream",
     "text": [
      "\r",
      " 96%|██████████████████████████████████████████████████████████████████▉   | 1205/1261 [05:45<00:16,  3.45it/s]"
     ]
    },
    {
     "name": "stdout",
     "output_type": "stream",
     "text": [
      "(720, 1280, 3)\n",
      "left offset -1.40910156545 right offset 2.29690866306\n",
      "855.704640536 m 1157.28662384 m\n"
     ]
    },
    {
     "name": "stderr",
     "output_type": "stream",
     "text": [
      "\r",
      " 96%|██████████████████████████████████████████████████████████████████▉   | 1206/1261 [05:45<00:15,  3.46it/s]"
     ]
    },
    {
     "name": "stdout",
     "output_type": "stream",
     "text": [
      "(720, 1280, 3)\n",
      "left offset -1.42359889654 right offset 2.26832941126\n",
      "1037.33642666 m 1089.10791271 m\n"
     ]
    },
    {
     "name": "stderr",
     "output_type": "stream",
     "text": [
      "\r",
      " 96%|███████████████████████████████████████████████████████████████████   | 1207/1261 [05:46<00:15,  3.52it/s]"
     ]
    },
    {
     "name": "stdout",
     "output_type": "stream",
     "text": [
      "(720, 1280, 3)\n",
      "left offset -1.40567004335 right offset 2.2645621366\n",
      "953.678902616 m 1107.93848037 m\n"
     ]
    },
    {
     "name": "stderr",
     "output_type": "stream",
     "text": [
      "\r",
      " 96%|███████████████████████████████████████████████████████████████████   | 1208/1261 [05:46<00:14,  3.57it/s]"
     ]
    },
    {
     "name": "stdout",
     "output_type": "stream",
     "text": [
      "(720, 1280, 3)\n",
      "left offset -1.41481692095 right offset 2.21777895372\n",
      "1092.0563773 m 1120.92793251 m\n"
     ]
    },
    {
     "name": "stderr",
     "output_type": "stream",
     "text": [
      "\r",
      " 96%|███████████████████████████████████████████████████████████████████   | 1209/1261 [05:46<00:14,  3.58it/s]"
     ]
    },
    {
     "name": "stdout",
     "output_type": "stream",
     "text": [
      "(720, 1280, 3)\n",
      "left offset -1.39192145432 right offset 2.22948832561\n",
      "942.788424426 m 1123.31356729 m\n"
     ]
    },
    {
     "name": "stderr",
     "output_type": "stream",
     "text": [
      "\r",
      " 96%|███████████████████████████████████████████████████████████████████▏  | 1210/1261 [05:47<00:13,  3.65it/s]"
     ]
    },
    {
     "name": "stdout",
     "output_type": "stream",
     "text": [
      "(720, 1280, 3)\n",
      "left offset -1.39079802404 right offset 2.22813787755\n",
      "904.829832584 m 1216.0042031 m\n"
     ]
    },
    {
     "name": "stderr",
     "output_type": "stream",
     "text": [
      "\r",
      " 96%|███████████████████████████████████████████████████████████████████▏  | 1211/1261 [05:47<00:13,  3.62it/s]"
     ]
    },
    {
     "name": "stdout",
     "output_type": "stream",
     "text": [
      "(720, 1280, 3)\n",
      "left offset -1.43407932292 right offset 2.23577331263\n",
      "1399.70139078 m 1211.55987565 m\n"
     ]
    },
    {
     "name": "stderr",
     "output_type": "stream",
     "text": [
      "\r",
      " 96%|███████████████████████████████████████████████████████████████████▎  | 1212/1261 [05:47<00:13,  3.53it/s]"
     ]
    },
    {
     "name": "stdout",
     "output_type": "stream",
     "text": [
      "(720, 1280, 3)\n",
      "left offset -1.45345528665 right offset 2.29932745297\n",
      "1780.17847329 m 1066.66996476 m\n"
     ]
    },
    {
     "name": "stderr",
     "output_type": "stream",
     "text": [
      "\r",
      " 96%|███████████████████████████████████████████████████████████████████▎  | 1213/1261 [05:47<00:13,  3.50it/s]"
     ]
    },
    {
     "name": "stdout",
     "output_type": "stream",
     "text": [
      "(720, 1280, 3)\n",
      "left offset -1.41934894658 right offset 2.24203966407\n",
      "1398.85598349 m 1647.00067352 m\n"
     ]
    },
    {
     "name": "stderr",
     "output_type": "stream",
     "text": [
      "\r",
      " 96%|███████████████████████████████████████████████████████████████████▍  | 1214/1261 [05:48<00:13,  3.42it/s]"
     ]
    },
    {
     "name": "stdout",
     "output_type": "stream",
     "text": [
      "(720, 1280, 3)\n",
      "left offset -1.40005245986 right offset 2.25856917084\n",
      "1188.92543289 m 1448.38923452 m\n"
     ]
    },
    {
     "name": "stderr",
     "output_type": "stream",
     "text": [
      "\r",
      " 96%|███████████████████████████████████████████████████████████████████▍  | 1215/1261 [05:48<00:13,  3.44it/s]"
     ]
    },
    {
     "name": "stdout",
     "output_type": "stream",
     "text": [
      "(720, 1280, 3)\n",
      "left offset -1.45881259475 right offset 2.28869948613\n",
      "2639.08401339 m 1425.95239405 m\n"
     ]
    },
    {
     "name": "stderr",
     "output_type": "stream",
     "text": [
      "\r",
      " 96%|███████████████████████████████████████████████████████████████████▌  | 1216/1261 [05:48<00:12,  3.50it/s]"
     ]
    },
    {
     "name": "stdout",
     "output_type": "stream",
     "text": [
      "(720, 1280, 3)\n",
      "left offset -1.45592995035 right offset 2.26584462224\n",
      "2862.51136026 m 1730.43231434 m\n"
     ]
    },
    {
     "name": "stderr",
     "output_type": "stream",
     "text": [
      "\r",
      " 97%|███████████████████████████████████████████████████████████████████▌  | 1217/1261 [05:49<00:12,  3.53it/s]"
     ]
    },
    {
     "name": "stdout",
     "output_type": "stream",
     "text": [
      "(720, 1280, 3)\n",
      "left offset -1.46889864553 right offset 2.25189670644\n",
      "4051.09125432 m 1930.66799225 m\n"
     ]
    },
    {
     "name": "stderr",
     "output_type": "stream",
     "text": [
      "\r",
      " 97%|███████████████████████████████████████████████████████████████████▌  | 1218/1261 [05:49<00:12,  3.56it/s]"
     ]
    },
    {
     "name": "stdout",
     "output_type": "stream",
     "text": [
      "(720, 1280, 3)\n",
      "left offset -1.40350830718 right offset 2.20874200616\n",
      "1531.03727333 m 2516.71347351 m\n"
     ]
    },
    {
     "name": "stderr",
     "output_type": "stream",
     "text": [
      "\r",
      " 97%|███████████████████████████████████████████████████████████████████▋  | 1219/1261 [05:49<00:12,  3.47it/s]"
     ]
    },
    {
     "name": "stdout",
     "output_type": "stream",
     "text": [
      "(720, 1280, 3)\n",
      "left offset -1.40308669055 right offset 2.23580102737\n",
      "1633.95449358 m 1865.22066854 m\n"
     ]
    },
    {
     "name": "stderr",
     "output_type": "stream",
     "text": [
      "\r",
      " 97%|███████████████████████████████████████████████████████████████████▋  | 1220/1261 [05:49<00:11,  3.43it/s]"
     ]
    },
    {
     "name": "stdout",
     "output_type": "stream",
     "text": [
      "(720, 1280, 3)\n",
      "left offset -1.40350436038 right offset 2.26316407595\n",
      "1798.00734431 m 1905.11442785 m\n"
     ]
    },
    {
     "name": "stderr",
     "output_type": "stream",
     "text": [
      "\r",
      " 97%|███████████████████████████████████████████████████████████████████▊  | 1221/1261 [05:50<00:12,  3.28it/s]"
     ]
    },
    {
     "name": "stdout",
     "output_type": "stream",
     "text": [
      "(720, 1280, 3)\n",
      "left offset -1.42468885045 right offset 2.31340626248\n",
      "2301.80659979 m 1418.35348945 m\n"
     ]
    },
    {
     "name": "stderr",
     "output_type": "stream",
     "text": [
      "\r",
      " 97%|███████████████████████████████████████████████████████████████████▊  | 1222/1261 [05:50<00:11,  3.31it/s]"
     ]
    },
    {
     "name": "stdout",
     "output_type": "stream",
     "text": [
      "(720, 1280, 3)\n",
      "left offset -1.44209518554 right offset 2.21136016847\n",
      "4888.11409609 m 2766.06720409 m\n"
     ]
    },
    {
     "name": "stderr",
     "output_type": "stream",
     "text": [
      "\r",
      " 97%|███████████████████████████████████████████████████████████████████▉  | 1223/1261 [05:50<00:11,  3.41it/s]"
     ]
    },
    {
     "name": "stdout",
     "output_type": "stream",
     "text": [
      "(720, 1280, 3)\n",
      "left offset -1.430258403 right offset 2.23689459228\n",
      "4233.78267894 m 2898.74596284 m\n"
     ]
    },
    {
     "name": "stderr",
     "output_type": "stream",
     "text": [
      "\r",
      " 97%|███████████████████████████████████████████████████████████████████▉  | 1224/1261 [05:51<00:10,  3.51it/s]"
     ]
    },
    {
     "name": "stdout",
     "output_type": "stream",
     "text": [
      "(720, 1280, 3)\n",
      "left offset -1.3642568747 right offset 2.25569775038\n",
      "2168.95768154 m 2520.46601738 m\n"
     ]
    },
    {
     "name": "stderr",
     "output_type": "stream",
     "text": [
      "\r",
      " 97%|████████████████████████████████████████████████████████████████████  | 1225/1261 [05:51<00:10,  3.56it/s]"
     ]
    },
    {
     "name": "stdout",
     "output_type": "stream",
     "text": [
      "(720, 1280, 3)\n",
      "left offset -1.370476476 right offset 2.26493749691\n",
      "2472.8215811 m 3405.87938283 m\n"
     ]
    },
    {
     "name": "stderr",
     "output_type": "stream",
     "text": [
      "\r",
      " 97%|████████████████████████████████████████████████████████████████████  | 1226/1261 [05:51<00:09,  3.52it/s]"
     ]
    },
    {
     "name": "stdout",
     "output_type": "stream",
     "text": [
      "(720, 1280, 3)\n",
      "left offset -1.35115090164 right offset 2.29791848803\n",
      "1822.8995439 m 3272.08909447 m\n"
     ]
    },
    {
     "name": "stderr",
     "output_type": "stream",
     "text": [
      "\r",
      " 97%|████████████████████████████████████████████████████████████████████  | 1227/1261 [05:52<00:09,  3.46it/s]"
     ]
    },
    {
     "name": "stdout",
     "output_type": "stream",
     "text": [
      "(720, 1280, 3)\n",
      "left offset -1.37082194988 right offset 2.27764313043\n",
      "2592.67979666 m 4345.19756254 m\n"
     ]
    },
    {
     "name": "stderr",
     "output_type": "stream",
     "text": [
      "\r",
      " 97%|████████████████████████████████████████████████████████████████████▏ | 1228/1261 [05:52<00:09,  3.46it/s]"
     ]
    },
    {
     "name": "stdout",
     "output_type": "stream",
     "text": [
      "(720, 1280, 3)\n",
      "left offset -1.35866188878 right offset 2.26110032372\n",
      "2261.48829555 m 7288.45352783 m\n"
     ]
    },
    {
     "name": "stderr",
     "output_type": "stream",
     "text": [
      "\r",
      " 97%|████████████████████████████████████████████████████████████████████▏ | 1229/1261 [05:52<00:09,  3.49it/s]"
     ]
    },
    {
     "name": "stdout",
     "output_type": "stream",
     "text": [
      "(720, 1280, 3)\n",
      "left offset -1.35593032476 right offset 2.19776584346\n",
      "2254.18943031 m 25086.3315741 m\n"
     ]
    },
    {
     "name": "stderr",
     "output_type": "stream",
     "text": [
      "\r",
      " 98%|████████████████████████████████████████████████████████████████████▎ | 1230/1261 [05:52<00:08,  3.53it/s]"
     ]
    },
    {
     "name": "stdout",
     "output_type": "stream",
     "text": [
      "(720, 1280, 3)\n",
      "left offset -1.36607569205 right offset 2.2275378763\n",
      "2825.03299518 m 5926.032158 m\n"
     ]
    },
    {
     "name": "stderr",
     "output_type": "stream",
     "text": [
      "\r",
      " 98%|████████████████████████████████████████████████████████████████████▎ | 1231/1261 [05:53<00:08,  3.56it/s]"
     ]
    },
    {
     "name": "stdout",
     "output_type": "stream",
     "text": [
      "(720, 1280, 3)\n",
      "left offset -1.346178258 right offset 2.30119246959\n",
      "2443.58336955 m 2910.38732576 m\n"
     ]
    },
    {
     "name": "stderr",
     "output_type": "stream",
     "text": [
      "\r",
      " 98%|████████████████████████████████████████████████████████████████████▍ | 1232/1261 [05:53<00:08,  3.51it/s]"
     ]
    },
    {
     "name": "stdout",
     "output_type": "stream",
     "text": [
      "(720, 1280, 3)\n",
      "left offset -1.38197422185 right offset 2.24748401251\n",
      "4605.84091439 m 6923.68332961 m\n"
     ]
    },
    {
     "name": "stderr",
     "output_type": "stream",
     "text": [
      "\r",
      " 98%|████████████████████████████████████████████████████████████████████▍ | 1233/1261 [05:53<00:08,  3.43it/s]"
     ]
    },
    {
     "name": "stdout",
     "output_type": "stream",
     "text": [
      "(720, 1280, 3)\n",
      "left offset -1.33487978507 right offset 2.23786953223\n",
      "2617.83739474 m 42357.3746208 m\n"
     ]
    },
    {
     "name": "stderr",
     "output_type": "stream",
     "text": [
      "\r",
      " 98%|████████████████████████████████████████████████████████████████████▌ | 1234/1261 [05:54<00:07,  3.47it/s]"
     ]
    },
    {
     "name": "stdout",
     "output_type": "stream",
     "text": [
      "(720, 1280, 3)\n",
      "left offset -1.35324434324 right offset 2.27344819344\n",
      "4199.9761577 m 58097.5213465 m\n"
     ]
    },
    {
     "name": "stderr",
     "output_type": "stream",
     "text": [
      "\r",
      " 98%|████████████████████████████████████████████████████████████████████▌ | 1235/1261 [05:54<00:07,  3.51it/s]"
     ]
    },
    {
     "name": "stdout",
     "output_type": "stream",
     "text": [
      "(720, 1280, 3)\n",
      "left offset -1.35610997618 right offset 2.32583726576\n",
      "5415.7957968 m 15667.6271972 m\n"
     ]
    },
    {
     "name": "stderr",
     "output_type": "stream",
     "text": [
      "\r",
      " 98%|████████████████████████████████████████████████████████████████████▌ | 1236/1261 [05:54<00:07,  3.52it/s]"
     ]
    },
    {
     "name": "stdout",
     "output_type": "stream",
     "text": [
      "(720, 1280, 3)\n",
      "left offset -1.34494251139 right offset 2.34797751818\n",
      "4366.30719546 m 21708.7673282 m\n"
     ]
    },
    {
     "name": "stderr",
     "output_type": "stream",
     "text": [
      "\r",
      " 98%|████████████████████████████████████████████████████████████████████▋ | 1237/1261 [05:54<00:06,  3.51it/s]"
     ]
    },
    {
     "name": "stdout",
     "output_type": "stream",
     "text": [
      "(720, 1280, 3)\n",
      "left offset -1.33505927364 right offset 2.37343259569\n",
      "4064.67573055 m 34240.4556872 m\n"
     ]
    },
    {
     "name": "stderr",
     "output_type": "stream",
     "text": [
      "\r",
      " 98%|████████████████████████████████████████████████████████████████████▋ | 1238/1261 [05:55<00:06,  3.56it/s]"
     ]
    },
    {
     "name": "stdout",
     "output_type": "stream",
     "text": [
      "(720, 1280, 3)\n",
      "left offset -1.30598716867 right offset 2.40642128804\n",
      "2632.68623183 m 4616.56951278 m\n"
     ]
    },
    {
     "name": "stderr",
     "output_type": "stream",
     "text": [
      "\r",
      " 98%|████████████████████████████████████████████████████████████████████▊ | 1239/1261 [05:55<00:06,  3.60it/s]"
     ]
    },
    {
     "name": "stdout",
     "output_type": "stream",
     "text": [
      "(720, 1280, 3)\n",
      "left offset -1.31077582149 right offset 2.42481265187\n",
      "2938.82609445 m 4500.89203003 m\n"
     ]
    },
    {
     "name": "stderr",
     "output_type": "stream",
     "text": [
      "\r",
      " 98%|████████████████████████████████████████████████████████████████████▊ | 1240/1261 [05:55<00:05,  3.62it/s]"
     ]
    },
    {
     "name": "stdout",
     "output_type": "stream",
     "text": [
      "(720, 1280, 3)\n",
      "left offset -1.32065906957 right offset 2.45853577662\n",
      "3942.32109595 m 3146.34365483 m\n"
     ]
    },
    {
     "name": "stderr",
     "output_type": "stream",
     "text": [
      "\r",
      " 98%|████████████████████████████████████████████████████████████████████▉ | 1241/1261 [05:55<00:05,  3.63it/s]"
     ]
    },
    {
     "name": "stdout",
     "output_type": "stream",
     "text": [
      "(720, 1280, 3)\n",
      "left offset -1.37947230835 right offset 2.35219782946\n",
      "16858.7365167 m 34500.4025573 m\n"
     ]
    },
    {
     "name": "stderr",
     "output_type": "stream",
     "text": [
      "\r",
      " 98%|████████████████████████████████████████████████████████████████████▉ | 1242/1261 [05:56<00:05,  3.59it/s]"
     ]
    },
    {
     "name": "stdout",
     "output_type": "stream",
     "text": [
      "(720, 1280, 3)\n",
      "left offset -1.33098229927 right offset 2.50366633932\n",
      "6684.62859655 m 2704.61477355 m\n"
     ]
    },
    {
     "name": "stderr",
     "output_type": "stream",
     "text": [
      "\r",
      " 99%|█████████████████████████████████████████████████████████████████████ | 1243/1261 [05:56<00:05,  3.59it/s]"
     ]
    },
    {
     "name": "stdout",
     "output_type": "stream",
     "text": [
      "(720, 1280, 3)\n",
      "left offset -1.32396079037 right offset 2.410840844\n",
      "5899.07122622 m 18419.716056 m\n"
     ]
    },
    {
     "name": "stderr",
     "output_type": "stream",
     "text": [
      "\r",
      " 99%|█████████████████████████████████████████████████████████████████████ | 1244/1261 [05:56<00:04,  3.59it/s]"
     ]
    },
    {
     "name": "stdout",
     "output_type": "stream",
     "text": [
      "(720, 1280, 3)\n",
      "left offset -1.3499004291 right offset 2.37413968139\n",
      "72690.0791653 m 6789.26876746 m\n"
     ]
    },
    {
     "name": "stderr",
     "output_type": "stream",
     "text": [
      "\r",
      " 99%|█████████████████████████████████████████████████████████████████████ | 1245/1261 [05:57<00:04,  3.60it/s]"
     ]
    },
    {
     "name": "stdout",
     "output_type": "stream",
     "text": [
      "(720, 1280, 3)\n",
      "left offset -1.33574170577 right offset 2.41946629573\n",
      "17279.3022616 m 16682.5463702 m\n"
     ]
    },
    {
     "name": "stderr",
     "output_type": "stream",
     "text": [
      "\r",
      " 99%|█████████████████████████████████████████████████████████████████████▏| 1246/1261 [05:57<00:04,  3.62it/s]"
     ]
    },
    {
     "name": "stdout",
     "output_type": "stream",
     "text": [
      "(720, 1280, 3)\n",
      "left offset -1.28303253808 right offset 2.44670677321\n",
      "5459.17618699 m 6647.61048014 m\n"
     ]
    },
    {
     "name": "stderr",
     "output_type": "stream",
     "text": [
      "\r",
      " 99%|█████████████████████████████████████████████████████████████████████▏| 1247/1261 [05:57<00:03,  3.62it/s]"
     ]
    },
    {
     "name": "stdout",
     "output_type": "stream",
     "text": [
      "(720, 1280, 3)\n",
      "left offset -1.31423451891 right offset 2.48503339987\n",
      "12579.3945122 m 4956.62663657 m\n"
     ]
    },
    {
     "name": "stderr",
     "output_type": "stream",
     "text": [
      "\r",
      " 99%|█████████████████████████████████████████████████████████████████████▎| 1248/1261 [05:57<00:03,  3.63it/s]"
     ]
    },
    {
     "name": "stdout",
     "output_type": "stream",
     "text": [
      "(720, 1280, 3)\n",
      "left offset -1.30542266121 right offset 2.48690386941\n",
      "9188.46354537 m 6242.02283439 m\n"
     ]
    },
    {
     "name": "stderr",
     "output_type": "stream",
     "text": [
      "\r",
      " 99%|█████████████████████████████████████████████████████████████████████▎| 1249/1261 [05:58<00:03,  3.61it/s]"
     ]
    },
    {
     "name": "stdout",
     "output_type": "stream",
     "text": [
      "(720, 1280, 3)\n",
      "left offset -1.31251385211 right offset 2.49023027839\n",
      "13274.7624199 m 4044.34797374 m\n"
     ]
    },
    {
     "name": "stderr",
     "output_type": "stream",
     "text": [
      "\r",
      " 99%|█████████████████████████████████████████████████████████████████████▍| 1250/1261 [05:58<00:02,  3.67it/s]"
     ]
    },
    {
     "name": "stdout",
     "output_type": "stream",
     "text": [
      "(720, 1280, 3)\n",
      "left offset -1.30224941352 right offset 2.48665394185\n",
      "8325.42387896 m 7784.6263558 m\n"
     ]
    },
    {
     "name": "stderr",
     "output_type": "stream",
     "text": [
      "\r",
      " 99%|█████████████████████████████████████████████████████████████████████▍| 1251/1261 [05:58<00:02,  3.69it/s]"
     ]
    },
    {
     "name": "stdout",
     "output_type": "stream",
     "text": [
      "(720, 1280, 3)\n",
      "left offset -1.32409840195 right offset 2.4889853036\n",
      "18062.9285461 m 8897.88212493 m\n"
     ]
    },
    {
     "name": "stderr",
     "output_type": "stream",
     "text": [
      "\r",
      " 99%|█████████████████████████████████████████████████████████████████████▌| 1252/1261 [05:58<00:02,  3.67it/s]"
     ]
    },
    {
     "name": "stdout",
     "output_type": "stream",
     "text": [
      "(720, 1280, 3)\n",
      "left offset -1.3291362089 right offset 2.53282134981\n",
      "21842.0742978 m 3642.57731187 m\n"
     ]
    },
    {
     "name": "stderr",
     "output_type": "stream",
     "text": [
      "\r",
      " 99%|█████████████████████████████████████████████████████████████████████▌| 1253/1261 [05:59<00:02,  3.66it/s]"
     ]
    },
    {
     "name": "stdout",
     "output_type": "stream",
     "text": [
      "(720, 1280, 3)\n",
      "left offset -1.34382595834 right offset 2.54996335542\n",
      "37845.1766197 m 3462.82655539 m\n"
     ]
    },
    {
     "name": "stderr",
     "output_type": "stream",
     "text": [
      "\r",
      " 99%|█████████████████████████████████████████████████████████████████████▌| 1254/1261 [05:59<00:01,  3.65it/s]"
     ]
    },
    {
     "name": "stdout",
     "output_type": "stream",
     "text": [
      "(720, 1280, 3)\n",
      "left offset -1.32174430852 right offset 2.4335917517\n",
      "7457.5455276 m 40125.0829269 m\n"
     ]
    },
    {
     "name": "stderr",
     "output_type": "stream",
     "text": [
      "\r",
      "100%|█████████████████████████████████████████████████████████████████████▋| 1255/1261 [05:59<00:01,  3.63it/s]"
     ]
    },
    {
     "name": "stdout",
     "output_type": "stream",
     "text": [
      "(720, 1280, 3)\n",
      "left offset -1.33600188605 right offset 2.48171997923\n",
      "10534.4286219 m 8127.60698758 m\n"
     ]
    },
    {
     "name": "stderr",
     "output_type": "stream",
     "text": [
      "\r",
      "100%|█████████████████████████████████████████████████████████████████████▋| 1256/1261 [06:00<00:01,  3.64it/s]"
     ]
    },
    {
     "name": "stdout",
     "output_type": "stream",
     "text": [
      "(720, 1280, 3)\n",
      "left offset -1.35433327408 right offset 2.48797933961\n",
      "10541.5685291 m 5338.01270908 m\n"
     ]
    },
    {
     "name": "stderr",
     "output_type": "stream",
     "text": [
      "\r",
      "100%|█████████████████████████████████████████████████████████████████████▊| 1257/1261 [06:00<00:01,  3.67it/s]"
     ]
    },
    {
     "name": "stdout",
     "output_type": "stream",
     "text": [
      "(720, 1280, 3)\n",
      "left offset -1.3657571267 right offset 2.49089746126\n",
      "16938.1140989 m 3527.59793676 m\n"
     ]
    },
    {
     "name": "stderr",
     "output_type": "stream",
     "text": [
      "\r",
      "100%|█████████████████████████████████████████████████████████████████████▊| 1258/1261 [06:00<00:00,  3.65it/s]"
     ]
    },
    {
     "name": "stdout",
     "output_type": "stream",
     "text": [
      "(720, 1280, 3)\n",
      "left offset -1.37870016629 right offset 2.47659349134\n",
      "59516.0887163 m 3875.88560533 m\n"
     ]
    },
    {
     "name": "stderr",
     "output_type": "stream",
     "text": [
      "\r",
      "100%|█████████████████████████████████████████████████████████████████████▉| 1259/1261 [06:00<00:00,  3.64it/s]"
     ]
    },
    {
     "name": "stdout",
     "output_type": "stream",
     "text": [
      "(720, 1280, 3)\n",
      "left offset -1.35842129093 right offset 2.49150597141\n",
      "6431.27451196 m 3298.81649986 m\n"
     ]
    },
    {
     "name": "stderr",
     "output_type": "stream",
     "text": [
      "100%|█████████████████████████████████████████████████████████████████████▉| 1260/1261 [06:01<00:00,  3.66it/s]\n"
     ]
    },
    {
     "name": "stdout",
     "output_type": "stream",
     "text": [
      "[MoviePy] Done.\n",
      "[MoviePy] >>>> Video ready: output_images/output.mp4 \n",
      "\n",
      "Wall time: 6min 2s\n"
     ]
    }
   ],
   "source": [
    "white_output = 'output_images/output.mp4'\n",
    "## To speed up the testing process you may want to try your pipeline on a shorter subclip of the video\n",
    "## To do so add .subclip(start_second,end_second) to the end of the line below\n",
    "## Where start_second and end_second are integer values representing the start and end of the subclip\n",
    "## You may also uncomment the following line for a subclip of the first 5 seconds\n",
    "##clip1 = VideoFileClip(\"test_videos/solidWhiteRight.mp4\").subclip(0,5)\n",
    "clip1 = VideoFileClip(\".\\\\project_video.mp4\")\n",
    "lineL = Line()\n",
    "lineR = Line()\n",
    "\n",
    "def my_process_image(clip, lineL, lineR):\n",
    "    def new_process_image(image):\n",
    "        return process_image(image, lineL, lineR)\n",
    "    return clip.fl_image(new_process_image)\n",
    "\n",
    "white_clip = clip1.fx(my_process_image, lineL, lineR) #NOTE: this function expects color images!!\n",
    "%time white_clip.write_videofile(white_output, audio=False)"
   ]
  },
  {
   "cell_type": "code",
   "execution_count": null,
   "metadata": {
    "collapsed": true
   },
   "outputs": [],
   "source": []
  },
  {
   "cell_type": "code",
   "execution_count": null,
   "metadata": {
    "collapsed": true
   },
   "outputs": [],
   "source": []
  }
 ],
 "metadata": {
  "kernelspec": {
   "display_name": "Python 3",
   "language": "python",
   "name": "python3"
  },
  "language_info": {
   "codemirror_mode": {
    "name": "ipython",
    "version": 3
   },
   "file_extension": ".py",
   "mimetype": "text/x-python",
   "name": "python",
   "nbconvert_exporter": "python",
   "pygments_lexer": "ipython3",
   "version": "3.5.2"
  }
 },
 "nbformat": 4,
 "nbformat_minor": 2
}
